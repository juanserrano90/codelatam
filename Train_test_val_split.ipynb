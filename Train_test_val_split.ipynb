{
  "nbformat": 4,
  "nbformat_minor": 0,
  "metadata": {
    "colab": {
      "provenance": [],
      "authorship_tag": "ABX9TyNyuEPw9/t0MVC/QGoafLHZ",
      "include_colab_link": true
    },
    "kernelspec": {
      "name": "python3",
      "display_name": "Python 3"
    },
    "language_info": {
      "name": "python"
    }
  },
  "cells": [
    {
      "cell_type": "markdown",
      "metadata": {
        "id": "view-in-github",
        "colab_type": "text"
      },
      "source": [
        "<a href=\"https://colab.research.google.com/github/juanserrano90/codelatam/blob/main/Train_test_val_split.ipynb\" target=\"_parent\"><img src=\"https://colab.research.google.com/assets/colab-badge.svg\" alt=\"Open In Colab\"/></a>"
      ]
    },
    {
      "cell_type": "code",
      "source": [
        "import numpy as np\n",
        "import random\n",
        "import sys\n",
        "from google.colab import drive\n",
        "drive.mount('/content/drive')\n",
        "import pandas as pd"
      ],
      "metadata": {
        "colab": {
          "base_uri": "https://localhost:8080/"
        },
        "id": "By5VSuBOpKey",
        "outputId": "f0dd8c9a-13b6-4d51-b44b-67f54baec269"
      },
      "execution_count": 46,
      "outputs": [
        {
          "output_type": "stream",
          "name": "stdout",
          "text": [
            "Drive already mounted at /content/drive; to attempt to forcibly remount, call drive.mount(\"/content/drive\", force_remount=True).\n"
          ]
        }
      ]
    },
    {
      "cell_type": "code",
      "execution_count": 71,
      "metadata": {
        "id": "VTBcPhm3ovLh"
      },
      "outputs": [],
      "source": [
        "df = pd.read_csv('Spectra_per_SN .csv')\n",
        "# my_array\n"
      ]
    },
    {
      "cell_type": "code",
      "source": [
        "my_array = df.to_numpy()\n",
        "my_array"
      ],
      "metadata": {
        "colab": {
          "base_uri": "https://localhost:8080/"
        },
        "id": "FI5LnTWPOx5W",
        "outputId": "44f3aa75-6229-4e94-be3e-b447f68af248"
      },
      "execution_count": 72,
      "outputs": [
        {
          "output_type": "execute_result",
          "data": {
            "text/plain": [
              "array([['sn00cp', 0, 1],\n",
              "       ['sn00cu', 0, 2],\n",
              "       ['sn00cw', 0, 1],\n",
              "       ...,\n",
              "       ['sn2014ad', 2, 1],\n",
              "       ['sn94I', 2, 15],\n",
              "       ['sn98bw', 2, 20]], dtype=object)"
            ]
          },
          "metadata": {},
          "execution_count": 72
        }
      ]
    },
    {
      "cell_type": "code",
      "source": [
        "# Setting values\n",
        "trainPer = 0.7\n",
        "testPer = 0.15\n",
        "valPer = 0.15\n",
        "\n",
        "# Randomizing order of array\n",
        "np.random.shuffle(my_array)\n",
        "\n",
        "trainSet = []\n",
        "testSet = []\n",
        "valSet = []\n",
        "\n",
        "trainSum, testSum, valSum = 0, 0, 0\n",
        "numOfSpectra = 0\n",
        "totalSpectra = my_array[:, 2].astype(int).sum()\n",
        "\n",
        "# Train set loop\n",
        "for i in range(len(my_array)):\n",
        "    if trainSum < trainPer - 0.01:\n",
        "        numOfSpectra += int(my_array[i, 2])\n",
        "        trainSum = numOfSpectra / totalSpectra\n",
        "        trainSet.append(my_array[i])\n",
        "    else:\n",
        "        break\n",
        "\n",
        "# Remaining array after training set and restarting variable\n",
        "remaining_array = my_array[len(trainSet):]\n",
        "numOfSpectra = 0\n",
        "\n",
        "# Test and validation set loop\n",
        "for i in range(len(remaining_array)):\n",
        "    if testSum < testPer:\n",
        "        numOfSpectra += int(remaining_array[i, 2])\n",
        "        testSum = numOfSpectra / totalSpectra\n",
        "        testSet.append(remaining_array[i])\n",
        "    else:\n",
        "        valSet.extend(remaining_array[i:])\n",
        "        break\n",
        "\n",
        "# Print results\n",
        "print(\"Train Set:\", trainSet)\n",
        "print(\"Test Set:\", testSet)\n",
        "print(\"Validation Set:\", valSet)\n",
        "\n",
        "# Calculate actual percentages\n",
        "actualTrainPer = sum(int(item[2]) for item in trainSet) / totalSpectra\n",
        "actualTestPer = sum(int(item[2]) for item in testSet) / totalSpectra\n",
        "actualValPer = sum(int(item[2]) for item in valSet) / totalSpectra\n",
        "\n",
        "print(f\"Actual Train Percentage: {actualTrainPer:.2%}\")\n",
        "print(f\"Actual Test Percentage: {actualTestPer:.2%}\")\n",
        "print(f\"Actual Validation Percentage: {actualValPer:.2%}\")"
      ],
      "metadata": {
        "colab": {
          "base_uri": "https://localhost:8080/"
        },
        "id": "ip0VEhGWIYzb",
        "outputId": "6a4956ac-f3b5-460e-c188-2b8e2b5567b9"
      },
      "execution_count": 73,
      "outputs": [
        {
          "output_type": "stream",
          "name": "stdout",
          "text": [
            "Train Set: [array(['sn08ec', 0, 6], dtype=object), array(['sn1999ac', 1, 40], dtype=object), array(['sn00dg', 0, 2], dtype=object), array(['sn1999da', 1, 3], dtype=object), array(['sn02bg', 0, 1], dtype=object), array(['sn2005ls', 0, 2], dtype=object), array(['11hs', 2, 17], dtype=object), array(['sn99dq', 1, 3], dtype=object), array(['PTF12gzk', 2, 5], dtype=object), array(['sn2007nq', 0, 2], dtype=object), array(['sn2002cr', 0, 7], dtype=object), array(['sn2005az', 2, 17], dtype=object), array(['sn2003hv', 0, 11], dtype=object), array(['sn2000dm', 0, 1], dtype=object), array(['sn2004dn', 2, 1], dtype=object), array(['sn1995D', 0, 14], dtype=object), array(['sn1997cn', 1, 28], dtype=object), array(['sn05ms', 0, 2], dtype=object), array(['sn95D', 0, 14], dtype=object), array(['sn2002dl', 1, 7], dtype=object), array(['sn2007bc', 0, 8], dtype=object), array(['sn2007cg', 0, 3], dtype=object), array(['sn05ke', 1, 4], dtype=object), array(['sn2001cj', 0, 1], dtype=object), array(['sn2005el', 0, 8], dtype=object), array(['sn1984A', 0, 10], dtype=object), array(['sn1997br', 1, 26], dtype=object), array(['sn2007bg', 2, 4], dtype=object), array(['sn1996ab', 0, 1], dtype=object), array(['sn1998dh', 0, 10], dtype=object), array(['sn2007kk', 0, 15], dtype=object), array(['sn08A', 1, 9], dtype=object), array(['sn1998bw', 2, 26], dtype=object), array(['sn1996bv', 0, 1], dtype=object), array(['sn2000dk', 0, 8], dtype=object), array(['sn2007ux', 0, 2], dtype=object), array(['sn1995al', 0, 13], dtype=object), array(['sn2006bq', 0, 1], dtype=object), array(['sn1995E', 0, 7], dtype=object), array(['sn2007ae', 0, 2], dtype=object), array(['sn2006D', 0, 6], dtype=object), array(['sn2003gn', 0, 1], dtype=object), array(['sn2005kc', 0, 6], dtype=object), array(['sn2008ar', 0, 18], dtype=object), array(['sn2013cq', 2, 2], dtype=object), array(['sn2007hj', 0, 14], dtype=object), array(['sn02jy', 0, 2], dtype=object), array(['sn2003cq', 0, 7], dtype=object), array(['sn2008A', 1, 87], dtype=object), array(['sn2005bo', 0, 2], dtype=object), array(['sn2005gj', 1, 331], dtype=object), array(['sn2004ef', 0, 15], dtype=object), array(['sn2003iv', 0, 8], dtype=object), array(['sn2007ba', 1, 4], dtype=object), array(['sn00cw', 0, 1], dtype=object), array(['sn2003lw', 2, 3], dtype=object), array(['sn01ep', 0, 6], dtype=object), array(['sn2006aj', 2, 19], dtype=object), array(['sn1998S', 2, 185], dtype=object), array(['sn2006gz', 1, 56], dtype=object), array(['sn2000cn', 1, 15], dtype=object), array(['sn03cq', 0, 1], dtype=object), array(['sn2007F', 0, 13], dtype=object), array(['sn2002de', 0, 10], dtype=object), array(['sn99by', 1, 24], dtype=object), array(['sn2007gr', 2, 25], dtype=object), array(['sn2003hu', 1, 4], dtype=object), array(['sn2002cd', 0, 15], dtype=object), array(['sn00dk', 0, 4], dtype=object), array(['sn06ef', 0, 3], dtype=object), array(['sn2006bt', 0, 14], dtype=object), array(['sn06cf', 0, 2], dtype=object), array(['sn1996L', 2, 32], dtype=object), array(['sn1994T', 0, 5], dtype=object), array(['sn2006az', 0, 1], dtype=object), array(['PTF10qts', 2, 7], dtype=object), array(['sn2003Y', 1, 5], dtype=object), array(['sn1997ef', 2, 21], dtype=object), array(['sn2005la', 2, 61], dtype=object), array(['sn1994ae', 0, 18], dtype=object), array(['sn04ey', 0, 3], dtype=object), array(['sn00dm', 0, 2], dtype=object), array(['sn2007cq', 1, 2], dtype=object), array(['sn2004ge', 2, 1], dtype=object), array(['sn1999em', 2, 52], dtype=object), array(['sn07ba', 1, 5], dtype=object), array(['sn2007ca', 0, 9], dtype=object), array(['sn1996ai', 0, 6], dtype=object), array(['sn2007bd', 0, 6], dtype=object), array(['sn2009bb', 2, 9], dtype=object), array(['sn2002ic', 1, 97], dtype=object), array(['sn2005ek', 2, 34], dtype=object), array(['sn1996bo', 0, 5], dtype=object), array(['sn89B', 0, 24], dtype=object), array(['sn06os', 0, 2], dtype=object), array(['sn1998dx', 0, 7], dtype=object), array(['sn04as', 0, 1], dtype=object), array(['sn2003U', 0, 3], dtype=object), array(['sn05kc', 0, 2], dtype=object), array(['sn2007ci', 0, 11], dtype=object), array(['sn2000cu', 0, 1], dtype=object), array(['sn2002cu', 0, 3], dtype=object), array(['sn2002G', 0, 2], dtype=object), array(['sn05hk', 1, 29], dtype=object), array(['sn2003bg', 2, 12], dtype=object), array(['sn2000E', 0, 7], dtype=object), array(['sn1994I', 2, 33], dtype=object), array(['sn2005hg', 2, 9], dtype=object), array(['sn05am', 0, 3], dtype=object), array(['sn2005ki', 0, 1], dtype=object), array(['sn2007co', 0, 17], dtype=object), array(['sn05bl', 1, 3], dtype=object), array(['sn2000B', 0, 5], dtype=object), array(['sn97Y', 0, 1], dtype=object), array(['sn2000cw', 0, 1], dtype=object), array(['sn1997bq', 0, 13], dtype=object), array(['sn1996bk', 0, 1], dtype=object), array(['sn2002do', 0, 4], dtype=object), array(['sn2004at', 0, 11], dtype=object), array(['sn1993J', 2, 45], dtype=object), array(['sn2006eq', 0, 1], dtype=object), array(['sn2013dx', 2, 6], dtype=object), array(['sn2008af', 0, 2], dtype=object), array(['sn2004gq', 2, 15], dtype=object), array(['sn2001G', 0, 15], dtype=object), array(['sn94ae', 0, 20], dtype=object), array(['sn2001fe', 0, 12], dtype=object), array(['sn2005bf', 2, 21], dtype=object), array(['sn04dt', 0, 6], dtype=object), array(['sn2005bl', 1, 11], dtype=object), array(['sn95ac', 1, 2], dtype=object), array(['sn07bc', 0, 2], dtype=object), array(['sn2008bo', 2, 5], dtype=object), array(['sn1999aa', 1, 48], dtype=object), array(['sn1998dm', 0, 10], dtype=object), array(['sn06kf', 0, 3], dtype=object), array(['sn2006S', 0, 9], dtype=object), array(['sn99cp', 0, 2], dtype=object), array(['sn2008ax', 2, 19], dtype=object), array(['sn06dw', 0, 4], dtype=object), array(['sn04eo', 0, 3], dtype=object), array(['sn06bu', 0, 1], dtype=object), array(['sn2002ap', 2, 22], dtype=object), array(['sn2004gc', 0, 1], dtype=object), array(['sn1997E', 0, 4], dtype=object), array(['snls03D3bb', 1, 2], dtype=object), array(['sn2008C', 0, 5], dtype=object), array(['sn1999cp', 0, 3], dtype=object), array(['sn2006el', 2, 2], dtype=object), array(['sn2006cq', 0, 1], dtype=object), array(['sn00cu', 0, 2], dtype=object), array(['sn2002es', 1, 17], dtype=object), array(['sn1983V', 2, 12], dtype=object), array(['sn98bw', 2, 20], dtype=object), array(['sn01dw', 0, 1], dtype=object), array(['sn98dx', 0, 1], dtype=object), array(['sn2006jc', 2, 153], dtype=object), array(['sn2006N', 0, 12], dtype=object), array(['sn02kf', 0, 1], dtype=object), array(['sn2007qe', 0, 10], dtype=object), array(['sn2005mf', 2, 3], dtype=object), array(['sn06em', 1, 4], dtype=object), array(['sn91T', 1, 26], dtype=object), array(['sn1991M', 0, 6], dtype=object), array(['sn2002cf', 1, 2], dtype=object), array(['sn1994S', 0, 5], dtype=object), array(['sn2007D', 2, 1], dtype=object), array(['sn2006cj', 0, 8], dtype=object), array(['sn2000bh', 0, 1], dtype=object), array(['sn2002eu', 0, 6], dtype=object), array(['sn01bg', 0, 2], dtype=object), array(['sn01eh', 1, 6], dtype=object), array(['sn04bl', 0, 1], dtype=object), array(['sn1995ac', 1, 2], dtype=object), array(['sn1999cc', 0, 7], dtype=object), array(['sn06N', 0, 4], dtype=object), array(['sn2002ha', 0, 4], dtype=object), array(['sn1998ab', 1, 12], dtype=object), array(['sn06ev', 0, 2], dtype=object), array(['sn2001ck', 0, 4], dtype=object), array(['sn00cx', 1, 89], dtype=object), array(['sn2001ex', 0, 1], dtype=object), array(['sn2009er', 2, 16], dtype=object), array(['sn2006al', 0, 6], dtype=object), array(['sn06ac', 0, 1], dtype=object), array(['sn2001E', 0, 3], dtype=object), array(['sn02cf', 1, 2], dtype=object), array(['sn2003ic', 0, 8], dtype=object), array(['sn2011fu', 2, 7], dtype=object), array(['sn2002fb', 1, 11], dtype=object), array(['sn2008bf', 0, 14], dtype=object), array(['sn2003fa', 1, 23], dtype=object), array(['sn2005cc', 1, 35], dtype=object), array(['sn2013df', 2, 7], dtype=object), array(['sn2001gc', 0, 8], dtype=object), array(['sn2004as', 0, 18], dtype=object), array(['sn2004dk', 2, 4], dtype=object), array(['sn2007ru', 2, 11], dtype=object), array(['sn04fz', 0, 3], dtype=object), array(['sn1992H', 2, 12], dtype=object), array(['sn2004bd', 0, 4], dtype=object), array(['sn2006cp', 0, 10], dtype=object), array(['sn2001el', 0, 6], dtype=object), array(['sn02cr', 0, 4], dtype=object), array(['sn2006ak', 0, 1], dtype=object), array(['sn04bw', 0, 1], dtype=object), array(['sn98bu', 0, 37], dtype=object), array(['sn1981B', 0, 9], dtype=object), array(['sn05dv', 0, 1], dtype=object), array(['sn1996cb', 2, 18], dtype=object), array(['sn2002dp', 0, 7], dtype=object), array(['sn03Y', 1, 6], dtype=object), array(['sn1990B', 2, 27], dtype=object), array(['sn06gt', 1, 1], dtype=object), array(['sn2012ap', 2, 13], dtype=object), array(['sn2005hf', 0, 7], dtype=object), array(['sn2004fz', 0, 1], dtype=object), array(['sn2000fa', 0, 15], dtype=object), array(['sn06cp', 0, 1], dtype=object), array(['sn1998V', 0, 9], dtype=object), array(['sn99da', 1, 4], dtype=object), array(['sn07af', 0, 6], dtype=object), array(['sn07A', 0, 2], dtype=object), array(['sn1999cl', 0, 11], dtype=object), array(['sn1998aq', 0, 27], dtype=object), array(['sn2002hu', 1, 8], dtype=object), array(['sn07kk', 0, 1], dtype=object), array(['sn06cs', 1, 5], dtype=object), array(['sn2004et', 2, 62], dtype=object), array(['sn2005mz', 1, 5], dtype=object), array(['sn2006mo', 0, 1], dtype=object), array(['sn2006ot', 0, 2], dtype=object), array(['sn2006eu', 0, 1], dtype=object), array(['sn2010ay', 2, 3], dtype=object), array(['sn2003jd', 2, 20], dtype=object), array(['sn06cz', 1, 1], dtype=object), array(['sn2005na', 0, 6], dtype=object), array(['sn2003it', 0, 15], dtype=object), array(['sn99aa', 1, 7], dtype=object), array(['sn1999ef', 0, 3], dtype=object), array(['sn2007S', 1, 11], dtype=object), array(['sn06lf', 0, 3], dtype=object), array(['sn06dm', 0, 4], dtype=object), array(['iPTF13bvn', 2, 11], dtype=object), array(['sn05cf', 0, 5], dtype=object), array(['sn1999gi', 2, 12], dtype=object), array(['sn2004bk', 0, 1], dtype=object), array(['sn2001cp', 0, 8], dtype=object), array(['sn03gq', 1, 9], dtype=object), array(['sn2007le', 0, 27], dtype=object), array(['sn2011bm', 2, 10], dtype=object), array(['sn02ha', 0, 4], dtype=object), array(['sn2007Y', 2, 10], dtype=object), array(['sn2005iq', 0, 1], dtype=object), array(['sn02bz', 0, 1], dtype=object), array(['sn2004fu', 0, 9], dtype=object), array(['sn2007al', 1, 13], dtype=object), array(['sn1990O', 0, 6], dtype=object), array(['sn2006bz', 1, 4], dtype=object), array(['sn1993ac', 0, 1], dtype=object), array(['sn2014ad', 2, 1], dtype=object), array(['sn07fb', 0, 5], dtype=object), array(['sn2002dj', 0, 23], dtype=object), array(['sn07fs', 0, 6], dtype=object), array(['sn2001br', 0, 3], dtype=object), array(['sn2004bg', 0, 5], dtype=object), array(['sn2009nz', 2, 1], dtype=object), array(['sn05ki', 0, 1], dtype=object), array(['sn2002ck', 0, 8], dtype=object), array(['sn1999gp', 1, 10], dtype=object), array(['sn2001az', 1, 5], dtype=object), array(['sn2011ei', 2, 11], dtype=object), array(['sn2005be', 0, 1], dtype=object), array(['sn2007bm', 0, 11], dtype=object), array(['sn02ef', 0, 2], dtype=object), array(['sn05be', 0, 2], dtype=object), array(['sn2002hw', 0, 5], dtype=object), array(['sn2007A', 0, 3], dtype=object), array(['sn2010ma', 2, 1], dtype=object), array(['sn2003dh', 2, 7], dtype=object), array(['sn08hs', 0, 1], dtype=object), array(['sn2008ae', 1, 20], dtype=object), array(['sn2005M', 1, 13], dtype=object), array(['sn2009jf', 2, 40], dtype=object), array(['sn2009mg', 2, 8], dtype=object), array(['sn2003ch', 0, 12], dtype=object), array(['sn94I', 2, 15], dtype=object), array(['sn2007bz', 0, 1], dtype=object), array(['sn02cs', 0, 5], dtype=object), array(['sn06cq', 0, 1], dtype=object), array(['13ge', 2, 30], dtype=object), array(['sn2008Q', 0, 6], dtype=object), array(['sn05de', 0, 4], dtype=object), array(['sn2006gt', 1, 6], dtype=object), array(['sn2007au', 0, 4], dtype=object), array(['sn2006cc', 0, 1], dtype=object), array(['sn2002ef', 0, 1], dtype=object), array(['sn2004L', 0, 11], dtype=object), array(['sn1994M', 0, 10], dtype=object), array(['sn1996bl', 0, 4], dtype=object), array(['sn2002aw', 0, 3], dtype=object), array(['sn1998es', 1, 27], dtype=object), array(['sn1999bh', 1, 2], dtype=object), array(['sn1997bp', 0, 13], dtype=object), array(['sn02fk', 0, 5], dtype=object), array(['sn99dk', 0, 5], dtype=object), array(['sn2007fb', 0, 10], dtype=object), array(['sn2007if', 1, 127], dtype=object), array(['10as', 2, 14], dtype=object), array(['sn2006gr', 0, 17], dtype=object), array(['sn2006kf', 0, 1], dtype=object), array(['sn2006hb', 1, 12], dtype=object), array(['sn2001en', 0, 9], dtype=object), array(['sn2002fk', 0, 24], dtype=object), array(['sn06or', 0, 2], dtype=object), array(['sn2005A', 0, 3], dtype=object), array(['sn05eq', 1, 4], dtype=object), array(['sn2000cx', 1, 148], dtype=object), array(['sn2002he', 0, 5], dtype=object), array(['sn2005hj', 1, 11], dtype=object), array(['sn03he', 0, 2], dtype=object), array(['sn2005cf', 0, 67], dtype=object), array(['sn2007jg', 0, 2], dtype=object), array(['sn2007uy', 2, 156], dtype=object), array(['16gkg', 2, 13], dtype=object), array(['sn1998ef', 0, 4], dtype=object), array(['sn2005hk', 1, 234], dtype=object), array(['sn04gs', 0, 1], dtype=object), array(['sn2006br', 0, 2], dtype=object), array(['sn2006gj', 0, 2], dtype=object), array(['sn2001ep', 0, 26], dtype=object), array(['sn2006oa', 1, 9], dtype=object), array(['sn1994D', 0, 39], dtype=object), array(['sn2006ep', 2, 1], dtype=object), array(['sn2005bc', 0, 1], dtype=object), array(['sn2005eu', 0, 6], dtype=object), array(['sn04bg', 0, 1], dtype=object), array(['sn2006T', 2, 4], dtype=object), array(['sn2006ax', 0, 4], dtype=object), array(['sn1999X', 0, 6], dtype=object), array(['sn01en', 0, 3], dtype=object), array(['sn2002bo', 0, 51], dtype=object), array(['sn91bg', 1, 49], dtype=object), array(['sn02el', 0, 2], dtype=object), array(['sn2008D', 2, 16], dtype=object), array(['sn1983N', 2, 1], dtype=object), array(['sn2002ao', 2, 27], dtype=object), array(['sn07fr', 0, 1], dtype=object), array(['sn97br', 1, 2], dtype=object), array(['sn2001eh', 1, 23], dtype=object), array(['sn2007kj', 2, 2], dtype=object), array(['sn07gk', 0, 2], dtype=object), array(['sn2004gs', 0, 10], dtype=object), array(['sn2004aw', 2, 183], dtype=object)]\n",
            "Test Set: [array(['sn2007fs', 0, 8], dtype=object), array(['sn2008L', 0, 1], dtype=object), array(['sn1999dq', 1, 25], dtype=object), array(['sn2007C', 2, 16], dtype=object), array(['sn2003du', 0, 60], dtype=object), array(['sn07bm', 0, 4], dtype=object), array(['sn08bt', 1, 3], dtype=object), array(['sn08ds', 1, 10], dtype=object), array(['sn02bo', 0, 7], dtype=object), array(['sn2004fe', 2, 3], dtype=object), array(['sn1999cw', 1, 3], dtype=object), array(['sn1995bd', 1, 10], dtype=object), array(['sn2006bp', 2, 24], dtype=object), array(['sn2009iz', 2, 7], dtype=object), array(['sn1999aw', 1, 6], dtype=object), array(['sn2001ah', 1, 6], dtype=object), array(['sn1999ek', 0, 4], dtype=object), array(['sn2002bf', 0, 13], dtype=object), array(['sn2012P', 2, 2], dtype=object), array(['sn2002cs', 0, 5], dtype=object), array(['sn1997Y', 0, 4], dtype=object), array(['sn1995ak', 0, 6], dtype=object), array(['sn1999gd', 0, 5], dtype=object), array(['sn2007af', 0, 32], dtype=object), array(['PTF10vgv', 2, 2], dtype=object), array(['sn1994Q', 0, 6], dtype=object), array(['sn2005cg', 0, 6], dtype=object), array(['sn1989B', 0, 25], dtype=object), array(['sn2005hc', 0, 3], dtype=object), array(['17ein', 2, 6], dtype=object), array(['sn1996Z', 0, 6], dtype=object), array(['sn2003W', 0, 16], dtype=object), array(['sn1979C', 2, 86], dtype=object), array(['sn2004dt', 0, 39], dtype=object), array(['sn1991T', 1, 20], dtype=object), array(['sn2005cs', 2, 55], dtype=object), array(['sn2007ap', 0, 2], dtype=object), array(['sn04fu', 0, 3], dtype=object), array(['sn2002hd', 0, 3], dtype=object), array(['sn07al', 1, 3], dtype=object), array(['sn2003cg', 0, 42], dtype=object), array(['sn2006le', 0, 22], dtype=object), array(['sn1990U', 2, 7], dtype=object), array(['sn07bd', 0, 1], dtype=object), array(['sn06et', 0, 3], dtype=object), array(['sn00fa', 0, 2], dtype=object), array(['sn2003kc', 0, 7], dtype=object), array(['sn2001fh', 0, 6], dtype=object), array(['sn1980K', 2, 131], dtype=object), array(['sn2006et', 0, 2], dtype=object), array(['sn2006ev', 0, 1], dtype=object), array(['sn02hd', 0, 1], dtype=object), array(['sn02fb', 1, 5], dtype=object), array(['sn2007sr', 0, 12], dtype=object), array(['sn2002er', 0, 26], dtype=object), array(['sn2006cz', 1, 6], dtype=object), array(['sn1998eg', 0, 5], dtype=object), array(['sn03iv', 0, 2], dtype=object), array(['sn1987A', 2, 217], dtype=object), array(['sn2005kl', 2, 5], dtype=object), array(['sn2012bz', 2, 3], dtype=object), array(['sn2005ke', 1, 23], dtype=object)]\n",
            "Validation Set: [array(['sn03ai', 0, 1], dtype=object), array(['sn2001da', 0, 7], dtype=object), array(['sn2006bw', 0, 1], dtype=object), array(['sn2000bk', 0, 3], dtype=object), array(['sn06sr', 0, 2], dtype=object), array(['sn2005eq', 1, 16], dtype=object), array(['sn2008R', 1, 2], dtype=object), array(['sn94D', 0, 42], dtype=object), array(['sn00cn', 1, 2], dtype=object), array(['sn2000cp', 0, 3], dtype=object), array(['sn05bc', 0, 2], dtype=object), array(['16coi', 2, 13], dtype=object), array(['sn1999ee', 0, 12], dtype=object), array(['sn05gj', 1, 49], dtype=object), array(['sn1998dt', 2, 6], dtype=object), array(['sn2004gv', 2, 4], dtype=object), array(['sn1999gh', 0, 15], dtype=object), array(['sn2000dn', 0, 4], dtype=object), array(['sn05el', 0, 3], dtype=object), array(['sn03U', 0, 1], dtype=object), array(['sn2006nz', 0, 1], dtype=object), array(['sn1991bg', 1, 45], dtype=object), array(['sn1986G', 1, 60], dtype=object), array(['sn2008Z', 0, 15], dtype=object), array(['sn2006sr', 0, 6], dtype=object), array(['sn2005mc', 0, 2], dtype=object), array(['sn2002cx', 1, 52], dtype=object), array(['sn2002kf', 0, 11], dtype=object), array(['sn2001ay', 0, 20], dtype=object), array(['sn1996C', 0, 3], dtype=object), array(['sn1998co', 0, 7], dtype=object), array(['PTF10bzf', 2, 2], dtype=object), array(['sn1999ej', 0, 5], dtype=object), array(['sn99gd', 0, 1], dtype=object), array(['sn1992A', 0, 13], dtype=object), array(['sn2004S', 0, 7], dtype=object), array(['sn00dn', 0, 2], dtype=object), array(['sn94S', 0, 1], dtype=object), array(['sn1984L', 2, 10], dtype=object), array(['sn2001V', 1, 46], dtype=object), array(['sn2004eo', 0, 19], dtype=object), array(['sn07qe', 0, 3], dtype=object), array(['sn2004ff', 2, 2], dtype=object), array(['sn1999ex', 2, 2], dtype=object), array(['sn06bq', 0, 3], dtype=object), array(['sn2000er', 2, 37], dtype=object), array(['sn2000dg', 0, 4], dtype=object), array(['sn2006em', 1, 2], dtype=object), array(['sn2002jg', 0, 4], dtype=object), array(['sn1998bp', 0, 11], dtype=object), array(['sn2000ce', 0, 4], dtype=object), array(['sn02cx', 1, 57], dtype=object), array(['sn1997do', 0, 14], dtype=object), array(['sn2000H', 2, 4], dtype=object), array(['sn1996X', 0, 27], dtype=object), array(['sn2002jy', 0, 10], dtype=object), array(['sn06ej', 0, 4], dtype=object), array(['LSQ14efd', 2, 13], dtype=object), array(['sn02eu', 0, 2], dtype=object), array(['sn04ef', 0, 4], dtype=object), array(['sn2007ax', 1, 19], dtype=object), array(['sn1998fa', 2, 5], dtype=object), array(['sn06ke', 1, 1], dtype=object), array(['sn98ec', 0, 1], dtype=object), array(['sn2000cf', 0, 6], dtype=object), array(['15dtg', 2, 5], dtype=object), array(['sn2006cm', 0, 2], dtype=object), array(['sn1998ec', 0, 6], dtype=object), array(['sn2006lf', 0, 20], dtype=object), array(['sn1999by', 1, 29], dtype=object), array(['12au', 2, 11], dtype=object), array(['sn1997dt', 0, 7], dtype=object), array(['sn98ef', 0, 3], dtype=object), array(['sn98es', 1, 4], dtype=object), array(['sn1998bu', 0, 34], dtype=object), array(['sn1990I', 2, 7], dtype=object), array(['sn2006cf', 0, 6], dtype=object), array(['sn06bz', 1, 2], dtype=object), array(['sn2003kf', 0, 26], dtype=object), array(['sn02er', 0, 28], dtype=object), array(['sn2007bj', 0, 7], dtype=object), array(['sn2001N', 0, 8], dtype=object), array(['sn00cp', 0, 1], dtype=object), array(['sn2001bg', 0, 5], dtype=object), array(['sn2006te', 0, 1], dtype=object), array(['sn95E', 0, 1], dtype=object), array(['sn1998dk', 0, 9], dtype=object), array(['sn02he', 0, 4], dtype=object), array(['sn2005lu', 0, 3], dtype=object), array(['sn2011dh', 2, 22], dtype=object), array(['sn2007ag', 2, 1], dtype=object), array(['sn2001bf', 0, 9], dtype=object), array(['sn1998de', 1, 8], dtype=object), array(['sn2006ac', 0, 11], dtype=object), array(['sn2004gt', 2, 6], dtype=object), array(['sn2005am', 0, 18], dtype=object), array(['sn2006H', 1, 21], dtype=object), array(['sn2006X', 0, 26], dtype=object), array(['sn1990N', 0, 15], dtype=object)]\n",
            "Actual Train Percentage: 69.34%\n",
            "Actual Test Percentage: 15.00%\n",
            "Actual Validation Percentage: 15.66%\n"
          ]
        }
      ]
    },
    {
      "cell_type": "code",
      "source": [
        "np.savetxt('Train', trainSet, fmt='%s')\n",
        "np.savetxt('Test', testSet, fmt='%s')\n",
        "np.savetxt('Validation', valSet, fmt='%s')"
      ],
      "metadata": {
        "id": "q2aCWlSNYxri"
      },
      "execution_count": 76,
      "outputs": []
    },
    {
      "cell_type": "code",
      "source": [],
      "metadata": {
        "id": "8X8mo4D6Td4K"
      },
      "execution_count": null,
      "outputs": []
    }
  ]
}