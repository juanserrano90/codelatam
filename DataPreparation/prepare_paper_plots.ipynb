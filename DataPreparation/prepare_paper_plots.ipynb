{
  "nbformat": 4,
  "nbformat_minor": 0,
  "metadata": {
    "colab": {
      "provenance": [],
      "authorship_tag": "ABX9TyOQy9RHdTxYGP9zJC2dsEG2",
      "include_colab_link": true
    },
    "kernelspec": {
      "name": "python3",
      "display_name": "Python 3"
    },
    "language_info": {
      "name": "python"
    }
  },
  "cells": [
    {
      "cell_type": "markdown",
      "metadata": {
        "id": "view-in-github",
        "colab_type": "text"
      },
      "source": [
        "<a href=\"https://colab.research.google.com/github/juanserrano90/codelatam/blob/main/DataPreparation/prepare_paper_plots.ipynb\" target=\"_parent\"><img src=\"https://colab.research.google.com/assets/colab-badge.svg\" alt=\"Open In Colab\"/></a>"
      ]
    },
    {
      "cell_type": "code",
      "execution_count": null,
      "metadata": {
        "id": "sJyG5dPzm1fd"
      },
      "outputs": [],
      "source": [
        "import sys\n",
        "from os.path import isfile\n",
        "import numpy as np\n",
        "import pandas as pd\n",
        "import matplotlib\n",
        "from matplotlib import pyplot as plt\n",
        "from scipy import stats\n",
        "import random\n",
        "import logging\n",
        "from add_spikes import add_spikes\n",
        "from shift_spectrum import shift_spectrum\n",
        "from get_redshift import get_redshift\n",
        "import os"
      ]
    }
  ]
}