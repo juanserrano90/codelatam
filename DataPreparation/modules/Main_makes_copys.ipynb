{
  "nbformat": 4,
  "nbformat_minor": 0,
  "metadata": {
    "colab": {
      "provenance": [],
      "authorship_tag": "ABX9TyNnpFfKa4K75queKo5RMFwx",
      "include_colab_link": true
    },
    "kernelspec": {
      "name": "python3",
      "display_name": "Python 3"
    },
    "language_info": {
      "name": "python"
    }
  },
  "cells": [
    {
      "cell_type": "markdown",
      "metadata": {
        "id": "view-in-github",
        "colab_type": "text"
      },
      "source": [
        "<a href=\"https://colab.research.google.com/github/juanserrano90/codelatam/blob/main/DataPreparation/modules/Main_makes_copys.ipynb\" target=\"_parent\"><img src=\"https://colab.research.google.com/assets/colab-badge.svg\" alt=\"Open In Colab\"/></a>"
      ]
    },
    {
      "cell_type": "code",
      "execution_count": 6,
      "metadata": {
        "id": "wyeO1qccBwZO"
      },
      "outputs": [],
      "source": [
        "import numpy as np\n",
        "import pandas as pd\n",
        "from google.colab import drive\n"
      ]
    },
    {
      "cell_type": "code",
      "source": [
        "url = \"https://github.com/juanserrano90/codelatam/raw/main/Data/data/sn_data.parquet\"\n",
        "df_raw = pd.read_parquet(url)"
      ],
      "metadata": {
        "id": "uyYUebr_DFJT"
      },
      "execution_count": 5,
      "outputs": []
    },
    {
      "cell_type": "code",
      "source": [
        "def functions_copys():\n",
        "\n",
        "  \"\"\"Chosse any function to make a copies\"\"\"\n",
        " chosen_functions = np.random.choice([add_noise, add_redshift, add_spikes],\n",
        "        size=np.random.randint(1, 4),  replace=False)\n",
        "\n",
        " return chosen_functions"
      ],
      "metadata": {
        "id": "aiD7xDYACR86"
      },
      "execution_count": 3,
      "outputs": []
    },
    {
      "cell_type": "code",
      "source": [],
      "metadata": {
        "id": "d7VOs-s3Cm14"
      },
      "execution_count": null,
      "outputs": []
    }
  ]
}