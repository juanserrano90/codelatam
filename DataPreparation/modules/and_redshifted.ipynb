{
 "cells": [
  {
   "cell_type": "code",
   "execution_count": 2,
   "id": "66cc3a85",
   "metadata": {},
   "outputs": [],
   "source": [
    "import sys\n",
    "import os\n",
    "\n",
    "import numpy as np\n",
    "import pandas as pd\n",
    "from matplotlib import pyplot as plt\n",
    "from scipy import stats\n",
    "\n",
    "sys.path.insert(0, \"../../scs\")\n",
    "import data_preparation as dp\n",
    "import data_plotting as dplt\n",
    "import data_degrading as dg\n",
    "\n",
    "from icecream import ic\n",
    "from importlib import reload\n",
    "\n",
    "rng = np.random.RandomState(1415)"
   ]
  },
  {
   "cell_type": "code",
   "execution_count": 1,
   "id": "c466359b",
   "metadata": {},
   "outputs": [],
   "source": [
    "def gen_redshift(spectrum, rng):\n",
    "    \"\"\"Loosely simulate redshift estimation error by shifting the entire spectrum by at most 5 pixels left or right.\"\"\"\n",
    "    shift_amount = stats.randint.rvs(-5, 6, size=1, random_state=rng).item()\n",
    "    shifted_spectrum = np.roll(spectrum, shift_amount)\n",
    "    return shifted_spectrum"
   ]
  },
  {
   "cell_type": "code",
   "execution_count": null,
   "id": "cc8a359b",
   "metadata": {},
   "outputs": [],
   "source": []
  }
 ],
 "metadata": {
  "kernelspec": {
   "display_name": "Python 3 (ipykernel)",
   "language": "python",
   "name": "python3"
  },
  "language_info": {
   "codemirror_mode": {
    "name": "ipython",
    "version": 3
   },
   "file_extension": ".py",
   "mimetype": "text/x-python",
   "name": "python",
   "nbconvert_exporter": "python",
   "pygments_lexer": "ipython3",
   "version": "3.10.9"
  }
 },
 "nbformat": 4,
 "nbformat_minor": 5
}
