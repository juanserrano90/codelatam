{
 "cells": [
  {
   "cell_type": "markdown",
   "metadata": {
    "colab_type": "text",
    "id": "view-in-github"
   },
   "source": [
    "<a href=\"https://colab.research.google.com/github/juanserrano90/codelatam/blob/main/DataPreparation/modules/Main_makes_copys.ipynb\" target=\"_parent\"><img src=\"https://colab.research.google.com/assets/colab-badge.svg\" alt=\"Open In Colab\"/></a>"
   ]
  },
  {
   "cell_type": "code",
   "execution_count": 6,
   "metadata": {
    "id": "wyeO1qccBwZO"
   },
   "outputs": [],
   "source": [
    "import numpy as np\n",
    "import pandas as pd\n",
    "from google.colab import drive\n"
   ]
  },
  {
   "cell_type": "code",
   "execution_count": 5,
   "metadata": {
    "id": "uyYUebr_DFJT"
   },
   "outputs": [],
   "source": [
    "url = \"https://github.com/juanserrano90/codelatam/raw/main/Data/data/sn_data.parquet\"\n",
    "df_raw = pd.read_parquet(url)"
   ]
  },
  {
   "cell_type": "code",
   "execution_count": 3,
   "metadata": {
    "id": "aiD7xDYACR86"
   },
   "outputs": [],
   "source": [
    "def functions_copys():\n",
    "\n",
    "  \"\"\"Chosse any function to make a copies\"\"\"\n",
    " chosen_functions = np.random.choice([add_noise, add_redshift, add_spikes],\n",
    "        size=np.random.randint(1, 4),  replace=False)\n",
    "\n",
    " return chosen_functions"
   ]
  },
  {
   "cell_type": "code",
   "execution_count": null,
   "metadata": {
    "id": "d7VOs-s3Cm14"
   },
   "outputs": [],
   "source": []
  }
 ],
 "metadata": {
  "colab": {
   "authorship_tag": "ABX9TyNnpFfKa4K75queKo5RMFwx",
   "include_colab_link": true,
   "provenance": []
  },
  "kernelspec": {
   "display_name": "Python 3 (ipykernel)",
   "language": "python",
   "name": "python3"
  },
  "language_info": {
   "codemirror_mode": {
    "name": "ipython",
    "version": 3
   },
   "file_extension": ".py",
   "mimetype": "text/x-python",
   "name": "python",
   "nbconvert_exporter": "python",
   "pygments_lexer": "ipython3",
   "version": "3.10.9"
  }
 },
 "nbformat": 4,
 "nbformat_minor": 1
}
