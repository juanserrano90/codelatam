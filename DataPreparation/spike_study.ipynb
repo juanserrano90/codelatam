{
  "nbformat": 4,
  "nbformat_minor": 0,
  "metadata": {
    "colab": {
      "provenance": [],
      "authorship_tag": "ABX9TyMN42lvWQCZ1+DOm/z7KMCb",
      "include_colab_link": true
    },
    "kernelspec": {
      "name": "python3",
      "display_name": "Python 3"
    },
    "language_info": {
      "name": "python"
    }
  },
  "cells": [
    {
      "cell_type": "markdown",
      "metadata": {
        "id": "view-in-github",
        "colab_type": "text"
      },
      "source": [
        "<a href=\"https://colab.research.google.com/github/juanserrano90/codelatam/blob/main/DataPreparation/spike_study.ipynb\" target=\"_parent\"><img src=\"https://colab.research.google.com/assets/colab-badge.svg\" alt=\"Open In Colab\"/></a>"
      ]
    },
    {
      "cell_type": "code",
      "source": [],
      "metadata": {
        "id": "xEVwgGdy_aEK"
      },
      "execution_count": null,
      "outputs": []
    },
    {
      "cell_type": "code",
      "source": [],
      "metadata": {
        "id": "XQYnnGKY_fzL"
      },
      "execution_count": null,
      "outputs": []
    },
    {
      "cell_type": "markdown",
      "source": [
        "<h1>  Analysis on Telluric lines  </h1>\n",
        "\n",
        "<center> Created on November 18th, 2024\n",
        "\n",
        "Last modified on November 18th, 2024\n",
        "\n",
        "Author: Paula GM </center>\n",
        "\n",
        "\n",
        "---\n",
        "\n",
        "The purpose of this notebook is to perform a statistical analysis of the Telluric lines present in the provided sn_parquet dataset and determine what should be categorized as a spike."
      ],
      "metadata": {
        "id": "8X18Kr_p_cwa"
      }
    },
    {
      "cell_type": "code",
      "execution_count": null,
      "metadata": {
        "id": "uXFw2aEe_R73"
      },
      "outputs": [],
      "source": [
        "import sys\n",
        "from os.path import isfile\n",
        "\n",
        "import numpy as np\n",
        "import pandas as pd\n",
        "import matplotlib\n",
        "# matplotlib.use('Agg')\n",
        "import matplotlib.pyplot as plt\n",
        "\n",
        "# from matplotlib import pyplot as plt\n",
        "from sklearn.metrics import confusion_matrix"
      ]
    },
    {
      "cell_type": "code",
      "source": [
        "from google.colab import drive\n",
        "drive.mount('/content/drive')"
      ],
      "metadata": {
        "id": "RERoeoi5BVbD"
      },
      "execution_count": null,
      "outputs": []
    },
    {
      "cell_type": "code",
      "source": [
        "url = \"https://github.com/juanserrano90/codelatam/raw/main/data/sn_data.parquet\"\n",
        "df_raw = pd.read_parquet(url)"
      ],
      "metadata": {
        "id": "l5wR7VrJBV_i"
      },
      "execution_count": null,
      "outputs": []
    },
    {
      "cell_type": "code",
      "source": [
        "df_raw.head()"
      ],
      "metadata": {
        "id": "MC1-VWq1BYCa"
      },
      "execution_count": null,
      "outputs": []
    },
    {
      "cell_type": "code",
      "source": [
        "wavelength = np.array([float(c) for c in df_raw.columns[5:]])"
      ],
      "metadata": {
        "id": "Gz44HRjyBZxC"
      },
      "execution_count": null,
      "outputs": []
    }
  ]
}