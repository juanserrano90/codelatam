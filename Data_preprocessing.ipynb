{
  "cells": [
    {
      "cell_type": "markdown",
      "metadata": {
        "id": "view-in-github",
        "colab_type": "text"
      },
      "source": [
        "<a href=\"https://colab.research.google.com/github/juanserrano90/codelatam/blob/main/Data_preprocessing.ipynb\" target=\"_parent\"><img src=\"https://colab.research.google.com/assets/colab-badge.svg\" alt=\"Open In Colab\"/></a>"
      ]
    },
    {
      "cell_type": "code",
      "execution_count": 1,
      "metadata": {
        "id": "ej24b3FRRmXC",
        "colab": {
          "base_uri": "https://localhost:8080/"
        },
        "outputId": "ea769870-e6f8-46f9-f279-22855d6b1adb"
      },
      "outputs": [
        {
          "output_type": "stream",
          "name": "stdout",
          "text": [
            "Mounted at /content/drive\n"
          ]
        }
      ],
      "source": [
        "import sys\n",
        "from os.path import isfile\n",
        "\n",
        "import numpy as np\n",
        "import pandas as pd\n",
        "import matplotlib\n",
        "# matplotlib.use('Agg')\n",
        "import matplotlib.pyplot as plt\n",
        "\n",
        "# from matplotlib import pyplot as plt\n",
        "from sklearn.metrics import confusion_matrix\n",
        "\n",
        "from google.colab import drive\n",
        "drive.mount('/content/drive')"
      ]
    },
    {
      "cell_type": "markdown",
      "source": [
        "# Dataset import and pre-processing for image generation"
      ],
      "metadata": {
        "id": "0YD-GmhOBJCb"
      }
    },
    {
      "cell_type": "code",
      "execution_count": 2,
      "metadata": {
        "id": "RqTendt7RkOn"
      },
      "outputs": [],
      "source": [
        "file_df_raw = \"/content/drive/MyDrive/La_Serena_2024/Project/sn_data.parquet\"\n",
        "df_raw = pd.read_parquet(file_df_raw)"
      ]
    },
    {
      "cell_type": "code",
      "execution_count": null,
      "metadata": {
        "colab": {
          "base_uri": "https://localhost:8080/",
          "height": 322
        },
        "id": "lnVZlTNrSCt-",
        "outputId": "58bb2ee2-ae7c-4eff-eb8c-125546ea9ca1"
      },
      "outputs": [
        {
          "output_type": "execute_result",
          "data": {
            "text/plain": [
              "         SN Subtype  SN Subtype ID SN Maintype  SN Maintype ID  \\\n",
              "SN Name                                                          \n",
              "sn2008ar    Ia-norm              0          Ia               0   \n",
              "sn2008ar    Ia-norm              0          Ia               0   \n",
              "sn2008ar    Ia-norm              0          Ia               0   \n",
              "sn2008ar    Ia-norm              0          Ia               0   \n",
              "sn2008ar    Ia-norm              0          Ia               0   \n",
              "\n",
              "          Spectral Phase  2501.69  2505.08  2508.48  2511.87  2515.28  ...  \\\n",
              "SN Name                                                                ...   \n",
              "sn2008ar            -8.5      0.0      0.0      0.0      0.0      0.0  ...   \n",
              "sn2008ar            -7.5      0.0      0.0      0.0      0.0      0.0  ...   \n",
              "sn2008ar            -6.6      0.0      0.0      0.0      0.0      0.0  ...   \n",
              "sn2008ar            -4.6      0.0      0.0      0.0      0.0      0.0  ...   \n",
              "sn2008ar            -3.7      0.0      0.0      0.0      0.0      0.0  ...   \n",
              "\n",
              "          9872.21  9885.59  9898.98  9912.39  9925.82  9939.27  9952.73  \\\n",
              "SN Name                                                                   \n",
              "sn2008ar      0.0      0.0      0.0      0.0      0.0      0.0      0.0   \n",
              "sn2008ar      0.0      0.0      0.0      0.0      0.0      0.0      0.0   \n",
              "sn2008ar      0.0      0.0      0.0      0.0      0.0      0.0      0.0   \n",
              "sn2008ar      0.0      0.0      0.0      0.0      0.0      0.0      0.0   \n",
              "sn2008ar      0.0      0.0      0.0      0.0      0.0      0.0      0.0   \n",
              "\n",
              "          9966.21  9979.71  9993.24  \n",
              "SN Name                              \n",
              "sn2008ar      0.0      0.0      0.0  \n",
              "sn2008ar      0.0      0.0      0.0  \n",
              "sn2008ar      0.0      0.0      0.0  \n",
              "sn2008ar      0.0      0.0      0.0  \n",
              "sn2008ar      0.0      0.0      0.0  \n",
              "\n",
              "[5 rows x 1029 columns]"
            ],
            "text/html": [
              "\n",
              "  <div id=\"df-6190b883-61ea-43aa-8c16-ef29f3c00bd4\" class=\"colab-df-container\">\n",
              "    <div>\n",
              "<style scoped>\n",
              "    .dataframe tbody tr th:only-of-type {\n",
              "        vertical-align: middle;\n",
              "    }\n",
              "\n",
              "    .dataframe tbody tr th {\n",
              "        vertical-align: top;\n",
              "    }\n",
              "\n",
              "    .dataframe thead th {\n",
              "        text-align: right;\n",
              "    }\n",
              "</style>\n",
              "<table border=\"1\" class=\"dataframe\">\n",
              "  <thead>\n",
              "    <tr style=\"text-align: right;\">\n",
              "      <th></th>\n",
              "      <th>SN Subtype</th>\n",
              "      <th>SN Subtype ID</th>\n",
              "      <th>SN Maintype</th>\n",
              "      <th>SN Maintype ID</th>\n",
              "      <th>Spectral Phase</th>\n",
              "      <th>2501.69</th>\n",
              "      <th>2505.08</th>\n",
              "      <th>2508.48</th>\n",
              "      <th>2511.87</th>\n",
              "      <th>2515.28</th>\n",
              "      <th>...</th>\n",
              "      <th>9872.21</th>\n",
              "      <th>9885.59</th>\n",
              "      <th>9898.98</th>\n",
              "      <th>9912.39</th>\n",
              "      <th>9925.82</th>\n",
              "      <th>9939.27</th>\n",
              "      <th>9952.73</th>\n",
              "      <th>9966.21</th>\n",
              "      <th>9979.71</th>\n",
              "      <th>9993.24</th>\n",
              "    </tr>\n",
              "    <tr>\n",
              "      <th>SN Name</th>\n",
              "      <th></th>\n",
              "      <th></th>\n",
              "      <th></th>\n",
              "      <th></th>\n",
              "      <th></th>\n",
              "      <th></th>\n",
              "      <th></th>\n",
              "      <th></th>\n",
              "      <th></th>\n",
              "      <th></th>\n",
              "      <th></th>\n",
              "      <th></th>\n",
              "      <th></th>\n",
              "      <th></th>\n",
              "      <th></th>\n",
              "      <th></th>\n",
              "      <th></th>\n",
              "      <th></th>\n",
              "      <th></th>\n",
              "      <th></th>\n",
              "      <th></th>\n",
              "    </tr>\n",
              "  </thead>\n",
              "  <tbody>\n",
              "    <tr>\n",
              "      <th>sn2008ar</th>\n",
              "      <td>Ia-norm</td>\n",
              "      <td>0</td>\n",
              "      <td>Ia</td>\n",
              "      <td>0</td>\n",
              "      <td>-8.5</td>\n",
              "      <td>0.0</td>\n",
              "      <td>0.0</td>\n",
              "      <td>0.0</td>\n",
              "      <td>0.0</td>\n",
              "      <td>0.0</td>\n",
              "      <td>...</td>\n",
              "      <td>0.0</td>\n",
              "      <td>0.0</td>\n",
              "      <td>0.0</td>\n",
              "      <td>0.0</td>\n",
              "      <td>0.0</td>\n",
              "      <td>0.0</td>\n",
              "      <td>0.0</td>\n",
              "      <td>0.0</td>\n",
              "      <td>0.0</td>\n",
              "      <td>0.0</td>\n",
              "    </tr>\n",
              "    <tr>\n",
              "      <th>sn2008ar</th>\n",
              "      <td>Ia-norm</td>\n",
              "      <td>0</td>\n",
              "      <td>Ia</td>\n",
              "      <td>0</td>\n",
              "      <td>-7.5</td>\n",
              "      <td>0.0</td>\n",
              "      <td>0.0</td>\n",
              "      <td>0.0</td>\n",
              "      <td>0.0</td>\n",
              "      <td>0.0</td>\n",
              "      <td>...</td>\n",
              "      <td>0.0</td>\n",
              "      <td>0.0</td>\n",
              "      <td>0.0</td>\n",
              "      <td>0.0</td>\n",
              "      <td>0.0</td>\n",
              "      <td>0.0</td>\n",
              "      <td>0.0</td>\n",
              "      <td>0.0</td>\n",
              "      <td>0.0</td>\n",
              "      <td>0.0</td>\n",
              "    </tr>\n",
              "    <tr>\n",
              "      <th>sn2008ar</th>\n",
              "      <td>Ia-norm</td>\n",
              "      <td>0</td>\n",
              "      <td>Ia</td>\n",
              "      <td>0</td>\n",
              "      <td>-6.6</td>\n",
              "      <td>0.0</td>\n",
              "      <td>0.0</td>\n",
              "      <td>0.0</td>\n",
              "      <td>0.0</td>\n",
              "      <td>0.0</td>\n",
              "      <td>...</td>\n",
              "      <td>0.0</td>\n",
              "      <td>0.0</td>\n",
              "      <td>0.0</td>\n",
              "      <td>0.0</td>\n",
              "      <td>0.0</td>\n",
              "      <td>0.0</td>\n",
              "      <td>0.0</td>\n",
              "      <td>0.0</td>\n",
              "      <td>0.0</td>\n",
              "      <td>0.0</td>\n",
              "    </tr>\n",
              "    <tr>\n",
              "      <th>sn2008ar</th>\n",
              "      <td>Ia-norm</td>\n",
              "      <td>0</td>\n",
              "      <td>Ia</td>\n",
              "      <td>0</td>\n",
              "      <td>-4.6</td>\n",
              "      <td>0.0</td>\n",
              "      <td>0.0</td>\n",
              "      <td>0.0</td>\n",
              "      <td>0.0</td>\n",
              "      <td>0.0</td>\n",
              "      <td>...</td>\n",
              "      <td>0.0</td>\n",
              "      <td>0.0</td>\n",
              "      <td>0.0</td>\n",
              "      <td>0.0</td>\n",
              "      <td>0.0</td>\n",
              "      <td>0.0</td>\n",
              "      <td>0.0</td>\n",
              "      <td>0.0</td>\n",
              "      <td>0.0</td>\n",
              "      <td>0.0</td>\n",
              "    </tr>\n",
              "    <tr>\n",
              "      <th>sn2008ar</th>\n",
              "      <td>Ia-norm</td>\n",
              "      <td>0</td>\n",
              "      <td>Ia</td>\n",
              "      <td>0</td>\n",
              "      <td>-3.7</td>\n",
              "      <td>0.0</td>\n",
              "      <td>0.0</td>\n",
              "      <td>0.0</td>\n",
              "      <td>0.0</td>\n",
              "      <td>0.0</td>\n",
              "      <td>...</td>\n",
              "      <td>0.0</td>\n",
              "      <td>0.0</td>\n",
              "      <td>0.0</td>\n",
              "      <td>0.0</td>\n",
              "      <td>0.0</td>\n",
              "      <td>0.0</td>\n",
              "      <td>0.0</td>\n",
              "      <td>0.0</td>\n",
              "      <td>0.0</td>\n",
              "      <td>0.0</td>\n",
              "    </tr>\n",
              "  </tbody>\n",
              "</table>\n",
              "<p>5 rows × 1029 columns</p>\n",
              "</div>\n",
              "    <div class=\"colab-df-buttons\">\n",
              "\n",
              "  <div class=\"colab-df-container\">\n",
              "    <button class=\"colab-df-convert\" onclick=\"convertToInteractive('df-6190b883-61ea-43aa-8c16-ef29f3c00bd4')\"\n",
              "            title=\"Convert this dataframe to an interactive table.\"\n",
              "            style=\"display:none;\">\n",
              "\n",
              "  <svg xmlns=\"http://www.w3.org/2000/svg\" height=\"24px\" viewBox=\"0 -960 960 960\">\n",
              "    <path d=\"M120-120v-720h720v720H120Zm60-500h600v-160H180v160Zm220 220h160v-160H400v160Zm0 220h160v-160H400v160ZM180-400h160v-160H180v160Zm440 0h160v-160H620v160ZM180-180h160v-160H180v160Zm440 0h160v-160H620v160Z\"/>\n",
              "  </svg>\n",
              "    </button>\n",
              "\n",
              "  <style>\n",
              "    .colab-df-container {\n",
              "      display:flex;\n",
              "      gap: 12px;\n",
              "    }\n",
              "\n",
              "    .colab-df-convert {\n",
              "      background-color: #E8F0FE;\n",
              "      border: none;\n",
              "      border-radius: 50%;\n",
              "      cursor: pointer;\n",
              "      display: none;\n",
              "      fill: #1967D2;\n",
              "      height: 32px;\n",
              "      padding: 0 0 0 0;\n",
              "      width: 32px;\n",
              "    }\n",
              "\n",
              "    .colab-df-convert:hover {\n",
              "      background-color: #E2EBFA;\n",
              "      box-shadow: 0px 1px 2px rgba(60, 64, 67, 0.3), 0px 1px 3px 1px rgba(60, 64, 67, 0.15);\n",
              "      fill: #174EA6;\n",
              "    }\n",
              "\n",
              "    .colab-df-buttons div {\n",
              "      margin-bottom: 4px;\n",
              "    }\n",
              "\n",
              "    [theme=dark] .colab-df-convert {\n",
              "      background-color: #3B4455;\n",
              "      fill: #D2E3FC;\n",
              "    }\n",
              "\n",
              "    [theme=dark] .colab-df-convert:hover {\n",
              "      background-color: #434B5C;\n",
              "      box-shadow: 0px 1px 3px 1px rgba(0, 0, 0, 0.15);\n",
              "      filter: drop-shadow(0px 1px 2px rgba(0, 0, 0, 0.3));\n",
              "      fill: #FFFFFF;\n",
              "    }\n",
              "  </style>\n",
              "\n",
              "    <script>\n",
              "      const buttonEl =\n",
              "        document.querySelector('#df-6190b883-61ea-43aa-8c16-ef29f3c00bd4 button.colab-df-convert');\n",
              "      buttonEl.style.display =\n",
              "        google.colab.kernel.accessAllowed ? 'block' : 'none';\n",
              "\n",
              "      async function convertToInteractive(key) {\n",
              "        const element = document.querySelector('#df-6190b883-61ea-43aa-8c16-ef29f3c00bd4');\n",
              "        const dataTable =\n",
              "          await google.colab.kernel.invokeFunction('convertToInteractive',\n",
              "                                                    [key], {});\n",
              "        if (!dataTable) return;\n",
              "\n",
              "        const docLinkHtml = 'Like what you see? Visit the ' +\n",
              "          '<a target=\"_blank\" href=https://colab.research.google.com/notebooks/data_table.ipynb>data table notebook</a>'\n",
              "          + ' to learn more about interactive tables.';\n",
              "        element.innerHTML = '';\n",
              "        dataTable['output_type'] = 'display_data';\n",
              "        await google.colab.output.renderOutput(dataTable, element);\n",
              "        const docLink = document.createElement('div');\n",
              "        docLink.innerHTML = docLinkHtml;\n",
              "        element.appendChild(docLink);\n",
              "      }\n",
              "    </script>\n",
              "  </div>\n",
              "\n",
              "\n",
              "<div id=\"df-7d71fe4a-ce58-4f5f-a4e9-2fcda1e2bdcb\">\n",
              "  <button class=\"colab-df-quickchart\" onclick=\"quickchart('df-7d71fe4a-ce58-4f5f-a4e9-2fcda1e2bdcb')\"\n",
              "            title=\"Suggest charts\"\n",
              "            style=\"display:none;\">\n",
              "\n",
              "<svg xmlns=\"http://www.w3.org/2000/svg\" height=\"24px\"viewBox=\"0 0 24 24\"\n",
              "     width=\"24px\">\n",
              "    <g>\n",
              "        <path d=\"M19 3H5c-1.1 0-2 .9-2 2v14c0 1.1.9 2 2 2h14c1.1 0 2-.9 2-2V5c0-1.1-.9-2-2-2zM9 17H7v-7h2v7zm4 0h-2V7h2v10zm4 0h-2v-4h2v4z\"/>\n",
              "    </g>\n",
              "</svg>\n",
              "  </button>\n",
              "\n",
              "<style>\n",
              "  .colab-df-quickchart {\n",
              "      --bg-color: #E8F0FE;\n",
              "      --fill-color: #1967D2;\n",
              "      --hover-bg-color: #E2EBFA;\n",
              "      --hover-fill-color: #174EA6;\n",
              "      --disabled-fill-color: #AAA;\n",
              "      --disabled-bg-color: #DDD;\n",
              "  }\n",
              "\n",
              "  [theme=dark] .colab-df-quickchart {\n",
              "      --bg-color: #3B4455;\n",
              "      --fill-color: #D2E3FC;\n",
              "      --hover-bg-color: #434B5C;\n",
              "      --hover-fill-color: #FFFFFF;\n",
              "      --disabled-bg-color: #3B4455;\n",
              "      --disabled-fill-color: #666;\n",
              "  }\n",
              "\n",
              "  .colab-df-quickchart {\n",
              "    background-color: var(--bg-color);\n",
              "    border: none;\n",
              "    border-radius: 50%;\n",
              "    cursor: pointer;\n",
              "    display: none;\n",
              "    fill: var(--fill-color);\n",
              "    height: 32px;\n",
              "    padding: 0;\n",
              "    width: 32px;\n",
              "  }\n",
              "\n",
              "  .colab-df-quickchart:hover {\n",
              "    background-color: var(--hover-bg-color);\n",
              "    box-shadow: 0 1px 2px rgba(60, 64, 67, 0.3), 0 1px 3px 1px rgba(60, 64, 67, 0.15);\n",
              "    fill: var(--button-hover-fill-color);\n",
              "  }\n",
              "\n",
              "  .colab-df-quickchart-complete:disabled,\n",
              "  .colab-df-quickchart-complete:disabled:hover {\n",
              "    background-color: var(--disabled-bg-color);\n",
              "    fill: var(--disabled-fill-color);\n",
              "    box-shadow: none;\n",
              "  }\n",
              "\n",
              "  .colab-df-spinner {\n",
              "    border: 2px solid var(--fill-color);\n",
              "    border-color: transparent;\n",
              "    border-bottom-color: var(--fill-color);\n",
              "    animation:\n",
              "      spin 1s steps(1) infinite;\n",
              "  }\n",
              "\n",
              "  @keyframes spin {\n",
              "    0% {\n",
              "      border-color: transparent;\n",
              "      border-bottom-color: var(--fill-color);\n",
              "      border-left-color: var(--fill-color);\n",
              "    }\n",
              "    20% {\n",
              "      border-color: transparent;\n",
              "      border-left-color: var(--fill-color);\n",
              "      border-top-color: var(--fill-color);\n",
              "    }\n",
              "    30% {\n",
              "      border-color: transparent;\n",
              "      border-left-color: var(--fill-color);\n",
              "      border-top-color: var(--fill-color);\n",
              "      border-right-color: var(--fill-color);\n",
              "    }\n",
              "    40% {\n",
              "      border-color: transparent;\n",
              "      border-right-color: var(--fill-color);\n",
              "      border-top-color: var(--fill-color);\n",
              "    }\n",
              "    60% {\n",
              "      border-color: transparent;\n",
              "      border-right-color: var(--fill-color);\n",
              "    }\n",
              "    80% {\n",
              "      border-color: transparent;\n",
              "      border-right-color: var(--fill-color);\n",
              "      border-bottom-color: var(--fill-color);\n",
              "    }\n",
              "    90% {\n",
              "      border-color: transparent;\n",
              "      border-bottom-color: var(--fill-color);\n",
              "    }\n",
              "  }\n",
              "</style>\n",
              "\n",
              "  <script>\n",
              "    async function quickchart(key) {\n",
              "      const quickchartButtonEl =\n",
              "        document.querySelector('#' + key + ' button');\n",
              "      quickchartButtonEl.disabled = true;  // To prevent multiple clicks.\n",
              "      quickchartButtonEl.classList.add('colab-df-spinner');\n",
              "      try {\n",
              "        const charts = await google.colab.kernel.invokeFunction(\n",
              "            'suggestCharts', [key], {});\n",
              "      } catch (error) {\n",
              "        console.error('Error during call to suggestCharts:', error);\n",
              "      }\n",
              "      quickchartButtonEl.classList.remove('colab-df-spinner');\n",
              "      quickchartButtonEl.classList.add('colab-df-quickchart-complete');\n",
              "    }\n",
              "    (() => {\n",
              "      let quickchartButtonEl =\n",
              "        document.querySelector('#df-7d71fe4a-ce58-4f5f-a4e9-2fcda1e2bdcb button');\n",
              "      quickchartButtonEl.style.display =\n",
              "        google.colab.kernel.accessAllowed ? 'block' : 'none';\n",
              "    })();\n",
              "  </script>\n",
              "</div>\n",
              "\n",
              "    </div>\n",
              "  </div>\n"
            ],
            "application/vnd.google.colaboratory.intrinsic+json": {
              "type": "dataframe",
              "variable_name": "df_raw"
            }
          },
          "metadata": {},
          "execution_count": 4
        }
      ],
      "source": [
        "df_raw.head()"
      ]
    },
    {
      "cell_type": "code",
      "execution_count": null,
      "metadata": {
        "colab": {
          "base_uri": "https://localhost:8080/",
          "height": 384
        },
        "id": "_Qjf-bk1Lvmx",
        "outputId": "39d3e6fd-1b87-4d2c-8acc-10d9255c5487"
      },
      "outputs": [
        {
          "output_type": "execute_result",
          "data": {
            "text/plain": [
              "       SN Subtype ID  SN Maintype ID  Spectral Phase  2501.69  2505.08  \\\n",
              "count    5001.000000     5001.000000     5001.000000   5001.0   5001.0   \n",
              "mean        3.993201        0.655069       36.539334      0.0      0.0   \n",
              "std         5.162127        1.024109       88.017382      0.0      0.0   \n",
              "min         0.000000        0.000000      -82.700000      0.0      0.0   \n",
              "25%         0.000000        0.000000       -0.200000      0.0      0.0   \n",
              "50%         1.000000        0.000000       11.900000      0.0      0.0   \n",
              "75%         8.000000        1.000000       36.100000      0.0      0.0   \n",
              "max        16.000000        3.000000     1103.000000      0.0      0.0   \n",
              "\n",
              "            2508.48      2511.87      2515.28      2518.69       2522.1  ...  \\\n",
              "count  5.001000e+03  5001.000000  5001.000000  5001.000000  5001.000000  ...   \n",
              "mean   7.998400e-07     0.000005     0.000010     0.000007     0.000019  ...   \n",
              "std    2.827296e-05     0.000130     0.000244     0.000330     0.000641  ...   \n",
              "min    0.000000e+00    -0.002000    -0.003000    -0.008000    -0.005000  ...   \n",
              "25%    0.000000e+00     0.000000     0.000000     0.000000     0.000000  ...   \n",
              "50%    0.000000e+00     0.000000     0.000000     0.000000     0.000000  ...   \n",
              "75%    0.000000e+00     0.000000     0.000000     0.000000     0.000000  ...   \n",
              "max    1.000000e-03     0.004000     0.009000     0.015000     0.025000  ...   \n",
              "\n",
              "           9872.21      9885.59      9898.98      9912.39      9925.82  \\\n",
              "count  5001.000000  5001.000000  5001.000000  5001.000000  5001.000000   \n",
              "mean      0.000008     0.000093     0.000039     0.000055     0.000027   \n",
              "std       0.005317     0.004881     0.003690     0.002672     0.001601   \n",
              "min      -0.059000    -0.038000    -0.059000    -0.021000    -0.012000   \n",
              "25%       0.000000     0.000000     0.000000     0.000000     0.000000   \n",
              "50%       0.000000     0.000000     0.000000     0.000000     0.000000   \n",
              "75%       0.000000     0.000000     0.000000     0.000000     0.000000   \n",
              "max       0.107000     0.153000     0.071000     0.052000     0.036000   \n",
              "\n",
              "           9939.27     9952.73      9966.21  9979.71  9993.24  \n",
              "count  5001.000000  5001.00000  5001.000000   5001.0   5001.0  \n",
              "mean      0.000024     0.00001     0.000005      0.0      0.0  \n",
              "std       0.001002     0.00043     0.000113      0.0      0.0  \n",
              "min      -0.008000    -0.00300    -0.001000      0.0      0.0  \n",
              "25%       0.000000     0.00000     0.000000      0.0      0.0  \n",
              "50%       0.000000     0.00000     0.000000      0.0      0.0  \n",
              "75%       0.000000     0.00000     0.000000      0.0      0.0  \n",
              "max       0.022000     0.00900     0.002000      0.0      0.0  \n",
              "\n",
              "[8 rows x 1027 columns]"
            ],
            "text/html": [
              "\n",
              "  <div id=\"df-f937ee6d-f6f0-454a-842e-8a0011573e2c\" class=\"colab-df-container\">\n",
              "    <div>\n",
              "<style scoped>\n",
              "    .dataframe tbody tr th:only-of-type {\n",
              "        vertical-align: middle;\n",
              "    }\n",
              "\n",
              "    .dataframe tbody tr th {\n",
              "        vertical-align: top;\n",
              "    }\n",
              "\n",
              "    .dataframe thead th {\n",
              "        text-align: right;\n",
              "    }\n",
              "</style>\n",
              "<table border=\"1\" class=\"dataframe\">\n",
              "  <thead>\n",
              "    <tr style=\"text-align: right;\">\n",
              "      <th></th>\n",
              "      <th>SN Subtype ID</th>\n",
              "      <th>SN Maintype ID</th>\n",
              "      <th>Spectral Phase</th>\n",
              "      <th>2501.69</th>\n",
              "      <th>2505.08</th>\n",
              "      <th>2508.48</th>\n",
              "      <th>2511.87</th>\n",
              "      <th>2515.28</th>\n",
              "      <th>2518.69</th>\n",
              "      <th>2522.1</th>\n",
              "      <th>...</th>\n",
              "      <th>9872.21</th>\n",
              "      <th>9885.59</th>\n",
              "      <th>9898.98</th>\n",
              "      <th>9912.39</th>\n",
              "      <th>9925.82</th>\n",
              "      <th>9939.27</th>\n",
              "      <th>9952.73</th>\n",
              "      <th>9966.21</th>\n",
              "      <th>9979.71</th>\n",
              "      <th>9993.24</th>\n",
              "    </tr>\n",
              "  </thead>\n",
              "  <tbody>\n",
              "    <tr>\n",
              "      <th>count</th>\n",
              "      <td>5001.000000</td>\n",
              "      <td>5001.000000</td>\n",
              "      <td>5001.000000</td>\n",
              "      <td>5001.0</td>\n",
              "      <td>5001.0</td>\n",
              "      <td>5.001000e+03</td>\n",
              "      <td>5001.000000</td>\n",
              "      <td>5001.000000</td>\n",
              "      <td>5001.000000</td>\n",
              "      <td>5001.000000</td>\n",
              "      <td>...</td>\n",
              "      <td>5001.000000</td>\n",
              "      <td>5001.000000</td>\n",
              "      <td>5001.000000</td>\n",
              "      <td>5001.000000</td>\n",
              "      <td>5001.000000</td>\n",
              "      <td>5001.000000</td>\n",
              "      <td>5001.00000</td>\n",
              "      <td>5001.000000</td>\n",
              "      <td>5001.0</td>\n",
              "      <td>5001.0</td>\n",
              "    </tr>\n",
              "    <tr>\n",
              "      <th>mean</th>\n",
              "      <td>3.993201</td>\n",
              "      <td>0.655069</td>\n",
              "      <td>36.539334</td>\n",
              "      <td>0.0</td>\n",
              "      <td>0.0</td>\n",
              "      <td>7.998400e-07</td>\n",
              "      <td>0.000005</td>\n",
              "      <td>0.000010</td>\n",
              "      <td>0.000007</td>\n",
              "      <td>0.000019</td>\n",
              "      <td>...</td>\n",
              "      <td>0.000008</td>\n",
              "      <td>0.000093</td>\n",
              "      <td>0.000039</td>\n",
              "      <td>0.000055</td>\n",
              "      <td>0.000027</td>\n",
              "      <td>0.000024</td>\n",
              "      <td>0.00001</td>\n",
              "      <td>0.000005</td>\n",
              "      <td>0.0</td>\n",
              "      <td>0.0</td>\n",
              "    </tr>\n",
              "    <tr>\n",
              "      <th>std</th>\n",
              "      <td>5.162127</td>\n",
              "      <td>1.024109</td>\n",
              "      <td>88.017382</td>\n",
              "      <td>0.0</td>\n",
              "      <td>0.0</td>\n",
              "      <td>2.827296e-05</td>\n",
              "      <td>0.000130</td>\n",
              "      <td>0.000244</td>\n",
              "      <td>0.000330</td>\n",
              "      <td>0.000641</td>\n",
              "      <td>...</td>\n",
              "      <td>0.005317</td>\n",
              "      <td>0.004881</td>\n",
              "      <td>0.003690</td>\n",
              "      <td>0.002672</td>\n",
              "      <td>0.001601</td>\n",
              "      <td>0.001002</td>\n",
              "      <td>0.00043</td>\n",
              "      <td>0.000113</td>\n",
              "      <td>0.0</td>\n",
              "      <td>0.0</td>\n",
              "    </tr>\n",
              "    <tr>\n",
              "      <th>min</th>\n",
              "      <td>0.000000</td>\n",
              "      <td>0.000000</td>\n",
              "      <td>-82.700000</td>\n",
              "      <td>0.0</td>\n",
              "      <td>0.0</td>\n",
              "      <td>0.000000e+00</td>\n",
              "      <td>-0.002000</td>\n",
              "      <td>-0.003000</td>\n",
              "      <td>-0.008000</td>\n",
              "      <td>-0.005000</td>\n",
              "      <td>...</td>\n",
              "      <td>-0.059000</td>\n",
              "      <td>-0.038000</td>\n",
              "      <td>-0.059000</td>\n",
              "      <td>-0.021000</td>\n",
              "      <td>-0.012000</td>\n",
              "      <td>-0.008000</td>\n",
              "      <td>-0.00300</td>\n",
              "      <td>-0.001000</td>\n",
              "      <td>0.0</td>\n",
              "      <td>0.0</td>\n",
              "    </tr>\n",
              "    <tr>\n",
              "      <th>25%</th>\n",
              "      <td>0.000000</td>\n",
              "      <td>0.000000</td>\n",
              "      <td>-0.200000</td>\n",
              "      <td>0.0</td>\n",
              "      <td>0.0</td>\n",
              "      <td>0.000000e+00</td>\n",
              "      <td>0.000000</td>\n",
              "      <td>0.000000</td>\n",
              "      <td>0.000000</td>\n",
              "      <td>0.000000</td>\n",
              "      <td>...</td>\n",
              "      <td>0.000000</td>\n",
              "      <td>0.000000</td>\n",
              "      <td>0.000000</td>\n",
              "      <td>0.000000</td>\n",
              "      <td>0.000000</td>\n",
              "      <td>0.000000</td>\n",
              "      <td>0.00000</td>\n",
              "      <td>0.000000</td>\n",
              "      <td>0.0</td>\n",
              "      <td>0.0</td>\n",
              "    </tr>\n",
              "    <tr>\n",
              "      <th>50%</th>\n",
              "      <td>1.000000</td>\n",
              "      <td>0.000000</td>\n",
              "      <td>11.900000</td>\n",
              "      <td>0.0</td>\n",
              "      <td>0.0</td>\n",
              "      <td>0.000000e+00</td>\n",
              "      <td>0.000000</td>\n",
              "      <td>0.000000</td>\n",
              "      <td>0.000000</td>\n",
              "      <td>0.000000</td>\n",
              "      <td>...</td>\n",
              "      <td>0.000000</td>\n",
              "      <td>0.000000</td>\n",
              "      <td>0.000000</td>\n",
              "      <td>0.000000</td>\n",
              "      <td>0.000000</td>\n",
              "      <td>0.000000</td>\n",
              "      <td>0.00000</td>\n",
              "      <td>0.000000</td>\n",
              "      <td>0.0</td>\n",
              "      <td>0.0</td>\n",
              "    </tr>\n",
              "    <tr>\n",
              "      <th>75%</th>\n",
              "      <td>8.000000</td>\n",
              "      <td>1.000000</td>\n",
              "      <td>36.100000</td>\n",
              "      <td>0.0</td>\n",
              "      <td>0.0</td>\n",
              "      <td>0.000000e+00</td>\n",
              "      <td>0.000000</td>\n",
              "      <td>0.000000</td>\n",
              "      <td>0.000000</td>\n",
              "      <td>0.000000</td>\n",
              "      <td>...</td>\n",
              "      <td>0.000000</td>\n",
              "      <td>0.000000</td>\n",
              "      <td>0.000000</td>\n",
              "      <td>0.000000</td>\n",
              "      <td>0.000000</td>\n",
              "      <td>0.000000</td>\n",
              "      <td>0.00000</td>\n",
              "      <td>0.000000</td>\n",
              "      <td>0.0</td>\n",
              "      <td>0.0</td>\n",
              "    </tr>\n",
              "    <tr>\n",
              "      <th>max</th>\n",
              "      <td>16.000000</td>\n",
              "      <td>3.000000</td>\n",
              "      <td>1103.000000</td>\n",
              "      <td>0.0</td>\n",
              "      <td>0.0</td>\n",
              "      <td>1.000000e-03</td>\n",
              "      <td>0.004000</td>\n",
              "      <td>0.009000</td>\n",
              "      <td>0.015000</td>\n",
              "      <td>0.025000</td>\n",
              "      <td>...</td>\n",
              "      <td>0.107000</td>\n",
              "      <td>0.153000</td>\n",
              "      <td>0.071000</td>\n",
              "      <td>0.052000</td>\n",
              "      <td>0.036000</td>\n",
              "      <td>0.022000</td>\n",
              "      <td>0.00900</td>\n",
              "      <td>0.002000</td>\n",
              "      <td>0.0</td>\n",
              "      <td>0.0</td>\n",
              "    </tr>\n",
              "  </tbody>\n",
              "</table>\n",
              "<p>8 rows × 1027 columns</p>\n",
              "</div>\n",
              "    <div class=\"colab-df-buttons\">\n",
              "\n",
              "  <div class=\"colab-df-container\">\n",
              "    <button class=\"colab-df-convert\" onclick=\"convertToInteractive('df-f937ee6d-f6f0-454a-842e-8a0011573e2c')\"\n",
              "            title=\"Convert this dataframe to an interactive table.\"\n",
              "            style=\"display:none;\">\n",
              "\n",
              "  <svg xmlns=\"http://www.w3.org/2000/svg\" height=\"24px\" viewBox=\"0 -960 960 960\">\n",
              "    <path d=\"M120-120v-720h720v720H120Zm60-500h600v-160H180v160Zm220 220h160v-160H400v160Zm0 220h160v-160H400v160ZM180-400h160v-160H180v160Zm440 0h160v-160H620v160ZM180-180h160v-160H180v160Zm440 0h160v-160H620v160Z\"/>\n",
              "  </svg>\n",
              "    </button>\n",
              "\n",
              "  <style>\n",
              "    .colab-df-container {\n",
              "      display:flex;\n",
              "      gap: 12px;\n",
              "    }\n",
              "\n",
              "    .colab-df-convert {\n",
              "      background-color: #E8F0FE;\n",
              "      border: none;\n",
              "      border-radius: 50%;\n",
              "      cursor: pointer;\n",
              "      display: none;\n",
              "      fill: #1967D2;\n",
              "      height: 32px;\n",
              "      padding: 0 0 0 0;\n",
              "      width: 32px;\n",
              "    }\n",
              "\n",
              "    .colab-df-convert:hover {\n",
              "      background-color: #E2EBFA;\n",
              "      box-shadow: 0px 1px 2px rgba(60, 64, 67, 0.3), 0px 1px 3px 1px rgba(60, 64, 67, 0.15);\n",
              "      fill: #174EA6;\n",
              "    }\n",
              "\n",
              "    .colab-df-buttons div {\n",
              "      margin-bottom: 4px;\n",
              "    }\n",
              "\n",
              "    [theme=dark] .colab-df-convert {\n",
              "      background-color: #3B4455;\n",
              "      fill: #D2E3FC;\n",
              "    }\n",
              "\n",
              "    [theme=dark] .colab-df-convert:hover {\n",
              "      background-color: #434B5C;\n",
              "      box-shadow: 0px 1px 3px 1px rgba(0, 0, 0, 0.15);\n",
              "      filter: drop-shadow(0px 1px 2px rgba(0, 0, 0, 0.3));\n",
              "      fill: #FFFFFF;\n",
              "    }\n",
              "  </style>\n",
              "\n",
              "    <script>\n",
              "      const buttonEl =\n",
              "        document.querySelector('#df-f937ee6d-f6f0-454a-842e-8a0011573e2c button.colab-df-convert');\n",
              "      buttonEl.style.display =\n",
              "        google.colab.kernel.accessAllowed ? 'block' : 'none';\n",
              "\n",
              "      async function convertToInteractive(key) {\n",
              "        const element = document.querySelector('#df-f937ee6d-f6f0-454a-842e-8a0011573e2c');\n",
              "        const dataTable =\n",
              "          await google.colab.kernel.invokeFunction('convertToInteractive',\n",
              "                                                    [key], {});\n",
              "        if (!dataTable) return;\n",
              "\n",
              "        const docLinkHtml = 'Like what you see? Visit the ' +\n",
              "          '<a target=\"_blank\" href=https://colab.research.google.com/notebooks/data_table.ipynb>data table notebook</a>'\n",
              "          + ' to learn more about interactive tables.';\n",
              "        element.innerHTML = '';\n",
              "        dataTable['output_type'] = 'display_data';\n",
              "        await google.colab.output.renderOutput(dataTable, element);\n",
              "        const docLink = document.createElement('div');\n",
              "        docLink.innerHTML = docLinkHtml;\n",
              "        element.appendChild(docLink);\n",
              "      }\n",
              "    </script>\n",
              "  </div>\n",
              "\n",
              "\n",
              "<div id=\"df-1dc21261-2c64-4d93-9df7-735a406b7c0b\">\n",
              "  <button class=\"colab-df-quickchart\" onclick=\"quickchart('df-1dc21261-2c64-4d93-9df7-735a406b7c0b')\"\n",
              "            title=\"Suggest charts\"\n",
              "            style=\"display:none;\">\n",
              "\n",
              "<svg xmlns=\"http://www.w3.org/2000/svg\" height=\"24px\"viewBox=\"0 0 24 24\"\n",
              "     width=\"24px\">\n",
              "    <g>\n",
              "        <path d=\"M19 3H5c-1.1 0-2 .9-2 2v14c0 1.1.9 2 2 2h14c1.1 0 2-.9 2-2V5c0-1.1-.9-2-2-2zM9 17H7v-7h2v7zm4 0h-2V7h2v10zm4 0h-2v-4h2v4z\"/>\n",
              "    </g>\n",
              "</svg>\n",
              "  </button>\n",
              "\n",
              "<style>\n",
              "  .colab-df-quickchart {\n",
              "      --bg-color: #E8F0FE;\n",
              "      --fill-color: #1967D2;\n",
              "      --hover-bg-color: #E2EBFA;\n",
              "      --hover-fill-color: #174EA6;\n",
              "      --disabled-fill-color: #AAA;\n",
              "      --disabled-bg-color: #DDD;\n",
              "  }\n",
              "\n",
              "  [theme=dark] .colab-df-quickchart {\n",
              "      --bg-color: #3B4455;\n",
              "      --fill-color: #D2E3FC;\n",
              "      --hover-bg-color: #434B5C;\n",
              "      --hover-fill-color: #FFFFFF;\n",
              "      --disabled-bg-color: #3B4455;\n",
              "      --disabled-fill-color: #666;\n",
              "  }\n",
              "\n",
              "  .colab-df-quickchart {\n",
              "    background-color: var(--bg-color);\n",
              "    border: none;\n",
              "    border-radius: 50%;\n",
              "    cursor: pointer;\n",
              "    display: none;\n",
              "    fill: var(--fill-color);\n",
              "    height: 32px;\n",
              "    padding: 0;\n",
              "    width: 32px;\n",
              "  }\n",
              "\n",
              "  .colab-df-quickchart:hover {\n",
              "    background-color: var(--hover-bg-color);\n",
              "    box-shadow: 0 1px 2px rgba(60, 64, 67, 0.3), 0 1px 3px 1px rgba(60, 64, 67, 0.15);\n",
              "    fill: var(--button-hover-fill-color);\n",
              "  }\n",
              "\n",
              "  .colab-df-quickchart-complete:disabled,\n",
              "  .colab-df-quickchart-complete:disabled:hover {\n",
              "    background-color: var(--disabled-bg-color);\n",
              "    fill: var(--disabled-fill-color);\n",
              "    box-shadow: none;\n",
              "  }\n",
              "\n",
              "  .colab-df-spinner {\n",
              "    border: 2px solid var(--fill-color);\n",
              "    border-color: transparent;\n",
              "    border-bottom-color: var(--fill-color);\n",
              "    animation:\n",
              "      spin 1s steps(1) infinite;\n",
              "  }\n",
              "\n",
              "  @keyframes spin {\n",
              "    0% {\n",
              "      border-color: transparent;\n",
              "      border-bottom-color: var(--fill-color);\n",
              "      border-left-color: var(--fill-color);\n",
              "    }\n",
              "    20% {\n",
              "      border-color: transparent;\n",
              "      border-left-color: var(--fill-color);\n",
              "      border-top-color: var(--fill-color);\n",
              "    }\n",
              "    30% {\n",
              "      border-color: transparent;\n",
              "      border-left-color: var(--fill-color);\n",
              "      border-top-color: var(--fill-color);\n",
              "      border-right-color: var(--fill-color);\n",
              "    }\n",
              "    40% {\n",
              "      border-color: transparent;\n",
              "      border-right-color: var(--fill-color);\n",
              "      border-top-color: var(--fill-color);\n",
              "    }\n",
              "    60% {\n",
              "      border-color: transparent;\n",
              "      border-right-color: var(--fill-color);\n",
              "    }\n",
              "    80% {\n",
              "      border-color: transparent;\n",
              "      border-right-color: var(--fill-color);\n",
              "      border-bottom-color: var(--fill-color);\n",
              "    }\n",
              "    90% {\n",
              "      border-color: transparent;\n",
              "      border-bottom-color: var(--fill-color);\n",
              "    }\n",
              "  }\n",
              "</style>\n",
              "\n",
              "  <script>\n",
              "    async function quickchart(key) {\n",
              "      const quickchartButtonEl =\n",
              "        document.querySelector('#' + key + ' button');\n",
              "      quickchartButtonEl.disabled = true;  // To prevent multiple clicks.\n",
              "      quickchartButtonEl.classList.add('colab-df-spinner');\n",
              "      try {\n",
              "        const charts = await google.colab.kernel.invokeFunction(\n",
              "            'suggestCharts', [key], {});\n",
              "      } catch (error) {\n",
              "        console.error('Error during call to suggestCharts:', error);\n",
              "      }\n",
              "      quickchartButtonEl.classList.remove('colab-df-spinner');\n",
              "      quickchartButtonEl.classList.add('colab-df-quickchart-complete');\n",
              "    }\n",
              "    (() => {\n",
              "      let quickchartButtonEl =\n",
              "        document.querySelector('#df-1dc21261-2c64-4d93-9df7-735a406b7c0b button');\n",
              "      quickchartButtonEl.style.display =\n",
              "        google.colab.kernel.accessAllowed ? 'block' : 'none';\n",
              "    })();\n",
              "  </script>\n",
              "</div>\n",
              "\n",
              "    </div>\n",
              "  </div>\n"
            ],
            "application/vnd.google.colaboratory.intrinsic+json": {
              "type": "dataframe"
            }
          },
          "metadata": {},
          "execution_count": 9
        }
      ],
      "source": [
        "df_raw.describe()"
      ]
    },
    {
      "cell_type": "markdown",
      "metadata": {
        "id": "b1q2gF8YYmnv"
      },
      "source": [
        "the data is stored in a somewhat bizzarro way, with the wavelength as the column name and the row as the SN"
      ]
    },
    {
      "cell_type": "code",
      "execution_count": null,
      "metadata": {
        "id": "SxSChB9uWvmZ"
      },
      "outputs": [],
      "source": [
        "wavelength = np.array([float(c) for c in df_raw.columns[5:]])"
      ]
    },
    {
      "cell_type": "code",
      "execution_count": null,
      "metadata": {
        "colab": {
          "base_uri": "https://localhost:8080/"
        },
        "id": "PyE8pRhIdNhA",
        "outputId": "e61c5bd4-2ba8-4d64-a4e9-48a81da23b67"
      },
      "outputs": [
        {
          "output_type": "execute_result",
          "data": {
            "text/plain": [
              "(1024,)"
            ]
          },
          "metadata": {},
          "execution_count": 11
        }
      ],
      "source": [
        "wavelength.shape"
      ]
    },
    {
      "cell_type": "code",
      "execution_count": null,
      "metadata": {
        "colab": {
          "base_uri": "https://localhost:8080/",
          "height": 196
        },
        "id": "EjSiGdWYXebn",
        "outputId": "118ee3c0-4181-4a66-d290-29c41aa76418"
      },
      "outputs": [
        {
          "output_type": "execute_result",
          "data": {
            "text/plain": [
              "         SN Subtype  SN Subtype ID SN Maintype  SN Maintype ID  \\\n",
              "SN Name                                                          \n",
              "sn2008ar    Ia-norm              0          Ia               0   \n",
              "\n",
              "          Spectral Phase  2501.69  2505.08  2508.48  2511.87  2515.28  ...  \\\n",
              "SN Name                                                                ...   \n",
              "sn2008ar            -2.7      0.0      0.0      0.0      0.0      0.0  ...   \n",
              "\n",
              "          9872.21  9885.59  9898.98  9912.39  9925.82  9939.27  9952.73  \\\n",
              "SN Name                                                                   \n",
              "sn2008ar      0.0      0.0      0.0      0.0      0.0      0.0      0.0   \n",
              "\n",
              "          9966.21  9979.71  9993.24  \n",
              "SN Name                              \n",
              "sn2008ar      0.0      0.0      0.0  \n",
              "\n",
              "[1 rows x 1029 columns]"
            ],
            "text/html": [
              "\n",
              "  <div id=\"df-988f3aa0-a86b-4f85-9639-95702bc76e53\" class=\"colab-df-container\">\n",
              "    <div>\n",
              "<style scoped>\n",
              "    .dataframe tbody tr th:only-of-type {\n",
              "        vertical-align: middle;\n",
              "    }\n",
              "\n",
              "    .dataframe tbody tr th {\n",
              "        vertical-align: top;\n",
              "    }\n",
              "\n",
              "    .dataframe thead th {\n",
              "        text-align: right;\n",
              "    }\n",
              "</style>\n",
              "<table border=\"1\" class=\"dataframe\">\n",
              "  <thead>\n",
              "    <tr style=\"text-align: right;\">\n",
              "      <th></th>\n",
              "      <th>SN Subtype</th>\n",
              "      <th>SN Subtype ID</th>\n",
              "      <th>SN Maintype</th>\n",
              "      <th>SN Maintype ID</th>\n",
              "      <th>Spectral Phase</th>\n",
              "      <th>2501.69</th>\n",
              "      <th>2505.08</th>\n",
              "      <th>2508.48</th>\n",
              "      <th>2511.87</th>\n",
              "      <th>2515.28</th>\n",
              "      <th>...</th>\n",
              "      <th>9872.21</th>\n",
              "      <th>9885.59</th>\n",
              "      <th>9898.98</th>\n",
              "      <th>9912.39</th>\n",
              "      <th>9925.82</th>\n",
              "      <th>9939.27</th>\n",
              "      <th>9952.73</th>\n",
              "      <th>9966.21</th>\n",
              "      <th>9979.71</th>\n",
              "      <th>9993.24</th>\n",
              "    </tr>\n",
              "    <tr>\n",
              "      <th>SN Name</th>\n",
              "      <th></th>\n",
              "      <th></th>\n",
              "      <th></th>\n",
              "      <th></th>\n",
              "      <th></th>\n",
              "      <th></th>\n",
              "      <th></th>\n",
              "      <th></th>\n",
              "      <th></th>\n",
              "      <th></th>\n",
              "      <th></th>\n",
              "      <th></th>\n",
              "      <th></th>\n",
              "      <th></th>\n",
              "      <th></th>\n",
              "      <th></th>\n",
              "      <th></th>\n",
              "      <th></th>\n",
              "      <th></th>\n",
              "      <th></th>\n",
              "      <th></th>\n",
              "    </tr>\n",
              "  </thead>\n",
              "  <tbody>\n",
              "    <tr>\n",
              "      <th>sn2008ar</th>\n",
              "      <td>Ia-norm</td>\n",
              "      <td>0</td>\n",
              "      <td>Ia</td>\n",
              "      <td>0</td>\n",
              "      <td>-2.7</td>\n",
              "      <td>0.0</td>\n",
              "      <td>0.0</td>\n",
              "      <td>0.0</td>\n",
              "      <td>0.0</td>\n",
              "      <td>0.0</td>\n",
              "      <td>...</td>\n",
              "      <td>0.0</td>\n",
              "      <td>0.0</td>\n",
              "      <td>0.0</td>\n",
              "      <td>0.0</td>\n",
              "      <td>0.0</td>\n",
              "      <td>0.0</td>\n",
              "      <td>0.0</td>\n",
              "      <td>0.0</td>\n",
              "      <td>0.0</td>\n",
              "      <td>0.0</td>\n",
              "    </tr>\n",
              "  </tbody>\n",
              "</table>\n",
              "<p>1 rows × 1029 columns</p>\n",
              "</div>\n",
              "    <div class=\"colab-df-buttons\">\n",
              "\n",
              "  <div class=\"colab-df-container\">\n",
              "    <button class=\"colab-df-convert\" onclick=\"convertToInteractive('df-988f3aa0-a86b-4f85-9639-95702bc76e53')\"\n",
              "            title=\"Convert this dataframe to an interactive table.\"\n",
              "            style=\"display:none;\">\n",
              "\n",
              "  <svg xmlns=\"http://www.w3.org/2000/svg\" height=\"24px\" viewBox=\"0 -960 960 960\">\n",
              "    <path d=\"M120-120v-720h720v720H120Zm60-500h600v-160H180v160Zm220 220h160v-160H400v160Zm0 220h160v-160H400v160ZM180-400h160v-160H180v160Zm440 0h160v-160H620v160ZM180-180h160v-160H180v160Zm440 0h160v-160H620v160Z\"/>\n",
              "  </svg>\n",
              "    </button>\n",
              "\n",
              "  <style>\n",
              "    .colab-df-container {\n",
              "      display:flex;\n",
              "      gap: 12px;\n",
              "    }\n",
              "\n",
              "    .colab-df-convert {\n",
              "      background-color: #E8F0FE;\n",
              "      border: none;\n",
              "      border-radius: 50%;\n",
              "      cursor: pointer;\n",
              "      display: none;\n",
              "      fill: #1967D2;\n",
              "      height: 32px;\n",
              "      padding: 0 0 0 0;\n",
              "      width: 32px;\n",
              "    }\n",
              "\n",
              "    .colab-df-convert:hover {\n",
              "      background-color: #E2EBFA;\n",
              "      box-shadow: 0px 1px 2px rgba(60, 64, 67, 0.3), 0px 1px 3px 1px rgba(60, 64, 67, 0.15);\n",
              "      fill: #174EA6;\n",
              "    }\n",
              "\n",
              "    .colab-df-buttons div {\n",
              "      margin-bottom: 4px;\n",
              "    }\n",
              "\n",
              "    [theme=dark] .colab-df-convert {\n",
              "      background-color: #3B4455;\n",
              "      fill: #D2E3FC;\n",
              "    }\n",
              "\n",
              "    [theme=dark] .colab-df-convert:hover {\n",
              "      background-color: #434B5C;\n",
              "      box-shadow: 0px 1px 3px 1px rgba(0, 0, 0, 0.15);\n",
              "      filter: drop-shadow(0px 1px 2px rgba(0, 0, 0, 0.3));\n",
              "      fill: #FFFFFF;\n",
              "    }\n",
              "  </style>\n",
              "\n",
              "    <script>\n",
              "      const buttonEl =\n",
              "        document.querySelector('#df-988f3aa0-a86b-4f85-9639-95702bc76e53 button.colab-df-convert');\n",
              "      buttonEl.style.display =\n",
              "        google.colab.kernel.accessAllowed ? 'block' : 'none';\n",
              "\n",
              "      async function convertToInteractive(key) {\n",
              "        const element = document.querySelector('#df-988f3aa0-a86b-4f85-9639-95702bc76e53');\n",
              "        const dataTable =\n",
              "          await google.colab.kernel.invokeFunction('convertToInteractive',\n",
              "                                                    [key], {});\n",
              "        if (!dataTable) return;\n",
              "\n",
              "        const docLinkHtml = 'Like what you see? Visit the ' +\n",
              "          '<a target=\"_blank\" href=https://colab.research.google.com/notebooks/data_table.ipynb>data table notebook</a>'\n",
              "          + ' to learn more about interactive tables.';\n",
              "        element.innerHTML = '';\n",
              "        dataTable['output_type'] = 'display_data';\n",
              "        await google.colab.output.renderOutput(dataTable, element);\n",
              "        const docLink = document.createElement('div');\n",
              "        docLink.innerHTML = docLinkHtml;\n",
              "        element.appendChild(docLink);\n",
              "      }\n",
              "    </script>\n",
              "  </div>\n",
              "\n",
              "\n",
              "    </div>\n",
              "  </div>\n"
            ],
            "application/vnd.google.colaboratory.intrinsic+json": {
              "type": "dataframe"
            }
          },
          "metadata": {},
          "execution_count": 12
        }
      ],
      "source": [
        "df_raw.loc[(df_raw.index == \"sn2008ar\") * (df_raw[\"Spectral Phase\"] == -2.7)]"
      ]
    },
    {
      "cell_type": "code",
      "execution_count": null,
      "metadata": {
        "colab": {
          "base_uri": "https://localhost:8080/"
        },
        "id": "N9SUWSkrYLWE",
        "outputId": "fdb81365-4c76-4466-938a-23ec7f7a5fc6"
      },
      "outputs": [
        {
          "output_type": "execute_result",
          "data": {
            "text/plain": [
              "[<matplotlib.lines.Line2D at 0x7a0a8f6cf400>]"
            ]
          },
          "metadata": {},
          "execution_count": 13
        }
      ],
      "source": [
        "plt.plot(wavelength, df_raw.loc[(df_raw.index == \"sn2008ar\") * (df_raw[\"Spectral Phase\"] == -2.7)].iloc[:, 5:].values[0])"
      ]
    },
    {
      "cell_type": "markdown",
      "metadata": {
        "id": "HTsGy8UnSEWz"
      },
      "source": [
        "## Explore data:\n",
        "\n",
        "is there padding? invalid data, spurious entries?"
      ]
    },
    {
      "cell_type": "markdown",
      "metadata": {
        "id": "KlH8X4njSsyR"
      },
      "source": [
        "### unique SN"
      ]
    },
    {
      "cell_type": "code",
      "execution_count": null,
      "metadata": {
        "colab": {
          "base_uri": "https://localhost:8080/"
        },
        "id": "hQKdmlBDSvHs",
        "outputId": "ecdad85a-44e2-429c-ffac-3f38415ce73b"
      },
      "outputs": [
        {
          "output_type": "stream",
          "name": "stdout",
          "text": [
            "Number of SNs: 518\n"
          ]
        }
      ],
      "source": [
        "print('Number of SNs:', len(df_raw.index.categories))"
      ]
    },
    {
      "cell_type": "markdown",
      "metadata": {
        "id": "OBA_PrQdS74a"
      },
      "source": [
        "### unique SN subtypes"
      ]
    },
    {
      "cell_type": "code",
      "execution_count": null,
      "metadata": {
        "colab": {
          "base_uri": "https://localhost:8080/"
        },
        "id": "mY3pbGzPTR41",
        "outputId": "032912ad-6d68-4ed8-ce26-e788010fa501"
      },
      "outputs": [
        {
          "output_type": "stream",
          "name": "stdout",
          "text": [
            "SN subtypes: ['Ia-norm', 'Ia-91T', 'Ia-csm', 'Ia-91bg', 'Ib-norm', ..., 'Ic-broad', 'Ic-pec', 'IIn', 'Ibn', 'Ib-pec']\n",
            "Length: 17\n",
            "Categories (17, object): ['II-pec', 'IIL', 'IIP', 'IIb', ..., 'Ibn', 'Ic-broad', 'Ic-norm', 'Ic-pec']\n"
          ]
        }
      ],
      "source": [
        "print('SN subtypes:', df_raw['SN Subtype'].unique())"
      ]
    },
    {
      "cell_type": "code",
      "execution_count": null,
      "metadata": {
        "colab": {
          "base_uri": "https://localhost:8080/"
        },
        "id": "q8hae5qngh6K",
        "outputId": "75d1f5cc-4ab0-475d-b272-33942faaa8ae"
      },
      "outputs": [
        {
          "output_type": "stream",
          "name": "stdout",
          "text": [
            "Ia-norm\n",
            "Ia-91T\n",
            "Ia-csm\n",
            "Ia-91bg\n",
            "Ib-norm\n",
            "Iax\n",
            "Ia-pec\n",
            "Ic-norm\n",
            "IIP\n",
            "IIL\n",
            "IIb\n",
            "II-pec\n",
            "Ic-broad\n",
            "Ic-pec\n",
            "IIn\n",
            "Ibn\n",
            "Ib-pec\n"
          ]
        }
      ],
      "source": [
        "subtypes  = df_raw['SN Subtype'].unique()\n",
        "\n",
        "for i in subtypes:\n",
        "  print(i)"
      ]
    },
    {
      "cell_type": "markdown",
      "metadata": {
        "id": "hS9a2_qKTfSB"
      },
      "source": [
        "### unique SN main types"
      ]
    },
    {
      "cell_type": "code",
      "execution_count": null,
      "metadata": {
        "colab": {
          "base_uri": "https://localhost:8080/"
        },
        "id": "K4p1vTJyThkO",
        "outputId": "15f947f5-d014-44d6-aba7-35d9343d6321"
      },
      "outputs": [
        {
          "output_type": "stream",
          "name": "stdout",
          "text": [
            "Number of SN types: 4\n",
            "types: ['Ia', 'Ib', 'Ic', 'II']\n"
          ]
        }
      ],
      "source": [
        "types = df_raw['SN Maintype'].unique()\n",
        "print('Number of SN types:', len(types))\n",
        "print('types:', list(types))"
      ]
    },
    {
      "cell_type": "code",
      "execution_count": null,
      "metadata": {
        "id": "iZ_3_477kEBH"
      },
      "outputs": [],
      "source": [
        "# I want the name to be on the first column, reset index\n",
        "df_raw = df_raw.reset_index()"
      ]
    },
    {
      "cell_type": "markdown",
      "metadata": {
        "id": "NpKNhraaXp5w"
      },
      "source": [
        "### How many SNs of each type"
      ]
    },
    {
      "cell_type": "code",
      "execution_count": null,
      "metadata": {
        "id": "FIlXWkFmXtD9"
      },
      "outputs": [],
      "source": [
        "grouped = df_raw.groupby(['SN Maintype', 'SN Name'], observed=True)['SN Name'].value_counts()"
      ]
    },
    {
      "cell_type": "code",
      "execution_count": null,
      "metadata": {
        "colab": {
          "base_uri": "https://localhost:8080/",
          "height": 241
        },
        "id": "mEC4JYT3kXdB",
        "outputId": "86009b34-1921-4b3e-f632-a69032e3ef50"
      },
      "outputs": [
        {
          "output_type": "execute_result",
          "data": {
            "text/plain": [
              "SN Maintype\n",
              "II     11\n",
              "Ia    414\n",
              "Ib     46\n",
              "Ic     47\n",
              "Name: count, dtype: int64"
            ],
            "text/html": [
              "<div>\n",
              "<style scoped>\n",
              "    .dataframe tbody tr th:only-of-type {\n",
              "        vertical-align: middle;\n",
              "    }\n",
              "\n",
              "    .dataframe tbody tr th {\n",
              "        vertical-align: top;\n",
              "    }\n",
              "\n",
              "    .dataframe thead th {\n",
              "        text-align: right;\n",
              "    }\n",
              "</style>\n",
              "<table border=\"1\" class=\"dataframe\">\n",
              "  <thead>\n",
              "    <tr style=\"text-align: right;\">\n",
              "      <th></th>\n",
              "      <th>count</th>\n",
              "    </tr>\n",
              "    <tr>\n",
              "      <th>SN Maintype</th>\n",
              "      <th></th>\n",
              "    </tr>\n",
              "  </thead>\n",
              "  <tbody>\n",
              "    <tr>\n",
              "      <th>II</th>\n",
              "      <td>11</td>\n",
              "    </tr>\n",
              "    <tr>\n",
              "      <th>Ia</th>\n",
              "      <td>414</td>\n",
              "    </tr>\n",
              "    <tr>\n",
              "      <th>Ib</th>\n",
              "      <td>46</td>\n",
              "    </tr>\n",
              "    <tr>\n",
              "      <th>Ic</th>\n",
              "      <td>47</td>\n",
              "    </tr>\n",
              "  </tbody>\n",
              "</table>\n",
              "</div><br><label><b>dtype:</b> int64</label>"
            ]
          },
          "metadata": {},
          "execution_count": 20
        }
      ],
      "source": [
        "grouped.groupby(level=0, observed=True).count()"
      ]
    },
    {
      "cell_type": "code",
      "execution_count": null,
      "metadata": {
        "colab": {
          "base_uri": "https://localhost:8080/"
        },
        "id": "h4kWSY-JYjcc",
        "outputId": "693e1e68-acef-41d9-e3d2-d53b58533b52"
      },
      "outputs": [
        {
          "output_type": "execute_result",
          "data": {
            "text/plain": [
              "['II', 'Ia', 'Ib', 'Ic']\n",
              "Categories (4, object): ['II', 'Ia', 'Ib', 'Ic']"
            ]
          },
          "metadata": {},
          "execution_count": 21
        }
      ],
      "source": [
        "grouped.index.levels[0].values"
      ]
    },
    {
      "cell_type": "markdown",
      "metadata": {
        "id": "WHwbApXWTzGi"
      },
      "source": [
        "### Typical series length (in time)"
      ]
    },
    {
      "cell_type": "code",
      "execution_count": null,
      "metadata": {
        "colab": {
          "base_uri": "https://localhost:8080/",
          "height": 241
        },
        "id": "oxLqLe0Liic5",
        "outputId": "2685f51a-b592-4aed-ea74-f87e23046780"
      },
      "outputs": [
        {
          "output_type": "execute_result",
          "data": {
            "text/plain": [
              "SN Maintype\n",
              "II     494\n",
              "Ia    3288\n",
              "Ib     644\n",
              "Ic     575\n",
              "Name: count, dtype: int64"
            ],
            "text/html": [
              "<div>\n",
              "<style scoped>\n",
              "    .dataframe tbody tr th:only-of-type {\n",
              "        vertical-align: middle;\n",
              "    }\n",
              "\n",
              "    .dataframe tbody tr th {\n",
              "        vertical-align: top;\n",
              "    }\n",
              "\n",
              "    .dataframe thead th {\n",
              "        text-align: right;\n",
              "    }\n",
              "</style>\n",
              "<table border=\"1\" class=\"dataframe\">\n",
              "  <thead>\n",
              "    <tr style=\"text-align: right;\">\n",
              "      <th></th>\n",
              "      <th>count</th>\n",
              "    </tr>\n",
              "    <tr>\n",
              "      <th>SN Maintype</th>\n",
              "      <th></th>\n",
              "    </tr>\n",
              "  </thead>\n",
              "  <tbody>\n",
              "    <tr>\n",
              "      <th>II</th>\n",
              "      <td>494</td>\n",
              "    </tr>\n",
              "    <tr>\n",
              "      <th>Ia</th>\n",
              "      <td>3288</td>\n",
              "    </tr>\n",
              "    <tr>\n",
              "      <th>Ib</th>\n",
              "      <td>644</td>\n",
              "    </tr>\n",
              "    <tr>\n",
              "      <th>Ic</th>\n",
              "      <td>575</td>\n",
              "    </tr>\n",
              "  </tbody>\n",
              "</table>\n",
              "</div><br><label><b>dtype:</b> int64</label>"
            ]
          },
          "metadata": {},
          "execution_count": 22
        }
      ],
      "source": [
        "df_raw.groupby('SN Maintype', observed=True)['SN Maintype'].value_counts()"
      ]
    },
    {
      "cell_type": "code",
      "execution_count": null,
      "metadata": {
        "colab": {
          "base_uri": "https://localhost:8080/",
          "height": 489
        },
        "id": "wwdZHgvfXa_S",
        "outputId": "2c3c800e-a831-4475-d942-3bcba41e89a0"
      },
      "outputs": [
        {
          "output_type": "execute_result",
          "data": {
            "text/plain": [
              "SN Name\n",
              "sn1987A     241\n",
              "sn1993J      73\n",
              "sn2005cf     67\n",
              "sn2003du     60\n",
              "sn1998S      57\n",
              "           ... \n",
              "sn07bd        1\n",
              "sn07al        1\n",
              "sn2006cq      1\n",
              "sn2006cc      1\n",
              "sn2005bc      1\n",
              "Name: count, Length: 518, dtype: int64"
            ],
            "text/html": [
              "<div>\n",
              "<style scoped>\n",
              "    .dataframe tbody tr th:only-of-type {\n",
              "        vertical-align: middle;\n",
              "    }\n",
              "\n",
              "    .dataframe tbody tr th {\n",
              "        vertical-align: top;\n",
              "    }\n",
              "\n",
              "    .dataframe thead th {\n",
              "        text-align: right;\n",
              "    }\n",
              "</style>\n",
              "<table border=\"1\" class=\"dataframe\">\n",
              "  <thead>\n",
              "    <tr style=\"text-align: right;\">\n",
              "      <th></th>\n",
              "      <th>count</th>\n",
              "    </tr>\n",
              "    <tr>\n",
              "      <th>SN Name</th>\n",
              "      <th></th>\n",
              "    </tr>\n",
              "  </thead>\n",
              "  <tbody>\n",
              "    <tr>\n",
              "      <th>sn1987A</th>\n",
              "      <td>241</td>\n",
              "    </tr>\n",
              "    <tr>\n",
              "      <th>sn1993J</th>\n",
              "      <td>73</td>\n",
              "    </tr>\n",
              "    <tr>\n",
              "      <th>sn2005cf</th>\n",
              "      <td>67</td>\n",
              "    </tr>\n",
              "    <tr>\n",
              "      <th>sn2003du</th>\n",
              "      <td>60</td>\n",
              "    </tr>\n",
              "    <tr>\n",
              "      <th>sn1998S</th>\n",
              "      <td>57</td>\n",
              "    </tr>\n",
              "    <tr>\n",
              "      <th>...</th>\n",
              "      <td>...</td>\n",
              "    </tr>\n",
              "    <tr>\n",
              "      <th>sn07bd</th>\n",
              "      <td>1</td>\n",
              "    </tr>\n",
              "    <tr>\n",
              "      <th>sn07al</th>\n",
              "      <td>1</td>\n",
              "    </tr>\n",
              "    <tr>\n",
              "      <th>sn2006cq</th>\n",
              "      <td>1</td>\n",
              "    </tr>\n",
              "    <tr>\n",
              "      <th>sn2006cc</th>\n",
              "      <td>1</td>\n",
              "    </tr>\n",
              "    <tr>\n",
              "      <th>sn2005bc</th>\n",
              "      <td>1</td>\n",
              "    </tr>\n",
              "  </tbody>\n",
              "</table>\n",
              "<p>518 rows × 1 columns</p>\n",
              "</div><br><label><b>dtype:</b> int64</label>"
            ]
          },
          "metadata": {},
          "execution_count": 23
        }
      ],
      "source": [
        "# group by object and calculate the typical series length\n",
        "df_raw.groupby('SN Name', observed=True)['SN Name'].value_counts().sort_values(ascending=False)"
      ]
    },
    {
      "cell_type": "code",
      "execution_count": null,
      "metadata": {
        "colab": {
          "base_uri": "https://localhost:8080/"
        },
        "id": "79FXMnIli-w4",
        "outputId": "09b9c384-ac33-4dd2-d782-6c07ef8cbf47"
      },
      "outputs": [
        {
          "output_type": "execute_result",
          "data": {
            "text/plain": [
              "9.654440154440154"
            ]
          },
          "metadata": {},
          "execution_count": 24
        }
      ],
      "source": [
        "df_raw.groupby('SN Name', observed=True)['SN Name'].value_counts().sort_values(ascending=False).mean()"
      ]
    },
    {
      "cell_type": "code",
      "execution_count": null,
      "metadata": {
        "colab": {
          "base_uri": "https://localhost:8080/"
        },
        "id": "buLQ3O5xfPFd",
        "outputId": "52f800d4-e86a-4aa0-e31b-f9dad5c56822"
      },
      "outputs": [
        {
          "output_type": "stream",
          "name": "stdout",
          "text": [
            "Typical series length is: 74.18314092664092\n"
          ]
        }
      ],
      "source": [
        "# group by object and calculate the typical series length\n",
        "series_length = (df_raw.groupby('SN Name', observed=True)['Spectral Phase'].max()-df_raw.groupby('SN Name', observed=True)['Spectral Phase'].min()).sort_values(ascending=False).mean()\n",
        "\n",
        "print('Typical series length is:', series_length)"
      ]
    },
    {
      "cell_type": "markdown",
      "metadata": {
        "id": "UcPBHnM5hMi0"
      },
      "source": [
        "### NaNs?"
      ]
    },
    {
      "cell_type": "code",
      "execution_count": null,
      "metadata": {
        "colab": {
          "base_uri": "https://localhost:8080/"
        },
        "id": "cWSI1TVyUw_2",
        "outputId": "5ce6c1bc-6dd4-427a-e58e-d838f97a7201"
      },
      "outputs": [
        {
          "output_type": "execute_result",
          "data": {
            "text/plain": [
              "0"
            ]
          },
          "metadata": {},
          "execution_count": 26
        }
      ],
      "source": [
        "df_raw.isna().sum().max()"
      ]
    },
    {
      "cell_type": "code",
      "execution_count": null,
      "metadata": {
        "colab": {
          "base_uri": "https://localhost:8080/"
        },
        "id": "kEMEW96Ug_tW",
        "outputId": "0c718422-5d86-4a4f-ca91-6dca468dd88f"
      },
      "outputs": [
        {
          "output_type": "stream",
          "name": "stdout",
          "text": [
            "number of nans: 0\n"
          ]
        }
      ],
      "source": [
        "print('number of nans:', df_raw.isna().sum().max())"
      ]
    },
    {
      "cell_type": "code",
      "execution_count": null,
      "metadata": {
        "colab": {
          "base_uri": "https://localhost:8080/",
          "height": 290
        },
        "id": "8VfdCbJYjar3",
        "outputId": "63106209-cdae-476a-a642-4d09fea4160e"
      },
      "outputs": [
        {
          "output_type": "execute_result",
          "data": {
            "text/plain": [
              "    SN Name SN Subtype  SN Subtype ID SN Maintype  SN Maintype ID  \\\n",
              "0  sn2008ar    Ia-norm              0          Ia               0   \n",
              "1  sn2008ar    Ia-norm              0          Ia               0   \n",
              "2  sn2008ar    Ia-norm              0          Ia               0   \n",
              "3  sn2008ar    Ia-norm              0          Ia               0   \n",
              "4  sn2008ar    Ia-norm              0          Ia               0   \n",
              "\n",
              "   Spectral Phase  2501.69  2505.08  2508.48  2511.87  ...  9872.21  9885.59  \\\n",
              "0            -8.5      0.0      0.0      0.0      0.0  ...      0.0      0.0   \n",
              "1            -7.5      0.0      0.0      0.0      0.0  ...      0.0      0.0   \n",
              "2            -6.6      0.0      0.0      0.0      0.0  ...      0.0      0.0   \n",
              "3            -4.6      0.0      0.0      0.0      0.0  ...      0.0      0.0   \n",
              "4            -3.7      0.0      0.0      0.0      0.0  ...      0.0      0.0   \n",
              "\n",
              "   9898.98  9912.39  9925.82  9939.27  9952.73  9966.21  9979.71  9993.24  \n",
              "0      0.0      0.0      0.0      0.0      0.0      0.0      0.0      0.0  \n",
              "1      0.0      0.0      0.0      0.0      0.0      0.0      0.0      0.0  \n",
              "2      0.0      0.0      0.0      0.0      0.0      0.0      0.0      0.0  \n",
              "3      0.0      0.0      0.0      0.0      0.0      0.0      0.0      0.0  \n",
              "4      0.0      0.0      0.0      0.0      0.0      0.0      0.0      0.0  \n",
              "\n",
              "[5 rows x 1030 columns]"
            ],
            "text/html": [
              "\n",
              "  <div id=\"df-724da57d-22e4-4641-bcd0-5c3c3f02a1ae\" class=\"colab-df-container\">\n",
              "    <div>\n",
              "<style scoped>\n",
              "    .dataframe tbody tr th:only-of-type {\n",
              "        vertical-align: middle;\n",
              "    }\n",
              "\n",
              "    .dataframe tbody tr th {\n",
              "        vertical-align: top;\n",
              "    }\n",
              "\n",
              "    .dataframe thead th {\n",
              "        text-align: right;\n",
              "    }\n",
              "</style>\n",
              "<table border=\"1\" class=\"dataframe\">\n",
              "  <thead>\n",
              "    <tr style=\"text-align: right;\">\n",
              "      <th></th>\n",
              "      <th>SN Name</th>\n",
              "      <th>SN Subtype</th>\n",
              "      <th>SN Subtype ID</th>\n",
              "      <th>SN Maintype</th>\n",
              "      <th>SN Maintype ID</th>\n",
              "      <th>Spectral Phase</th>\n",
              "      <th>2501.69</th>\n",
              "      <th>2505.08</th>\n",
              "      <th>2508.48</th>\n",
              "      <th>2511.87</th>\n",
              "      <th>...</th>\n",
              "      <th>9872.21</th>\n",
              "      <th>9885.59</th>\n",
              "      <th>9898.98</th>\n",
              "      <th>9912.39</th>\n",
              "      <th>9925.82</th>\n",
              "      <th>9939.27</th>\n",
              "      <th>9952.73</th>\n",
              "      <th>9966.21</th>\n",
              "      <th>9979.71</th>\n",
              "      <th>9993.24</th>\n",
              "    </tr>\n",
              "  </thead>\n",
              "  <tbody>\n",
              "    <tr>\n",
              "      <th>0</th>\n",
              "      <td>sn2008ar</td>\n",
              "      <td>Ia-norm</td>\n",
              "      <td>0</td>\n",
              "      <td>Ia</td>\n",
              "      <td>0</td>\n",
              "      <td>-8.5</td>\n",
              "      <td>0.0</td>\n",
              "      <td>0.0</td>\n",
              "      <td>0.0</td>\n",
              "      <td>0.0</td>\n",
              "      <td>...</td>\n",
              "      <td>0.0</td>\n",
              "      <td>0.0</td>\n",
              "      <td>0.0</td>\n",
              "      <td>0.0</td>\n",
              "      <td>0.0</td>\n",
              "      <td>0.0</td>\n",
              "      <td>0.0</td>\n",
              "      <td>0.0</td>\n",
              "      <td>0.0</td>\n",
              "      <td>0.0</td>\n",
              "    </tr>\n",
              "    <tr>\n",
              "      <th>1</th>\n",
              "      <td>sn2008ar</td>\n",
              "      <td>Ia-norm</td>\n",
              "      <td>0</td>\n",
              "      <td>Ia</td>\n",
              "      <td>0</td>\n",
              "      <td>-7.5</td>\n",
              "      <td>0.0</td>\n",
              "      <td>0.0</td>\n",
              "      <td>0.0</td>\n",
              "      <td>0.0</td>\n",
              "      <td>...</td>\n",
              "      <td>0.0</td>\n",
              "      <td>0.0</td>\n",
              "      <td>0.0</td>\n",
              "      <td>0.0</td>\n",
              "      <td>0.0</td>\n",
              "      <td>0.0</td>\n",
              "      <td>0.0</td>\n",
              "      <td>0.0</td>\n",
              "      <td>0.0</td>\n",
              "      <td>0.0</td>\n",
              "    </tr>\n",
              "    <tr>\n",
              "      <th>2</th>\n",
              "      <td>sn2008ar</td>\n",
              "      <td>Ia-norm</td>\n",
              "      <td>0</td>\n",
              "      <td>Ia</td>\n",
              "      <td>0</td>\n",
              "      <td>-6.6</td>\n",
              "      <td>0.0</td>\n",
              "      <td>0.0</td>\n",
              "      <td>0.0</td>\n",
              "      <td>0.0</td>\n",
              "      <td>...</td>\n",
              "      <td>0.0</td>\n",
              "      <td>0.0</td>\n",
              "      <td>0.0</td>\n",
              "      <td>0.0</td>\n",
              "      <td>0.0</td>\n",
              "      <td>0.0</td>\n",
              "      <td>0.0</td>\n",
              "      <td>0.0</td>\n",
              "      <td>0.0</td>\n",
              "      <td>0.0</td>\n",
              "    </tr>\n",
              "    <tr>\n",
              "      <th>3</th>\n",
              "      <td>sn2008ar</td>\n",
              "      <td>Ia-norm</td>\n",
              "      <td>0</td>\n",
              "      <td>Ia</td>\n",
              "      <td>0</td>\n",
              "      <td>-4.6</td>\n",
              "      <td>0.0</td>\n",
              "      <td>0.0</td>\n",
              "      <td>0.0</td>\n",
              "      <td>0.0</td>\n",
              "      <td>...</td>\n",
              "      <td>0.0</td>\n",
              "      <td>0.0</td>\n",
              "      <td>0.0</td>\n",
              "      <td>0.0</td>\n",
              "      <td>0.0</td>\n",
              "      <td>0.0</td>\n",
              "      <td>0.0</td>\n",
              "      <td>0.0</td>\n",
              "      <td>0.0</td>\n",
              "      <td>0.0</td>\n",
              "    </tr>\n",
              "    <tr>\n",
              "      <th>4</th>\n",
              "      <td>sn2008ar</td>\n",
              "      <td>Ia-norm</td>\n",
              "      <td>0</td>\n",
              "      <td>Ia</td>\n",
              "      <td>0</td>\n",
              "      <td>-3.7</td>\n",
              "      <td>0.0</td>\n",
              "      <td>0.0</td>\n",
              "      <td>0.0</td>\n",
              "      <td>0.0</td>\n",
              "      <td>...</td>\n",
              "      <td>0.0</td>\n",
              "      <td>0.0</td>\n",
              "      <td>0.0</td>\n",
              "      <td>0.0</td>\n",
              "      <td>0.0</td>\n",
              "      <td>0.0</td>\n",
              "      <td>0.0</td>\n",
              "      <td>0.0</td>\n",
              "      <td>0.0</td>\n",
              "      <td>0.0</td>\n",
              "    </tr>\n",
              "  </tbody>\n",
              "</table>\n",
              "<p>5 rows × 1030 columns</p>\n",
              "</div>\n",
              "    <div class=\"colab-df-buttons\">\n",
              "\n",
              "  <div class=\"colab-df-container\">\n",
              "    <button class=\"colab-df-convert\" onclick=\"convertToInteractive('df-724da57d-22e4-4641-bcd0-5c3c3f02a1ae')\"\n",
              "            title=\"Convert this dataframe to an interactive table.\"\n",
              "            style=\"display:none;\">\n",
              "\n",
              "  <svg xmlns=\"http://www.w3.org/2000/svg\" height=\"24px\" viewBox=\"0 -960 960 960\">\n",
              "    <path d=\"M120-120v-720h720v720H120Zm60-500h600v-160H180v160Zm220 220h160v-160H400v160Zm0 220h160v-160H400v160ZM180-400h160v-160H180v160Zm440 0h160v-160H620v160ZM180-180h160v-160H180v160Zm440 0h160v-160H620v160Z\"/>\n",
              "  </svg>\n",
              "    </button>\n",
              "\n",
              "  <style>\n",
              "    .colab-df-container {\n",
              "      display:flex;\n",
              "      gap: 12px;\n",
              "    }\n",
              "\n",
              "    .colab-df-convert {\n",
              "      background-color: #E8F0FE;\n",
              "      border: none;\n",
              "      border-radius: 50%;\n",
              "      cursor: pointer;\n",
              "      display: none;\n",
              "      fill: #1967D2;\n",
              "      height: 32px;\n",
              "      padding: 0 0 0 0;\n",
              "      width: 32px;\n",
              "    }\n",
              "\n",
              "    .colab-df-convert:hover {\n",
              "      background-color: #E2EBFA;\n",
              "      box-shadow: 0px 1px 2px rgba(60, 64, 67, 0.3), 0px 1px 3px 1px rgba(60, 64, 67, 0.15);\n",
              "      fill: #174EA6;\n",
              "    }\n",
              "\n",
              "    .colab-df-buttons div {\n",
              "      margin-bottom: 4px;\n",
              "    }\n",
              "\n",
              "    [theme=dark] .colab-df-convert {\n",
              "      background-color: #3B4455;\n",
              "      fill: #D2E3FC;\n",
              "    }\n",
              "\n",
              "    [theme=dark] .colab-df-convert:hover {\n",
              "      background-color: #434B5C;\n",
              "      box-shadow: 0px 1px 3px 1px rgba(0, 0, 0, 0.15);\n",
              "      filter: drop-shadow(0px 1px 2px rgba(0, 0, 0, 0.3));\n",
              "      fill: #FFFFFF;\n",
              "    }\n",
              "  </style>\n",
              "\n",
              "    <script>\n",
              "      const buttonEl =\n",
              "        document.querySelector('#df-724da57d-22e4-4641-bcd0-5c3c3f02a1ae button.colab-df-convert');\n",
              "      buttonEl.style.display =\n",
              "        google.colab.kernel.accessAllowed ? 'block' : 'none';\n",
              "\n",
              "      async function convertToInteractive(key) {\n",
              "        const element = document.querySelector('#df-724da57d-22e4-4641-bcd0-5c3c3f02a1ae');\n",
              "        const dataTable =\n",
              "          await google.colab.kernel.invokeFunction('convertToInteractive',\n",
              "                                                    [key], {});\n",
              "        if (!dataTable) return;\n",
              "\n",
              "        const docLinkHtml = 'Like what you see? Visit the ' +\n",
              "          '<a target=\"_blank\" href=https://colab.research.google.com/notebooks/data_table.ipynb>data table notebook</a>'\n",
              "          + ' to learn more about interactive tables.';\n",
              "        element.innerHTML = '';\n",
              "        dataTable['output_type'] = 'display_data';\n",
              "        await google.colab.output.renderOutput(dataTable, element);\n",
              "        const docLink = document.createElement('div');\n",
              "        docLink.innerHTML = docLinkHtml;\n",
              "        element.appendChild(docLink);\n",
              "      }\n",
              "    </script>\n",
              "  </div>\n",
              "\n",
              "\n",
              "<div id=\"df-78018627-da19-47da-83f7-184144ff7fdf\">\n",
              "  <button class=\"colab-df-quickchart\" onclick=\"quickchart('df-78018627-da19-47da-83f7-184144ff7fdf')\"\n",
              "            title=\"Suggest charts\"\n",
              "            style=\"display:none;\">\n",
              "\n",
              "<svg xmlns=\"http://www.w3.org/2000/svg\" height=\"24px\"viewBox=\"0 0 24 24\"\n",
              "     width=\"24px\">\n",
              "    <g>\n",
              "        <path d=\"M19 3H5c-1.1 0-2 .9-2 2v14c0 1.1.9 2 2 2h14c1.1 0 2-.9 2-2V5c0-1.1-.9-2-2-2zM9 17H7v-7h2v7zm4 0h-2V7h2v10zm4 0h-2v-4h2v4z\"/>\n",
              "    </g>\n",
              "</svg>\n",
              "  </button>\n",
              "\n",
              "<style>\n",
              "  .colab-df-quickchart {\n",
              "      --bg-color: #E8F0FE;\n",
              "      --fill-color: #1967D2;\n",
              "      --hover-bg-color: #E2EBFA;\n",
              "      --hover-fill-color: #174EA6;\n",
              "      --disabled-fill-color: #AAA;\n",
              "      --disabled-bg-color: #DDD;\n",
              "  }\n",
              "\n",
              "  [theme=dark] .colab-df-quickchart {\n",
              "      --bg-color: #3B4455;\n",
              "      --fill-color: #D2E3FC;\n",
              "      --hover-bg-color: #434B5C;\n",
              "      --hover-fill-color: #FFFFFF;\n",
              "      --disabled-bg-color: #3B4455;\n",
              "      --disabled-fill-color: #666;\n",
              "  }\n",
              "\n",
              "  .colab-df-quickchart {\n",
              "    background-color: var(--bg-color);\n",
              "    border: none;\n",
              "    border-radius: 50%;\n",
              "    cursor: pointer;\n",
              "    display: none;\n",
              "    fill: var(--fill-color);\n",
              "    height: 32px;\n",
              "    padding: 0;\n",
              "    width: 32px;\n",
              "  }\n",
              "\n",
              "  .colab-df-quickchart:hover {\n",
              "    background-color: var(--hover-bg-color);\n",
              "    box-shadow: 0 1px 2px rgba(60, 64, 67, 0.3), 0 1px 3px 1px rgba(60, 64, 67, 0.15);\n",
              "    fill: var(--button-hover-fill-color);\n",
              "  }\n",
              "\n",
              "  .colab-df-quickchart-complete:disabled,\n",
              "  .colab-df-quickchart-complete:disabled:hover {\n",
              "    background-color: var(--disabled-bg-color);\n",
              "    fill: var(--disabled-fill-color);\n",
              "    box-shadow: none;\n",
              "  }\n",
              "\n",
              "  .colab-df-spinner {\n",
              "    border: 2px solid var(--fill-color);\n",
              "    border-color: transparent;\n",
              "    border-bottom-color: var(--fill-color);\n",
              "    animation:\n",
              "      spin 1s steps(1) infinite;\n",
              "  }\n",
              "\n",
              "  @keyframes spin {\n",
              "    0% {\n",
              "      border-color: transparent;\n",
              "      border-bottom-color: var(--fill-color);\n",
              "      border-left-color: var(--fill-color);\n",
              "    }\n",
              "    20% {\n",
              "      border-color: transparent;\n",
              "      border-left-color: var(--fill-color);\n",
              "      border-top-color: var(--fill-color);\n",
              "    }\n",
              "    30% {\n",
              "      border-color: transparent;\n",
              "      border-left-color: var(--fill-color);\n",
              "      border-top-color: var(--fill-color);\n",
              "      border-right-color: var(--fill-color);\n",
              "    }\n",
              "    40% {\n",
              "      border-color: transparent;\n",
              "      border-right-color: var(--fill-color);\n",
              "      border-top-color: var(--fill-color);\n",
              "    }\n",
              "    60% {\n",
              "      border-color: transparent;\n",
              "      border-right-color: var(--fill-color);\n",
              "    }\n",
              "    80% {\n",
              "      border-color: transparent;\n",
              "      border-right-color: var(--fill-color);\n",
              "      border-bottom-color: var(--fill-color);\n",
              "    }\n",
              "    90% {\n",
              "      border-color: transparent;\n",
              "      border-bottom-color: var(--fill-color);\n",
              "    }\n",
              "  }\n",
              "</style>\n",
              "\n",
              "  <script>\n",
              "    async function quickchart(key) {\n",
              "      const quickchartButtonEl =\n",
              "        document.querySelector('#' + key + ' button');\n",
              "      quickchartButtonEl.disabled = true;  // To prevent multiple clicks.\n",
              "      quickchartButtonEl.classList.add('colab-df-spinner');\n",
              "      try {\n",
              "        const charts = await google.colab.kernel.invokeFunction(\n",
              "            'suggestCharts', [key], {});\n",
              "      } catch (error) {\n",
              "        console.error('Error during call to suggestCharts:', error);\n",
              "      }\n",
              "      quickchartButtonEl.classList.remove('colab-df-spinner');\n",
              "      quickchartButtonEl.classList.add('colab-df-quickchart-complete');\n",
              "    }\n",
              "    (() => {\n",
              "      let quickchartButtonEl =\n",
              "        document.querySelector('#df-78018627-da19-47da-83f7-184144ff7fdf button');\n",
              "      quickchartButtonEl.style.display =\n",
              "        google.colab.kernel.accessAllowed ? 'block' : 'none';\n",
              "    })();\n",
              "  </script>\n",
              "</div>\n",
              "\n",
              "    </div>\n",
              "  </div>\n"
            ],
            "application/vnd.google.colaboratory.intrinsic+json": {
              "type": "dataframe",
              "variable_name": "df_raw"
            }
          },
          "metadata": {},
          "execution_count": 28
        }
      ],
      "source": [
        "df_raw.head()"
      ]
    },
    {
      "cell_type": "code",
      "execution_count": null,
      "metadata": {
        "colab": {
          "base_uri": "https://localhost:8080/"
        },
        "id": "n8CofFMCjm-E",
        "outputId": "9c0d0675-bfc0-49b3-a8f7-0f553fdfb2f6"
      },
      "outputs": [
        {
          "output_type": "execute_result",
          "data": {
            "text/plain": [
              "(18, 1030)"
            ]
          },
          "metadata": {},
          "execution_count": 29
        }
      ],
      "source": [
        "sn2008ar = df_raw.loc[df_raw['SN Name'] == \"sn2008ar\"]\n",
        "sn2008ar.shape"
      ]
    },
    {
      "cell_type": "markdown",
      "metadata": {
        "id": "WP1qrx9scsEE"
      },
      "source": [
        "### Wavelength span"
      ]
    },
    {
      "cell_type": "code",
      "execution_count": null,
      "metadata": {
        "colab": {
          "base_uri": "https://localhost:8080/"
        },
        "id": "VHsl7l5bcp1F",
        "outputId": "be10cab2-a8dc-452d-c4b2-6d169eeac642"
      },
      "outputs": [
        {
          "output_type": "stream",
          "name": "stdout",
          "text": [
            "2501.69 5410.10734375 9993.24\n"
          ]
        }
      ],
      "source": [
        "print(wavelength.min(), wavelength.mean(), wavelength.max())"
      ]
    },
    {
      "cell_type": "code",
      "execution_count": null,
      "metadata": {
        "id": "cqLuXlm4KOUc"
      },
      "outputs": [],
      "source": [
        "# usar 2500 a 10000\n",
        "xlim = [2500, 10000]"
      ]
    },
    {
      "cell_type": "markdown",
      "metadata": {
        "id": "pw5bSKFWjwYG"
      },
      "source": [
        "### Flux span"
      ]
    },
    {
      "cell_type": "code",
      "execution_count": null,
      "metadata": {
        "colab": {
          "base_uri": "https://localhost:8080/",
          "height": 290
        },
        "id": "YkwFFKKyr1zx",
        "outputId": "cc3fd923-c701-46ee-dd6c-3b0635898f6a"
      },
      "outputs": [
        {
          "output_type": "execute_result",
          "data": {
            "text/plain": [
              "    SN Name SN Subtype  SN Subtype ID SN Maintype  SN Maintype ID  \\\n",
              "0  sn2008ar    Ia-norm              0          Ia               0   \n",
              "1  sn2008ar    Ia-norm              0          Ia               0   \n",
              "2  sn2008ar    Ia-norm              0          Ia               0   \n",
              "3  sn2008ar    Ia-norm              0          Ia               0   \n",
              "4  sn2008ar    Ia-norm              0          Ia               0   \n",
              "\n",
              "   Spectral Phase  2501.69  2505.08  2508.48  2511.87  ...  9872.21  9885.59  \\\n",
              "0            -8.5      0.0      0.0      0.0      0.0  ...      0.0      0.0   \n",
              "1            -7.5      0.0      0.0      0.0      0.0  ...      0.0      0.0   \n",
              "2            -6.6      0.0      0.0      0.0      0.0  ...      0.0      0.0   \n",
              "3            -4.6      0.0      0.0      0.0      0.0  ...      0.0      0.0   \n",
              "4            -3.7      0.0      0.0      0.0      0.0  ...      0.0      0.0   \n",
              "\n",
              "   9898.98  9912.39  9925.82  9939.27  9952.73  9966.21  9979.71  9993.24  \n",
              "0      0.0      0.0      0.0      0.0      0.0      0.0      0.0      0.0  \n",
              "1      0.0      0.0      0.0      0.0      0.0      0.0      0.0      0.0  \n",
              "2      0.0      0.0      0.0      0.0      0.0      0.0      0.0      0.0  \n",
              "3      0.0      0.0      0.0      0.0      0.0      0.0      0.0      0.0  \n",
              "4      0.0      0.0      0.0      0.0      0.0      0.0      0.0      0.0  \n",
              "\n",
              "[5 rows x 1030 columns]"
            ],
            "text/html": [
              "\n",
              "  <div id=\"df-1f2f254d-c0ce-4400-b900-cf28f16ef102\" class=\"colab-df-container\">\n",
              "    <div>\n",
              "<style scoped>\n",
              "    .dataframe tbody tr th:only-of-type {\n",
              "        vertical-align: middle;\n",
              "    }\n",
              "\n",
              "    .dataframe tbody tr th {\n",
              "        vertical-align: top;\n",
              "    }\n",
              "\n",
              "    .dataframe thead th {\n",
              "        text-align: right;\n",
              "    }\n",
              "</style>\n",
              "<table border=\"1\" class=\"dataframe\">\n",
              "  <thead>\n",
              "    <tr style=\"text-align: right;\">\n",
              "      <th></th>\n",
              "      <th>SN Name</th>\n",
              "      <th>SN Subtype</th>\n",
              "      <th>SN Subtype ID</th>\n",
              "      <th>SN Maintype</th>\n",
              "      <th>SN Maintype ID</th>\n",
              "      <th>Spectral Phase</th>\n",
              "      <th>2501.69</th>\n",
              "      <th>2505.08</th>\n",
              "      <th>2508.48</th>\n",
              "      <th>2511.87</th>\n",
              "      <th>...</th>\n",
              "      <th>9872.21</th>\n",
              "      <th>9885.59</th>\n",
              "      <th>9898.98</th>\n",
              "      <th>9912.39</th>\n",
              "      <th>9925.82</th>\n",
              "      <th>9939.27</th>\n",
              "      <th>9952.73</th>\n",
              "      <th>9966.21</th>\n",
              "      <th>9979.71</th>\n",
              "      <th>9993.24</th>\n",
              "    </tr>\n",
              "  </thead>\n",
              "  <tbody>\n",
              "    <tr>\n",
              "      <th>0</th>\n",
              "      <td>sn2008ar</td>\n",
              "      <td>Ia-norm</td>\n",
              "      <td>0</td>\n",
              "      <td>Ia</td>\n",
              "      <td>0</td>\n",
              "      <td>-8.5</td>\n",
              "      <td>0.0</td>\n",
              "      <td>0.0</td>\n",
              "      <td>0.0</td>\n",
              "      <td>0.0</td>\n",
              "      <td>...</td>\n",
              "      <td>0.0</td>\n",
              "      <td>0.0</td>\n",
              "      <td>0.0</td>\n",
              "      <td>0.0</td>\n",
              "      <td>0.0</td>\n",
              "      <td>0.0</td>\n",
              "      <td>0.0</td>\n",
              "      <td>0.0</td>\n",
              "      <td>0.0</td>\n",
              "      <td>0.0</td>\n",
              "    </tr>\n",
              "    <tr>\n",
              "      <th>1</th>\n",
              "      <td>sn2008ar</td>\n",
              "      <td>Ia-norm</td>\n",
              "      <td>0</td>\n",
              "      <td>Ia</td>\n",
              "      <td>0</td>\n",
              "      <td>-7.5</td>\n",
              "      <td>0.0</td>\n",
              "      <td>0.0</td>\n",
              "      <td>0.0</td>\n",
              "      <td>0.0</td>\n",
              "      <td>...</td>\n",
              "      <td>0.0</td>\n",
              "      <td>0.0</td>\n",
              "      <td>0.0</td>\n",
              "      <td>0.0</td>\n",
              "      <td>0.0</td>\n",
              "      <td>0.0</td>\n",
              "      <td>0.0</td>\n",
              "      <td>0.0</td>\n",
              "      <td>0.0</td>\n",
              "      <td>0.0</td>\n",
              "    </tr>\n",
              "    <tr>\n",
              "      <th>2</th>\n",
              "      <td>sn2008ar</td>\n",
              "      <td>Ia-norm</td>\n",
              "      <td>0</td>\n",
              "      <td>Ia</td>\n",
              "      <td>0</td>\n",
              "      <td>-6.6</td>\n",
              "      <td>0.0</td>\n",
              "      <td>0.0</td>\n",
              "      <td>0.0</td>\n",
              "      <td>0.0</td>\n",
              "      <td>...</td>\n",
              "      <td>0.0</td>\n",
              "      <td>0.0</td>\n",
              "      <td>0.0</td>\n",
              "      <td>0.0</td>\n",
              "      <td>0.0</td>\n",
              "      <td>0.0</td>\n",
              "      <td>0.0</td>\n",
              "      <td>0.0</td>\n",
              "      <td>0.0</td>\n",
              "      <td>0.0</td>\n",
              "    </tr>\n",
              "    <tr>\n",
              "      <th>3</th>\n",
              "      <td>sn2008ar</td>\n",
              "      <td>Ia-norm</td>\n",
              "      <td>0</td>\n",
              "      <td>Ia</td>\n",
              "      <td>0</td>\n",
              "      <td>-4.6</td>\n",
              "      <td>0.0</td>\n",
              "      <td>0.0</td>\n",
              "      <td>0.0</td>\n",
              "      <td>0.0</td>\n",
              "      <td>...</td>\n",
              "      <td>0.0</td>\n",
              "      <td>0.0</td>\n",
              "      <td>0.0</td>\n",
              "      <td>0.0</td>\n",
              "      <td>0.0</td>\n",
              "      <td>0.0</td>\n",
              "      <td>0.0</td>\n",
              "      <td>0.0</td>\n",
              "      <td>0.0</td>\n",
              "      <td>0.0</td>\n",
              "    </tr>\n",
              "    <tr>\n",
              "      <th>4</th>\n",
              "      <td>sn2008ar</td>\n",
              "      <td>Ia-norm</td>\n",
              "      <td>0</td>\n",
              "      <td>Ia</td>\n",
              "      <td>0</td>\n",
              "      <td>-3.7</td>\n",
              "      <td>0.0</td>\n",
              "      <td>0.0</td>\n",
              "      <td>0.0</td>\n",
              "      <td>0.0</td>\n",
              "      <td>...</td>\n",
              "      <td>0.0</td>\n",
              "      <td>0.0</td>\n",
              "      <td>0.0</td>\n",
              "      <td>0.0</td>\n",
              "      <td>0.0</td>\n",
              "      <td>0.0</td>\n",
              "      <td>0.0</td>\n",
              "      <td>0.0</td>\n",
              "      <td>0.0</td>\n",
              "      <td>0.0</td>\n",
              "    </tr>\n",
              "  </tbody>\n",
              "</table>\n",
              "<p>5 rows × 1030 columns</p>\n",
              "</div>\n",
              "    <div class=\"colab-df-buttons\">\n",
              "\n",
              "  <div class=\"colab-df-container\">\n",
              "    <button class=\"colab-df-convert\" onclick=\"convertToInteractive('df-1f2f254d-c0ce-4400-b900-cf28f16ef102')\"\n",
              "            title=\"Convert this dataframe to an interactive table.\"\n",
              "            style=\"display:none;\">\n",
              "\n",
              "  <svg xmlns=\"http://www.w3.org/2000/svg\" height=\"24px\" viewBox=\"0 -960 960 960\">\n",
              "    <path d=\"M120-120v-720h720v720H120Zm60-500h600v-160H180v160Zm220 220h160v-160H400v160Zm0 220h160v-160H400v160ZM180-400h160v-160H180v160Zm440 0h160v-160H620v160ZM180-180h160v-160H180v160Zm440 0h160v-160H620v160Z\"/>\n",
              "  </svg>\n",
              "    </button>\n",
              "\n",
              "  <style>\n",
              "    .colab-df-container {\n",
              "      display:flex;\n",
              "      gap: 12px;\n",
              "    }\n",
              "\n",
              "    .colab-df-convert {\n",
              "      background-color: #E8F0FE;\n",
              "      border: none;\n",
              "      border-radius: 50%;\n",
              "      cursor: pointer;\n",
              "      display: none;\n",
              "      fill: #1967D2;\n",
              "      height: 32px;\n",
              "      padding: 0 0 0 0;\n",
              "      width: 32px;\n",
              "    }\n",
              "\n",
              "    .colab-df-convert:hover {\n",
              "      background-color: #E2EBFA;\n",
              "      box-shadow: 0px 1px 2px rgba(60, 64, 67, 0.3), 0px 1px 3px 1px rgba(60, 64, 67, 0.15);\n",
              "      fill: #174EA6;\n",
              "    }\n",
              "\n",
              "    .colab-df-buttons div {\n",
              "      margin-bottom: 4px;\n",
              "    }\n",
              "\n",
              "    [theme=dark] .colab-df-convert {\n",
              "      background-color: #3B4455;\n",
              "      fill: #D2E3FC;\n",
              "    }\n",
              "\n",
              "    [theme=dark] .colab-df-convert:hover {\n",
              "      background-color: #434B5C;\n",
              "      box-shadow: 0px 1px 3px 1px rgba(0, 0, 0, 0.15);\n",
              "      filter: drop-shadow(0px 1px 2px rgba(0, 0, 0, 0.3));\n",
              "      fill: #FFFFFF;\n",
              "    }\n",
              "  </style>\n",
              "\n",
              "    <script>\n",
              "      const buttonEl =\n",
              "        document.querySelector('#df-1f2f254d-c0ce-4400-b900-cf28f16ef102 button.colab-df-convert');\n",
              "      buttonEl.style.display =\n",
              "        google.colab.kernel.accessAllowed ? 'block' : 'none';\n",
              "\n",
              "      async function convertToInteractive(key) {\n",
              "        const element = document.querySelector('#df-1f2f254d-c0ce-4400-b900-cf28f16ef102');\n",
              "        const dataTable =\n",
              "          await google.colab.kernel.invokeFunction('convertToInteractive',\n",
              "                                                    [key], {});\n",
              "        if (!dataTable) return;\n",
              "\n",
              "        const docLinkHtml = 'Like what you see? Visit the ' +\n",
              "          '<a target=\"_blank\" href=https://colab.research.google.com/notebooks/data_table.ipynb>data table notebook</a>'\n",
              "          + ' to learn more about interactive tables.';\n",
              "        element.innerHTML = '';\n",
              "        dataTable['output_type'] = 'display_data';\n",
              "        await google.colab.output.renderOutput(dataTable, element);\n",
              "        const docLink = document.createElement('div');\n",
              "        docLink.innerHTML = docLinkHtml;\n",
              "        element.appendChild(docLink);\n",
              "      }\n",
              "    </script>\n",
              "  </div>\n",
              "\n",
              "\n",
              "<div id=\"df-7baece08-3b1c-44f0-b8d1-7522ea63561c\">\n",
              "  <button class=\"colab-df-quickchart\" onclick=\"quickchart('df-7baece08-3b1c-44f0-b8d1-7522ea63561c')\"\n",
              "            title=\"Suggest charts\"\n",
              "            style=\"display:none;\">\n",
              "\n",
              "<svg xmlns=\"http://www.w3.org/2000/svg\" height=\"24px\"viewBox=\"0 0 24 24\"\n",
              "     width=\"24px\">\n",
              "    <g>\n",
              "        <path d=\"M19 3H5c-1.1 0-2 .9-2 2v14c0 1.1.9 2 2 2h14c1.1 0 2-.9 2-2V5c0-1.1-.9-2-2-2zM9 17H7v-7h2v7zm4 0h-2V7h2v10zm4 0h-2v-4h2v4z\"/>\n",
              "    </g>\n",
              "</svg>\n",
              "  </button>\n",
              "\n",
              "<style>\n",
              "  .colab-df-quickchart {\n",
              "      --bg-color: #E8F0FE;\n",
              "      --fill-color: #1967D2;\n",
              "      --hover-bg-color: #E2EBFA;\n",
              "      --hover-fill-color: #174EA6;\n",
              "      --disabled-fill-color: #AAA;\n",
              "      --disabled-bg-color: #DDD;\n",
              "  }\n",
              "\n",
              "  [theme=dark] .colab-df-quickchart {\n",
              "      --bg-color: #3B4455;\n",
              "      --fill-color: #D2E3FC;\n",
              "      --hover-bg-color: #434B5C;\n",
              "      --hover-fill-color: #FFFFFF;\n",
              "      --disabled-bg-color: #3B4455;\n",
              "      --disabled-fill-color: #666;\n",
              "  }\n",
              "\n",
              "  .colab-df-quickchart {\n",
              "    background-color: var(--bg-color);\n",
              "    border: none;\n",
              "    border-radius: 50%;\n",
              "    cursor: pointer;\n",
              "    display: none;\n",
              "    fill: var(--fill-color);\n",
              "    height: 32px;\n",
              "    padding: 0;\n",
              "    width: 32px;\n",
              "  }\n",
              "\n",
              "  .colab-df-quickchart:hover {\n",
              "    background-color: var(--hover-bg-color);\n",
              "    box-shadow: 0 1px 2px rgba(60, 64, 67, 0.3), 0 1px 3px 1px rgba(60, 64, 67, 0.15);\n",
              "    fill: var(--button-hover-fill-color);\n",
              "  }\n",
              "\n",
              "  .colab-df-quickchart-complete:disabled,\n",
              "  .colab-df-quickchart-complete:disabled:hover {\n",
              "    background-color: var(--disabled-bg-color);\n",
              "    fill: var(--disabled-fill-color);\n",
              "    box-shadow: none;\n",
              "  }\n",
              "\n",
              "  .colab-df-spinner {\n",
              "    border: 2px solid var(--fill-color);\n",
              "    border-color: transparent;\n",
              "    border-bottom-color: var(--fill-color);\n",
              "    animation:\n",
              "      spin 1s steps(1) infinite;\n",
              "  }\n",
              "\n",
              "  @keyframes spin {\n",
              "    0% {\n",
              "      border-color: transparent;\n",
              "      border-bottom-color: var(--fill-color);\n",
              "      border-left-color: var(--fill-color);\n",
              "    }\n",
              "    20% {\n",
              "      border-color: transparent;\n",
              "      border-left-color: var(--fill-color);\n",
              "      border-top-color: var(--fill-color);\n",
              "    }\n",
              "    30% {\n",
              "      border-color: transparent;\n",
              "      border-left-color: var(--fill-color);\n",
              "      border-top-color: var(--fill-color);\n",
              "      border-right-color: var(--fill-color);\n",
              "    }\n",
              "    40% {\n",
              "      border-color: transparent;\n",
              "      border-right-color: var(--fill-color);\n",
              "      border-top-color: var(--fill-color);\n",
              "    }\n",
              "    60% {\n",
              "      border-color: transparent;\n",
              "      border-right-color: var(--fill-color);\n",
              "    }\n",
              "    80% {\n",
              "      border-color: transparent;\n",
              "      border-right-color: var(--fill-color);\n",
              "      border-bottom-color: var(--fill-color);\n",
              "    }\n",
              "    90% {\n",
              "      border-color: transparent;\n",
              "      border-bottom-color: var(--fill-color);\n",
              "    }\n",
              "  }\n",
              "</style>\n",
              "\n",
              "  <script>\n",
              "    async function quickchart(key) {\n",
              "      const quickchartButtonEl =\n",
              "        document.querySelector('#' + key + ' button');\n",
              "      quickchartButtonEl.disabled = true;  // To prevent multiple clicks.\n",
              "      quickchartButtonEl.classList.add('colab-df-spinner');\n",
              "      try {\n",
              "        const charts = await google.colab.kernel.invokeFunction(\n",
              "            'suggestCharts', [key], {});\n",
              "      } catch (error) {\n",
              "        console.error('Error during call to suggestCharts:', error);\n",
              "      }\n",
              "      quickchartButtonEl.classList.remove('colab-df-spinner');\n",
              "      quickchartButtonEl.classList.add('colab-df-quickchart-complete');\n",
              "    }\n",
              "    (() => {\n",
              "      let quickchartButtonEl =\n",
              "        document.querySelector('#df-7baece08-3b1c-44f0-b8d1-7522ea63561c button');\n",
              "      quickchartButtonEl.style.display =\n",
              "        google.colab.kernel.accessAllowed ? 'block' : 'none';\n",
              "    })();\n",
              "  </script>\n",
              "</div>\n",
              "\n",
              "    </div>\n",
              "  </div>\n"
            ],
            "application/vnd.google.colaboratory.intrinsic+json": {
              "type": "dataframe",
              "variable_name": "df_raw"
            }
          },
          "metadata": {},
          "execution_count": 32
        }
      ],
      "source": [
        "df_raw.head()"
      ]
    },
    {
      "cell_type": "code",
      "execution_count": null,
      "metadata": {
        "colab": {
          "base_uri": "https://localhost:8080/"
        },
        "id": "7yTQsNA0WE50",
        "outputId": "369fec5d-14b9-4f73-8b64-f1cfca58db5d"
      },
      "outputs": [
        {
          "output_type": "stream",
          "name": "stdout",
          "text": [
            "-0.00026101225067486555 6.807673554040658\n"
          ]
        }
      ],
      "source": [
        "print(df_raw.iloc[:,6:].mean().mean(), 3*df_raw.iloc[:,6:].std().std())"
      ]
    },
    {
      "cell_type": "code",
      "execution_count": null,
      "metadata": {
        "colab": {
          "base_uri": "https://localhost:8080/"
        },
        "id": "vAChfox4vqdd",
        "outputId": "f2c10ad6-77d6-4295-ae87-5bda3ce9b102"
      },
      "outputs": [
        {
          "output_type": "stream",
          "name": "stdout",
          "text": [
            "2071.001\n",
            "3301.9\n"
          ]
        }
      ],
      "source": [
        "# which rows have the max flux value?\n",
        "print(df_raw.iloc[:,6:].max().max())\n",
        "# which row is that?\n",
        "print(df_raw.iloc[:,6:].max().idxmax())"
      ]
    },
    {
      "cell_type": "code",
      "execution_count": null,
      "metadata": {
        "colab": {
          "base_uri": "https://localhost:8080/",
          "height": 165
        },
        "id": "p37r1LmBwIre",
        "outputId": "c73dc274-99ce-4150-f794-ea9719cde315"
      },
      "outputs": [
        {
          "output_type": "execute_result",
          "data": {
            "text/plain": [
              "        SN Name SN Subtype  SN Subtype ID SN Maintype  SN Maintype ID  \\\n",
              "4631  iPTF13bvn    Ib-norm              6          Ib               1   \n",
              "\n",
              "      Spectral Phase  2501.69  2505.08  2508.48  2511.87  ...  9872.21  \\\n",
              "4631           -12.7      0.0      0.0      0.0      0.0  ...   -0.053   \n",
              "\n",
              "      9885.59  9898.98  9912.39  9925.82  9939.27  9952.73  9966.21  9979.71  \\\n",
              "4631   -0.014   -0.027   -0.015   -0.003   -0.001   -0.001      0.0      0.0   \n",
              "\n",
              "      9993.24  \n",
              "4631      0.0  \n",
              "\n",
              "[1 rows x 1030 columns]"
            ],
            "text/html": [
              "\n",
              "  <div id=\"df-68506947-133f-4753-a35d-9203915eeb05\" class=\"colab-df-container\">\n",
              "    <div>\n",
              "<style scoped>\n",
              "    .dataframe tbody tr th:only-of-type {\n",
              "        vertical-align: middle;\n",
              "    }\n",
              "\n",
              "    .dataframe tbody tr th {\n",
              "        vertical-align: top;\n",
              "    }\n",
              "\n",
              "    .dataframe thead th {\n",
              "        text-align: right;\n",
              "    }\n",
              "</style>\n",
              "<table border=\"1\" class=\"dataframe\">\n",
              "  <thead>\n",
              "    <tr style=\"text-align: right;\">\n",
              "      <th></th>\n",
              "      <th>SN Name</th>\n",
              "      <th>SN Subtype</th>\n",
              "      <th>SN Subtype ID</th>\n",
              "      <th>SN Maintype</th>\n",
              "      <th>SN Maintype ID</th>\n",
              "      <th>Spectral Phase</th>\n",
              "      <th>2501.69</th>\n",
              "      <th>2505.08</th>\n",
              "      <th>2508.48</th>\n",
              "      <th>2511.87</th>\n",
              "      <th>...</th>\n",
              "      <th>9872.21</th>\n",
              "      <th>9885.59</th>\n",
              "      <th>9898.98</th>\n",
              "      <th>9912.39</th>\n",
              "      <th>9925.82</th>\n",
              "      <th>9939.27</th>\n",
              "      <th>9952.73</th>\n",
              "      <th>9966.21</th>\n",
              "      <th>9979.71</th>\n",
              "      <th>9993.24</th>\n",
              "    </tr>\n",
              "  </thead>\n",
              "  <tbody>\n",
              "    <tr>\n",
              "      <th>4631</th>\n",
              "      <td>iPTF13bvn</td>\n",
              "      <td>Ib-norm</td>\n",
              "      <td>6</td>\n",
              "      <td>Ib</td>\n",
              "      <td>1</td>\n",
              "      <td>-12.7</td>\n",
              "      <td>0.0</td>\n",
              "      <td>0.0</td>\n",
              "      <td>0.0</td>\n",
              "      <td>0.0</td>\n",
              "      <td>...</td>\n",
              "      <td>-0.053</td>\n",
              "      <td>-0.014</td>\n",
              "      <td>-0.027</td>\n",
              "      <td>-0.015</td>\n",
              "      <td>-0.003</td>\n",
              "      <td>-0.001</td>\n",
              "      <td>-0.001</td>\n",
              "      <td>0.0</td>\n",
              "      <td>0.0</td>\n",
              "      <td>0.0</td>\n",
              "    </tr>\n",
              "  </tbody>\n",
              "</table>\n",
              "<p>1 rows × 1030 columns</p>\n",
              "</div>\n",
              "    <div class=\"colab-df-buttons\">\n",
              "\n",
              "  <div class=\"colab-df-container\">\n",
              "    <button class=\"colab-df-convert\" onclick=\"convertToInteractive('df-68506947-133f-4753-a35d-9203915eeb05')\"\n",
              "            title=\"Convert this dataframe to an interactive table.\"\n",
              "            style=\"display:none;\">\n",
              "\n",
              "  <svg xmlns=\"http://www.w3.org/2000/svg\" height=\"24px\" viewBox=\"0 -960 960 960\">\n",
              "    <path d=\"M120-120v-720h720v720H120Zm60-500h600v-160H180v160Zm220 220h160v-160H400v160Zm0 220h160v-160H400v160ZM180-400h160v-160H180v160Zm440 0h160v-160H620v160ZM180-180h160v-160H180v160Zm440 0h160v-160H620v160Z\"/>\n",
              "  </svg>\n",
              "    </button>\n",
              "\n",
              "  <style>\n",
              "    .colab-df-container {\n",
              "      display:flex;\n",
              "      gap: 12px;\n",
              "    }\n",
              "\n",
              "    .colab-df-convert {\n",
              "      background-color: #E8F0FE;\n",
              "      border: none;\n",
              "      border-radius: 50%;\n",
              "      cursor: pointer;\n",
              "      display: none;\n",
              "      fill: #1967D2;\n",
              "      height: 32px;\n",
              "      padding: 0 0 0 0;\n",
              "      width: 32px;\n",
              "    }\n",
              "\n",
              "    .colab-df-convert:hover {\n",
              "      background-color: #E2EBFA;\n",
              "      box-shadow: 0px 1px 2px rgba(60, 64, 67, 0.3), 0px 1px 3px 1px rgba(60, 64, 67, 0.15);\n",
              "      fill: #174EA6;\n",
              "    }\n",
              "\n",
              "    .colab-df-buttons div {\n",
              "      margin-bottom: 4px;\n",
              "    }\n",
              "\n",
              "    [theme=dark] .colab-df-convert {\n",
              "      background-color: #3B4455;\n",
              "      fill: #D2E3FC;\n",
              "    }\n",
              "\n",
              "    [theme=dark] .colab-df-convert:hover {\n",
              "      background-color: #434B5C;\n",
              "      box-shadow: 0px 1px 3px 1px rgba(0, 0, 0, 0.15);\n",
              "      filter: drop-shadow(0px 1px 2px rgba(0, 0, 0, 0.3));\n",
              "      fill: #FFFFFF;\n",
              "    }\n",
              "  </style>\n",
              "\n",
              "    <script>\n",
              "      const buttonEl =\n",
              "        document.querySelector('#df-68506947-133f-4753-a35d-9203915eeb05 button.colab-df-convert');\n",
              "      buttonEl.style.display =\n",
              "        google.colab.kernel.accessAllowed ? 'block' : 'none';\n",
              "\n",
              "      async function convertToInteractive(key) {\n",
              "        const element = document.querySelector('#df-68506947-133f-4753-a35d-9203915eeb05');\n",
              "        const dataTable =\n",
              "          await google.colab.kernel.invokeFunction('convertToInteractive',\n",
              "                                                    [key], {});\n",
              "        if (!dataTable) return;\n",
              "\n",
              "        const docLinkHtml = 'Like what you see? Visit the ' +\n",
              "          '<a target=\"_blank\" href=https://colab.research.google.com/notebooks/data_table.ipynb>data table notebook</a>'\n",
              "          + ' to learn more about interactive tables.';\n",
              "        element.innerHTML = '';\n",
              "        dataTable['output_type'] = 'display_data';\n",
              "        await google.colab.output.renderOutput(dataTable, element);\n",
              "        const docLink = document.createElement('div');\n",
              "        docLink.innerHTML = docLinkHtml;\n",
              "        element.appendChild(docLink);\n",
              "      }\n",
              "    </script>\n",
              "  </div>\n",
              "\n",
              "\n",
              "    </div>\n",
              "  </div>\n"
            ],
            "application/vnd.google.colaboratory.intrinsic+json": {
              "type": "dataframe"
            }
          },
          "metadata": {},
          "execution_count": 35
        }
      ],
      "source": [
        "df_raw.loc[df_raw['3301.9'] == 2071.001]"
      ]
    },
    {
      "cell_type": "code",
      "execution_count": null,
      "metadata": {
        "colab": {
          "base_uri": "https://localhost:8080/"
        },
        "id": "1-d8YwS_wRf2",
        "outputId": "d7611912-4bde-49bd-fccd-eb426943dd61"
      },
      "outputs": [
        {
          "output_type": "execute_result",
          "data": {
            "text/plain": [
              "[<matplotlib.lines.Line2D at 0x7a0a8f838190>]"
            ]
          },
          "metadata": {},
          "execution_count": 36
        }
      ],
      "source": [
        "plt.plot(wavelength, df_raw.loc[df_raw['3301.9'] == 2071.001].values[0,6:])\n",
        "#plt.xlim(3000,4000)"
      ]
    },
    {
      "cell_type": "code",
      "execution_count": null,
      "metadata": {
        "id": "c1LFP5NFwE1d"
      },
      "outputs": [],
      "source": [
        "# remove that row\n",
        "df_ = df_raw.drop(df_raw.loc[df_raw['3301.9'] == 2071.001].index)"
      ]
    },
    {
      "cell_type": "code",
      "execution_count": null,
      "metadata": {
        "colab": {
          "base_uri": "https://localhost:8080/"
        },
        "id": "CrM27BwZsNnX",
        "outputId": "8bff74cd-e053-4180-d23a-74672952a313"
      },
      "outputs": [
        {
          "output_type": "stream",
          "name": "stdout",
          "text": [
            "0.002066028124999999 0.12497102525820329\n"
          ]
        }
      ],
      "source": [
        "print(df_.iloc[:,6:].mean().mean(), df_.iloc[:,6:].std().std())"
      ]
    },
    {
      "cell_type": "code",
      "execution_count": null,
      "metadata": {
        "colab": {
          "base_uri": "https://localhost:8080/",
          "height": 711
        },
        "id": "TLIuYn4rVk4F",
        "outputId": "d645b5d0-bbf8-45e2-9001-c3f73639d59d"
      },
      "outputs": [
        {
          "output_type": "execute_result",
          "data": {
            "text/plain": [
              "4190.28    56.627\n",
              "3537.93    54.727\n",
              "4581.92    52.980\n",
              "4195.95    47.553\n",
              "4230.18    25.877\n",
              "4600.57    22.404\n",
              "3490.35    18.620\n",
              "3664.68    16.329\n",
              "4465.56    16.155\n",
              "3315.34    15.685\n",
              "4224.45    15.136\n",
              "3576.45    13.940\n",
              "4201.64    13.885\n",
              "4207.33    13.239\n",
              "4501.98    12.962\n",
              "4001.77    12.358\n",
              "3926.64    11.342\n",
              "3709.6     11.026\n",
              "3894.87    10.832\n",
              "3297.43    10.656\n",
              "dtype: float64"
            ],
            "text/html": [
              "<div>\n",
              "<style scoped>\n",
              "    .dataframe tbody tr th:only-of-type {\n",
              "        vertical-align: middle;\n",
              "    }\n",
              "\n",
              "    .dataframe tbody tr th {\n",
              "        vertical-align: top;\n",
              "    }\n",
              "\n",
              "    .dataframe thead th {\n",
              "        text-align: right;\n",
              "    }\n",
              "</style>\n",
              "<table border=\"1\" class=\"dataframe\">\n",
              "  <thead>\n",
              "    <tr style=\"text-align: right;\">\n",
              "      <th></th>\n",
              "      <th>0</th>\n",
              "    </tr>\n",
              "  </thead>\n",
              "  <tbody>\n",
              "    <tr>\n",
              "      <th>4190.28</th>\n",
              "      <td>56.627</td>\n",
              "    </tr>\n",
              "    <tr>\n",
              "      <th>3537.93</th>\n",
              "      <td>54.727</td>\n",
              "    </tr>\n",
              "    <tr>\n",
              "      <th>4581.92</th>\n",
              "      <td>52.980</td>\n",
              "    </tr>\n",
              "    <tr>\n",
              "      <th>4195.95</th>\n",
              "      <td>47.553</td>\n",
              "    </tr>\n",
              "    <tr>\n",
              "      <th>4230.18</th>\n",
              "      <td>25.877</td>\n",
              "    </tr>\n",
              "    <tr>\n",
              "      <th>4600.57</th>\n",
              "      <td>22.404</td>\n",
              "    </tr>\n",
              "    <tr>\n",
              "      <th>3490.35</th>\n",
              "      <td>18.620</td>\n",
              "    </tr>\n",
              "    <tr>\n",
              "      <th>3664.68</th>\n",
              "      <td>16.329</td>\n",
              "    </tr>\n",
              "    <tr>\n",
              "      <th>4465.56</th>\n",
              "      <td>16.155</td>\n",
              "    </tr>\n",
              "    <tr>\n",
              "      <th>3315.34</th>\n",
              "      <td>15.685</td>\n",
              "    </tr>\n",
              "    <tr>\n",
              "      <th>4224.45</th>\n",
              "      <td>15.136</td>\n",
              "    </tr>\n",
              "    <tr>\n",
              "      <th>3576.45</th>\n",
              "      <td>13.940</td>\n",
              "    </tr>\n",
              "    <tr>\n",
              "      <th>4201.64</th>\n",
              "      <td>13.885</td>\n",
              "    </tr>\n",
              "    <tr>\n",
              "      <th>4207.33</th>\n",
              "      <td>13.239</td>\n",
              "    </tr>\n",
              "    <tr>\n",
              "      <th>4501.98</th>\n",
              "      <td>12.962</td>\n",
              "    </tr>\n",
              "    <tr>\n",
              "      <th>4001.77</th>\n",
              "      <td>12.358</td>\n",
              "    </tr>\n",
              "    <tr>\n",
              "      <th>3926.64</th>\n",
              "      <td>11.342</td>\n",
              "    </tr>\n",
              "    <tr>\n",
              "      <th>3709.6</th>\n",
              "      <td>11.026</td>\n",
              "    </tr>\n",
              "    <tr>\n",
              "      <th>3894.87</th>\n",
              "      <td>10.832</td>\n",
              "    </tr>\n",
              "    <tr>\n",
              "      <th>3297.43</th>\n",
              "      <td>10.656</td>\n",
              "    </tr>\n",
              "  </tbody>\n",
              "</table>\n",
              "</div><br><label><b>dtype:</b> float64</label>"
            ]
          },
          "metadata": {},
          "execution_count": 39
        }
      ],
      "source": [
        "df_.iloc[:,6:].max().sort_values(ascending=False)[0:20]"
      ]
    },
    {
      "cell_type": "code",
      "execution_count": null,
      "metadata": {
        "colab": {
          "base_uri": "https://localhost:8080/"
        },
        "id": "67RHzUwdVZgO",
        "outputId": "e527cb4e-0d36-46f5-e97d-0192861d6633"
      },
      "outputs": [
        {
          "output_type": "stream",
          "name": "stdout",
          "text": [
            "-17.943 56.627\n"
          ]
        }
      ],
      "source": [
        "print(df_.iloc[:,6:].min().min(), df_.iloc[:,6:].max().max())"
      ]
    },
    {
      "cell_type": "markdown",
      "metadata": {
        "id": "3SrDhFD8c89I"
      },
      "source": [
        "### Standarize in Y axis"
      ]
    },
    {
      "cell_type": "code",
      "execution_count": null,
      "metadata": {
        "id": "NkgI-cgoGFm9"
      },
      "outputs": [],
      "source": [
        "from sklearn.preprocessing import MinMaxScaler, RobustScaler, StandardScaler"
      ]
    },
    {
      "cell_type": "code",
      "execution_count": null,
      "metadata": {
        "colab": {
          "base_uri": "https://localhost:8080/"
        },
        "id": "tZ0O1zXeGldG",
        "outputId": "d2e42447-7857-46d6-d760-a658bdfba19e"
      },
      "outputs": [
        {
          "output_type": "execute_result",
          "data": {
            "text/plain": [
              "[<matplotlib.lines.Line2D at 0x7a0a8fa5a7d0>]"
            ]
          },
          "metadata": {},
          "execution_count": 42
        }
      ],
      "source": [
        "fig, ax = plt.subplots(1, 3, figsize=(15, 5))\n",
        "ax[0].plot(wavelength, df_.iloc[0].values[6:])\n",
        "ax[1].plot(wavelength, df_.iloc[1000].values[6:])\n",
        "ax[2].plot(wavelength, df_.iloc[2000].values[6:])"
      ]
    },
    {
      "cell_type": "code",
      "execution_count": null,
      "metadata": {
        "id": "NObYp4aI2jHI"
      },
      "outputs": [],
      "source": [
        "# how to standarize?\n",
        "# min max scaling (daniel)"
      ]
    },
    {
      "cell_type": "markdown",
      "metadata": {
        "id": "k5hPFrkcPUDR"
      },
      "source": [
        "$y_{scaled} = \\frac{y-y_{min}}{y_{max}-y_{min}}$"
      ]
    },
    {
      "cell_type": "code",
      "execution_count": null,
      "metadata": {
        "id": "eK-UXRAoHSnh"
      },
      "outputs": [],
      "source": [
        "minmax_scaler = MinMaxScaler(feature_range = (0,1))\n",
        "robust_scaler = RobustScaler()\n",
        "standard_scaler = StandardScaler()"
      ]
    },
    {
      "cell_type": "code",
      "execution_count": null,
      "metadata": {
        "id": "d-tb5-uEHeiK"
      },
      "outputs": [],
      "source": [
        "scalings = {}\n",
        "# minmax\n",
        "scalings['minmax'] = minmax_scaler.fit_transform(df_.iloc[:,6:].transpose()).transpose()\n",
        "# standard\n",
        "scalings['standard'] = standard_scaler.fit_transform(df_.iloc[:,6:].transpose()).transpose()\n",
        "# robust\n",
        "scalings['robust'] = robust_scaler.fit_transform(df_.iloc[:,6:].transpose()).transpose()"
      ]
    },
    {
      "cell_type": "code",
      "execution_count": null,
      "metadata": {
        "colab": {
          "base_uri": "https://localhost:8080/"
        },
        "id": "Yocngb1nH9i_",
        "outputId": "2e15e47a-67f3-4839-abf6-526336ec49ad"
      },
      "outputs": [
        {
          "output_type": "execute_result",
          "data": {
            "text/plain": [
              "(5000, 1024)"
            ]
          },
          "metadata": {},
          "execution_count": 46
        }
      ],
      "source": [
        "scalings['standard'].shape"
      ]
    },
    {
      "cell_type": "code",
      "execution_count": null,
      "metadata": {
        "colab": {
          "base_uri": "https://localhost:8080/"
        },
        "id": "Z4g7d66J7KLo",
        "outputId": "df03d1d5-2a43-45d2-8a44-a8eb08d5671f"
      },
      "outputs": [
        {
          "output_type": "stream",
          "name": "stdout",
          "text": [
            "0 minmax\n",
            "1 standard\n",
            "2 robust\n"
          ]
        }
      ],
      "source": [
        "for i, k in enumerate(scalings.keys()):\n",
        "  print(i,k)"
      ]
    },
    {
      "cell_type": "code",
      "execution_count": null,
      "metadata": {
        "colab": {
          "base_uri": "https://localhost:8080/"
        },
        "id": "SdrEIh8tH6Mg",
        "outputId": "7681c11d-5b28-473e-918c-c569f9de3437"
      },
      "outputs": [
        {
          "output_type": "execute_result",
          "data": {
            "text/plain": [
              "Text(0.5, 1.0, 'Scaling estrategies comparision for 3 spectrums')"
            ]
          },
          "metadata": {},
          "execution_count": 48
        }
      ],
      "source": [
        "fig, ax = plt.subplots(3, 3, figsize=(15, 10))\n",
        "for i, keys in enumerate(scalings.keys()):\n",
        "  ax[i,0].plot(wavelength, scalings[keys][0], label=keys)\n",
        "  ax[i,1].plot(wavelength, scalings[keys][1000], label=keys)\n",
        "  ax[i,2].plot(wavelength, scalings[keys][2000], label=keys)\n",
        "  ax[i,0].legend()\n",
        "ax[0,1].set_title('Scaling estrategies comparision for 3 spectrums')"
      ]
    },
    {
      "cell_type": "code",
      "execution_count": null,
      "metadata": {
        "id": "ySeF3t0g70FF"
      },
      "outputs": [],
      "source": [
        "# lets use minmax scaling\n",
        "df_.iloc[:,6:] = scalings['minmax']"
      ]
    },
    {
      "cell_type": "code",
      "execution_count": null,
      "metadata": {
        "colab": {
          "base_uri": "https://localhost:8080/"
        },
        "id": "QHr7RhBahgRz",
        "outputId": "795aa315-5fa3-4698-eaa3-0850fb4aabd8"
      },
      "outputs": [
        {
          "output_type": "stream",
          "name": "stderr",
          "text": [
            "<ipython-input-50-2fcea2372e00>:2: RuntimeWarning: More than 20 figures have been opened. Figures created through the pyplot interface (`matplotlib.pyplot.figure`) are retained until explicitly closed and may consume too much memory. (To control this warning, see the rcParam `figure.max_open_warning`). Consider using `matplotlib.pyplot.close()`.\n",
            "  plt.figure()\n"
          ]
        }
      ],
      "source": [
        "for i in range(18):\n",
        "  plt.figure()\n",
        "  plt.plot(wavelength, df_.iloc[:,6:].values[i], lw=0.4, ls='-', color='k',\n",
        "           label='Spectral Phase:'+str(df_['Spectral Phase'].iloc[i]))\n",
        "  plt.legend()"
      ]
    },
    {
      "cell_type": "markdown",
      "metadata": {
        "id": "iuBcKoWsKPte"
      },
      "source": [
        "### Flux span now?"
      ]
    },
    {
      "cell_type": "code",
      "execution_count": null,
      "metadata": {
        "colab": {
          "base_uri": "https://localhost:8080/"
        },
        "id": "FlQtb3hxKRUP",
        "outputId": "25ae9e34-db88-4056-ee7c-2a1ee4c90ae2"
      },
      "outputs": [
        {
          "output_type": "stream",
          "name": "stdout",
          "text": [
            "0.44939688173721637\n",
            "0.15765526341735236\n"
          ]
        }
      ],
      "source": [
        "# mean of mean of fluxes\n",
        "print(df_.iloc[:,6:].mean().mean())\n",
        "# mean of std of fluxes\n",
        "print(df_.iloc[:,6:].std().mean())"
      ]
    },
    {
      "cell_type": "code",
      "execution_count": null,
      "metadata": {
        "colab": {
          "base_uri": "https://localhost:8080/"
        },
        "id": "S8QlBK3uKT8F",
        "outputId": "1117c2ec-d4b2-4cce-ae7d-84ce850056f6"
      },
      "outputs": [
        {
          "output_type": "stream",
          "name": "stdout",
          "text": [
            "1.0000000000000002\n",
            "0.0\n",
            "2739.22\n",
            "2501.69 9993.24\n"
          ]
        }
      ],
      "source": [
        "# which rows have the max flux value?\n",
        "print(df_.iloc[:,6:].max().max())\n",
        "print(df_.iloc[:,6:].min().min())\n",
        "# which row is that?\n",
        "print(df_.iloc[:,6:].max().idxmax())\n",
        "# wavelength range\n",
        "print(wavelength.min(), wavelength.max())"
      ]
    },
    {
      "cell_type": "markdown",
      "metadata": {
        "id": "925HMzZK-cTM"
      },
      "source": [
        "### Saving plots"
      ]
    },
    {
      "cell_type": "code",
      "execution_count": null,
      "metadata": {
        "id": "vf7bn-dZ-hfI"
      },
      "outputs": [],
      "source": [
        "# DANIEL\n",
        "# For training, I used the base CLIP or ViT model with a resolution of 224x224 pixels\n",
        "# and created images with a figure size of 2.24 x 2.24 inches at 100 dpi."
      ]
    },
    {
      "cell_type": "code",
      "execution_count": null,
      "metadata": {
        "id": "iyehwwvhJlj3"
      },
      "outputs": [],
      "source": [
        "# my_dpi = 260\n",
        "# fig, ax = plt.subplots(figsize=(224/my_dpi,224/my_dpi), dpi=my_dpi)\n",
        "# ax.plot(wavelength, df_.iloc[0,6:].values, lw=0.3, ls='-', color='k', alpha=1)\n",
        "# ax.axis('off')\n",
        "# ax.set_box_aspect(1)\n",
        "# ax.set_xlim(xlim[0], xlim[1])\n",
        "# ax.set_ylim(0,1)\n",
        "# plt.savefig('sn2008ar.png', bbox_inches='tight', dpi=my_dpi)\n",
        "# plt.show()"
      ]
    },
    {
      "cell_type": "code",
      "execution_count": null,
      "metadata": {
        "colab": {
          "base_uri": "https://localhost:8080/",
          "height": 36
        },
        "id": "VSSCZ4IjOtBY",
        "outputId": "9378d885-d1ec-4c8e-994f-36a85effaa3f"
      },
      "outputs": [
        {
          "data": {
            "text/plain": [
              "'sn2008ar'"
            ]
          },
          "execution_count": 50,
          "metadata": {},
          "output_type": "execute_result"
        }
      ],
      "source": [
        "df_.iloc[0,0]"
      ]
    },
    {
      "cell_type": "code",
      "execution_count": null,
      "metadata": {
        "colab": {
          "base_uri": "https://localhost:8080/",
          "height": 241
        },
        "id": "_8AN8_IHLJOT",
        "outputId": "027f741b-9e45-41b8-8c26-2b1ec19f1575"
      },
      "outputs": [
        {
          "name": "stderr",
          "output_type": "stream",
          "text": [
            "/tmp/ipykernel_517540/3407407095.py:10: UserWarning: FigureCanvasAgg is non-interactive, and thus cannot be shown\n",
            "  plt.show()\n"
          ]
        }
      ],
      "source": [
        "# save at 100 dpi and 224x224 pixels\n",
        "my_dpi = 100\n",
        "fig, ax = plt.subplots(figsize=(2.65,2.65), dpi=my_dpi)\n",
        "ax.plot(wavelength, df_.iloc[0,6:].values, lw=1, ls='-', color='k', alpha=1)\n",
        "ax.axis('off')\n",
        "ax.set_xlim(xlim[0], xlim[1])\n",
        "ax.set_ylim(0,1)\n",
        "ax.set_box_aspect(1)\n",
        "plt.savefig('asd.png', bbox_inches='tight', dpi=my_dpi)\n",
        "plt.show()"
      ]
    },
    {
      "cell_type": "code",
      "execution_count": null,
      "metadata": {
        "colab": {
          "base_uri": "https://localhost:8080/"
        },
        "id": "q45Mw9p4OBB9",
        "outputId": "8e38632d-0b0c-4e37-d72e-71cc18404eb4"
      },
      "outputs": [
        {
          "data": {
            "text/plain": [
              "Index(['SN Name', 'SN Subtype', 'SN Subtype ID', 'SN Maintype',\n",
              "       'SN Maintype ID', 'Spectral Phase', '2501.69'],\n",
              "      dtype='object')"
            ]
          },
          "execution_count": 52,
          "metadata": {},
          "output_type": "execute_result"
        }
      ],
      "source": [
        "# which info to save?\n",
        "keys = df_.columns[0:7]\n",
        "keys"
      ]
    },
    {
      "cell_type": "code",
      "execution_count": null,
      "metadata": {
        "id": "ZJszunFyPPKi"
      },
      "outputs": [],
      "source": [
        "# we need SN name, SN Subtype ID, SN Maintype ID, Spectral Phase: 0, 2, 4, 5"
      ]
    },
    {
      "cell_type": "code",
      "execution_count": null,
      "metadata": {
        "colab": {
          "base_uri": "https://localhost:8080/"
        },
        "id": "vpjQExYsXx1A",
        "outputId": "175e34c9-a88f-429a-b051-03a792a8ef66"
      },
      "outputs": [
        {
          "data": {
            "text/plain": [
              "[2500, 10000]"
            ]
          },
          "execution_count": 54,
          "metadata": {},
          "output_type": "execute_result"
        }
      ],
      "source": [
        "xlim"
      ]
    },
    {
      "cell_type": "code",
      "execution_count": null,
      "metadata": {
        "colab": {
          "base_uri": "https://localhost:8080/"
        },
        "id": "soQysvEZOZlF",
        "outputId": "a3041899-1815-45f0-eccb-845b5dbe9240"
      },
      "outputs": [
        {
          "data": {
            "text/plain": [
              "(5000, 1030)"
            ]
          },
          "execution_count": 55,
          "metadata": {},
          "output_type": "execute_result"
        }
      ],
      "source": [
        "df_.shape"
      ]
    },
    {
      "cell_type": "code",
      "execution_count": null,
      "metadata": {
        "id": "rnV-spUCMbx2"
      },
      "outputs": [],
      "source": [
        "# save all plots in a folder\n",
        "my_dpi = 100\n",
        "for i in range(1000):\n",
        "  fig, ax = plt.subplots(figsize=(2.65,2.65), dpi=my_dpi)\n",
        "  ax.plot(wavelength, df_.iloc[i,6:].values, lw=1, ls='-', color='k', alpha=1)\n",
        "  ax.axis('off')\n",
        "  ax.set_xlim(xlim[0], xlim[1])\n",
        "  ax.set_ylim(0,1)\n",
        "  ax.set_box_aspect(1)\n",
        "  plt.savefig('./images/'+df_.iloc[i,0]+'_'+str(df_.iloc[i,2])+'_'+str(df_.iloc[i,4])+'_'+str(df_.iloc[i,5])+'_'+str(i)+'.png',\n",
        "              bbox_inches='tight', dpi=my_dpi)"
      ]
    },
    {
      "cell_type": "code",
      "execution_count": null,
      "metadata": {
        "id": "RbGrMjPe07VR"
      },
      "outputs": [],
      "source": [
        "# save all plots in a folder\n",
        "my_dpi = 100\n",
        "for i in range(1000,2000):\n",
        "  fig, ax = plt.subplots(figsize=(2.65,2.65), dpi=my_dpi)\n",
        "  ax.plot(wavelength, df_.iloc[i,6:].values, lw=1, ls='-', color='k', alpha=1)\n",
        "  ax.axis('off')\n",
        "  ax.set_xlim(xlim[0], xlim[1])\n",
        "  ax.set_ylim(0,1)\n",
        "  ax.set_box_aspect(1)\n",
        "  plt.savefig('./images/'+df_.iloc[i,0]+'_'+str(df_.iloc[i,2])+'_'+str(df_.iloc[i,4])+'_'+str(df_.iloc[i,5])+'_'+str(i)+'.png',\n",
        "              bbox_inches='tight', dpi=my_dpi)"
      ]
    },
    {
      "cell_type": "code",
      "execution_count": null,
      "metadata": {
        "id": "dJTJMZEz07VR"
      },
      "outputs": [],
      "source": [
        "# save all plots in a folder\n",
        "my_dpi = 100\n",
        "for i in range(2000,3000):\n",
        "  fig, ax = plt.subplots(figsize=(2.65,2.65), dpi=my_dpi)\n",
        "  ax.plot(wavelength, df_.iloc[i,6:].values, lw=1, ls='-', color='k', alpha=1)\n",
        "  ax.axis('off')\n",
        "  ax.set_xlim(xlim[0], xlim[1])\n",
        "  ax.set_ylim(0,1)\n",
        "  ax.set_box_aspect(1)\n",
        "  plt.savefig('./images/'+df_.iloc[i,0]+'_'+str(df_.iloc[i,2])+'_'+str(df_.iloc[i,4])+'_'+str(df_.iloc[i,5])+'_'+str(i)+'.png',\n",
        "              bbox_inches='tight', dpi=my_dpi)"
      ]
    },
    {
      "cell_type": "code",
      "execution_count": null,
      "metadata": {
        "id": "HhVtUY6x07VR"
      },
      "outputs": [],
      "source": [
        "# save all plots in a folder\n",
        "my_dpi = 100\n",
        "for i in range(3000,4000):\n",
        "  fig, ax = plt.subplots(figsize=(2.65,2.65), dpi=my_dpi)\n",
        "  ax.plot(wavelength, df_.iloc[i,6:].values, lw=1, ls='-', color='k', alpha=1)\n",
        "  ax.axis('off')\n",
        "  ax.set_xlim(xlim[0], xlim[1])\n",
        "  ax.set_ylim(0,1)\n",
        "  ax.set_box_aspect(1)\n",
        "  plt.savefig('./images/'+df_.iloc[i,0]+'_'+str(df_.iloc[i,2])+'_'+str(df_.iloc[i,4])+'_'+str(df_.iloc[i,5])+'_'+str(i)+'.png',\n",
        "              bbox_inches='tight', dpi=my_dpi)"
      ]
    },
    {
      "cell_type": "code",
      "execution_count": null,
      "metadata": {
        "id": "e-siGwWt07VR",
        "outputId": "36e02ee9-223f-4830-e7dc-753d8aedd69a"
      },
      "outputs": [
        {
          "ename": "",
          "evalue": "",
          "output_type": "error",
          "traceback": [
            "\u001b[1;31mThe Kernel crashed while executing code in the current cell or a previous cell. \n",
            "\u001b[1;31mPlease review the code in the cell(s) to identify a possible cause of the failure. \n",
            "\u001b[1;31mClick <a href='https://aka.ms/vscodeJupyterKernelCrash'>here</a> for more info. \n",
            "\u001b[1;31mView Jupyter <a href='command:jupyter.viewOutput'>log</a> for further details."
          ]
        }
      ],
      "source": [
        "# save all plots in a folder\n",
        "my_dpi = 100\n",
        "for i in range(4000,5000):\n",
        "  fig, ax = plt.subplots(figsize=(2.65,2.65), dpi=my_dpi)\n",
        "  ax.plot(wavelength, df_.iloc[i,6:].values, lw=1, ls='-', color='k', alpha=1)\n",
        "  ax.axis('off')\n",
        "  ax.set_xlim(xlim[0], xlim[1])\n",
        "  ax.set_ylim(0,1)\n",
        "  ax.set_box_aspect(1)\n",
        "  plt.savefig('./images/'+df_.iloc[i,0]+'_'+str(df_.iloc[i,2])+'_'+str(df_.iloc[i,4])+'_'+str(df_.iloc[i,5])+'_'+str(i)+'.png',\n",
        "              bbox_inches='tight', dpi=my_dpi)"
      ]
    },
    {
      "cell_type": "code",
      "source": [
        "''' In this section of the code, we separate the images using the name of each file.\n",
        "    The second number of each file (i.e. the first value in between underscores, e.g.\n",
        "    sn2004dn_10_2_55.0_4458.png it would be 10) represents the subtype.\n",
        "    At the stage of the process on August 26th, 2024 we will work with 3 categories:\n",
        "    0 - Ia-norm\n",
        "    1 - Ia-pec (all Ia that are not Ia-norm)\n",
        "    2 - Other (all supernovae that is not Ia).\n",
        "    Here we will first determine the index and categorize each index as stated above.'''"
      ],
      "metadata": {
        "id": "clqgVs9E2I2T"
      },
      "execution_count": null,
      "outputs": []
    },
    {
      "cell_type": "code",
      "source": [
        "df_.head()"
      ],
      "metadata": {
        "colab": {
          "base_uri": "https://localhost:8080/",
          "height": 290
        },
        "id": "qNhWLyul3gNz",
        "outputId": "609cf7fc-79e9-4282-e476-6c6021480cbb"
      },
      "execution_count": null,
      "outputs": [
        {
          "output_type": "execute_result",
          "data": {
            "text/plain": [
              "    SN Name SN Subtype  SN Subtype ID SN Maintype  SN Maintype ID  \\\n",
              "0  sn2008ar    Ia-norm              0          Ia               0   \n",
              "1  sn2008ar    Ia-norm              0          Ia               0   \n",
              "2  sn2008ar    Ia-norm              0          Ia               0   \n",
              "3  sn2008ar    Ia-norm              0          Ia               0   \n",
              "4  sn2008ar    Ia-norm              0          Ia               0   \n",
              "\n",
              "   Spectral Phase   2501.69   2505.08   2508.48   2511.87  ...   9872.21  \\\n",
              "0            -8.5  0.620000  0.620000  0.620000  0.620000  ...  0.620000   \n",
              "1            -7.5  0.609115  0.609115  0.609115  0.609115  ...  0.609115   \n",
              "2            -6.6  0.613961  0.613961  0.613961  0.613961  ...  0.613961   \n",
              "3            -4.6  0.605621  0.605621  0.605621  0.605621  ...  0.605621   \n",
              "4            -3.7  0.595781  0.595781  0.595781  0.595781  ...  0.595781   \n",
              "\n",
              "    9885.59   9898.98   9912.39   9925.82   9939.27   9952.73   9966.21  \\\n",
              "0  0.620000  0.620000  0.620000  0.620000  0.620000  0.620000  0.620000   \n",
              "1  0.609115  0.609115  0.609115  0.609115  0.609115  0.609115  0.609115   \n",
              "2  0.613961  0.613961  0.613961  0.613961  0.613961  0.613961  0.613961   \n",
              "3  0.605621  0.605621  0.605621  0.605621  0.605621  0.605621  0.605621   \n",
              "4  0.595781  0.595781  0.595781  0.595781  0.595781  0.595781  0.595781   \n",
              "\n",
              "    9979.71   9993.24  \n",
              "0  0.620000  0.620000  \n",
              "1  0.609115  0.609115  \n",
              "2  0.613961  0.613961  \n",
              "3  0.605621  0.605621  \n",
              "4  0.595781  0.595781  \n",
              "\n",
              "[5 rows x 1030 columns]"
            ],
            "text/html": [
              "\n",
              "  <div id=\"df-f5def922-5d6e-47c1-877c-e90d421e68a5\" class=\"colab-df-container\">\n",
              "    <div>\n",
              "<style scoped>\n",
              "    .dataframe tbody tr th:only-of-type {\n",
              "        vertical-align: middle;\n",
              "    }\n",
              "\n",
              "    .dataframe tbody tr th {\n",
              "        vertical-align: top;\n",
              "    }\n",
              "\n",
              "    .dataframe thead th {\n",
              "        text-align: right;\n",
              "    }\n",
              "</style>\n",
              "<table border=\"1\" class=\"dataframe\">\n",
              "  <thead>\n",
              "    <tr style=\"text-align: right;\">\n",
              "      <th></th>\n",
              "      <th>SN Name</th>\n",
              "      <th>SN Subtype</th>\n",
              "      <th>SN Subtype ID</th>\n",
              "      <th>SN Maintype</th>\n",
              "      <th>SN Maintype ID</th>\n",
              "      <th>Spectral Phase</th>\n",
              "      <th>2501.69</th>\n",
              "      <th>2505.08</th>\n",
              "      <th>2508.48</th>\n",
              "      <th>2511.87</th>\n",
              "      <th>...</th>\n",
              "      <th>9872.21</th>\n",
              "      <th>9885.59</th>\n",
              "      <th>9898.98</th>\n",
              "      <th>9912.39</th>\n",
              "      <th>9925.82</th>\n",
              "      <th>9939.27</th>\n",
              "      <th>9952.73</th>\n",
              "      <th>9966.21</th>\n",
              "      <th>9979.71</th>\n",
              "      <th>9993.24</th>\n",
              "    </tr>\n",
              "  </thead>\n",
              "  <tbody>\n",
              "    <tr>\n",
              "      <th>0</th>\n",
              "      <td>sn2008ar</td>\n",
              "      <td>Ia-norm</td>\n",
              "      <td>0</td>\n",
              "      <td>Ia</td>\n",
              "      <td>0</td>\n",
              "      <td>-8.5</td>\n",
              "      <td>0.620000</td>\n",
              "      <td>0.620000</td>\n",
              "      <td>0.620000</td>\n",
              "      <td>0.620000</td>\n",
              "      <td>...</td>\n",
              "      <td>0.620000</td>\n",
              "      <td>0.620000</td>\n",
              "      <td>0.620000</td>\n",
              "      <td>0.620000</td>\n",
              "      <td>0.620000</td>\n",
              "      <td>0.620000</td>\n",
              "      <td>0.620000</td>\n",
              "      <td>0.620000</td>\n",
              "      <td>0.620000</td>\n",
              "      <td>0.620000</td>\n",
              "    </tr>\n",
              "    <tr>\n",
              "      <th>1</th>\n",
              "      <td>sn2008ar</td>\n",
              "      <td>Ia-norm</td>\n",
              "      <td>0</td>\n",
              "      <td>Ia</td>\n",
              "      <td>0</td>\n",
              "      <td>-7.5</td>\n",
              "      <td>0.609115</td>\n",
              "      <td>0.609115</td>\n",
              "      <td>0.609115</td>\n",
              "      <td>0.609115</td>\n",
              "      <td>...</td>\n",
              "      <td>0.609115</td>\n",
              "      <td>0.609115</td>\n",
              "      <td>0.609115</td>\n",
              "      <td>0.609115</td>\n",
              "      <td>0.609115</td>\n",
              "      <td>0.609115</td>\n",
              "      <td>0.609115</td>\n",
              "      <td>0.609115</td>\n",
              "      <td>0.609115</td>\n",
              "      <td>0.609115</td>\n",
              "    </tr>\n",
              "    <tr>\n",
              "      <th>2</th>\n",
              "      <td>sn2008ar</td>\n",
              "      <td>Ia-norm</td>\n",
              "      <td>0</td>\n",
              "      <td>Ia</td>\n",
              "      <td>0</td>\n",
              "      <td>-6.6</td>\n",
              "      <td>0.613961</td>\n",
              "      <td>0.613961</td>\n",
              "      <td>0.613961</td>\n",
              "      <td>0.613961</td>\n",
              "      <td>...</td>\n",
              "      <td>0.613961</td>\n",
              "      <td>0.613961</td>\n",
              "      <td>0.613961</td>\n",
              "      <td>0.613961</td>\n",
              "      <td>0.613961</td>\n",
              "      <td>0.613961</td>\n",
              "      <td>0.613961</td>\n",
              "      <td>0.613961</td>\n",
              "      <td>0.613961</td>\n",
              "      <td>0.613961</td>\n",
              "    </tr>\n",
              "    <tr>\n",
              "      <th>3</th>\n",
              "      <td>sn2008ar</td>\n",
              "      <td>Ia-norm</td>\n",
              "      <td>0</td>\n",
              "      <td>Ia</td>\n",
              "      <td>0</td>\n",
              "      <td>-4.6</td>\n",
              "      <td>0.605621</td>\n",
              "      <td>0.605621</td>\n",
              "      <td>0.605621</td>\n",
              "      <td>0.605621</td>\n",
              "      <td>...</td>\n",
              "      <td>0.605621</td>\n",
              "      <td>0.605621</td>\n",
              "      <td>0.605621</td>\n",
              "      <td>0.605621</td>\n",
              "      <td>0.605621</td>\n",
              "      <td>0.605621</td>\n",
              "      <td>0.605621</td>\n",
              "      <td>0.605621</td>\n",
              "      <td>0.605621</td>\n",
              "      <td>0.605621</td>\n",
              "    </tr>\n",
              "    <tr>\n",
              "      <th>4</th>\n",
              "      <td>sn2008ar</td>\n",
              "      <td>Ia-norm</td>\n",
              "      <td>0</td>\n",
              "      <td>Ia</td>\n",
              "      <td>0</td>\n",
              "      <td>-3.7</td>\n",
              "      <td>0.595781</td>\n",
              "      <td>0.595781</td>\n",
              "      <td>0.595781</td>\n",
              "      <td>0.595781</td>\n",
              "      <td>...</td>\n",
              "      <td>0.595781</td>\n",
              "      <td>0.595781</td>\n",
              "      <td>0.595781</td>\n",
              "      <td>0.595781</td>\n",
              "      <td>0.595781</td>\n",
              "      <td>0.595781</td>\n",
              "      <td>0.595781</td>\n",
              "      <td>0.595781</td>\n",
              "      <td>0.595781</td>\n",
              "      <td>0.595781</td>\n",
              "    </tr>\n",
              "  </tbody>\n",
              "</table>\n",
              "<p>5 rows × 1030 columns</p>\n",
              "</div>\n",
              "    <div class=\"colab-df-buttons\">\n",
              "\n",
              "  <div class=\"colab-df-container\">\n",
              "    <button class=\"colab-df-convert\" onclick=\"convertToInteractive('df-f5def922-5d6e-47c1-877c-e90d421e68a5')\"\n",
              "            title=\"Convert this dataframe to an interactive table.\"\n",
              "            style=\"display:none;\">\n",
              "\n",
              "  <svg xmlns=\"http://www.w3.org/2000/svg\" height=\"24px\" viewBox=\"0 -960 960 960\">\n",
              "    <path d=\"M120-120v-720h720v720H120Zm60-500h600v-160H180v160Zm220 220h160v-160H400v160Zm0 220h160v-160H400v160ZM180-400h160v-160H180v160Zm440 0h160v-160H620v160ZM180-180h160v-160H180v160Zm440 0h160v-160H620v160Z\"/>\n",
              "  </svg>\n",
              "    </button>\n",
              "\n",
              "  <style>\n",
              "    .colab-df-container {\n",
              "      display:flex;\n",
              "      gap: 12px;\n",
              "    }\n",
              "\n",
              "    .colab-df-convert {\n",
              "      background-color: #E8F0FE;\n",
              "      border: none;\n",
              "      border-radius: 50%;\n",
              "      cursor: pointer;\n",
              "      display: none;\n",
              "      fill: #1967D2;\n",
              "      height: 32px;\n",
              "      padding: 0 0 0 0;\n",
              "      width: 32px;\n",
              "    }\n",
              "\n",
              "    .colab-df-convert:hover {\n",
              "      background-color: #E2EBFA;\n",
              "      box-shadow: 0px 1px 2px rgba(60, 64, 67, 0.3), 0px 1px 3px 1px rgba(60, 64, 67, 0.15);\n",
              "      fill: #174EA6;\n",
              "    }\n",
              "\n",
              "    .colab-df-buttons div {\n",
              "      margin-bottom: 4px;\n",
              "    }\n",
              "\n",
              "    [theme=dark] .colab-df-convert {\n",
              "      background-color: #3B4455;\n",
              "      fill: #D2E3FC;\n",
              "    }\n",
              "\n",
              "    [theme=dark] .colab-df-convert:hover {\n",
              "      background-color: #434B5C;\n",
              "      box-shadow: 0px 1px 3px 1px rgba(0, 0, 0, 0.15);\n",
              "      filter: drop-shadow(0px 1px 2px rgba(0, 0, 0, 0.3));\n",
              "      fill: #FFFFFF;\n",
              "    }\n",
              "  </style>\n",
              "\n",
              "    <script>\n",
              "      const buttonEl =\n",
              "        document.querySelector('#df-f5def922-5d6e-47c1-877c-e90d421e68a5 button.colab-df-convert');\n",
              "      buttonEl.style.display =\n",
              "        google.colab.kernel.accessAllowed ? 'block' : 'none';\n",
              "\n",
              "      async function convertToInteractive(key) {\n",
              "        const element = document.querySelector('#df-f5def922-5d6e-47c1-877c-e90d421e68a5');\n",
              "        const dataTable =\n",
              "          await google.colab.kernel.invokeFunction('convertToInteractive',\n",
              "                                                    [key], {});\n",
              "        if (!dataTable) return;\n",
              "\n",
              "        const docLinkHtml = 'Like what you see? Visit the ' +\n",
              "          '<a target=\"_blank\" href=https://colab.research.google.com/notebooks/data_table.ipynb>data table notebook</a>'\n",
              "          + ' to learn more about interactive tables.';\n",
              "        element.innerHTML = '';\n",
              "        dataTable['output_type'] = 'display_data';\n",
              "        await google.colab.output.renderOutput(dataTable, element);\n",
              "        const docLink = document.createElement('div');\n",
              "        docLink.innerHTML = docLinkHtml;\n",
              "        element.appendChild(docLink);\n",
              "      }\n",
              "    </script>\n",
              "  </div>\n",
              "\n",
              "\n",
              "<div id=\"df-885f6d02-803a-4003-9a41-8849e2174b12\">\n",
              "  <button class=\"colab-df-quickchart\" onclick=\"quickchart('df-885f6d02-803a-4003-9a41-8849e2174b12')\"\n",
              "            title=\"Suggest charts\"\n",
              "            style=\"display:none;\">\n",
              "\n",
              "<svg xmlns=\"http://www.w3.org/2000/svg\" height=\"24px\"viewBox=\"0 0 24 24\"\n",
              "     width=\"24px\">\n",
              "    <g>\n",
              "        <path d=\"M19 3H5c-1.1 0-2 .9-2 2v14c0 1.1.9 2 2 2h14c1.1 0 2-.9 2-2V5c0-1.1-.9-2-2-2zM9 17H7v-7h2v7zm4 0h-2V7h2v10zm4 0h-2v-4h2v4z\"/>\n",
              "    </g>\n",
              "</svg>\n",
              "  </button>\n",
              "\n",
              "<style>\n",
              "  .colab-df-quickchart {\n",
              "      --bg-color: #E8F0FE;\n",
              "      --fill-color: #1967D2;\n",
              "      --hover-bg-color: #E2EBFA;\n",
              "      --hover-fill-color: #174EA6;\n",
              "      --disabled-fill-color: #AAA;\n",
              "      --disabled-bg-color: #DDD;\n",
              "  }\n",
              "\n",
              "  [theme=dark] .colab-df-quickchart {\n",
              "      --bg-color: #3B4455;\n",
              "      --fill-color: #D2E3FC;\n",
              "      --hover-bg-color: #434B5C;\n",
              "      --hover-fill-color: #FFFFFF;\n",
              "      --disabled-bg-color: #3B4455;\n",
              "      --disabled-fill-color: #666;\n",
              "  }\n",
              "\n",
              "  .colab-df-quickchart {\n",
              "    background-color: var(--bg-color);\n",
              "    border: none;\n",
              "    border-radius: 50%;\n",
              "    cursor: pointer;\n",
              "    display: none;\n",
              "    fill: var(--fill-color);\n",
              "    height: 32px;\n",
              "    padding: 0;\n",
              "    width: 32px;\n",
              "  }\n",
              "\n",
              "  .colab-df-quickchart:hover {\n",
              "    background-color: var(--hover-bg-color);\n",
              "    box-shadow: 0 1px 2px rgba(60, 64, 67, 0.3), 0 1px 3px 1px rgba(60, 64, 67, 0.15);\n",
              "    fill: var(--button-hover-fill-color);\n",
              "  }\n",
              "\n",
              "  .colab-df-quickchart-complete:disabled,\n",
              "  .colab-df-quickchart-complete:disabled:hover {\n",
              "    background-color: var(--disabled-bg-color);\n",
              "    fill: var(--disabled-fill-color);\n",
              "    box-shadow: none;\n",
              "  }\n",
              "\n",
              "  .colab-df-spinner {\n",
              "    border: 2px solid var(--fill-color);\n",
              "    border-color: transparent;\n",
              "    border-bottom-color: var(--fill-color);\n",
              "    animation:\n",
              "      spin 1s steps(1) infinite;\n",
              "  }\n",
              "\n",
              "  @keyframes spin {\n",
              "    0% {\n",
              "      border-color: transparent;\n",
              "      border-bottom-color: var(--fill-color);\n",
              "      border-left-color: var(--fill-color);\n",
              "    }\n",
              "    20% {\n",
              "      border-color: transparent;\n",
              "      border-left-color: var(--fill-color);\n",
              "      border-top-color: var(--fill-color);\n",
              "    }\n",
              "    30% {\n",
              "      border-color: transparent;\n",
              "      border-left-color: var(--fill-color);\n",
              "      border-top-color: var(--fill-color);\n",
              "      border-right-color: var(--fill-color);\n",
              "    }\n",
              "    40% {\n",
              "      border-color: transparent;\n",
              "      border-right-color: var(--fill-color);\n",
              "      border-top-color: var(--fill-color);\n",
              "    }\n",
              "    60% {\n",
              "      border-color: transparent;\n",
              "      border-right-color: var(--fill-color);\n",
              "    }\n",
              "    80% {\n",
              "      border-color: transparent;\n",
              "      border-right-color: var(--fill-color);\n",
              "      border-bottom-color: var(--fill-color);\n",
              "    }\n",
              "    90% {\n",
              "      border-color: transparent;\n",
              "      border-bottom-color: var(--fill-color);\n",
              "    }\n",
              "  }\n",
              "</style>\n",
              "\n",
              "  <script>\n",
              "    async function quickchart(key) {\n",
              "      const quickchartButtonEl =\n",
              "        document.querySelector('#' + key + ' button');\n",
              "      quickchartButtonEl.disabled = true;  // To prevent multiple clicks.\n",
              "      quickchartButtonEl.classList.add('colab-df-spinner');\n",
              "      try {\n",
              "        const charts = await google.colab.kernel.invokeFunction(\n",
              "            'suggestCharts', [key], {});\n",
              "      } catch (error) {\n",
              "        console.error('Error during call to suggestCharts:', error);\n",
              "      }\n",
              "      quickchartButtonEl.classList.remove('colab-df-spinner');\n",
              "      quickchartButtonEl.classList.add('colab-df-quickchart-complete');\n",
              "    }\n",
              "    (() => {\n",
              "      let quickchartButtonEl =\n",
              "        document.querySelector('#df-885f6d02-803a-4003-9a41-8849e2174b12 button');\n",
              "      quickchartButtonEl.style.display =\n",
              "        google.colab.kernel.accessAllowed ? 'block' : 'none';\n",
              "    })();\n",
              "  </script>\n",
              "</div>\n",
              "\n",
              "    </div>\n",
              "  </div>\n"
            ],
            "application/vnd.google.colaboratory.intrinsic+json": {
              "type": "dataframe",
              "variable_name": "df_"
            }
          },
          "metadata": {},
          "execution_count": 55
        }
      ]
    },
    {
      "cell_type": "markdown",
      "source": [
        "# Generate Dataset class"
      ],
      "metadata": {
        "id": "QHr7aWvM-Jrh"
      }
    },
    {
      "cell_type": "markdown",
      "source": [
        "### Get labels for dataset creation"
      ],
      "metadata": {
        "id": "-sfuFyAG7mUE"
      }
    },
    {
      "cell_type": "code",
      "source": [
        "subtypes  = df_raw['SN Subtype'].unique()\n",
        "subtypes_ID = df_raw['SN Subtype ID'].unique()\n",
        "\n",
        "for subtype, subtype_ID in zip(subtypes, subtypes_ID):\n",
        "  print(subtype, subtype_ID)\n"
      ],
      "metadata": {
        "id": "j_ez6DWO3i0I",
        "colab": {
          "base_uri": "https://localhost:8080/"
        },
        "outputId": "0a9a2748-96b9-465e-e514-15c0487367f4"
      },
      "execution_count": 3,
      "outputs": [
        {
          "output_type": "stream",
          "name": "stdout",
          "text": [
            "Ia-norm 0\n",
            "Ia-91T 1\n",
            "Ia-csm 3\n",
            "Ia-91bg 2\n",
            "Ib-norm 6\n",
            "Iax 4\n",
            "Ia-pec 5\n",
            "Ic-norm 10\n",
            "IIP 13\n",
            "IIL 14\n",
            "IIb 8\n",
            "II-pec 16\n",
            "Ic-broad 11\n",
            "Ic-pec 12\n",
            "IIn 15\n",
            "Ibn 7\n",
            "Ib-pec 9\n"
          ]
        }
      ]
    },
    {
      "cell_type": "markdown",
      "source": [
        "### Get pre-processed images from google drive"
      ],
      "metadata": {
        "id": "-Td2MZzz79QC"
      }
    },
    {
      "cell_type": "code",
      "source": [
        "import os\n",
        "image_folder = '/content/drive/MyDrive/La_Serena_2024/images'\n",
        "image_files = os.listdir(image_folder)\n",
        "\n",
        "from PIL import Image\n",
        "image_names = []\n",
        "for image_file in image_files:\n",
        "  image_path = os.path.join(image_folder, image_file)\n",
        "  image_names.append(image_file)\n",
        "\n",
        "print(image_names)"
      ],
      "metadata": {
        "colab": {
          "base_uri": "https://localhost:8080/"
        },
        "id": "Hb8hj_aH9TRG",
        "outputId": "f37f65eb-3131-408c-fc89-831d66712cd7"
      },
      "execution_count": 4,
      "outputs": [
        {
          "output_type": "stream",
          "name": "stdout",
          "text": [
            "['sn2011ei_8_1_-3.0_4481.png', 'sn2005hg_6_1_-9.29_4462.png', 'sn2005hg_6_1_16.71_4473.png', 'sn2005hg_6_1_-4.29_4467.png', 'sn2005hg_6_1_26.71_4475.png', 'sn2011ei_8_1_13.0_4484.png', 'sn2005hg_6_1_-13.29_4459.png', 'sn2011ei_8_1_-10.0_4478.png', 'sn2005hg_6_1_-12.29_4460.png', 'sn2005hg_6_1_-5.29_4466.png', 'sn2005hg_6_1_-2.29_4469.png', 'sn2005hg_6_1_89.71_4476.png', 'sn2011ei_8_1_-6.0_4479.png', 'sn2005hg_6_1_-0.29_4471.png', 'sn2011ei_8_1_3.0_4482.png', 'sn2011ei_8_1_8.0_4483.png', 'sn2005hg_6_1_-3.29_4468.png', 'sn2005hg_6_1_22.71_4474.png', 'sn2011ei_8_1_-4.0_4480.png', 'sn2005hg_6_1_-10.29_4461.png', 'sn2005hg_6_1_-6.29_4465.png', 'sn2005hg_6_1_-8.29_4463.png', 'sn2005hg_6_1_12.71_4472.png', 'sn2005hg_6_1_-1.29_4470.png', 'sn2011ei_8_1_-14.0_4477.png', 'sn2005hg_6_1_-7.29_4464.png', 'PTF12gzk_10_2_-14.7_4492.png', 'sn2005az_10_2_26.3_4512.png', 'PTF12gzk_10_2_-9.7_4493.png', 'sn2011ei_8_1_310.0_4491.png', 'sn2011ei_8_1_17.0_4485.png', 'sn2011ei_8_1_38.0_4486.png', 'sn2005az_10_2_-2.7_4504.png', 'sn2011ei_8_1_48.0_4487.png', 'sn2005az_10_2_28.3_4513.png', 'sn2005az_10_2_-4.7_4503.png', 'sn2011ei_8_1_66.0_4488.png', 'PTF12gzk_10_2_-0.6_4498.png', 'PTF12gzk_10_2_-4.6_4495.png', 'sn2005az_10_2_-7.7_4501.png', 'sn2005az_10_2_19.3_4509.png', 'sn2005az_10_2_22.3_4510.png', 'sn2005az_10_2_1.3_4506.png', 'sn2005az_10_2_17.3_4508.png', 'PTF12gzk_10_2_-1.6_4497.png', 'sn2011ei_8_1_97.0_4490.png', 'sn2005az_10_2_-6.7_4502.png', 'PTF12gzk_10_2_1.4_4499.png', 'sn2005az_10_2_24.3_4511.png', 'sn2005az_10_2_4.3_4507.png', 'PTF12gzk_10_2_-2.6_4496.png', 'sn2011ei_8_1_95.0_4489.png', 'PTF12gzk_10_2_-8.6_4494.png', 'sn2004ge_10_2_12.2_4500.png', 'sn2005az_10_2_-0.7_4505.png', 'sn2005az_10_2_62.3_4520.png', 'sn2011dh_8_1_-9.6_4535.png', 'sn2005az_10_2_65.3_4521.png', 'sn2005az_10_2_33.3_4517.png', 'sn2007ag_6_1_2.5_4524.png', 'sn2005az_10_2_87.3_4522.png', 'sn2005az_10_2_32.3_4516.png', 'sn2011dh_8_1_-14.6_4530.png', 'sn2005az_10_2_30.3_4514.png', 'sn2007ag_6_1_-0.8_4523.png', 'sn2007kj_6_1_4.4_4527.png', 'sn2005az_10_2_49.3_4518.png', 'sn2005az_10_2_57.3_4519.png', 'sn2011dh_8_1_3.4_4539.png', 'sn2011dh_8_1_6.4_4542.png', 'sn2011dh_8_1_-12.6_4532.png', 'sn2011dh_8_1_-11.6_4533.png', 'sn2007kj_6_1_-0.6_4526.png', 'sn2011dh_8_1_5.4_4541.png', 'sn2011dh_8_1_-16.6_4528.png', 'sn2005az_10_2_31.3_4515.png', 'sn2011dh_8_1_7.4_4543.png', 'sn2007ag_6_1_9.2_4525.png', 'sn2011dh_8_1_-3.6_4537.png', 'sn2011dh_8_1_-13.6_4531.png', 'sn2011dh_8_1_4.4_4540.png', 'sn2011dh_8_1_-8.6_4536.png', 'sn2011dh_8_1_9.4_4544.png', 'sn2011dh_8_1_-0.6_4538.png', 'sn2011dh_8_1_-10.6_4534.png', 'sn2011dh_8_1_-15.6_4529.png', 'sn2005mf_10_2_-2.0_4560.png', 'sn2011dh_8_1_50.4_4556.png', 'sn2005mf_10_2_-3.0_4559.png', 'sn2005mf_10_2_7.0_4562.png', 'sn2011dh_8_1_28.4_4552.png', 'sn2009iz_6_1_12.0_4567.png', 'sn2009iz_6_1_-9.7_4564.png', 'sn2009iz_6_1_-13.6_4563.png', 'sn2009iz_6_1_5.1_4565.png', 'sn2011dh_8_1_61.4_4557.png', 'sn2011dh_8_1_27.4_4551.png', 'sn2011dh_8_1_19.4_4549.png', 'sn2011dh_8_1_23.4_4550.png', 'sn2011dh_8_1_15.4_4548.png', 'sn2009iz_6_1_11.0_4566.png', 'sn2005mf_10_2_4.0_4561.png', 'sn2009iz_6_1_13.0_4568.png', 'sn2011dh_8_1_10.4_4545.png', 'sn2011dh_8_1_46.4_4555.png', 'sn2011dh_8_1_31.4_4553.png', 'sn2011dh_8_1_37.4_4554.png', 'sn2011dh_8_1_13.4_4547.png', 'sn2011dh_8_1_11.4_4546.png', 'sn2011dh_8_1_68.4_4558.png', 'sn2009iz_6_1_47.5_4571.png', 'sn2011bm_10_2_-10.6_4572.png', 'sn2009iz_6_1_41.6_4570.png', 'sn2011bm_10_2_-7.6_4573.png', 'sn2009iz_6_1_20.9_4569.png', 'sn2007C_6_1_7.29_4591.png', 'sn2011bm_10_2_49.8_4579.png', 'sn2007C_6_1_1.29_4590.png', 'sn2011bm_10_2_3.0_4576.png', 'sn2007C_6_1_-4.71_4587.png', 'sn2007C_6_1_42.29_4596.png', 'sn2011bm_10_2_16.4_4577.png', 'sn2007C_6_1_55.29_4597.png', 'sn2007C_6_1_71.29_4601.png', 'sn2009bb_11_2_-5.3_4602.png', 'sn2007C_6_1_11.9_4592.png', 'sn2007C_6_1_64.29_4600.png', 'sn2007C_6_1_37.29_4595.png', 'sn2011bm_10_2_234.2_4583.png', 'sn2007C_6_1_28.29_4594.png', 'sn2007C_6_1_62.8_4599.png', 'sn2011bm_10_2_-0.9_4575.png', 'sn2011bm_10_2_109.5_4582.png', 'sn2011bm_10_2_-2.9_4574.png', 'sn2011bm_10_2_236.2_4584.png', 'sn2011bm_10_2_269.5_4585.png', 'sn2011bm_10_2_60.8_4580.png', 'sn2007C_6_1_-5.71_4586.png', 'sn2007C_6_1_-0.71_4589.png', 'sn2007C_6_1_-1.0_4588.png', 'sn2007C_6_1_61.29_4598.png', 'sn2007C_6_1_13.8_4593.png', 'sn2011bm_10_2_30.3_4578.png', 'sn2011bm_10_2_108.6_4581.png', 'sn2009bb_11_2_20.6_4609.png', 'sn2009er_6_1_-2.5_4622.png', 'sn2009er_6_1_-4.4_4621.png', 'sn2009bb_11_2_14.6_4606.png', 'sn2009bb_11_2_0.6_4604.png', 'sn2009bb_11_2_-4.4_4603.png', 'sn2009er_6_1_-1.5_4623.png', 'sn1998fa_8_1_-3.1_4614.png', 'sn2010ma_11_2_18.2_4618.png', 'sn2009bb_11_2_4.5_4605.png', 'sn1998fa_8_1_-4.1_4613.png', 'sn1998fa_8_1_18.3_4615.png', 'sn2010ma_11_2_-5.5_4616.png', 'sn2009bb_11_2_41.5_4612.png', 'sn2009bb_11_2_15.6_4607.png', 'sn2009er_6_1_2.3_4625.png', 'sn2009er_6_1_14.9_4626.png', 'sn2009er_6_1_-5.4_4620.png', 'sn2009bb_11_2_27.6_4611.png', 'sn2009er_6_1_0.4_4624.png', 'sn2009bb_11_2_19.6_4608.png', 'sn2010ma_11_2_5.2_4617.png', 'sn2009er_6_1_15.8_4627.png', 'sn2007D_11_2_-7.9_4619.png', 'sn2009bb_11_2_23.6_4610.png', 'iPTF13bvn_6_1_20.2_4641.png', 'iPTF13bvn_6_1_34.2_4642.png', 'iPTF13bvn_6_1_-13.7_4630.png', 'iPTF13bvn_6_1_-15.7_4628.png', 'sn2006jc_7_1_10.5_4647.png', 'iPTF13bvn_6_1_-6.8_4634.png', 'sn2006jc_7_1_7.5_4644.png', 'iPTF13bvn_6_1_8.2_4640.png', 'iPTF13bvn_6_1_-10.8_4632.png', 'iPTF13bvn_6_1_-5.8_4636.png', 'iPTF13bvn_6_1_-14.7_4629.png', 'sn2006jc_7_1_9.5_4646.png', 'iPTF13bvn_6_1_-5.8_4635.png', 'iPTF13bvn_6_1_1.2_4639.png', 'iPTF13bvn_6_1_-1.8_4637.png', 'iPTF13bvn_6_1_-0.8_4638.png', 'sn2006jc_7_1_11.5_4648.png', 'sn2006jc_7_1_12.5_4649.png', 'sn2006jc_7_1_8.5_4645.png', 'iPTF13bvn_6_1_-11.7_4631.png', 'sn2006jc_7_1_15.5_4650.png', 'sn2006jc_7_1_5.5_4643.png', 'iPTF13bvn_6_1_-8.8_4633.png', 'sn2004gq_6_1_20.8_4677.png', 'sn2004gq_6_1_-6.1_4668.png', 'sn2004gq_6_1_-0.1_4672.png', 'sn2004gq_6_1_16.8_4674.png', 'sn2006jc_7_1_17.5_4651.png', 'sn2006jc_7_1_42.5_4658.png', 'sn2006jc_7_1_47.5_4660.png', 'sn2006jc_7_1_61.5_4661.png', 'sn2004gq_6_1_-1.1_4671.png', 'sn2006jc_7_1_35.5_4656.png', 'sn2006jc_7_1_30.5_4654.png', 'sn2006jc_7_1_19.5_4653.png', 'sn2004gq_6_1_-8.1_4666.png', 'sn2006jc_7_1_65.5_4664.png', 'sn2004gq_6_1_20.8_4676.png', 'sn2004gq_6_1_-5.1_4669.png', 'sn2006jc_7_1_33.5_4655.png', 'sn2004gq_6_1_-7.1_4667.png', 'sn2004gq_6_1_15.8_4673.png', 'sn2006jc_7_1_43.0_4659.png', 'sn2004gq_6_1_-9.0_4665.png', 'sn2004gq_6_1_41.6_4679.png', 'sn2004gq_6_1_24.7_4678.png', 'sn2006jc_7_1_64.5_4663.png', 'sn2006jc_7_1_18.5_4652.png', 'sn2004gq_6_1_-2.1_4670.png', 'sn2006jc_7_1_63.5_4662.png', 'sn2004gq_6_1_17.8_4675.png', 'sn2006jc_7_1_38.5_4657.png', 'PTF10qts_11_2_-1.2_4698.png', 'sn2003lw_11_2_-2.0_4705.png', 'sn2005la_9_1_16.0_4695.png', 'sn2004gq_6_1_54.6_4680.png', 'sn2004gq_6_1_343.8_4688.png', 'sn2004gq_6_1_72.5_4682.png', 'sn2004gv_6_1_19.3_4691.png', 'sn2004gq_6_1_69.5_4681.png', 'PTF10qts_11_2_23.6_4703.png', 'PTF10qts_11_2_0.6_4699.png', 'sn2009mg_8_1_-4.1_4707.png', 'sn2003lw_11_2_7.1_4706.png', 'sn2004gq_6_1_78.4_4683.png', 'PTF10qts_11_2_19.9_4702.png', 'sn2005la_9_1_14.0_4693.png', 'PTF10qts_11_2_9.8_4700.png', 'sn2005la_9_1_17.0_4696.png', 'sn2005la_9_1_18.0_4697.png', 'sn2004gv_6_1_15.3_4690.png', 'sn2004gq_6_1_289.1_4686.png', 'sn2004gq_6_1_89.3_4685.png', 'sn2004gq_6_1_84.4_4684.png', 'sn2004gv_6_1_49.3_4692.png', 'sn2005la_9_1_15.0_4694.png', 'sn2004gv_6_1_13.3_4689.png', 'PTF10qts_11_2_234.4_4704.png', 'sn2004gq_6_1_335.8_4687.png', 'PTF10qts_11_2_17.1_4701.png', 'sn2004fe_10_2_-4.78_4725.png', 'sn2004fe_10_2_9.22_4729.png', 'sn2004fe_10_2_-0.78_4726.png', 'sn2004fe_10_2_0.22_4727.png', 'sn2007cl_10_2_-6.4_4718.png', 'sn2009mg_8_1_38.5_4715.png', 'sn2008bo_8_1_15.8_4737.png', 'sn2004fe_10_2_1.22_4728.png', 'sn2009mg_8_1_13.8_4713.png', 'sn2008bo_8_1_-1.2_4736.png', 'sn2009mg_8_1_-1.0_4708.png', 'sn2009mg_8_1_2.9_4710.png', 'sn2009mg_8_1_88.0_4717.png', 'PTF10bzf_11_2_7.0_4721.png', 'PTF10bzf_11_2_2.2_4720.png', 'sn2008bo_8_1_-10.2_4733.png', 'sn2009mg_8_1_11.9_4711.png', 'sn2009mg_8_1_23.6_4714.png', 'sn2004fe_10_2_-6.78_4722.png', 'sn2008bo_8_1_-7.2_4734.png', 'sn2004fe_10_2_-6.78_4723.png', 'sn2009mg_8_1_38.5_4716.png', 'sn2004fe_10_2_-5.78_4724.png', 'sn2004fe_10_2_241.22_4731.png', 'sn2007cl_10_2_-5.9_4719.png', 'sn2008bo_8_1_-3.2_4735.png', 'sn2009mg_8_1_2.9_4709.png', 'sn2009mg_8_1_12.8_4712.png', 'sn2004fe_10_2_22.22_4730.png', 'sn2013cq_11_2_-1.3_4732.png', 'sn2009jf_6_1_-10.0_4756.png', 'sn2009jf_6_1_-13.0_4754.png', 'sn2008bo_8_1_44.8_4741.png', 'sn2006ep_6_1_12.5_4748.png', 'sn2008bo_8_1_30.8_4740.png', 'sn2008bo_8_1_107.3_4744.png', 'sn2009jf_6_1_-3.0_4762.png', 'sn2009jf_6_1_-10.0_4757.png', 'sn2008bo_8_1_53.8_4743.png', 'sn2006ep_6_1_8.5_4746.png', 'sn2009jf_6_1_-1.0_4764.png', 'sn2009jf_6_1_-2.0_4763.png', 'sn2009jf_6_1_-5.0_4760.png', 'sn2009jf_6_1_-17.0_4751.png', 'sn2009jf_6_1_-16.0_4752.png', 'sn2006ep_6_1_-7.5_4745.png', 'sn2009jf_6_1_-15.0_4753.png', 'sn2009jf_6_1_-4.0_4761.png', 'sn2006ep_6_1_10.5_4747.png', 'sn2008bo_8_1_53.8_4742.png', 'sn2009jf_6_1_-9.0_4758.png', 'sn2008bo_8_1_20.8_4738.png', 'sn2009jf_6_1_-7.0_4759.png', 'sn2009jf_6_1_-18.0_4750.png', 'sn2008bo_8_1_24.8_4739.png', 'sn2006ep_6_1_45.5_4749.png', 'sn2009jf_6_1_-11.0_4755.png', 'sn2009jf_6_1_11.0_4772.png', 'sn2009jf_6_1_33.0_4779.png', 'sn2009jf_6_1_80.3_4788.png', 'sn2009jf_6_1_0.0_4765.png', 'sn2009jf_6_1_66.5_4786.png', 'sn2009jf_6_1_25.0_4775.png', 'sn2009jf_6_1_48.6_4782.png', 'sn2009jf_6_1_34.0_4780.png', 'sn2009jf_6_1_27.0_4776.png', 'sn2009jf_6_1_3.0_4768.png', 'sn2009jf_6_1_60.5_4785.png', 'sn2009jf_6_1_3.0_4769.png', 'sn2009jf_6_1_1.0_4766.png', 'sn2009jf_6_1_18.0_4773.png', 'sn2009jf_6_1_70.4_4787.png', 'sn2009jf_6_1_7.0_4770.png', 'sn2009jf_6_1_31.0_4778.png', 'sn2009jf_6_1_58.5_4784.png', 'sn2009jf_6_1_82.3_4790.png', 'sn2009jf_6_1_81.3_4789.png', 'sn2009jf_6_1_9.0_4771.png', 'sn2009jf_6_1_54.6_4783.png', 'sn2009jf_6_1_46.6_4781.png', 'sn2009jf_6_1_30.0_4777.png', 'sn2009jf_6_1_95.2_4791.png', 'sn2009jf_6_1_1.0_4767.png', 'sn2009jf_6_1_24.0_4774.png', 'sn2008ax_8_1_-11.0_4815.png', 'sn2008ax_8_1_-20.0_4808.png', 'sn2008ax_8_1_-9.0_4817.png', 'sn2008ax_8_1_-15.0_4812.png', 'sn2006T_8_1_297.8_4804.png', 'sn2009jf_6_1_246.0_4794.png', 'sn2006T_8_1_14.3_4802.png', 'sn2012bz_11_2_3.9_4806.png', 'sn2008ax_8_1_-18.0_4810.png', 'sn2006T_8_1_-11.5_4799.png', 'sn2009jf_6_1_349.2_4795.png', 'sn2006T_8_1_6.6_4801.png', 'sn2006T_8_1_106.5_4803.png', 'sn2006T_8_1_-13.5_4798.png', 'sn2008ax_8_1_-12.0_4814.png', 'sn2012bz_11_2_8.6_4807.png', 'sn2008ax_8_1_-19.0_4809.png', 'sn2008ax_8_1_-8.0_4818.png', 'sn2008ax_8_1_-10.0_4816.png', 'sn2008ax_8_1_-16.0_4811.png', 'sn2009jf_6_1_388.8_4797.png', 'sn2008ax_8_1_-13.0_4813.png', 'sn2012bz_11_2_0.8_4805.png', 'sn2009jf_6_1_356.1_4796.png', 'sn2009jf_6_1_224.2_4792.png', 'sn2009jf_6_1_240.0_4793.png', 'sn2006T_8_1_6.3_4800.png', 'sn2008ax_8_1_74.0_4831.png', 'sn2010ay_11_2_25.5_4835.png', 'sn2006el_8_1_9.82_4840.png', 'sn2008ax_8_1_6.0_4819.png', 'sn2008ax_8_1_12.0_4823.png', 'sn2013dk_10_2_-1.0_4836.png', 'sn2006el_8_1_16.82_4845.png', 'sn2006el_8_1_10.82_4841.png', 'sn2011fu_8_1_-13.0_4847.png', 'sn2011fu_8_1_-11.0_4848.png', 'sn2006el_8_1_11.82_4842.png', 'sn2011fu_8_1_-14.0_4846.png', 'sn2008ax_8_1_38.0_4828.png', 'sn2008ax_8_1_45.0_4829.png', 'sn2008ax_8_1_307.0_4833.png', 'sn2006el_8_1_-4.18_4839.png', 'sn2008ax_8_1_9.0_4822.png', 'sn2008ax_8_1_19.0_4826.png', 'sn2008ax_8_1_16.0_4825.png', 'sn2008ax_8_1_23.0_4827.png', 'sn2008ax_8_1_8.0_4820.png', 'sn2008ax_8_1_67.0_4830.png', 'sn2008ax_8_1_9.0_4821.png', 'sn2009nz_11_2_0.0_4837.png', 'sn2004ff_8_1_-1.2_4838.png', 'sn2008ax_8_1_80.0_4832.png', 'sn2008ax_8_1_15.0_4824.png', 'sn2011fu_8_1_2.0_4849.png', 'sn2006el_8_1_12.82_4843.png', 'sn2010ay_11_2_15.7_4834.png', 'sn2006el_8_1_15.82_4844.png', 'sn2003dh_11_2_14.1_4861.png', 'sn2003dh_11_2_-8.1_4856.png', 'sn2003dh_11_2_5.6_4859.png', 'sn2003dh_11_2_-9.8_4854.png', 'sn2003dh_11_2_-6.4_4858.png', 'PTF10vgv_11_2_73.2_4877.png', 'sn2007bg_11_2_59.1_4872.png', 'sn2003dh_11_2_30.4_4863.png', 'sn2011fu_8_1_71.0_4853.png', 'sn2003dh_11_2_-7.3_4857.png', 'sn2003dh_11_2_-9.0_4855.png', 'sn2004dk_6_1_17.2_4866.png', 'sn2003dh_11_2_12.4_4860.png', 'sn2004dk_6_1_46.1_4867.png', 'sn2011fu_8_1_17.0_4850.png', 'sn2003dh_11_2_56.1_4864.png', 'sn2012ap_11_2_-5.0_4878.png', 'sn2011fu_8_1_42.0_4852.png', 'sn2004dk_6_1_14.2_4865.png', 'PTF10vgv_11_2_8.2_4875.png', 'sn2007bg_11_2_6.9_4869.png', 'sn2007bg_11_2_27.2_4871.png', 'sn2003dh_11_2_17.5_4862.png', 'PTF10vgv_11_2_-6.6_4873.png', 'PTF10vgv_11_2_36.7_4876.png', 'sn2007bg_11_2_5.9_4868.png', 'sn2011fu_8_1_19.0_4851.png', 'sn2007bg_11_2_18.5_4870.png', 'PTF10vgv_11_2_4.2_4874.png', 'sn2013dx_11_2_4.6_4901.png', 'sn2012ap_11_2_2.0_4882.png', 'sn2013dx_11_2_4.6_4902.png', 'sn2012ap_11_2_8.0_4885.png', 'sn2013dx_11_2_-3.2_4895.png', 'sn2013dx_11_2_6.4_4903.png', 'sn2012ap_11_2_241.4_4890.png', 'sn2013dx_11_2_1.3_4898.png', 'sn2013dx_11_2_19.5_4907.png', 'sn2013dx_11_2_2.3_4900.png', 'sn2013dx_11_2_13.4_4905.png', 'sn2012ap_11_2_247.3_4891.png', 'sn2012ap_11_2_1.0_4881.png', 'sn2013dx_11_2_-5.0_4894.png', 'sn2012ap_11_2_-3.0_4879.png', 'sn2012ap_11_2_7.0_4884.png', 'sn2013dx_11_2_-5.0_4893.png', 'sn2012ap_11_2_25.0_4888.png', 'sn2012ap_11_2_-1.0_4880.png', 'sn2012ap_11_2_14.0_4887.png', 'sn2013dx_11_2_-1.5_4896.png', 'sn2013dx_11_2_-0.7_4897.png', 'sn2012ap_11_2_271.1_4892.png', 'sn2013dx_11_2_10.7_4904.png', 'sn2012ap_11_2_4.0_4883.png', 'sn2013dx_11_2_16.9_4906.png', 'sn2013dx_11_2_1.3_4899.png', 'sn2012ap_11_2_13.0_4886.png', 'sn2012ap_11_2_217.3_4889.png', 'sn2007gr_10_2_47.0_4922.png', 'sn2007gr_10_2_10.0_4912.png', 'sn2007gr_10_2_25.0_4919.png', 'sn2007gr_10_2_7.0_4909.png', 'sn2004gt_10_2_81.49_4937.png', 'sn2007gr_10_2_13.0_4913.png', 'sn2004gt_10_2_48.49_4935.png', 'sn2002ao_7_1_30.6_4929.png', 'sn2007gr_10_2_49.0_4923.png', 'sn2004gt_10_2_22.49_4933.png', 'sn2007gr_10_2_15.0_4915.png', 'sn2004gt_10_2_70.49_4936.png', 'sn2007gr_10_2_42.0_4920.png', 'sn2004gt_10_2_18.49_4931.png', 'sn2004gt_10_2_43.49_4934.png', 'sn2007gr_10_2_16.0_4916.png', 'sn2007gr_10_2_53.0_4924.png', 'sn2002ao_7_1_28.3_4928.png', 'sn2007gr_10_2_45.0_4921.png', 'sn2013dx_11_2_23.0_4908.png', 'sn2007gr_10_2_20.0_4918.png', 'sn2004gt_10_2_16.49_4930.png', 'sn2002ao_7_1_21.6_4926.png', 'sn2007gr_10_2_14.0_4914.png', 'sn2002ao_7_1_23.6_4927.png', 'sn2004gt_10_2_19.49_4932.png', 'sn2007gr_10_2_69.0_4925.png', 'sn2007gr_10_2_9.0_4911.png', 'sn2007gr_10_2_8.0_4910.png', 'sn2007gr_10_2_17.0_4917.png', 'sn2007ru_11_2_28.96_4961.png', 'sn2007ru_11_2_12.96_4959.png', 'sn2003jd_11_2_-2.6_4966.png', 'sn2004gt_10_2_142.49_4940.png', 'sn2005ek_12_2_-0.9_4948.png', 'sn2005ek_12_2_0.1_4949.png', 'sn2005ek_12_2_5.1_4953.png', 'sn2007ru_11_2_58.96_4963.png', 'sn2007ru_11_2_-0.04_4955.png', 'sn2004gt_10_2_100.49_4938.png', 'sn2003jd_11_2_-1.6_4967.png', 'sn2007ru_11_2_4.96_4957.png', 'sn2004gt_10_2_132.49_4939.png', 'sn2000er_7_1_5.7_4944.png', 'sn2007ru_11_2_35.96_4962.png', 'sn2007ru_11_2_15.96_4960.png', 'sn2000er_7_1_4.7_4943.png', 'sn2003jd_11_2_-3.6_4965.png', 'sn2004gt_10_2_187.49_4942.png', 'sn2007ru_11_2_-3.04_4954.png', 'sn2007ru_11_2_188.96_4964.png', 'sn2000er_7_1_9.7_4947.png', 'sn2007ru_11_2_8.96_4958.png', 'sn2005ek_12_2_1.1_4950.png', 'sn2007ru_11_2_3.96_4956.png', 'sn2004gt_10_2_168.49_4941.png', 'sn2000er_7_1_6.7_4945.png', 'sn2000er_7_1_8.7_4946.png', 'sn2005ek_12_2_3.1_4952.png', 'sn2005ek_12_2_2.1_4951.png', 'sn2003jd_11_2_73.4_4988.png', 'sn2007uy_9_1_-3.18_4994.png', 'sn2003jd_11_2_23.4_4975.png', 'sn2003jd_11_2_55.4_4986.png', 'sn2003jd_11_2_18.4_4970.png', 'sn2003jd_11_2_49.4_4983.png', 'sn2003jd_11_2_47.4_4980.png', 'sn2003jd_11_2_404.4_4989.png', 'sn2003jd_11_2_27.4_4977.png', 'sn2003jd_11_2_54.4_4985.png', 'sn2003jd_11_2_33.4_4978.png', 'sn2003jd_11_2_-0.6_4968.png', 'sn2007uy_9_1_12.82_4995.png', 'sn2003jd_11_2_48.4_4981.png', 'sn2007uy_9_1_-13.18_4990.png', 'sn2003jd_11_2_21.4_4973.png', 'sn2003jd_11_2_22.4_4974.png', 'sn2007uy_9_1_-11.18_4991.png', 'sn2003jd_11_2_0.4_4969.png', 'sn2003jd_11_2_19.4_4971.png', 'sn2003jd_11_2_26.4_4976.png', 'sn2003jd_11_2_20.4_4972.png', 'sn2003jd_11_2_60.4_4987.png', 'sn2007uy_9_1_-6.18_4992.png', 'sn2007uy_9_1_45.82_4996.png', 'sn2003jd_11_2_51.4_4984.png', 'sn2003jd_11_2_46.4_4979.png', 'sn2007uy_9_1_-5.18_4993.png', 'sn2003jd_11_2_49.4_4982.png', 'sn2007uy_9_1_141.82_4999.png', 'sn2007uy_9_1_54.82_4997.png', 'sn2007uy_9_1_75.82_4998.png', 'sn2013df_8_1_-4.42_4000.png', 'sn2013df_8_1_4.23_4003.png', '11hs_8_1_159.83_4024.png', '11hs_8_1_27.83_4021.png', '11hs_8_1_24.83_4017.png', '11hs_8_1_24.83_4016.png', '11hs_8_1_-5.17_4011.png', '11hs_8_1_-6.17_4009.png', 'sn2013df_8_1_11.23_4004.png', '11hs_8_1_-8.17_4007.png', '11hs_8_1_210.83_4025.png', '11hs_8_1_7.83_4015.png', '11hs_8_1_27.83_4020.png', '11hs_8_1_-7.17_4008.png', '11hs_8_1_-8.17_4006.png', '11hs_8_1_-5.17_4010.png', '11hs_8_1_-5.17_4012.png', '11hs_8_1_25.83_4018.png', '11hs_8_1_26.83_4019.png', 'sn2013df_8_1_0.23_4002.png', 'sn2013df_8_1_-3.77_4001.png', '11hs_8_1_57.83_4023.png', '11hs_8_1_3.83_4013.png', '11hs_8_1_4.83_4014.png', '11hs_8_1_52.83_4022.png', '11hs_8_1_-9.17_4005.png', '13ge_10_2_-14.5_4029.png', '13ge_10_2_-15.5_4028.png', '11hs_8_1_212.83_4026.png', '13ge_10_2_-4.5_4031.png', '13ge_10_2_14.5_4037.png', '13ge_10_2_5.5_4034.png', '13ge_10_2_36.5_4043.png', '13ge_10_2_42.5_4046.png', '13ge_10_2_-13.5_4030.png', '13ge_10_2_39.5_4045.png', '13ge_10_2_-3.5_4032.png', '13ge_10_2_11.5_4035.png', '13ge_10_2_32.5_4041.png', '13ge_10_2_4.5_4033.png', '13ge_10_2_45.5_4048.png', '13ge_10_2_18.5_4039.png', '13ge_10_2_45.5_4049.png', '13ge_10_2_61.5_4050.png', '13ge_10_2_37.5_4044.png', '13ge_10_2_43.5_4047.png', '13ge_10_2_64.5_4051.png', '13ge_10_2_66.5_4052.png', '13ge_10_2_12.5_4036.png', '13ge_10_2_29.5_4040.png', '11hs_8_1_333.83_4027.png', '13ge_10_2_15.5_4038.png', '13ge_10_2_33.5_4042.png', '13ge_10_2_69.5_4053.png', '16gkg_8_1_-18.16_4065.png', '13ge_10_2_101.5_4059.png', '16gkg_8_1_-0.7_4077.png', '16gkg_8_1_-17.15_4068.png', '16gkg_8_1_-0.19_4078.png', '16gkg_8_1_-18.12_4066.png', '13ge_10_2_154.5_4062.png', '13ge_10_2_69.5_4054.png', '16gkg_8_1_-5.03_4075.png', '13ge_10_2_99.5_4058.png', '16gkg_8_1_-0.93_4076.png', '16gkg_8_1_-13.8_4071.png', '13ge_10_2_70.5_4055.png', '13ge_10_2_120.5_4061.png', '13ge_10_2_332.5_4063.png', '16gkg_8_1_-17.8_4067.png', '13ge_10_2_416.5_4064.png', '16gkg_8_1_-15.13_4070.png', 'sn2014ad_11_2_27.48_4081.png', '16gkg_8_1_-6.67_4074.png', '16gkg_8_1_1.36_4079.png', '13ge_10_2_93.5_4056.png', '16gkg_8_1_-10.21_4073.png', '16gkg_8_1_-16.19_4069.png', '13ge_10_2_94.5_4057.png', '16gkg_8_1_-11.2_4072.png', '16gkg_8_1_14.67_4080.png', '13ge_10_2_102.5_4060.png', '10as_8_1_-13.17_4103.png', '15dtg_10_2_63.52_4090.png', '17ein_10_2_18.29_4096.png', '10as_8_1_-14.17_4102.png', '17ein_10_2_38.24_4098.png', '17ein_10_2_51.23_4100.png', '17ein_10_2_22.27_4097.png', '15dtg_10_2_103.88_4092.png', '10as_8_1_-10.17_4106.png', '10as_8_1_-9.17_4107.png', '10as_8_1_-9.17_4108.png', '17ein_10_2_47.23_4099.png', '10as_8_1_-12.17_4104.png', 'sn2014ad_11_2_37.02_4083.png', '15dtg_10_2_-16.25_4085.png', '15dtg_10_2_45.47_4089.png', '10as_8_1_-11.17_4105.png', '17ein_10_2_15.22_4095.png', 'sn2014ad_11_2_27.49_4082.png', '17ein_10_2_-6.71_4093.png', '17ein_10_2_12.3_4094.png', '15dtg_10_2_77.57_4091.png', '15dtg_10_2_14.58_4088.png', 'sn2014ad_11_2_37.03_4084.png', '15dtg_10_2_-2.39_4086.png', '15dtg_10_2_6.0_4087.png', '17ein_10_2_53.22_4101.png', '10as_8_1_-8.17_4111.png', '10as_8_1_95.83_4122.png', '10as_8_1_-5.17_4117.png', '12au_6_1_48.42_4133.png', '12au_6_1_10.42_4130.png', '10as_8_1_110.83_4123.png', '12au_6_1_21.42_4131.png', '10as_8_1_-5.17_4118.png', '10as_8_1_-6.17_4116.png', '10as_8_1_-6.17_4115.png', '12au_6_1_-6.58_4128.png', '10as_8_1_5.83_4120.png', '10as_8_1_-6.17_4114.png', '10as_8_1_18.83_4121.png', '10as_8_1_307.83_4127.png', '10as_8_1_-8.17_4113.png', '12au_6_1_-1.58_4129.png', '10as_8_1_-9.17_4110.png', '10as_8_1_-8.17_4112.png', '12au_6_1_33.42_4132.png', '10as_8_1_-5.17_4119.png', '10as_8_1_123.83_4125.png', '10as_8_1_-9.17_4109.png', '10as_8_1_307.83_4126.png', '10as_8_1_120.83_4124.png', '16coi_11_2_42.35_4152.png', '16coi_11_2_2.35_4145.png', '16coi_11_2_30.35_4151.png', 'sn2012P_8_1_26.04_4164.png', '16coi_11_2_0.35_4144.png', '12au_6_1_137.42_4138.png', '16coi_11_2_10.35_4148.png', '16coi_11_2_177.35_4156.png', '16coi_11_2_-8.65_4141.png', '16coi_11_2_-2.65_4142.png', 'sn2012P_8_1_1.04_4162.png', '16coi_11_2_-13.65_4139.png', '12au_6_1_73.42_4136.png', '16coi_11_2_23.35_4149.png', '12au_6_1_109.42_4137.png', '16coi_11_2_7.35_4147.png', '16coi_11_2_24.35_4150.png', '12au_6_1_57.42_4134.png', '12au_6_1_67.42_4135.png', '16coi_11_2_62.35_4153.png', 'sn2012P_8_1_-1.8_4161.png', '16coi_11_2_142.35_4155.png', 'sn2012P_8_1_-7.96_4159.png', '16coi_11_2_-10.65_4140.png', '16coi_11_2_85.35_4154.png', 'sn2012P_8_1_-10.96_4158.png', 'sn2012P_8_1_-6.96_4160.png', '16coi_11_2_-1.65_4143.png', '16coi_11_2_6.35_4146.png', '16coi_11_2_439.35_4157.png', 'sn2012P_8_1_8.04_4163.png', 'sn1993J_8_1_-17.5_4186.png', 'LSQ14efd_10_2_-11.03_4169.png', 'sn1993J_8_1_-2.4_4193.png', 'sn1993J_8_1_-3.0_4192.png', 'sn1993J_8_1_-15.7_4188.png', 'LSQ14efd_10_2_22.9_4179.png', 'sn1993J_8_1_-4.0_4191.png', 'sn1993J_8_1_-2.0_4194.png', 'LSQ14efd_10_2_16.91_4175.png', 'LSQ14efd_10_2_-12.05_4168.png', 'sn1993J_8_1_1.4_4196.png', 'sn1993J_8_1_-10.5_4189.png', 'LSQ14efd_10_2_16.93_4176.png', 'sn1993J_8_1_-5.0_4190.png', 'LSQ14efd_10_2_-4.04_4172.png', 'LSQ14efd_10_2_3.89_4173.png', 'LSQ14efd_10_2_31.9_4182.png', 'LSQ14efd_10_2_22.86_4178.png', 'sn2012P_8_1_29.61_4165.png', 'LSQ14efd_10_2_22.93_4180.png', 'LSQ14efd_10_2_31.86_4181.png', 'LSQ14efd_10_2_-4.1_4170.png', 'LSQ14efd_10_2_-4.07_4171.png', 'sn2012P_8_1_31.04_4166.png', 'sn1993J_8_1_2.7_4197.png', 'sn2012P_8_1_95.57_4167.png', 'LSQ14efd_10_2_3.93_4174.png', 'sn1993J_8_1_-16.7_4187.png', 'LSQ14efd_10_2_31.93_4183.png', 'sn1993J_8_1_-18.0_4185.png', 'LSQ14efd_10_2_31.93_4184.png', 'LSQ14efd_10_2_16.95_4177.png', 'sn1993J_8_1_-1.6_4195.png', 'sn1993J_8_1_3.4_4198.png', 'sn1993J_8_1_11.0_4204.png', 'sn1993J_8_1_35.7_4215.png', 'sn1993J_8_1_96.5_4227.png', 'sn1993J_8_1_24.0_4209.png', 'sn1993J_8_1_186.1_4235.png', 'sn1993J_8_1_63.7_4221.png', 'sn1993J_8_1_16.5_4207.png', 'sn1993J_8_1_205.0_4237.png', 'sn1993J_8_1_37.7_4218.png', 'sn1993J_8_1_3.7_4199.png', 'sn1993J_8_1_35.0_4214.png', 'sn1993J_8_1_161.0_4234.png', 'sn1993J_8_1_188.0_4236.png', 'sn1993J_8_1_36.7_4217.png', 'sn1993J_8_1_102.0_4228.png', 'sn1993J_8_1_20.4_4208.png', 'sn1993J_8_1_150.0_4232.png', 'sn1993J_8_1_5.5_4202.png', 'sn1993J_8_1_28.5_4210.png', 'sn1993J_8_1_13.0_4206.png', 'sn1993J_8_1_4.6_4201.png', 'sn1993J_8_1_30.0_4211.png', 'sn1993J_8_1_31.6_4212.png', 'sn1993J_8_1_120.7_4230.png', 'sn1993J_8_1_70.0_4223.png', 'sn1993J_8_1_62.0_4220.png', 'sn1993J_8_1_36.4_4216.png', 'sn1993J_8_1_88.0_4225.png', 'sn1993J_8_1_3.8_4200.png', 'sn1993J_8_1_6.6_4203.png', 'sn1993J_8_1_72.0_4224.png', 'sn1993J_8_1_151.4_4233.png', 'sn1993J_8_1_118.0_4229.png', 'sn1993J_8_1_38.5_4219.png', 'sn1993J_8_1_12.0_4205.png', 'sn1993J_8_1_146.0_4231.png', 'sn1993J_8_1_68.0_4222.png', 'sn1993J_8_1_94.7_4226.png', 'sn1993J_8_1_34.7_4213.png', 'sn1993J_8_1_347.5_4250.png', 'sn1993J_8_1_412.1_4253.png', 'sn1993J_8_1_325.9_4247.png', 'sn1993J_8_1_532.1_4257.png', 'sn1993J_8_1_391.8_4252.png', 'sn1993J_8_1_214.0_4239.png', 'sn1993J_8_1_420.8_4254.png', 'sn1993J_8_1_294.0_4246.png', 'sn1993J_8_1_341.7_4249.png', 'sn1993J_8_1_452.1_4255.png', 'sn1993J_8_1_235.5_4241.png', 'sn1993J_8_1_216.5_4240.png', 'sn1993J_8_1_326.8_4248.png', 'sn1993J_8_1_502.1_4256.png', 'sn1993J_8_1_366.1_4251.png', 'sn1993J_8_1_245.0_4242.png', 'sn1993J_8_1_211.7_4238.png', 'sn1993J_8_1_265.0_4243.png', 'sn1993J_8_1_277.0_4244.png', 'sn1993J_8_1_279.4_4245.png', 'sn2005kl_10_2_39.0_4259.png', 'sn2005kl_10_2_-4.0_4258.png', 'sn2005kl_10_2_70.0_4260.png', 'sn2000H_8_1_-0.8_4263.png', 'sn2000H_8_1_-1.8_4262.png', 'sn2005kl_10_2_155.0_4261.png', 'sn2000H_8_1_1.1_4265.png', 'sn2000H_8_1_-0.1_4264.png', 'sn2000H_8_1_2.1_4266.png', 'sn2000H_8_1_4.9_4268.png', 'sn2000H_8_1_3.1_4267.png', 'sn2000H_8_1_16.8_4269.png', 'sn2000H_8_1_47.3_4272.png', 'sn2000H_8_1_31.5_4271.png', 'sn2000H_8_1_20.7_4270.png', 'sn2000H_8_1_56.7_4273.png', 'sn1994I_10_2_-5.94_4274.png', 'sn1994I_10_2_-5.94_4275.png', 'sn1994I_10_2_11.06_4289.png', 'sn1994I_10_2_-2.94_4279.png', 'sn1994I_10_2_7.06_4288.png', 'sn1994I_10_2_1.06_4282.png', 'sn1994I_10_2_-4.94_4276.png', 'sn1994I_10_2_2.06_4284.png', 'sn1994I_10_2_6.06_4287.png', 'sn1994I_10_2_2.06_4283.png', 'sn1994I_10_2_23.06_4292.png', 'sn1994I_10_2_-0.94_4281.png', 'sn1994I_10_2_-3.94_4277.png', 'sn1994I_10_2_25.06_4294.png', 'sn1994I_10_2_-1.94_4280.png', 'sn1994I_10_2_21.06_4290.png', 'sn1994I_10_2_-2.94_4278.png', 'sn1994I_10_2_24.06_4293.png', 'sn1994I_10_2_3.06_4286.png', 'sn1994I_10_2_3.06_4285.png', 'sn1994I_10_2_22.06_4291.png', 'sn1994I_10_2_26.06_4295.png', 'sn1994I_10_2_30.06_4297.png', 'sn1994I_10_2_28.06_4296.png', 'sn1994I_10_2_32.06_4298.png', 'sn1994I_10_2_34.06_4300.png', 'sn1994I_10_2_33.06_4299.png', 'sn1994I_10_2_34.06_4301.png', 'sn1994I_10_2_36.06_4302.png', 'sn1994I_10_2_37.06_4303.png', 'sn1994I_10_2_38.06_4304.png', 'sn1994I_10_2_40.06_4305.png', 'sn1994I_10_2_117.06_4310.png', 'sn1994I_10_2_146.06_4311.png', 'sn1994I_10_2_56.06_4307.png', 'sn1994I_10_2_96.06_4309.png', 'sn1994I_10_2_55.06_4306.png', 'sn1994I_10_2_68.06_4308.png', 'sn2005bf_6_1_5.2_4339.png', 'sn1990U_6_1_40.7_4315.png', 'sn1990U_6_1_69.5_4316.png', 'sn1990U_6_1_10.9_4312.png', 'sn2005bf_6_1_-2.6_4331.png', 'sn2005bf_6_1_-26.3_4320.png', 'sn2005bf_6_1_-23.2_4324.png', 'sn2005bf_6_1_-25.2_4322.png', 'sn2005bf_6_1_-27.2_4319.png', 'sn2005bf_6_1_0.2_4334.png', 'sn2005bf_6_1_-0.7_4333.png', 'sn1990U_6_1_92.3_4317.png', 'sn2005bf_6_1_-1.9_4332.png', 'sn2005bf_6_1_-29.1_4318.png', 'sn2005bf_6_1_-5.6_4328.png', 'sn2005bf_6_1_2.4_4337.png', 'sn2005bf_6_1_-4.6_4329.png', 'sn2005bf_6_1_-19.5_4325.png', 'sn2005bf_6_1_7.2_4340.png', 'sn1990U_6_1_33.7_4314.png', 'sn2005bf_6_1_-26.2_4321.png', 'sn2005bf_6_1_1.2_4335.png', 'sn2005bf_6_1_-6.6_4327.png', 'sn2005bf_6_1_-8.6_4326.png', 'sn1990U_6_1_11.9_4313.png', 'sn2005bf_6_1_4.2_4338.png', 'sn2005bf_6_1_-23.3_4323.png', 'sn2005bf_6_1_-3.7_4330.png', 'sn2005bf_6_1_2.2_4336.png', 'sn2005bf_6_1_21.8_4342.png', 'sn2005bf_6_1_28.7_4346.png', 'sn2005bf_6_1_23.6_4343.png', 'sn2005bf_6_1_27.6_4345.png', 'sn2005bf_6_1_21.7_4341.png', 'sn2005bf_6_1_24.8_4344.png', 'sn2005bf_6_1_31.7_4347.png', 'sn1998bw_11_2_-5.2_4351.png', 'sn1998bw_11_2_-8.2_4350.png', 'sn1998bw_11_2_-11.2_4348.png', 'sn1998bw_11_2_-9.2_4349.png', 'sn1998bw_11_2_-4.2_4352.png', 'sn1998bw_11_2_-3.2_4353.png', 'sn1998bw_11_2_-1.2_4354.png', 'sn1998bw_11_2_0.8_4355.png', 'sn1998bw_11_2_3.8_4357.png', 'sn1998bw_11_2_1.8_4356.png', 'sn1998bw_11_2_6.8_4358.png', 'sn1998bw_11_2_8.8_4359.png', 'sn1998bw_11_2_9.8_4360.png', 'sn1998bw_11_2_10.8_4361.png', 'sn1998bw_11_2_16.8_4362.png', 'sn1998bw_11_2_19.8_4363.png', 'sn1998bw_11_2_49.8_4366.png', 'sn1998bw_11_2_42.8_4365.png', 'sn1998bw_11_2_26.8_4364.png', 'sn1998bw_11_2_61.8_4367.png', 'sn1998bw_11_2_70.8_4368.png', 'sn1998bw_11_2_91.8_4369.png', 'sn1998bw_11_2_122.8_4370.png', 'sn1998bw_11_2_197.8_4371.png', 'sn1998bw_11_2_334.8_4372.png', 'sn1998bw_11_2_373.8_4373.png', 'sn1996cb_8_1_-19.4_4374.png', 'sn1996cb_8_1_-18.3_4375.png', 'sn1996cb_8_1_-3.5_4376.png', 'sn1996cb_8_1_-0.5_4377.png', 'sn1996cb_8_1_95.2_4390.png', 'sn1996cb_8_1_35.4_4385.png', 'sn1996cb_8_1_100.3_4391.png', 'sn1996cb_8_1_4.6_4379.png', 'sn1996cb_8_1_147.9_4395.png', 'sn1996cb_8_1_55.3_4387.png', 'sn1996cb_8_1_5.6_4380.png', 'sn1996cb_8_1_6.5_4381.png', 'sn1996cb_8_1_66.2_4388.png', 'sn1996cb_8_1_151.2_4396.png', 'sn1996cb_8_1_128.0_4394.png', 'sn1996cb_8_1_125.3_4393.png', 'sn1996cb_8_1_25.5_4382.png', 'sn1996cb_8_1_31.4_4384.png', 'sn1996cb_8_1_27.5_4383.png', 'sn1996cb_8_1_91.0_4389.png', 'sn1996cb_8_1_39.4_4386.png', 'sn1996cb_8_1_3.6_4378.png', 'sn1996cb_8_1_114.1_4392.png', 'sn2008D_6_1_-13.7_4413.png', 'sn2008D_6_1_-13.8_4412.png', 'sn1998dt_6_1_12.6_4404.png', 'sn2008D_6_1_-14.8_4410.png', 'sn1998dt_6_1_2.8_4400.png', 'sn2008D_6_1_-14.7_4411.png', 'sn2008D_6_1_-12.8_4414.png', 'sn1998dt_6_1_18.5_4406.png', 'sn1996cb_8_1_332.8_4398.png', 'sn1996cb_8_1_175.8_4397.png', 'sn1998dt_6_1_1.8_4399.png', 'sn2008D_6_1_-17.7_4408.png', 'sn1998dt_6_1_8.7_4402.png', 'sn2008D_6_1_-15.8_4409.png', 'sn1998dt_6_1_5.7_4401.png', 'sn2008D_6_1_-10.6_4415.png', 'sn1998dt_6_1_9.7_4403.png', 'sn1998dt_6_1_33.8_4407.png', 'sn2008D_6_1_-7.9_4416.png', 'sn1998dt_6_1_13.6_4405.png', 'sn2008D_6_1_3.1_4417.png', 'sn2008D_6_1_4.2_4418.png', 'sn2008D_6_1_28.8_4422.png', 'sn2008D_6_1_18.0_4421.png', 'sn2008D_6_1_8.2_4419.png', 'sn2008D_6_1_14.1_4420.png', 'sn2008D_6_1_89.5_4426.png', 'sn2008D_6_1_40.8_4425.png', 'sn2008D_6_1_30.0_4423.png', 'sn2008D_6_1_30.9_4424.png', 'sn2006aj_11_2_-7.0_4428.png', 'sn2006aj_11_2_-6.0_4430.png', 'sn2008D_6_1_129.2_4427.png', 'sn2006aj_11_2_-6.2_4429.png', 'sn2006aj_11_2_-5.2_4431.png', 'sn2006aj_11_2_-4.2_4433.png', 'sn2006aj_11_2_-5.0_4432.png', 'sn2006aj_11_2_-3.2_4434.png', 'sn2006aj_11_2_-3.0_4435.png', 'sn2006aj_11_2_-2.2_4436.png', 'sn2006aj_11_2_-2.0_4437.png', 'sn2006aj_11_2_-1.2_4438.png', 'sn2006aj_11_2_-1.0_4439.png', 'sn2006aj_11_2_-0.2_4440.png', 'sn2006aj_11_2_0.0_4441.png', 'sn2006aj_11_2_1.0_4442.png', 'sn2006aj_11_2_1.8_4443.png', 'sn2006aj_11_2_2.0_4444.png', 'sn2006aj_11_2_2.8_4445.png', 'sn2006aj_11_2_3.0_4446.png', 'sn2006aj_11_2_4.0_4447.png', 'sn2006aj_11_2_5.0_4448.png', 'sn2006aj_11_2_6.0_4449.png', 'sn2006aj_11_2_8.0_4450.png', 'sn2006aj_11_2_9.0_4451.png', 'sn2006aj_11_2_10.0_4452.png', 'sn2006aj_11_2_198.258_4453.png', 'sn2004dn_10_2_-8.0_4454.png', 'sn2004dn_10_2_31.0_4455.png', 'sn2004dn_10_2_34.0_4456.png', 'sn2004dn_10_2_53.0_4457.png', 'sn2004dn_10_2_55.0_4458.png', 'sn2006bt_0_0_1.9_2979.png', 'sn2007ci_0_0_12.5_2996.png', 'sn1999aa_1_0_-8.0_3005.png', 'sn1999aa_1_0_15.6_3020.png', 'sn1999aa_1_0_-4.1_3010.png', 'sn1999aa_1_0_48.0_3034.png', 'sn1999aa_1_0_14.6_3019.png', 'sn1999aa_1_0_20.1_3022.png', 'sn1999aa_1_0_6.7_3016.png', 'sn1999aa_1_0_-9.4_3003.png', 'sn1999aa_1_0_33.1_3029.png', 'sn1999aa_1_0_-0.2_3014.png', 'sn1999aa_1_0_40.1_3030.png', 'sn1999aa_1_0_13.6_3017.png', 'sn1999aa_1_0_16.6_3021.png', 'sn1999aa_1_0_14.5_3018.png', 'sn1999aa_1_0_29.3_3028.png', 'sn1999aa_1_0_-5.0_3009.png', 'sn1999aa_1_0_-5.1_3008.png', 'sn1999aa_1_0_-6.1_3007.png', 'sn1999aa_1_0_46.1_3033.png', 'sn1999aa_1_0_-2.1_3012.png', 'sn1999aa_1_0_44.1_3032.png', 'sn1999aa_1_0_-7.1_3006.png', 'sn1999aa_1_0_-3.1_3011.png', 'sn1999aa_1_0_-9.9_3002.png', 'sn1999aa_1_0_28.3_3027.png', 'sn1999aa_1_0_25.2_3023.png', 'sn1999aa_1_0_27.4_3025.png', 'sn1999aa_1_0_42.1_3031.png', 'sn1999aa_1_0_1.8_3015.png', 'sn1999aa_1_0_-9.0_3004.png', 'sn1999aa_1_0_26.5_3024.png', 'sn1999aa_1_0_28.2_3026.png', 'sn1999aa_1_0_-1.6_3013.png', 'sn2006ac_0_0_21.7_3059.png', 'sn2006ac_0_0_33.5_3060.png', 'sn1999aa_1_0_59.9_3041.png', 'sn2001fe_0_0_30.8_3068.png', 'sn2006ac_0_0_18.0_3058.png', 'sn2006ac_0_0_11.0_3055.png', 'sn2007cg_0_0_7.5_3046.png', 'sn2006ac_0_0_10.0_3054.png', 'sn05gj_3_0_48.113_3049.png', 'sn2006ac_0_0_7.1_3052.png', 'sn1999aa_1_0_52.9_3038.png', 'sn2001fe_0_0_27.9_3067.png', 'sn2001fe_0_0_0.3_3063.png', 'sn1999aa_1_0_52.0_3037.png', 'sn1999aa_1_0_71.7_3042.png', 'sn2001fe_0_0_3.2_3064.png', 'sn05gj_3_0_74.499_3050.png', 'sn2006ac_0_0_9.0_3053.png', 'sn2007cg_0_0_5.5_3044.png', 'sn2007cg_0_0_6.5_3045.png', 'sn1999aa_1_0_80.6_3043.png', 'sn1999aa_1_0_54.0_3039.png', 'sn04gs_0_0_0.435_3047.png', 'sn2006ac_0_0_36.4_3061.png', 'sn2006ac_0_0_6.2_3051.png', 'sn2001fe_0_0_-1.7_3062.png', 'sn2006ac_0_0_12.9_3056.png', 'sn1999aa_1_0_49.0_3035.png', 'sn2001fe_0_0_21.0_3066.png', 'sn1999aa_1_0_55.9_3040.png', 'sn2006ac_0_0_15.0_3057.png', 'sn05gj_3_0_46.254_3048.png', 'sn1999aa_1_0_50.0_3036.png', 'sn2001fe_0_0_6.2_3065.png', 'sn2006le_0_0_14.7_3095.png', 'sn2001fe_0_0_33.9_3069.png', 'sn2001fe_0_0_51.5_3071.png', 'sn2006le_0_0_-8.8_3083.png', 'sn07ba_2_0_8.005_3081.png', 'sn02eu_0_0_0.137_3077.png', 'sn2006le_0_0_-11.7_3082.png', 'sn2006le_0_0_16.7_3096.png', 'sn2006le_0_0_10.8_3092.png', 'sn2006le_0_0_7.9_3090.png', 'sn07ba_2_0_5.122_3080.png', 'sn2006le_0_0_35.3_3098.png', 'sn2006le_0_0_13.8_3094.png', 'sn2006le_0_0_43.1_3101.png', 'sn2006le_0_0_-6.8_3085.png', 'sn2006le_0_0_12.8_3093.png', 'sn2006le_0_0_33.3_3097.png', 'sn2006le_0_0_3.9_3087.png', 'sn2006le_0_0_5.9_3088.png', 'sn2006le_0_0_8.9_3091.png', 'sn02eu_0_0_33.442_3078.png', 'sn02fb_2_0_0.98_3075.png', 'sn2001fe_0_0_62.3_3073.png', 'sn2006le_0_0_6.9_3089.png', 'sn2006eq_0_0_4.7_3074.png', 'sn07ba_2_0_2.085_3079.png', 'sn2006le_0_0_38.2_3100.png', 'sn2006le_0_0_-7.8_3084.png', 'sn2006le_0_0_37.3_3099.png', 'sn2001fe_0_0_53.5_3072.png', 'sn2001fe_0_0_37.7_3070.png', 'sn02fb_2_0_18.602_3076.png', 'sn2006le_0_0_2.9_3086.png', 'sn2007ux_0_0_5.8_3134.png', 'sn2004fu_0_0_-6.4_3117.png', 'sn1997Y_0_0_22.5_3129.png', 'sn2006bz_2_0_0.7_3132.png', 'sn2004S_0_0_36.1_3110.png', 'sn1997Y_0_0_6.9_3128.png', 'sn2004bg_0_0_-3.0_3112.png', 'sn1997Y_0_0_1.9_3126.png', 'sn2006le_0_0_48.1_3103.png', 'sn2004bg_0_0_2.6_3113.png', 'sn2004fu_0_0_27.2_3125.png', 'sn2006bz_2_0_-1.4_3130.png', 'sn2004fu_0_0_2.4_3120.png', 'sn2006ev_0_0_5.5_3104.png', 'sn2004fu_0_0_-3.5_3119.png', 'sn2004bg_0_0_5.7_3114.png', 'sn1997Y_0_0_2.9_3127.png', 'sn2004S_0_0_1.6_3105.png', 'sn2006le_0_0_47.1_3102.png', 'sn2004S_0_0_13.3_3107.png', 'sn2004bg_0_0_12.5_3116.png', 'sn2004fu_0_0_-5.4_3118.png', 'sn2004bg_0_0_10.5_3115.png', 'sn2004S_0_0_42.0_3111.png', 'sn2006bz_2_0_-0.3_3131.png', 'sn2007ux_0_0_15.5_3135.png', 'sn2004fu_0_0_4.4_3122.png', 'sn2004S_0_0_18.3_3109.png', 'sn2004fu_0_0_3.4_3121.png', 'sn2004fu_0_0_22.2_3124.png', 'sn2004fu_0_0_15.3_3123.png', 'sn2004S_0_0_7.4_3106.png', 'sn2002ha_0_0_-4.2_3136.png', 'sn2004S_0_0_13.9_3108.png', 'snls03D3bb_5_0_2.0_3133.png', 'sn2005hk_4_0_-6.3_3152.png', 'sn2005hk_4_0_-2.4_3160.png', 'sn2005hk_4_0_3.6_3162.png', 'sn2005hk_4_0_23.2_3167.png', 'sn2005hk_4_0_-8.3_3146.png', 'sn2002ha_0_0_1.7_3137.png', 'sn2005hk_4_0_-3.4_3158.png', 'sn2005hk_4_0_27.2_3170.png', 'sn02ha_0_0_4.93_3142.png', 'sn2005hk_4_0_-7.3_3148.png', 'sn02ha_0_0_7.889_3143.png', 'sn2005hk_4_0_-4.2_3156.png', 'sn02ha_0_0_-0.848_3141.png', 'sn2005hk_4_0_-8.3_3147.png', 'sn1993ac_0_0_6.9_3140.png', 'sn2002ha_0_0_5.6_3138.png', 'sn2005hk_4_0_-4.3_3155.png', 'sn2005hk_4_0_-1.4_3161.png', 'sn2005hk_4_0_14.4_3165.png', 'sn2005hk_4_0_23.4_3168.png', 'sn02ha_0_0_38.548_3144.png', 'sn2002ha_0_0_9.6_3139.png', 'sn2005hk_4_0_-6.3_3151.png', 'sn2005hk_4_0_14.3_3164.png', 'sn2005hk_4_0_37.0_3171.png', 'sn2005hk_4_0_26.4_3169.png', 'sn2005hk_4_0_-5.3_3153.png', 'sn2005hk_4_0_-3.3_3159.png', 'sn2005hk_4_0_-9.3_3145.png', 'sn2005hk_4_0_-7.3_3149.png', 'sn2005hk_4_0_12.4_3163.png', 'sn2005hk_4_0_-4.2_3157.png', 'sn2005hk_4_0_-6.3_3150.png', 'sn2005hk_4_0_-5.1_3154.png', 'sn2005hk_4_0_20.3_3166.png', 'sn1984A_0_0_-7.0_3190.png', 'sn1984A_0_0_8.1_3195.png', 'sn1984A_0_0_26.2_3198.png', 'sn2005hk_4_0_42.0_3173.png', 'sn2007ae_0_0_2.3_3181.png', 'sn1999cc_0_0_-3.2_3183.png', 'sn1999cc_0_0_24.9_3189.png', 'sn1999cc_0_0_23.0_3188.png', 'sn1984A_0_0_-5.9_3192.png', 'sn2003cq_0_0_-5.8_3200.png', 'sn2003cq_0_0_-0.9_3202.png', 'sn1984A_0_0_54.9_3199.png', 'sn1984A_0_0_19.1_3197.png', 'sn1999cc_0_0_-1.2_3184.png', 'sn2001ck_0_0_4.8_3177.png', 'sn2005hk_4_0_53.8_3175.png', 'sn2005hk_4_0_39.0_3172.png', 'sn1984A_0_0_-2.8_3194.png', 'sn2003cq_0_0_0.0_3203.png', 'sn2005hk_4_0_65.5_3176.png', 'sn1999cc_0_0_-0.2_3185.png', 'sn2001ck_0_0_5.8_3178.png', 'sn1984A_0_0_17.0_3196.png', 'sn1999cc_0_0_1.7_3186.png', 'sn1999cc_0_0_18.2_3187.png', 'sn2001ck_0_0_14.4_3179.png', 'sn2003cq_0_0_-1.8_3201.png', 'sn2007ae_0_0_3.3_3182.png', 'sn2001ck_0_0_16.3_3180.png', 'sn2005hk_4_0_42.9_3174.png', 'sn1984A_0_0_-6.7_3191.png', 'sn1984A_0_0_-4.9_3193.png', 'sn2003cq_0_0_1.0_3204.png', 'sn1991bg_2_0_53.9_3226.png', 'sn1991bg_2_0_49.9_3223.png', 'sn1991bg_2_0_32.1_3218.png', 'sn1991bg_2_0_19.6_3215.png', 'sn1991bg_2_0_33.8_3220.png', 'sn1991bg_2_0_87.5_3227.png', 'sn1991bg_2_0_2.1_3210.png', 'sn1991bg_2_0_52.8_3224.png', 'sn1991bg_2_0_25.0_3216.png', 'sn1991bg_2_0_112.6_3228.png', 'sn1991bg_2_0_33.1_3219.png', 'sn1991bg_2_0_0.9_3207.png', 'sn2003cq_0_0_17.4_3206.png', 'sn1991bg_2_0_1.9_3208.png', 'sn1991bg_2_0_2.1_3209.png', 'sn1991bg_2_0_52.9_3225.png', 'sn1991bg_2_0_18.0_3213.png', 'sn1991bg_2_0_18.3_3214.png', 'sn1991bg_2_0_142.4_3231.png', 'sn1991bg_2_0_45.7_3221.png', 'sn1991bg_2_0_45.9_3222.png', 'sn1991bg_2_0_15.8_3212.png', 'sn1991bg_2_0_14.1_3211.png', 'sn1991bg_2_0_116.7_3230.png', 'sn1991bg_2_0_116.6_3229.png', 'sn1991bg_2_0_28.9_3217.png', 'sn2003cq_0_0_2.0_3205.png', 'sn1998bp_0_0_-2.9_3250.png', 'sn2006cf_0_0_4.7_3239.png', 'sn2006cf_0_0_17.1_3241.png', 'sn2005A_0_0_0.6_3248.png', 'sn2006cf_0_0_1.8_3236.png', 'sn1998bp_0_0_1.0_3254.png', 'sn1991bg_2_0_202.1_3232.png', 'sn2006cf_0_0_3.7_3238.png', 'sn2006cf_0_0_2.7_3237.png', 'sn2005A_0_0_1.5_3249.png', 'sn08hs_0_0_-7.936_3246.png', 'sn1998bp_0_0_0.1_3253.png', 'sn05el_0_0_-6.704_3233.png', 'sn2006te_0_0_12.3_3245.png', 'sn05el_0_0_8.091_3235.png', 'sn1998bp_0_0_-0.9_3252.png', 'sn2006gt_2_0_3.3_3244.png', 'sn1998bp_0_0_-1.9_3251.png', 'sn2006gt_2_0_1.3_3242.png', 'sn05el_0_0_1.216_3234.png', 'sn2006cf_0_0_6.5_3240.png', 'sn2005A_0_0_-1.3_3247.png', 'sn2006gt_2_0_2.3_3243.png', 'sn2007al_2_0_4.3_3263.png', 'sn2006gz_5_0_-13.3_3272.png', 'sn2007al_2_0_3.3_3262.png', 'sn1998bp_0_0_29.6_3260.png', 'sn1998bp_0_0_25.8_3258.png', 'sn1998bp_0_0_12.9_3255.png', 'sn2007al_2_0_2.4_3261.png', 'sn2005bo_0_0_21.7_3270.png', 'sn2006gz_5_0_-13.3_3271.png', 'sn2007al_2_0_10.2_3267.png', 'sn2006gz_5_0_-12.3_3274.png', 'sn1998bp_0_0_27.7_3259.png', 'sn2007al_2_0_8.3_3265.png', 'sn2006gz_5_0_-11.3_3275.png', 'sn2006gz_5_0_-9.3_3276.png', 'sn2007al_2_0_10.1_3266.png', 'sn1998bp_0_0_14.8_3256.png', 'sn2007al_2_0_11.3_3268.png', 'sn2007al_2_0_5.3_3264.png', 'sn1998bp_0_0_24.8_3257.png', 'sn2006gz_5_0_-12.3_3273.png', 'sn2005bo_0_0_-0.1_3269.png', 'sn2006X_0_0_6.2_3292.png', 'sn2006X_0_0_1.3_3288.png', 'sn2006gz_5_0_5.3_3280.png', 'sn2006gz_5_0_-4.5_3278.png', 'sn2006X_0_0_17.1_3300.png', 'sn2006X_0_0_14.2_3299.png', 'sn2006X_0_0_5.2_3291.png', 'sn2006gz_5_0_-8.4_3277.png', 'sn2006X_0_0_12.3_3297.png', 'sn2006gz_5_0_10.2_3286.png', 'sn2006X_0_0_39.1_3306.png', 'sn2006X_0_0_29.0_3301.png', 'sn2006X_0_0_31.1_3302.png', 'sn2006X_0_0_33.2_3304.png', 'sn2006X_0_0_11.2_3296.png', 'sn2006gz_5_0_8.2_3284.png', 'sn2006X_0_0_32.0_3303.png', 'sn2006X_0_0_13.3_3298.png', 'sn2006gz_5_0_7.3_3282.png', 'sn2006X_0_0_34.0_3305.png', 'sn2006X_0_0_8.2_3294.png', 'sn2006X_0_0_42.0_3307.png', 'sn2006X_0_0_10.3_3295.png', 'sn2006gz_5_0_9.2_3285.png', 'sn2006X_0_0_7.3_3293.png', 'sn2006gz_5_0_8.2_3283.png', 'sn2006X_0_0_2.3_3289.png', 'sn2006gz_5_0_11.1_3287.png', 'sn2006X_0_0_4.2_3290.png', 'sn2006gz_5_0_6.2_3281.png', 'sn2006gz_5_0_-1.6_3279.png', 'sn1999da_2_0_-2.6_3322.png', 'sn1996L_15_3_42.2_3317.png', 'sn1998S_15_3_-1.5_3325.png', 'sn2006X_0_0_72.7_3311.png', 'sn1998S_15_3_12.7_3332.png', 'sn1998S_15_3_-13.1_3323.png', 'sn1996L_15_3_58.6_3319.png', 'sn1998S_15_3_9.7_3330.png', 'sn1996L_15_3_322.8_3320.png', 'sn1996L_15_3_8.4_3315.png', 'sn1998S_15_3_2.7_3329.png', 'sn2006X_0_0_62.8_3310.png', 'sn1998S_15_3_0.9_3326.png', 'sn1996L_15_3_323.8_3321.png', 'sn1998S_15_3_11.4_3331.png', 'sn2006X_0_0_59.8_3309.png', 'sn2006X_0_0_150.3_3312.png', 'sn1998S_15_3_-12.5_3324.png', 'sn2006X_0_0_43.0_3308.png', 'sn1996L_15_3_58.1_3318.png', 'sn1998S_15_3_1.9_3328.png', 'sn2006X_0_0_275.1_3313.png', 'sn1998S_15_3_1.8_3327.png', 'sn1996L_15_3_33.7_3316.png', 'sn03U_0_0_-2.142_3314.png', 'sn1998S_15_3_13.8_3333.png', 'sn1998S_15_3_81.2_3349.png', 'sn1998S_15_3_127.3_3358.png', 'sn1998S_15_3_74.5_3347.png', 'sn1998S_15_3_101.4_3354.png', 'sn1998S_15_3_70.5_3345.png', 'sn1998S_15_3_56.3_3342.png', 'sn1998S_15_3_58.5_3343.png', 'sn1998S_15_3_31.7_3336.png', 'sn1998S_15_3_95.4_3352.png', 'sn1998S_15_3_247.3_3362.png', 'sn1998S_15_3_240.3_3360.png', 'sn1998S_15_3_39.7_3337.png', 'sn1998S_15_3_120.3_3357.png', 'sn1998S_15_3_40.6_3338.png', 'sn1998S_15_3_75.5_3348.png', 'sn1998S_15_3_118.3_3356.png', 'sn1998S_15_3_60.5_3344.png', 'sn1998S_15_3_105.4_3355.png', 'sn1998S_15_3_72.5_3346.png', 'sn1998S_15_3_43.6_3339.png', 'sn1998S_15_3_89.4_3350.png', 'sn1998S_15_3_15.8_3334.png', 'sn1998S_15_3_46.6_3341.png', 'sn1998S_15_3_30.7_3335.png', 'sn1998S_15_3_98.4_3353.png', 'sn1998S_15_3_128.3_3359.png', 'sn1998S_15_3_241.3_3361.png', 'sn1998S_15_3_93.4_3351.png', 'sn1998S_15_3_45.6_3340.png', 'sn1998S_15_3_268.2_3364.png', 'sn1998S_15_3_256.3_3363.png', 'sn1998S_15_3_383.6_3376.png', 'sn1998S_15_3_305.1_3369.png', 'sn91T_1_0_-6.4_3384.png', 'sn98ef_0_0_-7.931_3396.png', 'sn1998S_15_3_275.2_3365.png', 'sn91T_1_0_-5.3_3385.png', 'sn91T_1_0_-0.2_3386.png', 'sn91T_1_0_10.9_3387.png', 'sn91T_1_0_67.6_3393.png', 'sn91T_1_0_18.6_3389.png', 'sn91T_1_0_-10.3_3381.png', 'sn1998S_15_3_355.8_3374.png', 'sn91T_1_0_45.7_3391.png', 'sn1998S_15_3_390.6_3377.png', 'sn1998S_15_3_367.8_3375.png', 'sn91T_1_0_-9.3_3382.png', 'sn1998S_15_3_283.2_3367.png', 'sn1998S_15_3_422.5_3379.png', 'sn1998S_15_3_300.0_3368.png', 'sn1998S_15_3_311.1_3371.png', 'sn1998S_15_3_310.1_3370.png', 'sn1998S_15_3_338.9_3373.png', 'sn1998S_15_3_413.5_3378.png', 'sn91T_1_0_-7.3_3383.png', 'sn91T_1_0_15.9_3388.png', 'sn1998S_15_3_325.0_3372.png', 'sn1998S_15_3_277.2_3366.png', 'sn91T_1_0_24.8_3390.png', 'sn91T_1_0_46.6_3392.png', 'sn91T_1_0_260.4_3395.png', 'sn91T_1_0_75.2_3394.png', 'sn91T_1_0_-11.5_3380.png', 'sn2005am_0_0_23.7_3410.png', 'sn2005am_0_0_3.9_3402.png', 'sn2005am_0_0_26.7_3411.png', 'sn2005am_0_0_10.9_3407.png', 'sn2005am_0_0_4.9_3403.png', 'sn2005am_0_0_2.0_3400.png', 'sn2005am_0_0_6.9_3404.png', 'sn2005am_0_0_35.6_3413.png', 'sn2005am_0_0_9.9_3406.png', 'sn2005am_0_0_31.6_3412.png', 'sn2005am_0_0_11.8_3408.png', 'sn2005am_0_0_14.8_3409.png', 'sn2005am_0_0_3.0_3401.png', 'sn2005am_0_0_-2.9_3399.png', 'sn2005am_0_0_38.6_3414.png', 'sn98ef_0_0_85.519_3398.png', 'sn2005am_0_0_7.9_3405.png', 'sn98ef_0_0_28.514_3397.png', 'sn2005am_0_0_57.4_3415.png', 'sn2002fk_0_0_94.5_3436.png', 'sn2002fk_0_0_44.0_3429.png', 'sn2002fk_0_0_63.8_3430.png', 'sn2002fk_0_0_33.2_3426.png', 'sn2002fk_0_0_85.7_3433.png', 'sn2002fk_0_0_67.8_3431.png', 'sn2002fk_0_0_119.3_3439.png', 'sn1999gd_0_0_25.5_3443.png', 'sn2002fk_0_0_-1.5_3418.png', 'sn2002fk_0_0_71.7_3432.png', 'sn2002fk_0_0_8.3_3423.png', 'sn2007ap_0_0_7.4_3446.png', 'sn2002fk_0_0_102.5_3438.png', 'sn2002fk_0_0_-3.5_3417.png', 'sn2002fk_0_0_9.4_3424.png', 'sn1999gd_0_0_29.5_3444.png', 'sn2002fk_0_0_6.5_3421.png', 'sn2002fk_0_0_37.1_3427.png', 'sn2002fk_0_0_30.1_3425.png', 'sn2002fk_0_0_7.4_3422.png', 'sn2002fk_0_0_4.4_3420.png', 'sn1999gd_0_0_1.1_3441.png', 'sn1999gd_0_0_34.3_3445.png', 'sn2002fk_0_0_96.5_3437.png', 'sn2002fk_0_0_42.1_3428.png', 'sn2007ap_0_0_11.4_3447.png', 'sn1999gd_0_0_7.9_3442.png', 'sn2002fk_0_0_91.6_3435.png', 'sn2002fk_0_0_87.6_3434.png', 'sn2005am_0_0_63.3_3416.png', 'sn2002fk_0_0_119.4_3440.png', 'sn2002fk_0_0_2.5_3419.png', 'sn98bw_11_2_15.7_3461.png', 'sn98bw_11_2_18.7_3463.png', 'sn98bw_11_2_7.8_3456.png', 'sn98bw_11_2_36.5_3470.png', 'sn98bw_11_2_17.7_3462.png', 'sn98bw_11_2_25.7_3466.png', 'sn98bw_11_2_11.7_3458.png', 'sn05kc_0_0_12.187_3455.png', 'sn98bw_11_2_20.7_3464.png', 'sn98bw_11_2_12.7_3459.png', 'sn98bw_11_2_23.7_3465.png', 'sn98bw_11_2_8.7_3457.png', 'sn2002eu_0_0_60.7_3453.png', 'sn98bw_11_2_33.6_3469.png', 'sn2002eu_0_0_10.7_3452.png', 'sn2002eu_0_0_3.0_3449.png', 'sn98bw_11_2_26.7_3467.png', 'sn98bw_11_2_27.6_3468.png', 'sn2002eu_0_0_5.0_3450.png', 'sn2002eu_0_0_1.1_3448.png', 'sn98bw_11_2_13.7_3460.png', 'sn05kc_0_0_10.223_3454.png', 'sn2002eu_0_0_7.8_3451.png', 'sn2002er_0_0_4.9_3493.png', 'sn2002er_0_0_0.9_3489.png', 'sn2002er_0_0_-10.0_3478.png', 'sn2002er_0_0_14.9_3497.png', 'sn2002er_0_0_-8.0_3480.png', 'sn2002er_0_0_-7.0_3481.png', 'sn2002er_0_0_-3.8_3485.png', 'sn98bw_11_2_59.2_3472.png', 'sn98bw_11_2_138.5_3475.png', 'sn2002er_0_0_-6.0_3482.png', 'sn2002er_0_0_-2.1_3487.png', 'sn2002er_0_0_-4.0_3484.png', 'sn2002er_0_0_15.8_3498.png', 'sn98bw_11_2_86.9_3474.png', 'sn98bw_11_2_66.1_3473.png', 'sn2002er_0_0_-9.0_3479.png', 'sn2002er_0_0_8.8_3494.png', 'sn2002er_0_0_-3.1_3486.png', 'sn98bw_11_2_43.4_3471.png', 'sn2002er_0_0_-1.1_3488.png', 'sn2002er_0_0_-5.0_3483.png', 'sn2002er_0_0_-11.9_3477.png', 'sn2002er_0_0_3.8_3491.png', 'sn2002er_0_0_2.9_3490.png', 'sn98bw_11_2_212.7_3476.png', 'sn2002er_0_0_4.1_3492.png', 'sn2002er_0_0_10.0_3495.png', 'sn2002er_0_0_11.8_3496.png', 'sn1998eg_0_0_22.7_3511.png', 'sn91bg_2_0_2.5_3525.png', 'sn07bm_0_0_20.452_3522.png', 'sn2006D_0_0_-7.3_3512.png', 'sn2006D_0_0_-5.3_3513.png', 'sn06ac_0_0_8.542_3519.png', 'sn2006D_0_0_12.5_3516.png', 'sn2002er_0_0_18.9_3499.png', 'sn1998eg_0_0_18.8_3510.png', 'sn07bm_0_0_15.523_3521.png', 'sn2006D_0_0_4.5_3515.png', 'sn06dm_0_0_20.443_3505.png', 'sn2006D_0_0_16.3_3517.png', 'sn06dm_0_0_8.734_3503.png', 'sn06dm_0_0_36.063_3506.png', 'sn2002er_0_0_32.6_3501.png', 'sn1998eg_0_0_-0.8_3507.png', 'sn99by_2_0_182.257_3518.png', 'sn07bm_0_0_-7.297_3520.png', 'sn91bg_2_0_1.5_3524.png', 'sn2006D_0_0_-1.4_3514.png', 'sn1998eg_0_0_4.1_3508.png', 'sn06dm_0_0_14.607_3504.png', 'sn2002er_0_0_212.3_3502.png', 'sn07bm_0_0_41.339_3523.png', 'sn2002er_0_0_23.6_3500.png', 'sn1998eg_0_0_16.8_3509.png', 'sn91bg_2_0_117.2_3547.png', 'sn1983V_10_2_-7.0_3552.png', 'sn91bg_2_0_14.7_3528.png', 'sn91bg_2_0_33.7_3536.png', 'sn2005ki_0_0_1.0_3550.png', 'sn91bg_2_0_46.5_3539.png', 'sn1983V_10_2_11.9_3555.png', 'sn91bg_2_0_143.0_3548.png', 'sn91bg_2_0_113.2_3545.png', 'sn91bg_2_0_202.7_3549.png', 'sn91bg_2_0_50.5_3540.png', 'sn1983V_10_2_-9.0_3551.png', 'sn91bg_2_0_46.3_3538.png', 'sn91bg_2_0_32.7_3535.png', 'sn91bg_2_0_2.7_3526.png', 'sn91bg_2_0_117.2_3546.png', 'sn1983V_10_2_-4.0_3553.png', 'sn91bg_2_0_29.5_3534.png', 'sn91bg_2_0_88.1_3544.png', 'sn1983V_10_2_4.0_3554.png', 'sn91bg_2_0_18.6_3530.png', 'sn1983V_10_2_12.9_3556.png', 'sn91bg_2_0_34.4_3537.png', 'sn91bg_2_0_16.4_3529.png', 'sn1983V_10_2_13.9_3557.png', 'sn1983V_10_2_14.9_3558.png', 'sn91bg_2_0_18.9_3531.png', 'sn91bg_2_0_54.5_3543.png', 'sn91bg_2_0_53.5_3542.png', 'sn91bg_2_0_25.6_3533.png', 'sn91bg_2_0_2.7_3527.png', 'sn91bg_2_0_53.3_3541.png', 'sn91bg_2_0_20.2_3532.png', 'sn2002fb_2_0_26.8_3569.png', 'sn2007hj_0_0_-2.6_3577.png', 'sn1983V_10_2_15.9_3559.png', 'sn2006sr_0_0_3.9_3575.png', 'sn2007hj_0_0_12.3_3587.png', 'sn2002fb_2_0_0.3_3566.png', 'sn2006sr_0_0_1.0_3572.png', 'sn2002fb_2_0_-4.5_3564.png', 'sn2007hj_0_0_3.4_3582.png', 'sn2006sr_0_0_-0.9_3571.png', 'sn2006sr_0_0_3.0_3574.png', 'sn2002fb_2_0_-2.7_3565.png', 'sn1983V_10_2_16.9_3560.png', 'sn2002fb_2_0_17.0_3567.png', 'sn2007hj_0_0_14.2_3588.png', 'sn2006sr_0_0_2.0_3573.png', 'sn2007hj_0_0_8.2_3586.png', 'sn2002fb_2_0_22.9_3568.png', 'sn2007hj_0_0_2.4_3581.png', 'sn2002fb_2_0_52.5_3570.png', 'sn2007hj_0_0_-0.6_3579.png', 'sn1983V_10_2_17.9_3561.png', 'sn2006sr_0_0_17.6_3576.png', 'sn2007hj_0_0_4.4_3583.png', 'sn2007hj_0_0_1.4_3580.png', 'sn2007hj_0_0_-1.5_3578.png', 'sn1983V_10_2_37.8_3562.png', 'sn2007hj_0_0_6.3_3584.png', 'sn2007hj_0_0_7.3_3585.png', 'sn1996bv_0_0_45.6_3563.png', 'sn06bu_0_0_4.238_3591.png', 'sn2006cz_1_0_-1.0_3617.png', 'sn2001cp_0_0_-1.1_3596.png', 'sn2005eq_1_0_14.0_3606.png', 'sn2005eq_1_0_26.6_3608.png', 'sn2001cp_0_0_0.8_3597.png', 'sn2005eq_1_0_53.7_3610.png', 'sn2005eq_1_0_-3.5_3603.png', 'sn2005eq_1_0_51.1_3609.png', 'sn2006cz_1_0_-2.0_3616.png', 'sn99da_2_0_36.907_3613.png', 'sn2001cp_0_0_16.5_3598.png', 'sn2005eq_1_0_16.9_3607.png', 'sn2001cp_0_0_-3.9_3595.png', 'sn2001cp_0_0_26.2_3600.png', 'sn2005eq_1_0_-8.3_3601.png', 'sn99da_2_0_7.359_3612.png', 'sn2005eq_1_0_0.4_3604.png', 'sn99da_2_0_-1.516_3611.png', 'sn2001cp_0_0_-4.9_3594.png', 'sn2005eq_1_0_1.3_3605.png', 'sn98dx_0_0_5.497_3614.png', 'sn07qe_0_0_-6.539_3618.png', 'sn2005eq_1_0_-5.4_3602.png', 'sn2001cp_0_0_22.3_3599.png', 'sn2007hj_0_0_32.9_3589.png', 'sn2008R_2_0_5.3_3592.png', 'sn2001cp_0_0_-6.8_3593.png', 'sn2007hj_0_0_36.8_3590.png', 'sn2006cz_1_0_-3.9_3615.png', 'sn1999by_2_0_4.0_3625.png', 'sn1999by_2_0_41.9_3634.png', 'sn1999by_2_0_32.9_3633.png', 'sn94I_10_2_-5.6_3636.png', 'sn1999by_2_0_28.9_3631.png', 'sn1999by_2_0_6.9_3628.png', 'sn1999by_2_0_24.9_3630.png', 'sn1999by_2_0_7.9_3629.png', 'sn1999by_2_0_5.9_3627.png', 'sn94I_10_2_-5.7_3635.png', 'sn1999by_2_0_2.9_3624.png', 'sn1999by_2_0_5.0_3626.png', 'sn1999by_2_0_-5.0_3621.png', 'sn94I_10_2_-3.8_3637.png', 'sn1999by_2_0_-4.1_3622.png', 'sn94I_10_2_-2.7_3638.png', 'sn07qe_0_0_16.003_3620.png', 'sn07qe_0_0_6.227_3619.png', 'sn1999by_2_0_-3.0_3623.png', 'sn1999by_2_0_30.9_3632.png', 'sn94I_10_2_64.1_3653.png', 'sn94I_10_2_40.0_3652.png', 'sn94I_10_2_21.2_3644.png', 'sn94I_10_2_23.2_3646.png', 'sn94I_10_2_3.3_3643.png', 'sn94I_10_2_36.0_3650.png', 'sn94I_10_2_24.1_3647.png', 'sn94I_10_2_1.1_3640.png', 'sn94I_10_2_-0.1_3639.png', 'sn94I_10_2_30.1_3649.png', 'sn94I_10_2_2.1_3641.png', 'sn94I_10_2_26.0_3648.png', 'sn94I_10_2_22.2_3645.png', 'sn2005mc_0_0_-2.2_3654.png', 'sn94I_10_2_2.4_3642.png', 'sn94I_10_2_38.1_3651.png', 'sn1997ef_11_2_-4.1_3664.png', 'sn1997ef_11_2_16.8_3669.png', 'sn1997ef_11_2_15.7_3668.png', 'sn1997ef_11_2_19.6_3671.png', 'sn1997ef_11_2_-9.1_3660.png', 'sn1997ef_11_2_-5.0_3663.png', 'sn1997ef_11_2_37.6_3674.png', 'sn1997ef_11_2_18.6_3670.png', 'sn1997ef_11_2_21.6_3672.png', 'sn1997ef_11_2_6.9_3665.png', 'sn1997ef_11_2_12.8_3666.png', 'sn1997ef_11_2_-10.0_3659.png', 'sn1997ef_11_2_-5.1_3662.png', 'sn1997ef_11_2_-6.1_3661.png', 'sn2005mc_0_0_5.6_3655.png', 'sn1997ef_11_2_26.5_3673.png', 'sn1997ef_11_2_-11.8_3657.png', 'sn1997ef_11_2_13.8_3667.png', 'sn1997ef_11_2_-10.9_3658.png', 'sn1997ef_11_2_-13.9_3656.png', 'sn1997ef_11_2_46.2_3677.png', 'sn1997ef_11_2_40.3_3675.png', 'sn1997ef_11_2_44.3_3676.png', 'sn1997ef_11_2_48.1_3678.png', 'sn1997ef_11_2_48.4_3679.png', 'sn2000dg_0_0_16.6_3688.png', 'sn2007ca_0_0_5.5_3690.png', 'sn2007ca_0_0_45.8_3697.png', 'sn1997ef_11_2_79.8_3681.png', 'sn2005iq_0_0_-6.0_3684.png', 'sn1998dh_0_0_-8.4_3700.png', 'sn2000dg_0_0_0.2_3686.png', 'sn2007ca_0_0_3.4_3689.png', 'sn1997ef_11_2_104.8_3683.png', 'sn02cf_2_0_-0.655_3698.png', 'sn2007ca_0_0_13.3_3694.png', 'sn2007ca_0_0_6.4_3691.png', 'sn2007ca_0_0_38.0_3696.png', 'sn1998dh_0_0_-9.4_3699.png', 'sn1997ef_11_2_86.0_3682.png', 'sn2000dg_0_0_3.1_3687.png', 'sn2000dg_0_0_-0.8_3685.png', 'sn1997ef_11_2_75.0_3680.png', 'sn2007ca_0_0_9.4_3692.png', 'sn2007ca_0_0_11.4_3693.png', 'sn2007ca_0_0_34.9_3695.png', 'sn04bw_0_0_6.593_3725.png', 'sn02he_0_0_-5.913_3726.png', 'sn05ke_2_0_7.824_3722.png', 'sn2003W_0_0_-9.1_3736.png', 'sn2000dn_0_0_-7.7_3730.png', 'sn02he_0_0_3.221_3729.png', 'sn2003Y_2_0_-3.4_3718.png', 'sn06et_0_0_43.758_3721.png', 'sn1998dh_0_0_36.1_3705.png', 'sn2001ah_1_0_-9.7_3711.png', 'sn2001ah_1_0_45.2_3715.png', 'sn05ke_2_0_14.853_3724.png', 'sn07A_0_0_15.074_3710.png', 'sn05ke_2_0_9.872_3723.png', 'sn1998dh_0_0_-3.5_3703.png', 'sn1998dh_0_0_-7.5_3701.png', 'sn2003Y_2_0_-5.3_3717.png', 'sn1998dh_0_0_40.1_3706.png', 'sn1998dh_0_0_43.1_3707.png', 'sn2001ah_1_0_17.8_3713.png', 'sn1998dh_0_0_-5.4_3702.png', 'sn2003W_0_0_-8.2_3737.png', 'sn2000dn_0_0_-0.9_3732.png', 'sn1998dh_0_0_45.0_3708.png', 'sn07A_0_0_2.366_3709.png', 'sn06et_0_0_9.559_3720.png', 'sn06et_0_0_3.713_3719.png', 'sn02he_0_0_0.293_3728.png', 'sn2000dn_0_0_-3.8_3731.png', 'sn2003W_0_0_-11.1_3734.png', 'sn02he_0_0_-1.026_3727.png', 'sn1998dh_0_0_-0.6_3704.png', 'sn2001ah_1_0_-8.7_3712.png', 'sn2000dn_0_0_45.4_3733.png', 'sn2001ah_1_0_44.3_3714.png', 'sn2003W_0_0_-10.2_3735.png', 'sn2003Y_2_0_-6.3_3716.png', 'sn2003W_0_0_21.2_3745.png', 'sn08ds_1_0_-4.93_3752.png', 'sn2003W_0_0_-3.3_3741.png', 'sn2003W_0_0_29.9_3748.png', 'sn2006br_0_0_3.0_3751.png', 'sn2006al_0_0_2.5_3761.png', 'sn2003W_0_0_25.1_3746.png', 'sn2006al_0_0_3.4_3762.png', 'sn2006br_0_0_0.2_3750.png', 'sn2003W_0_0_-2.3_3742.png', 'sn08ds_1_0_92.827_3760.png', 'sn08ds_1_0_21.426_3755.png', 'sn08ds_1_0_56.774_3757.png', 'sn08ds_1_0_-0.077_3753.png', 'sn08ds_1_0_78.227_3759.png', 'sn2003W_0_0_28.0_3747.png', 'sn08ds_1_0_63.437_3758.png', 'sn2003W_0_0_-5.3_3740.png', 'sn2003W_0_0_0.6_3744.png', 'sn2003W_0_0_-6.3_3739.png', 'sn08ds_1_0_2.915_3754.png', 'sn2003W_0_0_-7.3_3738.png', 'sn2003W_0_0_-0.4_3743.png', 'sn2003W_0_0_43.7_3749.png', 'sn08ds_1_0_51.911_3756.png', 'sn2008bf_0_0_0.7_3771.png', 'sn2006al_0_0_5.4_3764.png', 'sn2002cx_4_0_-4.3_3787.png', 'sn2000ce_0_0_8.7_3768.png', 'sn2006ak_0_0_7.3_3786.png', 'sn2008bf_0_0_11.4_3777.png', 'sn2008bf_0_0_10.4_3776.png', 'sn2000ce_0_0_19.5_3769.png', 'sn2006al_0_0_4.3_3763.png', 'sn2000ce_0_0_6.7_3767.png', 'sn2000ce_0_0_21.5_3770.png', 'sn2008bf_0_0_38.7_3781.png', 'sn2006al_0_0_6.3_3765.png', 'sn2008bf_0_0_13.3_3778.png', 'sn2002cx_4_0_15.2_3790.png', 'sn2006al_0_0_9.1_3766.png', 'sn2008bf_0_0_67.9_3784.png', 'sn2008bf_0_0_16.2_3779.png', 'sn2002cx_4_0_-1.4_3788.png', 'sn2008bf_0_0_31.8_3780.png', 'sn2002cx_4_0_11.3_3789.png', 'sn2008bf_0_0_2.6_3772.png', 'sn2008bf_0_0_41.5_3782.png', 'sn05dv_0_0_-0.613_3785.png', 'sn2008bf_0_0_4.5_3774.png', 'sn2008bf_0_0_7.5_3775.png', 'sn2008bf_0_0_60.0_3783.png', 'sn2008bf_0_0_3.6_3773.png', 'sn2007co_0_0_3.7_3804.png', 'sn02hd_0_0_6.048_3795.png', 'sn2007co_0_0_-3.1_3798.png', 'sn2002cx_4_0_54.3_3794.png', 'sn2007co_0_0_5.7_3806.png', 'sn06sr_0_0_2.726_3814.png', 'sn2007co_0_0_-1.2_3799.png', 'sn2007co_0_0_1.7_3802.png', 'sn2007co_0_0_-4.1_3797.png', 'sn2007co_0_0_2.7_3803.png', 'sn2002cx_4_0_19.1_3791.png', 'sn2006ot_0_0_-0.4_3816.png', 'sn2007co_0_0_6.6_3807.png', 'sn2002cx_4_0_24.0_3792.png', 'sn2007co_0_0_0.8_3801.png', 'sn2007co_0_0_8.6_3809.png', 'sn2002cx_4_0_25.0_3793.png', 'sn06sr_0_0_-2.297_3813.png', 'sn2007co_0_0_11.5_3811.png', 'sn2007co_0_0_87.2_3812.png', 'sn2006ot_0_0_2.5_3817.png', 'sn2007co_0_0_7.5_3808.png', 'sn2007co_0_0_10.5_3810.png', 'sn2007co_0_0_-5.1_3796.png', 'sn2007co_0_0_-0.2_3800.png', 'sn2007co_0_0_4.6_3805.png', 'sn2004fz_0_0_-6.8_3815.png', 'sn00dg_0_0_-4.998_3820.png', 'sn2001eh_1_0_-4.9_3836.png', 'sn2007Y_6_1_267.8_3834.png', 'sn2007Y_6_1_-2.0_3825.png', 'sn2007Y_6_1_-15.0_3823.png', 'sn2001eh_1_0_2.7_3839.png', 'sn2007Y_6_1_4.9_3826.png', 'sn2007Y_6_1_19.8_3829.png', 'sn2007Y_6_1_228.2_3832.png', 'sn2001eh_1_0_3.7_3840.png', 'sn2007Y_6_1_-9.0_3824.png', 'sn2007Y_6_1_37.7_3830.png', 'sn2006kf_0_0_-5.2_3818.png', 'sn2007Y_6_1_7.9_3827.png', 'sn00dg_0_0_4.755_3819.png', 'sn2007Y_6_1_12.8_3828.png', 'sn2001eh_1_0_-5.9_3835.png', 'sn2007Y_6_1_197.3_3831.png', 'sn2001eh_1_0_-2.0_3837.png', 'sn2007jg_0_0_13.1_3822.png', 'sn2007jg_0_0_-2.3_3821.png', 'sn2001eh_1_0_-0.1_3838.png', 'sn2007Y_6_1_255.0_3833.png', 'sn2001eh_1_0_31.6_3849.png', 'sn1994S_0_0_20.3_3866.png', 'sn2001az_1_0_44.0_3861.png', 'sn2002do_0_0_16.7_3854.png', 'sn2001eh_1_0_4.7_3841.png', 'sn2001eh_1_0_30.8_3848.png', 'sn2001eh_1_0_32.6_3850.png', 'sn2001eh_1_0_24.9_3844.png', 'sn1994S_0_0_-3.0_3864.png', 'sn2001az_1_0_24.7_3860.png', 'sn1994S_0_0_0.9_3865.png', 'sn2002do_0_0_2.0_3853.png', 'sn95E_0_0_-1.696_3862.png', 'sn2001eh_1_0_8.6_3843.png', 'sn2002do_0_0_22.6_3855.png', 'sn2001az_1_0_18.0_3858.png', 'sn2001eh_1_0_35.5_3851.png', 'sn2001eh_1_0_26.8_3846.png', 'sn1994S_0_0_26.5_3867.png', 'sn2001eh_1_0_5.7_3842.png', 'sn1994S_0_0_-4.0_3863.png', 'sn2001eh_1_0_36.5_3852.png', 'sn2001az_1_0_-3.1_3857.png', 'sn2002do_0_0_30.4_3856.png', 'sn2001eh_1_0_28.8_3847.png', 'sn2001eh_1_0_25.9_3845.png', 'sn2001az_1_0_20.0_3859.png', 'sn01bg_0_0_18.912_3869.png', 'sn1994T_0_0_-0.2_3870.png', 'sn91T_1_0_82.989_3878.png', 'sn2002cd_0_0_-5.7_3885.png', 'sn2002cd_0_0_-4.7_3886.png', 'sn2002cd_0_0_-8.6_3882.png', 'sn2002cd_0_0_-3.7_3887.png', 'sn2002cd_0_0_0.3_3888.png', 'sn2002cd_0_0_-6.7_3884.png', 'sn1994T_0_0_0.8_3872.png', 'sn2002cd_0_0_3.2_3890.png', 'sn91T_1_0_112.817_3879.png', 'sn01bg_0_0_13.702_3868.png', 'sn91T_1_0_7.427_3877.png', 'sn2002cd_0_0_-7.7_3883.png', 'sn2002cd_0_0_2.2_3889.png', 'sn91T_1_0_-8.481_3876.png', 'sn06ev_0_0_16.851_3881.png', 'sn06ev_0_0_11.026_3880.png', 'sn91T_1_0_-9.475_3875.png', 'sn1994T_0_0_4.7_3874.png', 'sn1994T_0_0_0.8_3871.png', 'sn1994T_0_0_1.7_3873.png', 'sn2002cd_0_0_58.6_3896.png', 'sn2002cd_0_0_24.0_3893.png', 'sn2003kc_0_0_14.6_3907.png', 'sn2002jy_0_0_3.0_3913.png', 'sn02fk_0_0_41.504_3900.png', 'sn2002jy_0_0_6.0_3914.png', 'sn2003kc_0_0_-5.7_3905.png', 'sn05bl_2_0_17.188_3897.png', 'sn2002cd_0_0_52.7_3895.png', 'sn02fk_0_0_72.465_3901.png', 'sn2003kc_0_0_-7.6_3904.png', 'sn2002jy_0_0_0.1_3911.png', 'sn2002cd_0_0_18.0_3892.png', 'sn02fk_0_0_148.739_3902.png', 'sn02fk_0_0_39.518_3899.png', 'sn2003kc_0_0_-0.9_3906.png', 'sn2002jy_0_0_7.0_3915.png', 'sn2002cd_0_0_46.8_3894.png', 'sn2000cw_0_0_3.5_3903.png', 'sn2002cd_0_0_15.1_3891.png', 'sn2002jy_0_0_1.1_3912.png', 'sn2003kc_0_0_43.6_3910.png', 'sn02fk_0_0_7.745_3898.png', 'sn2003kc_0_0_24.3_3909.png', 'sn2003kc_0_0_20.4_3908.png', 'sn2002jy_0_0_8.0_3916.png', 'sn2002jy_0_0_33.4_3920.png', 'sn2007sr_0_0_17.5_3924.png', 'sn2007sr_0_0_14.5_3921.png', 'sn2002jy_0_0_15.8_3918.png', 'sn2007sr_0_0_19.5_3925.png', 'sn2007sr_0_0_16.5_3923.png', 'sn2002jy_0_0_9.9_3917.png', 'sn2002jy_0_0_17.8_3919.png', 'sn2007sr_0_0_15.6_3922.png', 'sn2007sr_0_0_27.5_3926.png', 'sn2007sr_0_0_85.0_3929.png', 'sn2007sr_0_0_116.7_3931.png', 'sn06bq_0_0_14.359_3935.png', 'sn2007sr_0_0_190.0_3932.png', 'sn2007sr_0_0_108.8_3930.png', 'sn06bq_0_0_14.263_3934.png', 'sn2007sr_0_0_77.0_3928.png', 'sn2007sr_0_0_45.4_3927.png', 'sn06bq_0_0_6.689_3933.png', 'sn95D_0_0_92.488_3939.png', 'sn2005na_0_0_19.9_3944.png', 'sn95D_0_0_60.766_3938.png', 'sn2005na_0_0_23.7_3945.png', 'sn2005na_0_0_-1.5_3940.png', 'sn95D_0_0_33.047_3937.png', 'sn2005na_0_0_1.4_3941.png', 'sn2005na_0_0_15.9_3943.png', 'sn95D_0_0_4.305_3936.png', 'sn2005na_0_0_3.4_3942.png', 'sn2006oa_1_0_-2.0_3957.png', 'sn2005cg_0_0_4.8_3950.png', 'sn2006oa_1_0_-3.8_3956.png', 'sn2005cg_0_0_-9.8_3946.png', 'sn2006oa_1_0_-7.6_3953.png', 'sn2005cg_0_0_-8.8_3947.png', 'sn2006oa_1_0_-8.5_3952.png', 'sn2005cg_0_0_-0.1_3949.png', 'sn2005cg_0_0_-4.0_3948.png', 'sn2005cg_0_0_6.7_3951.png', 'sn2006oa_1_0_-5.7_3954.png', 'sn2006oa_1_0_-4.7_3955.png', 'sn99by_2_0_-4.8_3959.png', 'sn2006oa_1_0_-0.1_3958.png', 'sn99by_2_0_-3.9_3960.png', 'sn99by_2_0_4.1_3963.png', 'sn99by_2_0_-2.8_3961.png', 'sn99by_2_0_3.1_3962.png', 'sn99by_2_0_25.1_3968.png', 'sn99by_2_0_8.1_3967.png', 'sn99by_2_0_5.2_3964.png', 'sn99by_2_0_42.1_3972.png', 'sn99by_2_0_6.1_3965.png', 'sn99by_2_0_29.1_3969.png', 'sn99by_2_0_31.1_3970.png', 'sn99by_2_0_33.1_3971.png', 'sn99by_2_0_7.1_3966.png', 'sn1997bq_0_0_-8.7_3976.png', 'sn1997bq_0_0_-6.6_3978.png', 'sn1997bq_0_0_9.2_3980.png', 'sn1997bq_0_0_-10.6_3974.png', 'sn1997bq_0_0_-7.7_3977.png', 'sn1997bq_0_0_-9.6_3975.png', 'sn1997bq_0_0_-5.6_3979.png', 'sn1997bq_0_0_-11.6_3973.png', 'sn1997bq_0_0_11.2_3981.png', 'sn1997bq_0_0_12.2_3982.png', 'sn1997bq_0_0_19.1_3983.png', 'sn1997bq_0_0_40.9_3984.png', 'sn1990O_0_0_-5.6_3992.png', 'sn1997bq_0_0_46.9_3985.png', 'sn1990O_0_0_19.4_3995.png', 'sn2013df_8_1_-10.77_3998.png', 'sn1990O_0_0_18.6_3994.png', 'sn1990O_0_0_-0.9_3993.png', 'sn02bz_0_0_5.596_3986.png', 'sn2000cp_0_0_-2.5_3987.png', 'sn2000cp_0_0_-1.5_3988.png', 'sn1990O_0_0_-6.6_3991.png', 'sn2013df_8_1_-4.42_3999.png', 'sn98ec_0_0_13.494_3996.png', 'sn2013df_8_1_-13.77_3997.png', 'sn2000cp_0_0_-0.5_3989.png', 'sn1990O_0_0_-7.6_3990.png', 'sn1994ae_0_0_4.0_2014.png', 'sn2005lu_0_0_16.6_2028.png', 'sn1994ae_0_0_28.8_2020.png', 'sn2006cm_0_0_-1.9_2008.png', 'sn1998bu_0_0_8.4_2034.png', 'sn2007fb_0_0_12.6_2001.png', 'sn1994ae_0_0_9.0_2018.png', 'sn1998bu_0_0_11.4_2037.png', 'sn1994ae_0_0_34.8_2021.png', 'sn1998bu_0_0_9.4_2035.png', 'sn1994ae_0_0_86.4_2025.png', 'sn1994ae_0_0_2.0_2012.png', 'sn1994ae_0_0_62.6_2023.png', 'sn2007fb_0_0_99.8_2007.png', 'sn1994ae_0_0_0.0_2010.png', 'sn2007fb_0_0_63.5_2005.png', 'sn2006cm_0_0_-1.0_2009.png', 'sn1998bu_0_0_-2.6_2032.png', 'sn2007fb_0_0_65.5_2006.png', 'sn1994ae_0_0_366.3_2027.png', 'sn2007fb_0_0_10.6_2000.png', 'sn1994ae_0_0_38.7_2022.png', 'sn2005lu_0_0_18.5_2029.png', 'sn1994ae_0_0_5.0_2015.png', 'sn1998bu_0_0_-3.6_2031.png', 'sn1994ae_0_0_9.9_2019.png', 'sn1998bu_0_0_10.4_2036.png', 'sn2007fb_0_0_59.6_2004.png', 'sn1994ae_0_0_152.0_2026.png', 'sn1994ae_0_0_8.0_2017.png', 'sn2007fb_0_0_13.6_2002.png', 'sn1994ae_0_0_68.6_2024.png', 'sn2007fb_0_0_14.5_2003.png', 'sn2005lu_0_0_20.5_2030.png', 'sn1994ae_0_0_0.9_2011.png', 'sn1998bu_0_0_-1.6_2033.png', 'sn1994ae_0_0_7.9_2016.png', 'sn1994ae_0_0_3.0_2013.png', 'sn2001V_1_0_-13.2_2065.png', 'sn2001V_1_0_-6.4_2071.png', 'sn1998bu_0_0_247.8_2063.png', 'sn2001V_1_0_-11.2_2067.png', 'sn1998bu_0_0_30.3_2043.png', 'sn1998bu_0_0_32.3_2045.png', 'sn1998bu_0_0_29.3_2042.png', 'sn2001V_1_0_-12.3_2066.png', 'sn1998bu_0_0_41.3_2054.png', 'sn1998bu_0_0_27.4_2040.png', 'sn2001V_1_0_11.3_2076.png', 'sn2001V_1_0_-5.4_2072.png', 'sn1998bu_0_0_33.3_2046.png', 'sn2001V_1_0_10.5_2075.png', 'sn1998bu_0_0_216.1_2061.png', 'sn2001V_1_0_-9.3_2069.png', 'sn2001V_1_0_-10.2_2068.png', 'sn1998bu_0_0_36.3_2049.png', 'sn1998bu_0_0_13.4_2039.png', 'sn1998bu_0_0_189.3_2059.png', 'sn1998bu_0_0_178.3_2058.png', 'sn2001V_1_0_12.5_2077.png', 'sn2001V_1_0_9.5_2074.png', 'sn1998bu_0_0_34.3_2047.png', 'sn1998bu_0_0_327.5_2064.png', 'sn1998bu_0_0_12.4_2038.png', 'sn1998bu_0_0_207.2_2060.png', 'sn1998bu_0_0_37.3_2050.png', 'sn1998bu_0_0_43.3_2056.png', 'sn1998bu_0_0_38.4_2051.png', 'sn1998bu_0_0_242.0_2062.png', 'sn1998bu_0_0_31.3_2044.png', 'sn1998bu_0_0_28.3_2041.png', 'sn1998bu_0_0_40.3_2053.png', 'sn1998bu_0_0_56.3_2057.png', 'sn1998bu_0_0_42.3_2055.png', 'sn1998bu_0_0_39.3_2052.png', 'sn1998bu_0_0_35.3_2048.png', 'sn2001V_1_0_-7.4_2070.png', 'sn2001V_1_0_-3.3_2073.png', 'sn2001V_1_0_27.0_2088.png', 'sn2002ap_11_2_3.6_2112.png', 'sn2001V_1_0_104.8_2102.png', 'sn2002ap_11_2_4.6_2113.png', 'sn2002ap_11_2_4.7_2114.png', 'sn2001V_1_0_51.7_2095.png', 'sn2001V_1_0_18.2_2079.png', 'sn2001V_1_0_13.5_2078.png', 'sn2001V_1_0_56.7_2098.png', 'sn2002ap_11_2_2.7_2111.png', 'sn2006cc_0_0_-9.7_2103.png', 'sn2001V_1_0_78.2_2100.png', 'sn2001V_1_0_20.3_2082.png', 'sn2001V_1_0_49.7_2094.png', 'sn2001V_1_0_52.7_2097.png', 'sn2002ap_11_2_-4.5_2105.png', 'sn2001V_1_0_24.1_2087.png', 'sn2001V_1_0_22.2_2085.png', 'sn2001V_1_0_28.0_2089.png', 'sn2002ap_11_2_-0.4_2108.png', 'sn2002ap_11_2_-5.5_2104.png', 'sn2001V_1_0_46.7_2091.png', 'sn2001V_1_0_39.9_2090.png', 'sn2002ap_11_2_0.6_2109.png', 'sn2001V_1_0_73.3_2099.png', 'sn2001V_1_0_20.1_2081.png', 'sn2001V_1_0_47.8_2092.png', 'sn2002ap_11_2_-2.4_2106.png', 'sn2001V_1_0_48.7_2093.png', 'sn2001V_1_0_19.1_2080.png', 'sn2001V_1_0_23.1_2086.png', 'sn2002ap_11_2_1.5_2110.png', 'sn2001V_1_0_51.7_2096.png', 'sn2001V_1_0_79.3_2101.png', 'sn2001V_1_0_21.1_2083.png', 'sn2001V_1_0_21.3_2084.png', 'sn2002ap_11_2_-1.4_2107.png', 'sn2002ap_11_2_152.7_2129.png', 'sn2000fa_0_0_4.2_2147.png', 'sn2002ap_11_2_30.5_2125.png', 'sn2002ap_11_2_12.7_2120.png', 'sn2002ap_11_2_5.6_2115.png', 'sn2000fa_0_0_-10.4_2144.png', 'sn2002ap_11_2_270.3_2135.png', 'sn2000fa_0_0_14.0_2150.png', 'sn2002ap_11_2_128.7_2127.png', 'sn2002ap_11_2_148.6_2128.png', 'sn2002ap_11_2_332.1_2136.png', 'sn06N_0_0_27.488_2141.png', 'sn2000fa_0_0_2.2_2146.png', 'sn2000fa_0_0_11.1_2149.png', 'sn2000fa_0_0_9.1_2148.png', 'sn2002ap_11_2_154.6_2130.png', 'sn06N_0_0_-1.936_2138.png', 'sn2002ap_11_2_238.5_2133.png', 'sn2002ap_11_2_119.7_2126.png', 'sn2002ap_11_2_25.5_2121.png', 'sn2002ap_11_2_267.2_2134.png', 'sn2002ap_11_2_26.6_2122.png', 'sn2002ap_11_2_29.5_2123.png', 'sn2000fa_0_0_18.0_2152.png', 'sn2002ap_11_2_182.5_2131.png', 'sn2000fa_0_0_1.3_2145.png', 'sn07al_2_0_5.038_2142.png', 'sn2002ap_11_2_6.6_2117.png', 'sn2002ap_11_2_30.5_2124.png', 'sn2002ap_11_2_6.5_2116.png', 'sn06N_0_0_11.866_2140.png', 'sn2002ap_11_2_234.1_2132.png', 'sn2000fa_0_0_-10.4_2143.png', 'sn2002ap_11_2_9.5_2118.png', 'sn2002ap_11_2_11.6_2119.png', 'sn2000fa_0_0_16.0_2151.png', 'sn06N_0_0_-0.951_2139.png', 'sn2002ap_11_2_382.8_2137.png', 'sn1989B_0_0_16.5_2169.png', 'sn1989B_0_0_6.6_2162.png', 'sn1989B_0_0_20.5_2173.png', 'sn1989B_0_0_15.5_2168.png', 'sn2005M_1_0_24.7_2188.png', 'sn2005M_1_0_5.1_2186.png', 'sn1989B_0_0_-1.3_2159.png', 'sn1989B_0_0_4.6_2161.png', 'sn2005M_1_0_-2.7_2183.png', 'sn1989B_0_0_12.6_2166.png', 'sn2000fa_0_0_37.5_2155.png', 'sn1989B_0_0_18.5_2171.png', 'sn2000fa_0_0_42.2_2156.png', 'sn2005M_1_0_-1.7_2184.png', 'sn1989B_0_0_13.6_2167.png', 'sn2005M_1_0_10.0_2187.png', 'sn1989B_0_0_23.5_2176.png', 'sn1989B_0_0_329.8_2182.png', 'sn1989B_0_0_10.6_2164.png', 'sn1989B_0_0_48.3_2180.png', 'sn1989B_0_0_24.5_2177.png', 'sn1989B_0_0_19.5_2172.png', 'sn2005M_1_0_27.6_2189.png', 'sn2000fa_0_0_20.8_2153.png', 'sn2005M_1_0_0.2_2185.png', 'sn2000fa_0_0_99.0_2157.png', 'sn1989B_0_0_11.6_2165.png', 'sn1989B_0_0_8.6_2163.png', 'sn1989B_0_0_17.5_2170.png', 'sn1989B_0_0_-7.2_2158.png', 'sn1989B_0_0_30.5_2178.png', 'sn1989B_0_0_21.5_2174.png', 'sn1989B_0_0_2.6_2160.png', 'sn1989B_0_0_36.4_2179.png', 'sn2000fa_0_0_31.7_2154.png', 'sn1989B_0_0_50.1_2181.png', 'sn1989B_0_0_22.5_2175.png', 'sn2005M_1_0_62.7_2192.png', 'sn1998ab_1_0_19.4_2202.png', 'sn1998ab_1_0_22.3_2205.png', 'sn2002aw_0_0_-1.9_2209.png', 'sn2006S_0_0_1.2_2221.png', 'sn1998ab_1_0_18.4_2201.png', 'sn2008L_0_0_5.6_2194.png', 'sn2002hd_0_0_15.8_2215.png', 'sn2006S_0_0_0.2_2220.png', 'sn2002aw_0_0_-0.9_2210.png', 'sn2002hd_0_0_1.4_2213.png', 'sn1998ab_1_0_6.7_2198.png', 'sn2006S_0_0_-4.6_2217.png', 'sn1998ab_1_0_21.3_2204.png', 'sn2002hd_0_0_12.0_2214.png', 'sn2006S_0_0_-2.6_2218.png', 'sn1998ab_1_0_7.7_2199.png', 'sn1998ab_1_0_45.7_2208.png', 'sn1998ab_1_0_17.5_2200.png', 'sn99cp_0_0_4.755_2195.png', 'sn2005M_1_0_40.3_2191.png', 'sn2006S_0_0_-5.5_2216.png', 'sn99cp_0_0_13.697_2196.png', 'sn2006S_0_0_-0.7_2219.png', 'sn2005M_1_0_32.5_2190.png', 'sn1998ab_1_0_35.9_2207.png', 'sn1998ab_1_0_20.4_2203.png', 'sn1998ab_1_0_-7.8_2197.png', 'sn04bg_0_0_10.338_2193.png', 'sn1998ab_1_0_34.0_2206.png', 'sn2002aw_0_0_1.1_2211.png', 'sn2005bc_0_0_-5.0_2212.png', 'sn1991T_1_0_-12.8_2242.png', 'sn2006S_0_0_3.2_2222.png', 'sn1991T_1_0_-10.7_2244.png', 'sn2006S_0_0_4.1_2223.png', 'sn1991T_1_0_-6.7_2247.png', 'sn02er_0_0_60.977_2241.png', 'sn2000bk_0_0_18.8_2259.png', 'sn1991T_1_0_14.5_2250.png', 'sn1996bo_0_0_11.1_2229.png', 'sn1991T_1_0_17.3_2251.png', 'sn2001gc_0_0_3.4_2231.png', 'sn1991T_1_0_23.5_2252.png', 'sn1991T_1_0_-7.7_2246.png', 'sn1991T_1_0_-11.7_2243.png', 'sn2001gc_0_0_13.3_2235.png', 'sn2001gc_0_0_7.3_2234.png', 'sn1996bo_0_0_7.1_2227.png', 'sn2001gc_0_0_-8.5_2230.png', 'sn1996bo_0_0_3.3_2225.png', 'sn1991T_1_0_259.0_2257.png', 'sn1996bo_0_0_5.2_2226.png', 'sn02er_0_0_23.444_2240.png', 'sn1996bo_0_0_9.2_2228.png', 'sn1991T_1_0_45.2_2254.png', 'sn2001gc_0_0_5.3_2233.png', 'sn2001gc_0_0_22.0_2237.png', 'sn2001gc_0_0_18.2_2236.png', 'sn02er_0_0_5.594_2239.png', 'sn1991T_1_0_-8.7_2245.png', 'sn1991T_1_0_-1.5_2248.png', 'sn1991T_1_0_66.2_2255.png', 'sn2006S_0_0_20.5_2224.png', 'sn1991T_1_0_44.3_2253.png', 'sn1991T_1_0_73.8_2256.png', 'sn02er_0_0_-4.246_2238.png', 'sn2001gc_0_0_4.4_2232.png', 'sn1991T_1_0_9.5_2249.png', 'sn2000bk_0_0_11.9_2258.png', 'sn2006nz_0_0_-1.7_2261.png', 'sn1996X_0_0_57.8_2286.png', 'sn99dk_0_0_-6.92_2292.png', 'sn99dk_0_0_71.831_2296.png', 'sn1996X_0_0_30.9_2281.png', 'sn1996X_0_0_-3.8_2262.png', 'sn1996X_0_0_22.0_2278.png', 'sn1996X_0_0_296.2_2288.png', 'sn2007ba_2_0_6.0_2291.png', 'sn1996X_0_0_1.2_2270.png', 'sn1996X_0_0_-0.8_2266.png', 'sn1996X_0_0_-2.8_2263.png', 'sn1996X_0_0_2.2_2271.png', 'sn1996X_0_0_21.7_2277.png', 'sn1996X_0_0_1.1_2269.png', 'sn1996X_0_0_27.9_2280.png', 'sn99dk_0_0_44.203_2295.png', 'sn1996X_0_0_55.6_2284.png', 'sn1996X_0_0_20.0_2276.png', 'sn1996X_0_0_8.1_2274.png', 'sn1996X_0_0_11.9_2275.png', 'sn1996X_0_0_7.1_2273.png', 'sn1996X_0_0_32.9_2282.png', 'sn1996X_0_0_7.1_2272.png', 'sn2007fs_0_0_5.1_2299.png', 'sn1996X_0_0_-1.8_2264.png', 'sn1996X_0_0_-1.7_2265.png', 'sn2007ba_2_0_5.1_2290.png', 'sn99dk_0_0_23.623_2294.png', 'sn1996X_0_0_0.2_2268.png', 'sn1996X_0_0_56.6_2285.png', 'sn2007ba_2_0_3.1_2289.png', 'sn1996X_0_0_24.0_2279.png', 'sn1996X_0_0_48.7_2283.png', 'sn2007fs_0_0_3.1_2297.png', 'sn1996X_0_0_86.9_2287.png', 'sn1996X_0_0_0.1_2267.png', 'sn2007fs_0_0_4.1_2298.png', 'sn99dk_0_0_16.734_2293.png', 'sn2000bk_0_0_26.5_2260.png', 'sn2007fs_0_0_48.2_2300.png', 'sn2007fs_0_0_51.1_2301.png', 'sn2004gs_0_0_-0.3_2307.png', 'sn2004gs_0_0_-3.2_2305.png', 'sn2004gs_0_0_1.7_2308.png', 'sn2007fs_0_0_85.4_2304.png', 'sn2007fs_0_0_55.1_2302.png', 'sn2007fs_0_0_60.9_2303.png', 'sn2004gs_0_0_-1.2_2306.png', 'sn2001G_0_0_4.7_2319.png', 'sn2004gs_0_0_23.0_2312.png', 'sn2001G_0_0_52.8_2326.png', 'sn2004gs_0_0_30.8_2313.png', 'sn01en_0_0_10.093_2315.png', 'sn2001G_0_0_54.7_2327.png', 'sn2001G_0_0_62.7_2329.png', 'sn2001G_0_0_61.6_2328.png', 'sn01en_0_0_14.718_2316.png', 'sn2001G_0_0_122.6_2332.png', 'sn2001G_0_0_11.6_2320.png', 'sn2001G_0_0_91.1_2331.png', 'sn2001G_0_0_26.3_2321.png', 'sn01en_0_0_35.641_2317.png', 'sn2004gs_0_0_3.6_2310.png', 'sn2004gs_0_0_2.6_2309.png', 'sn05bc_0_0_1.646_2333.png', 'sn2001G_0_0_33.2_2323.png', 'sn2001G_0_0_64.5_2330.png', 'sn2004gs_0_0_31.8_2314.png', 'sn2001G_0_0_-5.1_2318.png', 'sn2001G_0_0_31.2_2322.png', 'sn2001G_0_0_39.2_2325.png', 'sn2004gs_0_0_20.1_2311.png', 'sn2001G_0_0_37.0_2324.png', 'sn1997do_0_0_-10.6_2362.png', 'sn2007ax_2_0_18.9_2349.png', 'sn1996ai_0_0_2.2_2338.png', 'sn2007ax_2_0_10.0_2346.png', 'sn1996ai_0_0_15.1_2340.png', 'sn2007ax_2_0_17.0_2348.png', 'sn1996ai_0_0_25.0_2341.png', 'sn2007ax_2_0_20.9_2350.png', 'sn2002es_2_0_5.1_2353.png', 'sn2002es_2_0_26.7_2356.png', 'sn1996ai_0_0_-0.9_2336.png', 'sn2007ax_2_0_2.0_2345.png', 'sn2007ax_2_0_-1.9_2342.png', 'sn1996ai_0_0_0.1_2337.png', 'sn1998ef_0_0_1.3_2359.png', 'sn1996ai_0_0_4.2_2339.png', 'sn05bc_0_0_7.474_2334.png', 'sn1998ef_0_0_-3.6_2358.png', 'sn2002es_2_0_9.0_2354.png', 'sn1998ef_0_0_-4.5_2357.png', 'sn2007ax_2_0_15.9_2347.png', 'sn1997do_0_0_-11.6_2361.png', 'sn2002es_2_0_11.0_2355.png', 'sn00cn_2_0_14.95_2335.png', 'sn1997do_0_0_-6.6_2364.png', 'sn2007ax_2_0_-0.8_2343.png', 'sn1997do_0_0_-7.6_2363.png', 'sn2007ax_2_0_1.1_2344.png', 'sn2002es_2_0_4.1_2352.png', 'sn2002es_2_0_2.1_2351.png', 'sn1997do_0_0_8.2_2365.png', 'sn1998ef_0_0_18.0_2360.png', 'sn1997do_0_0_11.1_2367.png', 'sn2001N_0_0_10.4_2397.png', 'sn1999cp_0_0_-11.9_2392.png', 'sn2008Z_0_0_21.1_2385.png', 'sn05ki_0_0_7.958_2401.png', 'sn2008Z_0_0_17.2_2384.png', 'sn2008Z_0_0_-5.3_2379.png', 'sn2001N_0_0_2.6_2394.png', 'sn2008Z_0_0_41.6_2387.png', 'sn1997do_0_0_12.1_2368.png', 'sn1997do_0_0_10.2_2366.png', 'sn1997do_0_0_20.9_2372.png', 'sn2008Z_0_0_23.1_2386.png', 'sn1997do_0_0_21.0_2373.png', 'sn2008Z_0_0_12.3_2383.png', 'sn2001N_0_0_0.7_2393.png', 'sn2008Z_0_0_56.2_2389.png', 'sn2001N_0_0_11.5_2398.png', 'sn1997do_0_0_20.0_2371.png', 'sn1997do_0_0_47.8_2374.png', 'sn2008Z_0_0_47.5_2388.png', 'sn2001N_0_0_4.4_2395.png', 'sn1999cw_1_0_24.5_2403.png', 'sn1999cp_0_0_-14.9_2390.png', 'sn1997do_0_0_15.3_2370.png', 'sn2008Z_0_0_-8.2_2376.png', 'sn2008Z_0_0_7.6_2381.png', 'sn2008Z_0_0_-9.2_2375.png', 'sn2008Z_0_0_-7.3_2377.png', 'sn1999cp_0_0_-13.8_2391.png', 'sn2001N_0_0_26.1_2399.png', 'sn1997do_0_0_14.2_2369.png', 'sn2008Z_0_0_-4.3_2380.png', 'sn2008Z_0_0_-6.3_2378.png', 'sn2001N_0_0_9.4_2396.png', 'sn1999cw_1_0_21.5_2402.png', 'sn2001N_0_0_30.0_2400.png', 'sn2008Z_0_0_10.3_2382.png', 'sn2002hu_1_0_-3.5_2405.png', 'sn2003du_0_0_-11.1_2423.png', 'sn2007qe_0_0_20.7_2418.png', 'sn2003du_0_0_-4.2_2430.png', 'sn2003du_0_0_-8.9_2426.png', 'sn2002hu_1_0_-5.3_2404.png', 'sn2003du_0_0_-7.2_2428.png', 'sn2003du_0_0_-11.1_2422.png', 'sn2003du_0_0_7.9_2441.png', 'sn2007qe_0_0_18.7_2417.png', 'sn2003du_0_0_1.1_2436.png', 'sn2007qe_0_0_22.6_2419.png', 'sn2003du_0_0_-6.1_2429.png', 'sn2007qe_0_0_18.7_2416.png', 'sn2003du_0_0_4.0_2439.png', 'sn00fa_0_0_7.344_2410.png', 'sn2003du_0_0_0.9_2435.png', 'sn2003du_0_0_-9.8_2425.png', 'sn2002hu_1_0_73.5_2408.png', 'sn2003du_0_0_-1.3_2433.png', 'sn2007qe_0_0_10.9_2415.png', 'sn2003du_0_0_-2.2_2431.png', 'sn2003du_0_0_6.9_2440.png', 'sn00fa_0_0_-7.769_2409.png', 'sn2007qe_0_0_-9.4_2411.png', 'sn2003du_0_0_-0.3_2434.png', 'sn2002hu_1_0_-0.7_2406.png', 'sn2007qe_0_0_33.4_2420.png', 'sn2002hu_1_0_21.5_2407.png', 'sn2003du_0_0_-1.8_2432.png', 'sn2007qe_0_0_9.0_2414.png', 'sn2007qe_0_0_8.0_2413.png', 'sn2007qe_0_0_-8.6_2412.png', 'sn2003du_0_0_2.9_2438.png', 'sn2003du_0_0_-12.7_2421.png', 'sn2003du_0_0_-8.1_2427.png', 'sn2003du_0_0_-10.7_2424.png', 'sn2003du_0_0_2.1_2437.png', 'sn2003du_0_0_59.7_2469.png', 'sn2003du_0_0_32.9_2458.png', 'sn2003du_0_0_60.7_2470.png', 'sn2003du_0_0_108.0_2475.png', 'sn2003du_0_0_25.7_2454.png', 'sn2003du_0_0_137.6_2477.png', 'sn2003du_0_0_136.6_2476.png', 'sn2003du_0_0_58.8_2467.png', 'sn2003du_0_0_32.9_2457.png', 'sn2003du_0_0_50.8_2465.png', 'sn2003du_0_0_83.2_2473.png', 'sn2003du_0_0_219.7_2479.png', 'sn2003du_0_0_20.7_2450.png', 'sn2003du_0_0_16.0_2445.png', 'sn2003du_0_0_19.0_2449.png', 'sn2003du_0_0_9.8_2443.png', 'sn2003du_0_0_36.4_2460.png', 'sn2003du_0_0_44.6_2462.png', 'sn2003du_0_0_62.4_2471.png', 'sn2003du_0_0_30.8_2456.png', 'sn2003du_0_0_38.5_2461.png', 'sn2003du_0_0_55.7_2466.png', 'sn2003du_0_0_86.1_2474.png', 'sn2003du_0_0_71.3_2472.png', 'sn2003du_0_0_374.3_2480.png', 'sn2003du_0_0_25.0_2453.png', 'sn2003du_0_0_16.8_2446.png', 'sn2003du_0_0_17.9_2447.png', 'sn2003du_0_0_48.8_2463.png', 'sn2003du_0_0_8.8_2442.png', 'sn2003du_0_0_22.9_2452.png', 'sn2003du_0_0_12.7_2444.png', 'sn2003du_0_0_58.7_2468.png', 'sn2003du_0_0_50.5_2464.png', 'sn2003du_0_0_28.0_2455.png', 'sn2003du_0_0_21.0_2451.png', 'sn2003du_0_0_140.3_2478.png', 'sn2003du_0_0_18.6_2448.png', 'sn2003du_0_0_33.6_2459.png', 'sn2003it_0_0_8.5_2492.png', 'sn2003it_0_0_6.6_2490.png', 'sn1997dt_0_0_-4.7_2518.png', 'sn91bg_2_0_19.312_2498.png', 'sn07bd_0_0_-5.583_2502.png', 'sn2003it_0_0_3.7_2488.png', 'sn2003it_0_0_30.9_2494.png', 'sn1999cl_0_0_7.6_2512.png', 'sn2003it_0_0_0.8_2485.png', 'sn2003it_0_0_-3.2_2481.png', 'sn2003it_0_0_1.7_2486.png', 'sn1999cl_0_0_-2.3_2508.png', 'sn1997dt_0_0_-7.7_2517.png', 'sn91bg_2_0_27.283_2499.png', 'sn1999cl_0_0_-5.2_2505.png', 'sn2003it_0_0_9.5_2493.png', 'sn1999cl_0_0_4.6_2511.png', 'sn91bg_2_0_1.375_2497.png', 'sn91bg_2_0_0.379_2496.png', 'sn2003it_0_0_7.6_2491.png', 'sn1997dt_0_0_-9.7_2515.png', 'sn1999cl_0_0_-4.2_2506.png', 'sn1999cl_0_0_-7.3_2504.png', 'sn1999cl_0_0_-8.3_2503.png', 'sn91bg_2_0_91.549_2501.png', 'sn2003it_0_0_31.9_2495.png', 'sn1997dt_0_0_-8.7_2516.png', 'sn1999cl_0_0_0.7_2510.png', 'sn91bg_2_0_48.209_2500.png', 'sn1999cl_0_0_-1.3_2509.png', 'sn2003it_0_0_-2.2_2482.png', 'sn1997dt_0_0_-10.6_2514.png', 'sn2003it_0_0_2.7_2487.png', 'sn2003it_0_0_5.7_2489.png', 'sn2003it_0_0_-1.1_2483.png', 'sn1999cl_0_0_37.4_2513.png', 'sn2003it_0_0_-0.2_2484.png', 'sn1999cl_0_0_-3.3_2507.png', 'sn2005el_0_0_4.0_2545.png', 'sn2001da_0_0_-1.0_2553.png', 'sn2002ef_0_0_-2.9_2549.png', 'sn2001da_0_0_0.0_2554.png', 'sn2005el_0_0_-5.8_2541.png', 'sn2001da_0_0_2.9_2556.png', 'sn07gk_0_0_19.649_2551.png', 'sn2005el_0_0_-4.8_2542.png', 'sn2005hc_0_0_5.4_2521.png', 'sn2008A_4_0_18.7_2532.png', 'sn2008A_4_0_20.6_2533.png', 'sn2008A_4_0_-1.0_2529.png', 'sn2008A_4_0_-6.9_2525.png', 'sn2005el_0_0_29.6_2547.png', 'sn2005el_0_0_-3.9_2543.png', 'sn2008A_4_0_0.0_2530.png', 'sn2005el_0_0_22.8_2546.png', 'sn2008A_4_0_-3.0_2527.png', 'sn2008A_4_0_1.0_2531.png', 'sn07gk_0_0_-1.718_2550.png', 'sn2008A_4_0_-1.9_2528.png', 'sn2008A_4_0_43.3_2537.png', 'sn2008A_4_0_31.5_2536.png', 'sn2008A_4_0_-7.9_2524.png', 'sn2001da_0_0_1.9_2555.png', 'sn2001da_0_0_-2.0_2552.png', 'sn2005hc_0_0_6.3_2522.png', 'sn2001da_0_0_7.8_2557.png', 'sn2005el_0_0_2.1_2544.png', 'sn1997dt_0_0_0.2_2519.png', 'sn1997dt_0_0_2.2_2520.png', 'sn2005el_0_0_59.2_2548.png', 'sn05ms_0_0_-1.512_2538.png', 'sn2005hc_0_0_11.1_2523.png', 'sn03cq_0_0_-0.053_2540.png', 'sn2008A_4_0_-3.9_2526.png', 'sn2008A_4_0_27.5_2535.png', 'sn2008A_4_0_23.6_2534.png', 'sn05ms_0_0_14.99_2539.png', 'sn1998es_1_0_72.7_2582.png', 'sn1998es_1_0_-11.4_2559.png', 'sn1998es_1_0_50.9_2580.png', 'sn1998es_1_0_18.3_2575.png', 'sn1998es_1_0_29.1_2578.png', 'sn1998es_1_0_-9.4_2561.png', 'sn1998es_1_0_16.3_2573.png', 'sn1998es_1_0_-10.3_2560.png', 'sn1998es_1_0_55.8_2581.png', 'sn1998es_1_0_-6.4_2564.png', 'sn1996bl_0_0_18.1_2588.png', 'sn00dk_0_0_28.759_2591.png', 'sn1998es_1_0_-3.4_2567.png', 'sn1998es_1_0_0.5_2570.png', 'sn1998es_1_0_-2.4_2568.png', 'sn1998es_1_0_-4.4_2566.png', 'sn00dk_0_0_11.192_2590.png', 'sn1998es_1_0_-5.4_2565.png', 'sn1998es_1_0_-8.4_2562.png', 'sn1998es_1_0_-0.5_2569.png', 'sn08ec_0_0_5.696_2594.png', 'sn08ec_0_0_12.509_2595.png', 'sn1998es_1_0_14.3_2572.png', 'sn1998es_1_0_25.1_2577.png', 'sn1998es_1_0_-7.3_2563.png', 'sn08ec_0_0_-0.237_2593.png', 'sn00dk_0_0_1.355_2589.png', 'sn00dk_0_0_36.679_2592.png', 'sn2001da_0_0_56.8_2558.png', 'sn1996bl_0_0_-2.2_2586.png', 'sn1998es_1_0_17.3_2574.png', 'sn1998es_1_0_79.6_2583.png', 'sn1998es_1_0_1.5_2571.png', 'sn1996bl_0_0_13.3_2587.png', 'sn1996bl_0_0_-4.0_2585.png', 'sn1998es_1_0_23.1_2576.png', 'sn1998es_1_0_88.5_2584.png', 'sn1998es_1_0_44.1_2579.png', 'sn2005hj_1_0_9.9_2627.png', 'sn1996C_0_0_4.8_2618.png', 'sn2006gr_0_0_-8.9_2601.png', 'sn2006gr_0_0_24.0_2613.png', 'sn2005hj_1_0_2.4_2624.png', 'sn2005hj_1_0_-4.3_2622.png', 'sn08ec_0_0_42.993_2597.png', 'sn2006gr_0_0_39.3_2614.png', 'sn2006gr_0_0_9.4_2609.png', 'sn2006gr_0_0_-9.8_2600.png', 'sn2005hj_1_0_3.3_2625.png', 'sn2007bz_0_0_17.0_2616.png', 'sn2005hj_1_0_24.0_2629.png', 'sn2005hj_1_0_5.1_2626.png', 'sn2005hj_1_0_17.4_2628.png', 'sn08ec_0_0_71.575_2598.png', 'sn1996bk_0_0_2.5_2620.png', 'sn1996C_0_0_7.8_2619.png', 'sn2006gr_0_0_-6.9_2603.png', 'sn2006gr_0_0_48.1_2615.png', 'sn2006gr_0_0_-6.0_2604.png', 'sn2006gr_0_0_18.1_2611.png', 'sn2006gr_0_0_-4.0_2606.png', 'sn2006gr_0_0_-7.9_2602.png', 'sn2006gr_0_0_-5.1_2605.png', 'sn2007le_0_0_-10.3_2632.png', 'sn1996C_0_0_2.0_2617.png', 'sn2005hj_1_0_32.5_2630.png', 'sn2006gr_0_0_-1.1_2608.png', 'sn2001cj_0_0_13.6_2631.png', 'sn2005hj_1_0_0.5_2623.png', 'sn2005hj_1_0_-5.2_2621.png', 'sn2006gr_0_0_12.4_2610.png', 'sn2006gr_0_0_22.9_2612.png', 'sn08ec_0_0_30.179_2596.png', 'sn2006gr_0_0_-10.8_2599.png', 'sn2006gr_0_0_-2.1_2607.png', 'sn2007le_0_0_5.4_2636.png', 'sn2007le_0_0_7.4_2637.png', 'sn2007le_0_0_15.4_2645.png', 'sn1999gp_1_0_49.7_2667.png', 'sn2007le_0_0_16.4_2646.png', 'sn2007le_0_0_40.1_2653.png', 'sn1999gp_1_0_-2.0_2660.png', 'sn2007le_0_0_21.3_2651.png', 'sn2007le_0_0_77.9_2658.png', 'sn1999gp_1_0_4.9_2663.png', 'sn1999gp_1_0_-4.8_2659.png', 'sn1999gp_1_0_35.1_2666.png', 'sn2007le_0_0_48.2_2654.png', 'sn07fs_0_0_22.667_2670.png', 'sn07fs_0_0_29.494_2671.png', 'sn2007le_0_0_-6.4_2635.png', 'sn2007le_0_0_12.4_2642.png', 'sn2007le_0_0_53.1_2656.png', 'sn2007le_0_0_-7.4_2634.png', 'sn07fs_0_0_5.029_2669.png', 'sn2007le_0_0_13.4_2643.png', 'sn2007le_0_0_18.3_2648.png', 'sn2007le_0_0_67.0_2657.png', 'sn2007le_0_0_17.4_2647.png', 'sn2007le_0_0_9.5_2639.png', 'sn1999gp_1_0_2.9_2662.png', 'sn2007le_0_0_8.4_2638.png', 'sn1999gp_1_0_0.0_2661.png', 'sn2007le_0_0_-8.4_2633.png', 'sn2007le_0_0_39.2_2652.png', 'sn2007le_0_0_50.1_2655.png', 'sn2007le_0_0_19.3_2649.png', 'sn2007le_0_0_10.4_2640.png', 'sn2007le_0_0_20.3_2650.png', 'sn1999gp_1_0_21.4_2665.png', 'sn07fs_0_0_36.374_2672.png', 'sn2007le_0_0_11.4_2641.png', 'sn2007le_0_0_14.4_2644.png', 'sn1999gp_1_0_54.6_2668.png', 'sn1999gp_1_0_6.9_2664.png', 'sn2005cf_0_0_-6.6_2688.png', 'sn2005cf_0_0_-3.4_2694.png', 'sn2005cf_0_0_-6.3_2689.png', 'sn2005cf_0_0_-9.7_2681.png', 'sn2005cf_0_0_-4.4_2692.png', 'sn2005cf_0_0_-11.7_2676.png', 'sn2005cf_0_0_-1.4_2699.png', 'sn2005cf_0_0_-12.4_2675.png', 'sn2005cf_0_0_-1.2_2700.png', 'sn2005cf_0_0_-10.2_2680.png', 'sn2005cf_0_0_-11.2_2678.png', 'sn2005cf_0_0_-8.7_2685.png', 'sn2005cf_0_0_-7.3_2687.png', 'sn2005cf_0_0_-2.7_2695.png', 'sn2005cf_0_0_-9.7_2682.png', 'sn2005cf_0_0_-5.5_2690.png', 'sn2005cf_0_0_-2.3_2697.png', 'sn2005cf_0_0_-10.4_2679.png', 'sn07fs_0_0_51.127_2673.png', 'sn2005cf_0_0_-9.2_2684.png', 'sn2005cf_0_0_-3.8_2693.png', 'sn2005cf_0_0_-1.5_2698.png', 'sn2005cf_0_0_-2.4_2696.png', 'sn2005cf_0_0_-8.2_2686.png', 'sn07fs_0_0_91.354_2674.png', 'sn2005cf_0_0_-11.4_2677.png', 'sn2005cf_0_0_-9.3_2683.png', 'sn2005cf_0_0_-5.4_2691.png', 'sn2005cf_0_0_21.4_2721.png', 'sn2005cf_0_0_4.2_2708.png', 'sn2005cf_0_0_24.3_2723.png', 'sn2005cf_0_0_3.5_2707.png', 'sn2005cf_0_0_2.5_2706.png', 'sn2005cf_0_0_12.1_2715.png', 'sn2005cf_0_0_9.4_2714.png', 'sn2005cf_0_0_6.2_2712.png', 'sn2005cf_0_0_4.5_2710.png', 'sn2005cf_0_0_5.2_2711.png', 'sn2005cf_0_0_1.6_2705.png', 'sn2005cf_0_0_23.4_2722.png', 'sn2005cf_0_0_1.5_2704.png', 'sn2005cf_0_0_-0.3_2701.png', 'sn2005cf_0_0_14.1_2717.png', 'sn2005cf_0_0_0.6_2703.png', 'sn2005cf_0_0_16.1_2718.png', 'sn2005cf_0_0_4.5_2709.png', 'sn2005cf_0_0_7.2_2713.png', 'sn2005cf_0_0_12.2_2716.png', 'sn2005cf_0_0_16.5_2719.png', 'sn2005cf_0_0_18.4_2720.png', 'sn2005cf_0_0_-0.2_2702.png', 'sn2005cf_0_0_81.9_2740.png', 'sn2005cf_0_0_37.1_2732.png', 'sn2005cf_0_0_316.9_2741.png', 'sn2005cf_0_0_60.8_2737.png', 'sn2005cf_0_0_51.9_2736.png', 'sn2005cf_0_0_76.6_2739.png', 'sn2005cf_0_0_45.2_2734.png', 'sn2005cf_0_0_27.3_2727.png', 'sn2005cf_0_0_43.2_2733.png', 'sn2005cf_0_0_28.3_2729.png', 'sn2005cf_0_0_25.1_2724.png', 'sn2005cf_0_0_26.4_2726.png', 'sn2005cf_0_0_46.9_2735.png', 'sn2005cf_0_0_29.3_2731.png', 'sn2005cf_0_0_75.2_2738.png', 'sn2005cf_0_0_27.3_2728.png', 'sn2005cf_0_0_29.0_2730.png', 'sn2005cf_0_0_25.3_2725.png', 'sn1997bp_0_0_3.8_2748.png', 'sn1990N_0_0_13.5_2759.png', 'sn1990N_0_0_212.3_2762.png', 'sn1997bp_0_0_27.4_2750.png', 'sn1997bp_0_0_54.3_2753.png', 'sn1990N_0_0_37.4_2761.png', 'sn1990N_0_0_-7.4_2756.png', 'sn1990N_0_0_3.9_2758.png', 'sn1997bp_0_0_0.8_2745.png', 'sn1990N_0_0_1.6_2757.png', 'sn1997bp_0_0_-0.2_2744.png', 'sn1997bp_0_0_60.2_2754.png', 'sn1997bp_0_0_2.8_2747.png', 'sn1997bp_0_0_31.5_2751.png', 'sn1997bp_0_0_1.8_2746.png', 'sn1997bp_0_0_18.6_2749.png', 'sn1990N_0_0_16.7_2760.png', 'sn1997bp_0_0_49.3_2752.png', 'sn1997bp_0_0_-1.2_2743.png', 'sn1990N_0_0_-14.2_2755.png', 'sn1997bp_0_0_-3.0_2742.png', 'sn1990N_0_0_331.5_2769.png', 'sn99aa_1_0_0.332_2772.png', 'sn99aa_1_0_14.126_2773.png', 'sn1990N_0_0_227.0_2763.png', 'sn1990N_0_0_254.9_2766.png', 'sn99aa_1_0_59.427_2775.png', 'sn2006em_2_0_3.7_2770.png', 'sn1990N_0_0_244.2_2764.png', 'sn1990N_0_0_245.2_2765.png', 'sn99aa_1_0_-10.491_2771.png', 'sn1990N_0_0_308.8_2768.png', 'sn99aa_1_0_256.032_2776.png', 'sn99aa_1_0_17.128_2774.png', 'sn1990N_0_0_279.7_2767.png', 'sn2000cx_5_0_-4.3_2803.png', 'sn1990I_6_1_51.0_2781.png', 'sn1990I_6_1_40.1_2779.png', 'sn2002ck_0_0_15.7_2794.png', 'sn1990I_6_1_11.3_2777.png', 'sn2006ax_0_0_-6.4_2787.png', 'sn1997E_0_0_11.2_2798.png', 'sn2002ck_0_0_29.3_2795.png', 'sn1990I_6_1_19.4_2778.png', 'sn2000cx_5_0_-3.3_2804.png', 'sn03Y_2_0_20.552_2802.png', 'sn2002ck_0_0_0.3_2790.png', 'sn2006ax_0_0_0.5_2788.png', 'sn1997E_0_0_-3.7_2797.png', 'sn03Y_2_0_-2.819_2801.png', 'sn2002ck_0_0_4.2_2792.png', 'sn2006ax_0_0_-8.4_2786.png', 'sn1990I_6_1_234.5_2784.png', 'sn1990I_6_1_64.9_2782.png', 'sn2002ck_0_0_-0.6_2789.png', 'sn1990I_6_1_87.7_2783.png', 'sn2002ck_0_0_11.9_2793.png', 'sn2006ax_0_0_-9.3_2785.png', 'sn1990I_6_1_41.1_2780.png', 'sn1997E_0_0_40.6_2800.png', 'sn2002ck_0_0_2.3_2791.png', 'sn1997E_0_0_20.0_2799.png', 'sn2002ck_0_0_37.1_2796.png', 'sn2000cx_5_0_18.6_2818.png', 'sn2000cx_5_0_30.5_2824.png', 'sn2000cx_5_0_29.5_2823.png', 'sn2000cx_5_0_4.7_2811.png', 'sn2000cx_5_0_-1.3_2806.png', 'sn2000cx_5_0_25.5_2821.png', 'sn2000cx_5_0_6.6_2813.png', 'sn2000cx_5_0_6.6_2814.png', 'sn2000cx_5_0_27.5_2822.png', 'sn2000cx_5_0_-0.3_2809.png', 'sn2000cx_5_0_-1.3_2807.png', 'sn2000cx_5_0_39.3_2827.png', 'sn2000cx_5_0_0.7_2810.png', 'sn2000cx_5_0_10.6_2816.png', 'sn2000cx_5_0_-0.4_2808.png', 'sn2000cx_5_0_8.6_2815.png', 'sn2000cx_5_0_23.5_2820.png', 'sn2000cx_5_0_-2.3_2805.png', 'sn2000cx_5_0_21.5_2819.png', 'sn2000cx_5_0_13.6_2817.png', 'sn2000cx_5_0_37.3_2826.png', 'sn2000cx_5_0_5.7_2812.png', 'sn2000cx_5_0_36.3_2825.png', 'sn2000cx_5_0_145.5_2843.png', 'sn2000cx_5_0_180.9_2845.png', 'sn2000cx_5_0_70.1_2834.png', 'sn2000cx_5_0_359.6_2846.png', 'sn2000cx_5_0_124.4_2841.png', 'sn2000cx_5_0_95.9_2837.png', 'sn2000cx_5_0_67.0_2833.png', 'sn2000cx_5_0_92.7_2836.png', 'sn2000cx_5_0_123.7_2840.png', 'sn2000cx_5_0_114.5_2838.png', 'sn2000cx_5_0_141.3_2842.png', 'sn2000cx_5_0_118.5_2839.png', 'sn2000cx_5_0_154.1_2844.png', 'sn2000cx_5_0_53.2_2829.png', 'sn2000cx_5_0_92.0_2835.png', 'sn2000cx_5_0_40.4_2828.png', 'sn2000cx_5_0_60.2_2831.png', 'sn2000cx_5_0_61.1_2832.png', 'sn2000cx_5_0_55.2_2830.png', 'sn2001en_0_0_14.1_2872.png', 'sn94ae_0_0_87.946_2859.png', 'sn1999ef_0_0_6.7_2856.png', 'sn1995bd_1_0_-7.1_2851.png', 'sn2008ae_5_0_-0.1_2861.png', 'sn1999ef_0_0_7.7_2857.png', 'sn1999ef_0_0_9.6_2858.png', 'sn2001en_0_0_5.3_2867.png', 'sn2008ae_5_0_1.9_2863.png', 'sn1995bd_1_0_20.4_2853.png', 'sn2001en_0_0_10.2_2870.png', 'sn1995bd_1_0_36.2_2854.png', 'sn2001en_0_0_8.3_2869.png', 'sn2008ae_5_0_0.9_2862.png', 'sn1995bd_1_0_10.6_2852.png', 'sn07fr_0_0_-1.154_2847.png', 'sn1995bd_1_0_-12.0_2848.png', 'sn1995bd_1_0_-9.1_2850.png', 'sn2001en_0_0_4.4_2866.png', 'sn2001en_0_0_12.2_2871.png', 'sn2008ae_5_0_-1.0_2860.png', 'sn1995bd_1_0_-10.1_2849.png', 'sn1995bd_1_0_71.6_2855.png', 'sn2008ae_5_0_2.8_2864.png', 'sn2001en_0_0_1.5_2865.png', 'sn2001en_0_0_6.3_2868.png', 'sn00dm_0_0_8.183_2884.png', 'sn06gt_2_0_2.085_2878.png', 'sn04ey_0_0_-7.479_2880.png', 'sn2006hb_2_0_11.7_2892.png', 'sn2006hb_2_0_30.3_2894.png', 'sn2003hu_1_0_10.3_2877.png', 'sn04ey_0_0_18.902_2881.png', 'sn04ey_0_0_51.49_2882.png', 'sn2001en_0_0_37.7_2873.png', 'sn06bz_2_0_-1.666_2879.png', 'sn2006hb_2_0_9.7_2890.png', 'sn07bc_0_0_16.348_2886.png', 'sn2006hb_2_0_8.7_2889.png', 'sn2006hb_2_0_23.5_2893.png', 'sn2003hu_1_0_7.5_2875.png', 'sn2003hu_1_0_0.1_2874.png', 'sn2006hb_2_0_10.7_2891.png', 'sn2003hu_1_0_8.4_2876.png', 'sn07bc_0_0_0.61_2885.png', 'sn01eh_1_0_-4.533_2896.png', 'sn01eh_1_0_-5.629_2895.png', 'sn00dm_0_0_-1.631_2883.png', 'sn2006hb_2_0_7.7_2888.png', 'sn2006hb_2_0_6.8_2887.png', 'sn2004aw_12_2_-5.2_2902.png', 'sn2004aw_12_2_0.8_2908.png', 'sn2004aw_12_2_5.3_2914.png', 'sn2004aw_12_2_-3.3_2903.png', 'sn2004aw_12_2_-1.7_2905.png', 'sn2004aw_12_2_1.9_2910.png', 'sn06cf_0_0_18.723_2901.png', 'sn2004aw_12_2_18.1_2916.png', 'sn2004aw_12_2_18.4_2917.png', 'sn2004aw_12_2_12.2_2915.png', 'sn2004aw_12_2_-2.2_2904.png', 'sn2004aw_12_2_3.1_2912.png', 'sn2004aw_12_2_3.6_2913.png', 'sn01eh_1_0_59.898_2899.png', 'sn01eh_1_0_32.079_2898.png', 'sn2004aw_12_2_2.6_2911.png', 'sn2004aw_12_2_-0.2_2907.png', 'sn01eh_1_0_3.257_2897.png', 'sn06cf_0_0_11.118_2900.png', 'sn2004aw_12_2_-1.3_2906.png', 'sn2004aw_12_2_1.6_2909.png', 'sn2004aw_12_2_30.2_2923.png', 'sn2005cs_13_3_0.8_2937.png', 'sn2004aw_12_2_25.9_2922.png', 'sn2005cs_13_3_-0.2_2935.png', 'sn2004aw_12_2_229.4_2927.png', 'sn2004aw_12_2_46.0_2925.png', 'sn2005cs_13_3_0.8_2938.png', 'sn2004aw_12_2_48.0_2926.png', 'sn05be_0_0_16.708_2931.png', 'sn2005cs_13_3_1.0_2939.png', 'sn05be_0_0_10.957_2930.png', 'sn2004aw_12_2_253.7_2928.png', 'sn2004aw_12_2_31.9_2924.png', 'sn2004aw_12_2_19.1_2918.png', 'sn2005cs_13_3_0.1_2936.png', 'sn2004aw_12_2_23.0_2920.png', 'sn2004aw_12_2_24.9_2921.png', 'sn2005cs_13_3_-1.2_2933.png', 'sn2005cs_13_3_-0.8_2934.png', 'sn2005cs_13_3_2.1_2940.png', 'sn2005cs_13_3_-1.9_2932.png', 'sn2004aw_12_2_21.3_2919.png', 'sn94S_0_0_1.525_2929.png', 'sn2005cs_13_3_5.0_2945.png', 'sn2005cs_13_3_27.0_2956.png', 'sn2005cs_13_3_3.8_2942.png', 'sn2005cs_13_3_155.6_2964.png', 'sn2005cs_13_3_56.7_2960.png', 'sn2005cs_13_3_128.9_2963.png', 'sn2005cs_13_3_26.0_2955.png', 'sn2005cs_13_3_4.0_2943.png', 'sn2005cs_13_3_8.0_2947.png', 'sn2005cs_13_3_9.7_2949.png', 'sn2005cs_13_3_7.1_2946.png', 'sn2005cs_13_3_31.7_2958.png', 'sn2005cs_13_3_9.0_2948.png', 'sn2005cs_13_3_9.8_2950.png', 'sn2005cs_13_3_220.7_2969.png', 'sn2005cs_13_3_4.2_2944.png', 'sn2005cs_13_3_265.5_2970.png', 'sn2005cs_13_3_13.8_2953.png', 'sn2005cs_13_3_188.6_2968.png', 'sn2005cs_13_3_10.0_2951.png', 'sn2005cs_13_3_17.8_2954.png', 'sn2005cs_13_3_3.1_2941.png', 'sn2005cs_13_3_101.5_2961.png', 'sn2005cs_13_3_39.7_2959.png', 'sn2005cs_13_3_118.9_2962.png', 'sn2005cs_13_3_29.8_2957.png', 'sn2005cs_13_3_161.8_2965.png', 'sn2005cs_13_3_172.7_2966.png', 'sn2005cs_13_3_176.1_2967.png', 'sn2005cs_13_3_12.7_2952.png', 'sn2006bt_0_0_-0.1_2977.png', 'sn2007ci_0_0_18.4_2998.png', 'sn07kk_0_0_7.146_3000.png', 'sn2007ci_0_0_-7.1_2990.png', 'sn2006bt_0_0_-3.9_2974.png', 'sn2007ci_0_0_-5.1_2992.png', 'sn2005cs_13_3_272.5_2971.png', 'sn2007ci_0_0_21.4_2999.png', 'sn2006bt_0_0_-4.6_2973.png', 'sn2006bt_0_0_4.7_2982.png', 'sn2007ci_0_0_-1.2_2995.png', 'sn2006bt_0_0_5.7_2983.png', 'sn2007ci_0_0_-2.2_2994.png', 'sn00dn_0_0_16.283_2988.png', 'sn2006bt_0_0_-1.0_2976.png', 'sn2007ci_0_0_-8.1_2989.png', 'sn2006bt_0_0_-2.9_2975.png', 'sn00dn_0_0_-1.039_2987.png', 'sn2007ci_0_0_-4.2_2993.png', 'sn2006bt_0_0_2.8_2980.png', 'sn2006bt_0_0_53.3_2986.png', 'sn2006bt_0_0_2.9_2981.png', 'sn2006bt_0_0_0.9_2978.png', 'sn2007ci_0_0_16.5_2997.png', 'sn2005cs_13_3_328.5_2972.png', 'sn2006bt_0_0_32.9_2985.png', 'sn01dw_0_0_11.064_3001.png', 'sn2006bt_0_0_16.3_2984.png', 'sn2007ci_0_0_-6.1_2991.png', 'sn2004et_13_3_195.8_1025.png', 'sn2004et_13_3_42.0_1015.png', 'sn2004et_13_3_-1.9_994.png', 'sn2004et_13_3_6.2_999.png', 'sn2004et_13_3_2.0_997.png', 'sn2004et_13_3_250.3_1030.png', 'sn2005eu_0_0_22.8_991.png', 'sn2004et_13_3_-0.9_995.png', 'sn2004et_13_3_229.7_1027.png', 'sn2004et_13_3_39.5_1014.png', 'sn2004et_13_3_34.5_1012.png', 'sn2004et_13_3_-2.9_993.png', 'sn2000cu_0_0_7.3_992.png', 'sn2004et_13_3_34.1_1011.png', 'sn2004et_13_3_4.0_998.png', 'sn2004et_13_3_14.5_1003.png', 'sn2004et_13_3_57.5_1017.png', 'sn2004et_13_3_146.9_1023.png', 'sn2004et_13_3_12.0_1002.png', 'sn2004et_13_3_1.0_996.png', 'sn2005eu_0_0_8.3_989.png', 'sn2004et_13_3_168.8_1024.png', 'sn2004et_13_3_47.4_1016.png', 'sn2004et_13_3_211.4_1026.png', 'sn2004et_13_3_70.5_1020.png', 'sn2004et_13_3_242.8_1029.png', 'sn2004et_13_3_27.0_1009.png', 'sn2004et_13_3_19.5_1004.png', 'sn2004et_13_3_22.6_1005.png', 'sn2004et_13_3_10.0_1001.png', 'sn2004et_13_3_24.6_1007.png', 'sn2004et_13_3_374.6_1036.png', 'sn95ac_1_0_-5.614_1057.png', 'sn2004L_0_0_3.4_1043.png', 'sn1999ek_0_0_12.2_1056.png', 'sn2004L_0_0_19.9_1045.png', 'sn04ef_0_0_84.596_1066.png', 'sn2004et_13_3_330.1_1034.png', 'sn2004L_0_0_2.5_1042.png', 'sn05cf_0_0_18.693_1061.png', 'sn2004et_13_3_369.0_1035.png', 'sn2004L_0_0_31.4_1052.png', 'sn05cf_0_0_27.642_1062.png', 'sn2004L_0_0_22.7_1047.png', 'sn1999ek_0_0_3.3_1054.png', 'sn2004et_13_3_448.4_1040.png', 'sn2004L_0_0_5.3_1044.png', 'sn05cf_0_0_-2.109_1059.png', 'sn05cf_0_0_-1.187_1060.png', 'sn2004L_0_0_26.6_1050.png', 'sn2004L_0_0_27.5_1051.png', 'sn1999ek_0_0_-0.6_1053.png', 'sn2004et_13_3_411.5_1039.png', 'sn2004et_13_3_297.7_1033.png', 'sn2003kf_0_0_-9.4_1067.png', 'sn05cf_0_0_-10.944_1058.png', 'sn04ef_0_0_8.053_1064.png', 'sn2004et_13_3_384.5_1038.png', 'sn2004L_0_0_21.8_1046.png', 'sn2004L_0_0_25.6_1049.png', 'sn2004et_13_3_382.1_1037.png', 'sn04ef_0_0_31.228_1065.png', 'sn2004et_13_3_268.3_1031.png', 'sn2003kf_0_0_-9.3_1068.png', 'sn06cz_1_0_1.119_1041.png', 'sn1999ek_0_0_9.2_1055.png', 'sn04ef_0_0_-5.519_1063.png', 'sn2004L_0_0_23.7_1048.png', 'sn2004et_13_3_284.8_1032.png', 'sn2003hv_0_0_82.1_1107.png', 'sn2003kf_0_0_41.1_1086.png', 'sn99dq_1_0_-3.327_1097.png', 'sn2003kf_0_0_-5.4_1071.png', 'sn2003kf_0_0_10.4_1074.png', 'sn2003kf_0_0_-7.4_1070.png', 'sn2003kf_0_0_42.1_1087.png', 'sn2003kf_0_0_53.1_1088.png', 'sn2003hv_0_0_19.1_1103.png', 'sn2003kf_0_0_15.4_1077.png', 'sn2003hv_0_0_74.7_1106.png', 'sn2005mz_2_0_18.0_1096.png', 'sn2003kf_0_0_-8.4_1069.png', 'sn2003kf_0_0_25.4_1083.png', 'sn2003kf_0_0_19.4_1080.png', 'sn2003kf_0_0_40.1_1084.png', 'sn2003hv_0_0_111.8_1108.png', 'sn2003kf_0_0_13.4_1075.png', 'sn2003kf_0_0_67.9_1089.png', 'sn2003kf_0_0_14.4_1076.png', 'sn2003kf_0_0_17.4_1078.png', 'sn2005mz_2_0_-7.5_1093.png', 'sn2003hv_0_0_53.2_1104.png', 'sn99dq_1_0_24.092_1098.png', 'sn2005mz_2_0_12.1_1095.png', 'sn2003kf_0_0_100.5_1091.png', 'sn2003hv_0_0_74.7_1105.png', 'sn2003kf_0_0_69.8_1090.png', 'sn2003kf_0_0_397.8_1092.png', 'sn2003kf_0_0_20.3_1081.png', 'sn2003hv_0_0_11.2_1102.png', 'sn2003kf_0_0_8.5_1073.png', 'sn2003kf_0_0_21.3_1082.png', 'sn2003kf_0_0_41.2_1085.png', 'sn2003hv_0_0_8.2_1101.png', 'sn2003hv_0_0_3.2_1100.png', 'sn2005mz_2_0_10.2_1094.png', 'sn2003kf_0_0_-3.4_1072.png', 'sn99dq_1_0_3.57_1099.png', 'sn2003kf_0_0_18.4_1079.png', 'sn1998dx_0_0_5.9_1115.png', 'sn1998dx_0_0_-1.7_1111.png', 'sn1998dx_0_0_7.8_1116.png', 'sn1998dx_0_0_1.1_1113.png', 'sn1998dx_0_0_-0.7_1112.png', 'sn2003hv_0_0_144.5_1109.png', 'sn1998dx_0_0_2.1_1114.png', 'sn2003hv_0_0_320.5_1110.png', 'sn97Y_0_0_2.314_1123.png', 'sn1994Q_0_0_18.6_1128.png', 'sn1994Q_0_0_10.9_1124.png', 'sn1979C_14_3_10.9_1119.png', 'sn1994Q_0_0_11.6_1125.png', 'sn1979C_14_3_9.9_1118.png', 'sn1994Q_0_0_12.8_1127.png', 'sn1998dx_0_0_12.5_1117.png', 'sn1979C_14_3_12.9_1120.png', 'sn1979C_14_3_71.6_1122.png', 'sn1994Q_0_0_41.6_1129.png', 'sn1994Q_0_0_11.8_1126.png', 'sn1979C_14_3_42.8_1121.png', 'sn1999aw_1_0_35.6_1164.png', 'sn2008af_0_0_24.3_1166.png', 'sn2001bf_0_0_57.7_1138.png', 'sn1999ee_0_0_31.5_1159.png', 'sn1999ee_0_0_6.7_1153.png', 'sn1999aw_1_0_2.9_1163.png', 'sn2001bf_0_0_64.5_1140.png', 'sn00cu_0_0_8.955_1130.png', 'sn02bo_0_0_15.645_1143.png', 'sn1999ee_0_0_15.7_1155.png', 'sn02bo_0_0_27.591_1144.png', 'sn1999ee_0_0_19.5_1156.png', 'sn2001bf_0_0_7.6_1134.png', 'sn1999ee_0_0_-9.1_1149.png', 'sn1999ee_0_0_1.8_1152.png', 'sn02bo_0_0_76.286_1147.png', 'sn2001bf_0_0_8.7_1135.png', 'sn2007cq_1_0_-5.0_1167.png', 'sn1999ee_0_0_10.6_1154.png', 'sn1999ee_0_0_26.6_1158.png', 'sn2001bf_0_0_58.8_1139.png', 'sn1999aw_1_0_0.0_1162.png', 'sn02bo_0_0_-1.427_1142.png', 'sn1999ee_0_0_21.6_1157.png', 'sn2008af_0_0_5.9_1165.png', 'sn2001bf_0_0_12.5_1136.png', 'sn02bo_0_0_56.352_1146.png', 'sn2001bf_0_0_4.7_1133.png', 'sn2001bf_0_0_42.0_1137.png', 'sn1999ee_0_0_-7.2_1150.png', 'sn1999aw_1_0_-1.0_1161.png', 'sn02bo_0_0_44.48_1145.png', 'sn1999ee_0_0_-0.2_1151.png', 'sn2002cf_2_0_-5.4_1148.png', 'sn2001bf_0_0_0.8_1132.png', 'sn02bo_0_0_-12.288_1141.png', 'sn2007cq_1_0_-4.0_1168.png', 'sn00cu_0_0_38.249_1131.png', 'sn1999ee_0_0_40.4_1160.png', 'sn2006bp_13_3_3.3_1200.png', 'sn2006bp_13_3_2.1_1199.png', 'sn2006bp_13_3_8.1_1203.png', 'sn2002dj_0_0_-4.6_1179.png', 'sn2006bp_13_3_20.1_1210.png', 'sn2002dj_0_0_9.5_1183.png', 'sn2006bp_13_3_-1.7_1197.png', 'sn2002dj_0_0_-8.6_1174.png', 'sn2002dj_0_0_22.3_1187.png', 'sn2002dj_0_0_-9.5_1173.png', 'sn2006bp_13_3_-4.6_1196.png', 'sn2002dj_0_0_12.3_1184.png', 'sn2002dj_0_0_219.6_1190.png', 'sn2006bp_13_3_15.1_1206.png', 'sn2002dj_0_0_30.1_1188.png', 'sn2006bp_13_3_16.2_1207.png', 'sn2003U_0_0_-8.5_1192.png', 'sn2002dj_0_0_-3.6_1180.png', 'sn2002dj_0_0_271.1_1191.png', 'sn2002dj_0_0_-11.4_1170.png', 'sn2002dj_0_0_16.2_1185.png', 'sn2002dj_0_0_68.7_1189.png', 'sn2006bp_13_3_4.2_1201.png', 'sn2002dj_0_0_-10.4_1172.png', 'sn2002dj_0_0_-11.4_1169.png', 'sn2006bp_13_3_25.2_1211.png', 'sn2002dj_0_0_-10.4_1171.png', 'sn2006bp_13_3_0.1_1198.png', 'sn2003U_0_0_-0.7_1194.png', 'sn2002dj_0_0_-6.4_1178.png', 'sn2006bp_13_3_17.1_1208.png', 'sn2006bp_13_3_13.2_1204.png', 'sn2002dj_0_0_9.3_1182.png', 'sn2006bp_13_3_14.3_1205.png', 'sn2002dj_0_0_-6.6_1177.png', 'sn2006bp_13_3_-5.7_1195.png', 'sn2006bp_13_3_7.2_1202.png', 'sn2006bp_13_3_17.2_1209.png', 'sn2003U_0_0_-5.6_1193.png', 'sn2002dj_0_0_-7.4_1176.png', 'sn2002dj_0_0_16.4_1186.png', 'sn2002dj_0_0_-8.4_1175.png', 'sn2002dj_0_0_8.0_1181.png', 'sn2003bg_8_1_11.5_1248.png', 'sn2004as_0_0_25.1_1241.png', 'sn2004as_0_0_-7.8_1226.png', 'sn2004as_0_0_8.6_1240.png', 'sn1994M_0_0_12.5_1223.png', 'sn2003bg_8_1_-19.1_1244.png', 'sn1994M_0_0_1.6_1216.png', 'sn2006bp_13_3_64.9_1214.png', 'sn2004as_0_0_2.9_1236.png', 'sn2004as_0_0_28.0_1242.png', 'sn2003bg_8_1_-17.3_1245.png', 'sn1994M_0_0_5.6_1220.png', 'sn1994M_0_0_2.6_1217.png', 'sn2004as_0_0_7.6_1239.png', 'sn2004as_0_0_5.8_1237.png', 'sn2004as_0_0_31.0_1243.png', 'sn2006bp_13_3_330.0_1215.png', 'sn1994M_0_0_39.8_1225.png', 'sn1994M_0_0_32.7_1224.png', 'sn2004as_0_0_-4.9_1229.png', 'sn2006bp_13_3_34.1_1212.png', 'sn2003bg_8_1_-15.4_1246.png', 'sn2003bg_8_1_-7.4_1247.png', 'sn1994M_0_0_4.7_1219.png', 'sn1994M_0_0_3.7_1218.png', 'sn2004as_0_0_6.6_1238.png', 'sn2004as_0_0_-1.0_1233.png', 'sn2004as_0_0_-2.0_1232.png', 'sn2004as_0_0_-0.1_1234.png', 'sn1994M_0_0_11.5_1222.png', 'sn2004as_0_0_-6.8_1227.png', 'sn2003bg_8_1_15.5_1249.png', 'sn2004as_0_0_1.8_1235.png', 'sn2006bp_13_3_49.0_1213.png', 'sn2004as_0_0_-3.9_1230.png', 'sn2003bg_8_1_20.4_1250.png', 'sn2004as_0_0_-2.9_1231.png', 'sn1994M_0_0_6.6_1221.png', 'sn2004as_0_0_-5.9_1228.png', 'sn2004ef_0_0_2.5_1274.png', 'sn2004ef_0_0_-5.2_1267.png', 'sn2004at_0_0_-3.6_1284.png', 'sn2001fh_0_0_4.2_1261.png', 'sn2003bg_8_1_270.5_1256.png', 'sn2004ef_0_0_0.6_1272.png', 'sn2004at_0_0_-4.7_1283.png', 'sn2004ef_0_0_-0.4_1271.png', 'sn2001fh_0_0_-2.6_1259.png', 'sn2003bg_8_1_277.4_1257.png', 'sn2004at_0_0_2.2_1288.png', 'sn2004at_0_0_0.2_1286.png', 'sn2003bg_8_1_240.6_1254.png', 'sn2004ef_0_0_-6.2_1266.png', 'sn2004ef_0_0_-4.2_1268.png', 'sn2004ef_0_0_-8.1_1264.png', 'sn2004ef_0_0_-7.1_1265.png', 'sn2001fh_0_0_-3.6_1258.png', 'sn2003bg_8_1_21.4_1251.png', 'sn2004ef_0_0_25.7_1277.png', 'sn2004at_0_0_17.8_1289.png', 'sn2004at_0_0_-7.4_1281.png', 'sn2004at_0_0_-8.6_1280.png', 'sn2001fh_0_0_7.2_1262.png', 'sn2004ef_0_0_-1.5_1270.png', 'sn2003bg_8_1_153.2_1252.png', 'sn99gd_0_0_0.167_1279.png', 'sn2003bg_8_1_253.5_1255.png', 'sn2004at_0_0_-0.7_1285.png', 'sn2003bg_8_1_182.1_1253.png', 'sn2004ef_0_0_1.5_1273.png', 'sn2004ef_0_0_6.3_1275.png', 'sn2004at_0_0_1.2_1287.png', 'sn2004at_0_0_-6.6_1282.png', 'sn2004ef_0_0_33.4_1278.png', 'sn2001fh_0_0_-1.7_1260.png', 'sn2004ef_0_0_19.9_1276.png', 'sn2001fh_0_0_9.1_1263.png', 'sn2004ef_0_0_-3.3_1269.png', 'sn1981B_0_0_22.3_1301.png', 'sn1998co_0_0_0.0_1291.png', 'sn02cs_0_0_-9.085_1317.png', 'sn1981B_0_0_18.3_1300.png', 'sn03iv_0_0_6.986_1316.png', 'sn1981B_0_0_33.2_1303.png', 'sn1994D_0_0_-10.1_1325.png', 'sn02cs_0_0_142.158_1321.png', 'sn1981B_0_0_113.7_1305.png', 'sn2000dk_0_0_58.6_1313.png', 'sn02cs_0_0_31.278_1318.png', 'sn2000dk_0_0_-5.1_1307.png', 'sn1981B_0_0_15.4_1299.png', 'sn02cs_0_0_54.86_1319.png', 'sn1994D_0_0_-10.0_1326.png', 'sn1981B_0_0_26.3_1302.png', 'sn1994D_0_0_-11.2_1323.png', 'sn2000dk_0_0_-4.2_1308.png', 'sn1998co_0_0_28.4_1297.png', 'sn1994D_0_0_-11.1_1324.png', 'sn1998co_0_0_3.9_1293.png', 'sn2004at_0_0_29.6_1290.png', 'sn2006bw_0_0_4.9_1322.png', 'sn1981B_0_0_92.9_1304.png', 'sn1998co_0_0_1.0_1292.png', 'sn1998co_0_0_6.9_1294.png', 'sn2000dk_0_0_33.1_1312.png', 'sn1998co_0_0_22.5_1295.png', 'sn2000dk_0_0_9.6_1311.png', 'sn2000dk_0_0_0.8_1309.png', 'sn1994D_0_0_-9.2_1327.png', 'sn2000dk_0_0_3.7_1310.png', 'sn02cs_0_0_84.321_1320.png', 'sn2000dk_0_0_88.1_1314.png', 'sn1998co_0_0_24.6_1296.png', 'sn1981B_0_0_-1.5_1298.png', 'sn03iv_0_0_2.165_1315.png', 'sn1981B_0_0_266.8_1306.png', 'sn1994D_0_0_74.5_1358.png', 'sn1994D_0_0_10.8_1339.png', 'sn1994D_0_0_58.5_1356.png', 'sn1994D_0_0_42.6_1348.png', 'sn1994D_0_0_611.2_1361.png', 'sn1995ak_0_0_26.1_1365.png', 'sn1994D_0_0_16.9_1343.png', 'sn1994D_0_0_105.2_1360.png', 'sn1995ak_0_0_17.4_1363.png', 'sn1994D_0_0_45.7_1349.png', 'sn1994D_0_0_49.5_1350.png', 'sn1994D_0_0_55.5_1354.png', 'sn1994D_0_0_-3.1_1335.png', 'sn1995ak_0_0_13.4_1362.png', 'sn1994D_0_0_39.7_1347.png', 'sn1994D_0_0_16.7_1342.png', 'sn1994D_0_0_-4.3_1333.png', 'sn1994D_0_0_-5.3_1331.png', 'sn1994D_0_0_9.6_1338.png', 'sn1994D_0_0_-2.3_1336.png', 'sn1994D_0_0_-8.2_1328.png', 'sn1994D_0_0_53.4_1352.png', 'sn1994D_0_0_-4.1_1334.png', 'sn1994D_0_0_54.6_1353.png', 'sn1994D_0_0_-5.1_1332.png', 'sn1995ak_0_0_22.3_1364.png', 'sn1994D_0_0_-8.1_1329.png', 'sn1994D_0_0_23.7_1346.png', 'sn1994D_0_0_-6.1_1330.png', 'sn1994D_0_0_82.5_1359.png', 'sn1994D_0_0_56.5_1355.png', 'sn1994D_0_0_12.8_1340.png', 'sn1994D_0_0_19.7_1344.png', 'sn1994D_0_0_72.5_1357.png', 'sn1995ak_0_0_50.5_1366.png', 'sn1994D_0_0_20.7_1345.png', 'sn1994D_0_0_49.5_1351.png', 'sn1994D_0_0_14.8_1341.png', 'sn1994D_0_0_-0.1_1337.png', 'sn2006lf_0_0_6.3_1388.png', 'sn2004bd_0_0_20.1_1403.png', 'sn05am_0_0_41.037_1375.png', 'sn2006lf_0_0_7.3_1389.png', 'sn2006lf_0_0_-6.5_1384.png', 'sn2002jg_0_0_9.4_1378.png', 'sn2006lf_0_0_13.2_1393.png', 'sn2006lf_0_0_49.6_1400.png', 'sn2000B_0_0_21.5_1370.png', 'sn2006lf_0_0_16.1_1394.png', 'sn2006lf_0_0_19.1_1395.png', 'sn2000B_0_0_8.6_1368.png', 'sn2004bd_0_0_18.0_1402.png', 'sn00cw_0_0_5.005_1381.png', 'sn05am_0_0_35.077_1374.png', 'sn2006lf_0_0_-7.5_1383.png', 'sn2006lf_0_0_-8.4_1382.png', 'sn2000B_0_0_38.2_1371.png', 'sn2006eu_0_0_8.0_1380.png', 'sn2006lf_0_0_-5.5_1385.png', 'sn2002jg_0_0_4.5_1377.png', 'sn2006lf_0_0_-4.5_1386.png', 'sn2002jg_0_0_25.1_1379.png', 'sn2006lf_0_0_11.3_1392.png', 'sn2006lf_0_0_37.8_1396.png', 'sn2006lf_0_0_45.6_1399.png', 'sn2006lf_0_0_10.3_1391.png', 'sn2006lf_0_0_39.8_1397.png', 'sn2002jg_0_0_-3.4_1376.png', 'sn2000B_0_0_13.6_1369.png', 'sn2006lf_0_0_9.3_1390.png', 'sn1995ak_0_0_73.9_1367.png', 'sn2006lf_0_0_44.6_1398.png', 'sn2000B_0_0_44.0_1372.png', 'sn2006lf_0_0_50.6_1401.png', 'sn2006lf_0_0_5.3_1387.png', 'sn05am_0_0_4.467_1373.png', 'sn1986G_2_0_-2.7_1423.png', 'sn1986G_2_0_-0.7_1426.png', 'sn1998dm_0_0_7.4_1407.png', 'sn1998dm_0_0_26.3_1413.png', 'sn1986G_2_0_-1.2_1425.png', 'sn1986G_2_0_-2.2_1424.png', 'sn1986G_2_0_-3.7_1421.png', 'sn2004bd_0_0_28.9_1405.png', 'sn1986G_2_0_0.3_1428.png', 'sn02jy_0_0_39.905_1418.png', 'sn2001ex_0_0_-3.4_1419.png', 'sn1986G_2_0_-3.0_1422.png', 'sn1986G_2_0_-4.7_1420.png', 'sn02kf_0_0_7.142_1416.png', 'sn02jy_0_0_12.298_1417.png', 'sn1998dm_0_0_6.5_1406.png', 'sn1986G_2_0_0.8_1429.png', 'sn1998dm_0_0_14.4_1410.png', 'sn1998dm_0_0_9.5_1408.png', 'sn1998dm_0_0_17.4_1411.png', 'sn2004bd_0_0_23.1_1404.png', 'sn1998dm_0_0_49.2_1415.png', 'sn1998dm_0_0_12.4_1409.png', 'sn1998dm_0_0_19.4_1412.png', 'sn1998dm_0_0_41.2_1414.png', 'sn1986G_2_0_-0.2_1427.png', 'sn1986G_2_0_55.7_1442.png', 'sn1986G_2_0_22.7_1433.png', 'sn1986G_2_0_54.2_1441.png', 'sn1986G_2_0_45.2_1437.png', 'sn1986G_2_0_49.2_1438.png', 'sn1986G_2_0_41.2_1435.png', 'sn1986G_2_0_21.7_1432.png', 'sn1986G_2_0_51.7_1439.png', 'sn1986G_2_0_53.7_1440.png', 'sn1986G_2_0_31.7_1434.png', 'sn1986G_2_0_44.2_1436.png', 'sn1986G_2_0_20.7_1431.png', 'sn1986G_2_0_1.3_1430.png', 'sn2004eo_0_0_54.0_1463.png', 'sn2000cn_2_0_26.8_1475.png', 'sn2004eo_0_0_21.6_1456.png', 'sn2004eo_0_0_13.1_1454.png', 'sn2004eo_0_0_71.8_1465.png', 'sn2004eo_0_0_49.1_1461.png', 'sn1995al_0_0_8.4_1478.png', 'sn2004eo_0_0_-5.6_1449.png', 'sn1986G_2_0_89.6_1444.png', 'sn2000cn_2_0_25.7_1474.png', 'sn2004eo_0_0_-2.0_1450.png', 'sn1986G_2_0_256.3_1446.png', 'sn2000cn_2_0_8.3_1470.png', 'sn2004eo_0_0_14.7_1455.png', 'sn2000cn_2_0_-9.3_1467.png', 'sn2000cn_2_0_20.9_1473.png', 'sn2004eo_0_0_-10.2_1448.png', 'sn1986G_2_0_56.2_1443.png', 'sn2004eo_0_0_46.1_1460.png', 'sn2004eo_0_0_7.8_1452.png', 'sn2000cn_2_0_12.2_1472.png', 'sn2004eo_0_0_2.9_1451.png', 'sn1986G_2_0_323.2_1447.png', 'sn1995al_0_0_10.4_1479.png', 'sn2000cn_2_0_-7.3_1469.png', 'sn2004eo_0_0_50.1_1462.png', 'sn2000cn_2_0_50.2_1476.png', 'sn2004eo_0_0_30.4_1459.png', 'sn2000cn_2_0_10.2_1471.png', 'sn2004eo_0_0_224.9_1466.png', 'sn1986G_2_0_102.6_1445.png', 'sn2004eo_0_0_22.1_1457.png', 'sn1995al_0_0_13.3_1480.png', 'sn2004eo_0_0_24.1_1458.png', 'sn2004eo_0_0_11.7_1453.png', 'sn2000cn_2_0_-8.3_1468.png', 'sn2004eo_0_0_67.7_1464.png', 'sn1995al_0_0_6.4_1477.png', 'sn02er_0_0_-8.4_1501.png', 'sn2000E_0_0_117.6_1496.png', 'sn97br_1_0_-4.3_1490.png', 'sn02er_0_0_10.6_1515.png', 'sn02er_0_0_3.4_1511.png', 'sn97br_1_0_46.134_1491.png', 'sn02er_0_0_-9.4_1500.png', 'sn2000E_0_0_-6.4_1492.png', 'sn02er_0_0_-1.5_1508.png', 'sn02er_0_0_-0.5_1509.png', 'sn1995al_0_0_15.4_1481.png', 'sn02er_0_0_9.4_1514.png', 'sn1995al_0_0_18.3_1484.png', 'sn1995al_0_0_67.9_1488.png', 'sn02er_0_0_1.5_1510.png', 'sn2000E_0_0_119.7_1497.png', 'sn2000E_0_0_-2.3_1494.png', 'sn02er_0_0_-2.5_1507.png', 'sn02er_0_0_-7.4_1502.png', 'sn02er_0_0_-5.4_1504.png', 'sn2000E_0_0_120.3_1498.png', 'sn1995al_0_0_25.2_1486.png', 'sn1995al_0_0_16.4_1483.png', 'sn02er_0_0_-11.3_1499.png', 'sn2000E_0_0_-3.4_1493.png', 'sn02er_0_0_-3.5_1506.png', 'sn02er_0_0_4.4_1512.png', 'sn1995al_0_0_16.4_1482.png', 'sn1995al_0_0_93.8_1489.png', 'sn2000E_0_0_7.5_1495.png', 'sn1995al_0_0_19.4_1485.png', 'sn02er_0_0_12.4_1516.png', 'sn02er_0_0_5.5_1513.png', 'sn1995al_0_0_44.2_1487.png', 'sn02er_0_0_-6.4_1503.png', 'sn02er_0_0_-4.4_1505.png', 'sn1997cn_2_0_3.9_1532.png', 'sn1997cn_2_0_43.4_1544.png', 'sn02cr_0_0_24.895_1524.png', 'sn02er_0_0_15.5_1517.png', 'sn1997cn_2_0_19.7_1540.png', 'sn1997cn_2_0_11.9_1534.png', 'sn1997cn_2_0_13.0_1535.png', 'sn2006H_2_0_5.5_1546.png', 'sn1997cn_2_0_20.8_1541.png', 'sn1997cn_2_0_15.0_1537.png', 'sn2002cs_0_0_-8.5_1527.png', 'sn2002cs_0_0_3.3_1530.png', 'sn1997cn_2_0_23.7_1543.png', 'sn2006H_2_0_9.6_1549.png', 'sn1997cn_2_0_15.8_1538.png', 'sn1997cn_2_0_14.0_1536.png', 'sn1997cn_2_0_10.9_1533.png', 'sn02er_0_0_16.4_1518.png', 'sn02cr_0_0_33.689_1525.png', 'sn02cr_0_0_-6.782_1523.png', 'sn02cr_0_0_57.467_1526.png', 'sn02er_0_0_213.0_1522.png', 'sn02er_0_0_33.2_1521.png', 'sn02er_0_0_24.2_1520.png', 'sn2006H_2_0_7.5_1548.png', 'sn2002cs_0_0_-7.5_1528.png', 'sn2002cs_0_0_-4.5_1529.png', 'sn2006H_2_0_10.4_1550.png', 'sn02er_0_0_19.5_1519.png', 'sn2002cs_0_0_18.0_1531.png', 'sn2006H_2_0_4.5_1545.png', 'sn2006H_2_0_6.5_1547.png', 'sn1997cn_2_0_21.7_1542.png', 'sn2006H_2_0_11.4_1551.png', 'sn1997cn_2_0_17.9_1539.png', 'sn1999dq_1_0_-7.4_1565.png', 'sn1999dq_1_0_26.1_1578.png', 'sn2003ch_0_0_2.8_1588.png', 'sn04fu_0_0_-2.774_1559.png', 'sn2006H_2_0_13.4_1553.png', 'sn04fu_0_0_25.152_1561.png', 'sn2003ch_0_0_0.8_1585.png', 'sn1999dq_1_0_-2.5_1570.png', 'sn2006H_2_0_14.3_1554.png', 'sn2006H_2_0_17.3_1557.png', 'sn1999dq_1_0_-9.4_1563.png', 'sn1999dq_1_0_3.4_1574.png', 'sn02el_0_0_21.488_1582.png', 'sn04fu_0_0_2.297_1560.png', 'sn1999dq_1_0_-6.4_1566.png', 'sn1999dq_1_0_0.4_1571.png', 'sn2003ch_0_0_1.8_1587.png', 'sn1999dq_1_0_2.4_1573.png', 'sn2006H_2_0_16.3_1556.png', 'sn2003ch_0_0_-2.1_1583.png', 'sn1999dq_1_0_-8.5_1564.png', 'sn1999dq_1_0_-10.4_1562.png', 'sn2003ch_0_0_1.8_1586.png', 'sn2003ch_0_0_-0.2_1584.png', 'sn2006H_2_0_19.4_1558.png', 'sn1999dq_1_0_18.2_1577.png', 'sn1999dq_1_0_-4.5_1568.png', 'sn1999dq_1_0_5.4_1575.png', 'sn2006H_2_0_15.3_1555.png', 'sn02el_0_0_11.823_1581.png', 'sn1999dq_1_0_47.7_1580.png', 'sn1999dq_1_0_-5.5_1567.png', 'sn1999dq_1_0_1.4_1572.png', 'sn1999dq_1_0_17.2_1576.png', 'sn2006H_2_0_12.4_1552.png', 'sn1999dq_1_0_28.9_1579.png', 'sn1999dq_1_0_-3.5_1569.png', 'sn2003ch_0_0_13.5_1593.png', 'sn2002kf_0_0_1.1_1599.png', 'sn1999gh_0_0_8.4_1613.png', 'sn1999gh_0_0_12.4_1616.png', 'sn2003ch_0_0_31.1_1594.png', 'sn1999gh_0_0_7.4_1612.png', 'sn1999gh_0_0_9.4_1614.png', 'sn2002kf_0_0_6.0_1603.png', 'sn2002kf_0_0_27.5_1607.png', 'sn98bu_0_0_235.773_1597.png', 'sn98bu_0_0_30.216_1595.png', 'sn1999gh_0_0_70.8_1623.png', 'sn2002kf_0_0_11.8_1605.png', 'sn98bu_0_0_279.684_1598.png', 'sn1999gh_0_0_11.4_1615.png', 'sn1999gh_0_0_72.7_1624.png', 'sn2002kf_0_0_3.1_1601.png', 'sn2002kf_0_0_4.1_1602.png', 'sn2002kf_0_0_29.5_1608.png', 'sn98es_1_0_0.645_1625.png', 'sn1999gh_0_0_5.5_1610.png', 'sn2002kf_0_0_2.2_1600.png', 'sn2002kf_0_0_8.0_1604.png', 'sn98bu_0_0_59.123_1596.png', 'sn2003ch_0_0_3.8_1589.png', 'sn1999gh_0_0_28.2_1617.png', 'sn2003ch_0_0_6.7_1592.png', 'sn1999gh_0_0_65.8_1622.png', 'sn2003ch_0_0_4.8_1590.png', 'sn2003ch_0_0_5.6_1591.png', 'sn1999gh_0_0_36.1_1619.png', 'sn1999gh_0_0_6.5_1611.png', 'sn1999gh_0_0_42.0_1621.png', 'sn2002kf_0_0_13.9_1606.png', 'sn1999gh_0_0_40.1_1620.png', 'sn2002kf_0_0_29.5_1609.png', 'sn1999gh_0_0_34.2_1618.png', 'sn1987A_16_3_-75.6_1651.png', 'sn1987A_16_3_-68.6_1662.png', 'sn1987A_16_3_-77.8_1646.png', 'sn98es_1_0_78.703_1628.png', 'sn1995E_0_0_1.0_1632.png', 'sn1987A_16_3_-76.8_1648.png', 'sn1987A_16_3_-72.6_1655.png', 'sn1987A_16_3_-78.8_1644.png', 'sn1987A_16_3_-71.8_1656.png', 'sn1987A_16_3_-82.4_1639.png', 'sn1995E_0_0_8.9_1635.png', 'sn1995E_0_0_-2.9_1630.png', 'sn1987A_16_3_-69.8_1660.png', 'sn1987A_16_3_-69.6_1661.png', 'sn1987A_16_3_-70.6_1659.png', 'sn1987A_16_3_-77.5_1647.png', 'sn98es_1_0_57.789_1627.png', 'sn1987A_16_3_-73.5_1653.png', 'sn1987A_16_3_-75.7_1650.png', 'sn1987A_16_3_-74.8_1652.png', 'sn98es_1_0_46.133_1626.png', 'sn1987A_16_3_-76.6_1649.png', 'sn1995E_0_0_31.6_1636.png', 'sn1995E_0_0_3.9_1633.png', 'sn1995E_0_0_-0.9_1631.png', 'sn1987A_16_3_-72.8_1654.png', 'sn1987A_16_3_-79.6_1643.png', 'sn1987A_16_3_-80.8_1640.png', 'sn1987A_16_3_-80.5_1641.png', 'sn1995E_0_0_5.9_1634.png', 'sn1987A_16_3_-70.8_1658.png', 'sn1987A_16_3_-71.6_1657.png', 'sn00cp_0_0_3.212_1629.png', 'sn1987A_16_3_-82.7_1638.png', 'sn1987A_16_3_-78.5_1645.png', 'sn1987A_16_3_-79.7_1642.png', 'sn2000bh_0_0_24.1_1637.png', 'sn1987A_16_3_-57.6_1675.png', 'sn1987A_16_3_-54.9_1676.png', 'sn1987A_16_3_-67.6_1663.png', 'sn1987A_16_3_-61.6_1670.png', 'sn1987A_16_3_-52.8_1678.png', 'sn1987A_16_3_-44.9_1690.png', 'sn1987A_16_3_-63.5_1668.png', 'sn1987A_16_3_-58.6_1674.png', 'sn1987A_16_3_-41.9_1695.png', 'sn1987A_16_3_-42.6_1694.png', 'sn1987A_16_3_-45.7_1689.png', 'sn1987A_16_3_-37.8_1700.png', 'sn1987A_16_3_-44.6_1691.png', 'sn1987A_16_3_-48.6_1685.png', 'sn1987A_16_3_-49.6_1684.png', 'sn1987A_16_3_-47.6_1686.png', 'sn1987A_16_3_-43.8_1692.png', 'sn1987A_16_3_-50.8_1682.png', 'sn1987A_16_3_-39.6_1698.png', 'sn1987A_16_3_-41.6_1696.png', 'sn1987A_16_3_-66.6_1664.png', 'sn1987A_16_3_-50.6_1683.png', 'sn1987A_16_3_-46.6_1687.png', 'sn1987A_16_3_-59.6_1672.png', 'sn1987A_16_3_-53.6_1677.png', 'sn1987A_16_3_-37.6_1701.png', 'sn1987A_16_3_-64.6_1667.png', 'sn1987A_16_3_-58.8_1673.png', 'sn1987A_16_3_-51.6_1681.png', 'sn1987A_16_3_-38.6_1699.png', 'sn1987A_16_3_-64.8_1666.png', 'sn1987A_16_3_-45.9_1688.png', 'sn1987A_16_3_-62.6_1669.png', 'sn1987A_16_3_-40.7_1697.png', 'sn1987A_16_3_-52.6_1679.png', 'sn1987A_16_3_-65.6_1665.png', 'sn1987A_16_3_-60.6_1671.png', 'sn1987A_16_3_-43.6_1693.png', 'sn1987A_16_3_-51.9_1680.png', 'sn1987A_16_3_-16.7_1723.png', 'sn1987A_16_3_-2.7_1731.png', 'sn1987A_16_3_13.3_1741.png', 'sn1987A_16_3_3.3_1735.png', 'sn1987A_16_3_-15.7_1724.png', 'sn1987A_16_3_12.0_1740.png', 'sn1987A_16_3_-17.0_1722.png', 'sn1987A_16_3_9.3_1737.png', 'sn1987A_16_3_-26.9_1711.png', 'sn1987A_16_3_-13.7_1725.png', 'sn1987A_16_3_1.3_1733.png', 'sn1987A_16_3_-22.7_1718.png', 'sn1987A_16_3_-9.9_1727.png', 'sn1987A_16_3_-4.7_1730.png', 'sn1987A_16_3_-32.7_1706.png', 'sn1987A_16_3_-6.7_1729.png', 'sn1987A_16_3_-22.9_1717.png', 'sn1987A_16_3_17.3_1743.png', 'sn1987A_16_3_-21.9_1719.png', 'sn1987A_16_3_8.0_1736.png', 'sn1987A_16_3_-26.6_1712.png', 'sn1987A_16_3_-36.6_1702.png', 'sn1987A_16_3_-20.9_1720.png', 'sn1987A_16_3_-10.7_1726.png', 'sn1987A_16_3_-31.8_1707.png', 'sn1987A_16_3_-30.7_1709.png', 'sn1987A_16_3_-23.9_1716.png', 'sn1987A_16_3_-28.7_1710.png', 'sn1987A_16_3_-18.6_1721.png', 'sn1987A_16_3_-25.9_1713.png', 'sn1987A_16_3_-24.9_1714.png', 'sn1987A_16_3_-33.6_1705.png', 'sn1987A_16_3_3.1_1734.png', 'sn1987A_16_3_-35.6_1703.png', 'sn1987A_16_3_11.3_1739.png', 'sn1987A_16_3_10.0_1738.png', 'sn1987A_16_3_-2.0_1732.png', 'sn1987A_16_3_-31.6_1708.png', 'sn1987A_16_3_14.1_1742.png', 'sn1987A_16_3_-34.6_1704.png', 'sn1987A_16_3_-24.7_1715.png', 'sn1987A_16_3_-8.7_1728.png', 'sn1987A_16_3_75.4_1775.png', 'sn1987A_16_3_20.3_1747.png', 'sn1987A_16_3_44.2_1764.png', 'sn1987A_16_3_21.0_1748.png', 'sn1987A_16_3_25.3_1750.png', 'sn1987A_16_3_40.5_1760.png', 'sn1987A_16_3_41.3_1761.png', 'sn1987A_16_3_90.4_1778.png', 'sn1987A_16_3_29.3_1753.png', 'sn1987A_16_3_71.4_1771.png', 'sn1987A_16_3_56.0_1768.png', 'sn1987A_16_3_73.4_1773.png', 'sn1987A_16_3_28.0_1752.png', 'sn1987A_16_3_23.2_1749.png', 'sn1987A_16_3_42.4_1763.png', 'sn1987A_16_3_20.0_1746.png', 'sn1987A_16_3_76.4_1776.png', 'sn1987A_16_3_39.3_1758.png', 'sn1987A_16_3_45.7_1765.png', 'sn1987A_16_3_103.4_1783.png', 'sn1987A_16_3_18.3_1745.png', 'sn1987A_16_3_31.2_1754.png', 'sn1987A_16_3_49.0_1767.png', 'sn1987A_16_3_38.5_1757.png', 'sn1987A_16_3_72.3_1772.png', 'sn1987A_16_3_41.5_1762.png', 'sn1987A_16_3_46.7_1766.png', 'sn1987A_16_3_95.4_1780.png', 'sn1987A_16_3_113.6_1784.png', 'sn1987A_16_3_99.4_1782.png', 'sn1987A_16_3_39.5_1759.png', 'sn1987A_16_3_74.3_1774.png', 'sn1987A_16_3_27.2_1751.png', 'sn1987A_16_3_86.4_1777.png', 'sn1987A_16_3_65.4_1770.png', 'sn1987A_16_3_18.0_1744.png', 'sn1987A_16_3_94.3_1779.png', 'sn1987A_16_3_63.4_1769.png', 'sn1987A_16_3_33.2_1755.png', 'sn1987A_16_3_36.0_1756.png', 'sn1987A_16_3_96.4_1781.png', 'sn1987A_16_3_169.0_1792.png', 'sn1987A_16_3_134.1_1785.png', 'sn1987A_16_3_298.9_1817.png', 'sn1987A_16_3_285.1_1815.png', 'sn1987A_16_3_148.1_1786.png', 'sn1987A_16_3_182.1_1796.png', 'sn1987A_16_3_277.8_1814.png', 'sn1987A_16_3_158.2_1790.png', 'sn1987A_16_3_297.0_1816.png', 'sn1987A_16_3_156.1_1789.png', 'sn1987A_16_3_211.0_1801.png', 'sn1987A_16_3_193.1_1799.png', 'sn1987A_16_3_215.9_1802.png', 'sn1987A_16_3_238.0_1805.png', 'sn1987A_16_3_259.9_1811.png', 'sn1987A_16_3_155.2_1788.png', 'sn1987A_16_3_176.1_1793.png', 'sn1987A_16_3_184.2_1797.png', 'sn1987A_16_3_266.9_1812.png', 'sn1987A_16_3_178.2_1794.png', 'sn1987A_16_3_269.9_1813.png', 'sn1987A_16_3_252.9_1808.png', 'sn1987A_16_3_301.9_1818.png', 'sn1987A_16_3_255.2_1809.png', 'sn1987A_16_3_246.0_1806.png', 'sn1987A_16_3_246.0_1807.png', 'sn1987A_16_3_151.3_1787.png', 'sn1987A_16_3_304.8_1819.png', 'sn1987A_16_3_161.1_1791.png', 'sn1987A_16_3_230.9_1804.png', 'sn1987A_16_3_255.2_1810.png', 'sn1987A_16_3_187.2_1798.png', 'sn1987A_16_3_203.0_1800.png', 'sn1987A_16_3_181.1_1795.png', 'sn1987A_16_3_224.0_1803.png', 'sn1987A_16_3_334.9_1825.png', 'sn1987A_16_3_344.8_1828.png', 'sn1987A_16_3_307.8_1820.png', 'sn1987A_16_3_406.1_1835.png', 'sn1987A_16_3_429.4_1842.png', 'sn1987A_16_3_471.0_1848.png', 'sn1987A_16_3_339.0_1826.png', 'sn1987A_16_3_382.7_1833.png', 'sn1987A_16_3_367.7_1831.png', 'sn1987A_16_3_420.0_1839.png', 'sn1987A_16_3_413.4_1836.png', 'sn1987A_16_3_322.8_1822.png', 'sn1987A_16_3_420.1_1840.png', 'sn1987A_16_3_330.8_1824.png', 'sn1987A_16_3_459.0_1847.png', 'sn1987A_16_3_360.7_1830.png', 'sn1987A_16_3_444.1_1845.png', 'sn1987A_16_3_357.8_1829.png', 'sn1987A_16_3_427.0_1841.png', 'sn1987A_16_3_375.7_1832.png', 'sn1987A_16_3_393.7_1834.png', 'sn1987A_16_3_441.3_1843.png', 'sn1987A_16_3_416.1_1837.png', 'sn1987A_16_3_324.1_1823.png', 'sn1987A_16_3_419.0_1838.png', 'sn1987A_16_3_339.7_1827.png', 'sn1987A_16_3_450.0_1846.png', 'sn1987A_16_3_442.1_1844.png', 'sn1987A_16_3_316.0_1821.png', 'sn1987A_16_3_687.4_1870.png', 'sn1987A_16_3_1103.0_1878.png', 'sn1987A_16_3_634.8_1864.png', 'sn1987A_16_3_561.7_1856.png', 'sn1987A_16_3_605.8_1861.png', 'sn1987A_16_3_540.9_1855.png', 'sn1987A_16_3_504.2_1851.png', 'sn1987A_16_3_656.5_1867.png', 'sn1987A_16_3_989.4_1872.png', 'sn02cx_4_0_-5.3_1879.png', 'sn1987A_16_3_532.8_1854.png', 'sn1987A_16_3_496.9_1850.png', 'sn1987A_16_3_1076.0_1876.png', 'sn1987A_16_3_513.8_1852.png', 'sn1987A_16_3_667.5_1869.png', 'sn1987A_16_3_701.7_1871.png', 'sn1987A_16_3_624.6_1862.png', 'sn1987A_16_3_488.0_1849.png', 'sn1987A_16_3_651.5_1866.png', 'sn1987A_16_3_1046.1_1873.png', 'sn1987A_16_3_572.8_1857.png', 'sn1987A_16_3_1086.0_1877.png', 'sn1987A_16_3_634.9_1865.png', 'sn02cx_4_0_10.3_1881.png', 'sn1987A_16_3_518.9_1853.png', 'sn1987A_16_3_660.5_1868.png', 'sn1987A_16_3_594.7_1859.png', 'sn1987A_16_3_1061.0_1874.png', 'sn1987A_16_3_590.7_1858.png', 'sn1987A_16_3_628.8_1863.png', 'sn02cx_4_0_14.2_1882.png', 'sn02cx_4_0_-2.4_1880.png', 'sn1987A_16_3_599.8_1860.png', 'sn1987A_16_3_1070.1_1875.png', 'sn95D_0_0_69.6_1905.png', 'sn95D_0_0_37.8_1903.png', 'sn98bu_0_0_14.3_1915.png', 'sn01ep_0_0_2.833_1890.png', 'sn98bu_0_0_1.2_1909.png', 'sn95D_0_0_6.1_1897.png', 'sn04as_0_0_-4.357_1889.png', 'sn02cx_4_0_18.2_1883.png', 'sn98bu_0_0_12.2_1913.png', 'sn02cx_4_0_24.1_1885.png', 'sn98bu_0_0_30.2_1918.png', 'sn98bu_0_0_10.2_1911.png', 'sn98bu_0_0_13.2_1914.png', 'sn2006gj_0_0_-0.7_1887.png', 'sn01ep_0_0_28.458_1894.png', 'sn98bu_0_0_32.1_1920.png', 'sn95D_0_0_14.1_1901.png', 'sn98bu_0_0_11.2_1912.png', 'sn95D_0_0_11.2_1900.png', 'sn01ep_0_0_87.265_1895.png', 'sn95D_0_0_10.1_1899.png', 'sn98bu_0_0_9.3_1910.png', 'sn98bu_0_0_-1.7_1907.png', 'sn95D_0_0_42.8_1904.png', 'sn95D_0_0_4.2_1896.png', 'sn2006gj_0_0_3.2_1888.png', 'sn01ep_0_0_5.974_1892.png', 'sn98bu_0_0_31.1_1919.png', 'sn02cx_4_0_53.3_1886.png', 'sn98bu_0_0_28.2_1916.png', 'sn98bu_0_0_-2.8_1906.png', 'sn95D_0_0_16.1_1902.png', 'sn98bu_0_0_-0.7_1908.png', 'sn95D_0_0_8.1_1898.png', 'sn01ep_0_0_4.989_1891.png', 'sn01ep_0_0_7.854_1893.png', 'sn98bu_0_0_29.2_1917.png', 'sn02cx_4_0_23.0_1884.png', 'sn98bu_0_0_34.2_1922.png', 'sn94ae_0_0_11.3_1948.png', 'sn98bu_0_0_37.2_1925.png', 'sn94ae_0_0_9.3_1945.png', 'sn94ae_0_0_87.8_1954.png', 'sn98bu_0_0_41.1_1929.png', 'sn98bu_0_0_40.1_1928.png', 'sn98bu_0_0_42.1_1930.png', 'sn94ae_0_0_70.0_1953.png', 'sn98bu_0_0_39.2_1927.png', 'sn94ae_0_0_6.4_1944.png', 'sn98bu_0_0_190.1_1935.png', 'sn98bu_0_0_242.8_1938.png', 'sn98bu_0_0_36.2_1924.png', 'sn98bu_0_0_216.9_1937.png', 'sn98bu_0_0_43.1_1931.png', 'sn94ae_0_0_40.1_1951.png', 'sn94ae_0_0_30.2_1949.png', 'sn94ae_0_0_2.3_1940.png', 'sn94ae_0_0_3.3_1941.png', 'sn94ae_0_0_4.4_1943.png', 'sn98bu_0_0_33.2_1921.png', 'sn94ae_0_0_64.0_1952.png', 'sn2005ke_2_0_0.5_1959.png', 'sn94ae_0_0_1.3_1939.png', 'sn98bu_0_0_179.1_1934.png', 'sn98bu_0_0_57.1_1933.png', 'sn94ae_0_0_36.2_1950.png', 'sn98bu_0_0_35.2_1923.png', 'sn94ae_0_0_3.3_1942.png', 'sn94ae_0_0_10.4_1947.png', 'sn2006cq_0_0_-3.3_1958.png', 'sn98bu_0_0_44.1_1932.png', 'sn94ae_0_0_367.7_1957.png', 'sn98bu_0_0_208.0_1936.png', 'sn98bu_0_0_38.2_1926.png', 'sn94ae_0_0_123.6_1955.png', 'sn94ae_0_0_153.4_1956.png', 'sn94ae_0_0_9.4_1946.png', 'sn05de_0_0_10.097_1970.png', 'sn1998V_0_0_40.6_1988.png', 'sn2007au_0_0_-4.7_1975.png', 'sn2005ke_2_0_28.3_1967.png', 'sn1998V_0_0_13.1_1985.png', 'sn2005ke_2_0_26.3_1966.png', 'sn2005ke_2_0_8.4_1962.png', 'sn1998V_0_0_0.3_1981.png', 'sn08A_4_0_0.791_1973.png', 'sn2006cj_0_0_9.1_1996.png', 'sn1998V_0_0_2.3_1983.png', 'sn1998V_0_0_1.3_1982.png', 'sn2006cj_0_0_-1.2_1991.png', 'sn06ef_0_0_28.707_1979.png', 'sn2007au_0_0_-3.8_1976.png', 'sn2005ke_2_0_10.4_1963.png', 'sn1998V_0_0_15.0_1986.png', 'sn06ef_0_0_34.559_1980.png', 'sn05de_0_0_40.49_1972.png', 'sn05de_0_0_25.745_1971.png', 'sn2005ke_2_0_6.4_1961.png', 'sn2006cj_0_0_8.2_1995.png', 'sn2007fb_0_0_1.7_1998.png', 'sn2006cj_0_0_-0.2_1992.png', 'sn06ef_0_0_3.197_1978.png', 'sn1998V_0_0_12.1_1984.png', 'sn1998V_0_0_30.8_1987.png', 'sn2006cj_0_0_11.0_1997.png', 'sn2005ke_2_0_11.4_1964.png', 'sn1998V_0_0_43.5_1989.png', 'sn2007au_0_0_1.1_1977.png', 'sn2007au_0_0_-5.6_1974.png', 'sn2005ke_2_0_31.2_1968.png', 'sn2006cj_0_0_5.4_1994.png', 'sn2006cj_0_0_4.4_1993.png', 'sn2006cj_0_0_-2.1_1990.png', 'sn2007fb_0_0_5.6_1999.png', 'sn2005ke_2_0_2.4_1960.png', 'sn05de_0_0_-0.748_1969.png', 'sn2005ke_2_0_13.4_1965.png', 'sn2008ar_0_0_25.7_14.png', 'sn2008ar_0_0_-0.7_7.png', 'sn2008ar_0_0_55.6_16.png', 'sn2008ar_0_0_5.0_11.png', 'sn2008ar_0_0_-2.7_5.png', 'sn1999ac_1_0_-3.9_21.png', 'sn2008ar_0_0_7.2_12.png', 'sn2008ar_0_0_-8.5_0.png', 'sn2008ar_0_0_-4.6_3.png', 'sn2008ar_0_0_105.1_17.png', 'sn1999ac_1_0_-2.1_23.png', 'sn2008ar_0_0_-7.5_1.png', 'sn2008ar_0_0_28.4_15.png', 'sn1999ac_1_0_-2.9_22.png', 'sn2008ar_0_0_-3.7_4.png', 'sn2008ar_0_0_3.1_9.png', 'sn2008ar_0_0_-6.6_2.png', 'sn1999ac_1_0_-12.9_19.png', 'sn2008ar_0_0_-1.7_6.png', 'sn1999ac_1_0_-9.9_20.png', 'sn2008ar_0_0_22.6_13.png', 'sn1999ac_1_0_-13.9_18.png', 'sn2008ar_0_0_4.1_10.png', 'sn2008ar_0_0_1.2_8.png', 'sn1999ac_1_0_86.1_51.png', 'sn1999ac_1_0_39.5_46.png', 'sn1999ac_1_0_11.8_32.png', 'sn1999ac_1_0_24.8_35.png', 'sn1999ac_1_0_54.4_49.png', 'sn1999ac_1_0_16.8_34.png', 'sn1998dk_0_0_23.0_58.png', 'sn1999ac_1_0_10.0_30.png', 'sn1999ac_1_0_28.7_38.png', 'sn1998dk_0_0_10.2_52.png', 'sn1999ac_1_0_7.8_27.png', 'sn1998dk_0_0_18.1_56.png', 'sn1999ac_1_0_33.6_42.png', 'sn1999ac_1_0_31.6_40.png', 'sn1999ac_1_0_40.6_48.png', 'sn1999ac_1_0_36.6_44.png', 'sn1999ac_1_0_0.4_25.png', 'sn1999ac_1_0_62.3_50.png', 'sn1999ac_1_0_38.6_45.png', 'sn1999ac_1_0_40.5_47.png', 'sn1998dk_0_0_16.1_55.png', 'sn1998dk_0_0_21.0_57.png', 'sn1999ac_1_0_11.9_33.png', 'sn1999ac_1_0_2.7_26.png', 'sn1999ac_1_0_32.7_41.png', 'sn1999ac_1_0_10.9_31.png', 'sn1999ac_1_0_28.6_37.png', 'sn1999ac_1_0_34.7_43.png', 'sn1999ac_1_0_9.0_29.png', 'sn1999ac_1_0_-0.9_24.png', 'sn1998dk_0_0_11.1_53.png', 'sn1999ac_1_0_26.7_36.png', 'sn1998dk_0_0_13.1_54.png', 'sn1999ac_1_0_30.7_39.png', 'sn1999ac_1_0_8.8_28.png', 'sn2005gj_3_0_27.3_66.png', 'sn2005gj_3_0_39.4_68.png', 'sn2005gj_3_0_61.1_72.png', 'sn2005gj_3_0_66.8_77.png', 'sn2002cr_0_0_-6.3_88.png', 'sn2005gj_3_0_-1.8_62.png', 'sn2005gj_3_0_92.1_81.png', 'sn2005gj_3_0_7.7_63.png', 'sn04eo_0_0_-5.57_83.png', 'sn2002cr_0_0_-11.2_86.png', 'sn2005gj_3_0_40.5_69.png', 'sn04eo_0_0_13.193_84.png', 'sn2005gj_3_0_-12.1_61.png', 'sn2005gj_3_0_42.3_70.png', 'sn2005gj_3_0_17.9_65.png', 'sn2005gj_3_0_88.4_80.png', 'sn2005gj_3_0_133.5_82.png', 'sn2005gj_3_0_63.9_74.png', 'sn2005gj_3_0_64.9_75.png', 'sn2002cr_0_0_-8.2_87.png', 'sn2005gj_3_0_67.7_78.png', 'sn2005gj_3_0_65.8_76.png', 'sn2005gj_3_0_75.3_79.png', 'sn2005gj_3_0_51.8_71.png', 'sn2005gj_3_0_38.5_67.png', 'sn1998dk_0_0_44.7_60.png', 'sn1998dk_0_0_29.9_59.png', 'sn04eo_0_0_44.403_85.png', 'sn2005gj_3_0_63.0_73.png', 'sn2005gj_3_0_10.4_64.png', 'sn06cs_2_0_2.408_106.png', 'sn2002cr_0_0_0.7_90.png', 'sn2000cf_0_0_3.9_112.png', 'sn06ej_0_0_-3.695_93.png', 'sn2001br_0_0_-0.4_98.png', 'sn06kf_0_0_-1.747_109.png', 'sn2002cu_0_0_-3.3_105.png', 'sn2000cf_0_0_16.4_114.png', 'sn94D_0_0_-10.7_118.png', 'sn2001br_0_0_2.5_99.png', 'sn2000cf_0_0_14.5_113.png', 'sn06ej_0_0_21.651_95.png', 'sn08bt_2_0_10.967_117.png', 'sn06kf_0_0_-7.655_108.png', 'sn2000cf_0_0_2.9_111.png', 'sn2002cu_0_0_-6.3_104.png', 'sn2000cf_0_0_24.1_115.png', 'sn2002cr_0_0_-2.4_89.png', 'sn06kf_0_0_18.673_110.png', 'sn02bg_0_0_-3.655_107.png', 'sn2000cf_0_0_25.1_116.png', 'sn2001br_0_0_27.0_100.png', 'sn06ej_0_0_27.541_96.png', 'sn2002cu_0_0_-8.2_103.png', 'sn2006et_0_0_6.3_102.png', 'sn94D_0_0_-10.6_119.png', 'sn2002cr_0_0_19.4_92.png', 'sn06ej_0_0_5.095_94.png', 'sn2002cr_0_0_4.6_91.png', 'sn03ai_0_0_7.729_97.png', 'sn2006et_0_0_2.4_101.png', 'sn94D_0_0_24.2_147.png', 'sn94D_0_0_15.3_140.png', 'sn94D_0_0_13.2_137.png', 'sn94D_0_0_-9.6_120.png', 'sn94D_0_0_12.2_136.png', 'sn94D_0_0_13.4_138.png', 'sn94D_0_0_15.2_139.png', 'sn94D_0_0_-3.8_127.png', 'sn94D_0_0_-8.7_122.png', 'sn94D_0_0_11.0_135.png', 'sn94D_0_0_15.2_144.png', 'sn94D_0_0_2.2_132.png', 'sn94D_0_0_2.9_133.png', 'sn94D_0_0_-4.7_126.png', 'sn94D_0_0_26.2_148.png', 'sn94D_0_0_14.3_143.png', 'sn94D_0_0_-7.7_123.png', 'sn94D_0_0_-5.6_124.png', 'sn94D_0_0_19.2_146.png', 'sn94D_0_0_-2.6_129.png', 'sn94D_0_0_-3.6_128.png', 'sn94D_0_0_17.4_142.png', 'sn94D_0_0_16.3_145.png', 'sn94D_0_0_-9.5_121.png', 'sn94D_0_0_17.2_141.png', 'sn94D_0_0_-4.8_125.png', 'sn94D_0_0_40.3_149.png', 'sn94D_0_0_0.4_131.png', 'sn94D_0_0_-1.8_130.png', 'sn94D_0_0_10.1_134.png', 'sn94D_0_0_50.1_154.png', 'sn2001ep_0_0_2.8_174.png', 'sn94D_0_0_53.9_155.png', 'sn94D_0_0_59.1_158.png', 'sn2001ep_0_0_28.4_183.png', 'sn94D_0_0_55.1_156.png', 'sn2001ep_0_0_4.8_177.png', 'sn2001ep_0_0_3.8_176.png', 'sn94D_0_0_50.0_153.png', 'sn1999ex_6_1_-4.5_161.png', 'sn2001ep_0_0_1.8_173.png', 'sn2004bk_0_0_6.4_160.png', 'sn2001ep_0_0_6.8_179.png', 'sn2001ep_0_0_2.8_175.png', 'sn94D_0_0_43.2_150.png', 'sn2001ep_0_0_5.8_178.png', 'sn2007A_0_0_-3.4_164.png', 'sn94D_0_0_83.1_159.png', 'sn94D_0_0_46.2_151.png', 'sn2001ep_0_0_20.6_182.png', 'sn2001ep_0_0_-0.1_171.png', 'sn2001ep_0_0_-7.0_167.png', 'sn2001ep_0_0_-1.1_170.png', 'sn2001ep_0_0_-3.1_168.png', 'sn94D_0_0_57.1_157.png', 'sn2001ep_0_0_-2.1_169.png', 'sn2001ep_0_0_0.8_172.png', 'sn2007A_0_0_-2.4_165.png', 'sn2001ep_0_0_7.8_181.png', 'sn94D_0_0_48.0_152.png', 'sn1999ex_6_1_0.4_162.png', 'sn2007A_0_0_4.5_166.png', 'sn2001ep_0_0_7.7_180.png', 'sn1999ex_6_1_9.3_163.png', 'sn2001ep_0_0_31.5_185.png', 'sn2007F_0_0_-5.7_197.png', 'sn2001ep_0_0_35.3_187.png', 'sn2007F_0_0_3.0_200.png', 'sn2007F_0_0_80.0_206.png', 'sn2007F_0_0_-7.7_195.png', 'sn2007F_0_0_32.3_203.png', 'sn2007F_0_0_-0.9_199.png', 'sn2001ep_0_0_87.5_192.png', 'sn2001ep_0_0_60.9_190.png', 'sn2007F_0_0_-6.7_196.png', 'sn2001ep_0_0_66.9_191.png', 'sn2007F_0_0_52.7_205.png', 'sn2000dm_0_0_-2.9_193.png', 'sn2001ep_0_0_57.0_189.png', 'sn2007F_0_0_26.4_202.png', 'sn2001ep_0_0_47.1_188.png', 'sn2007F_0_0_-8.7_194.png', 'sn2007F_0_0_-1.8_198.png', 'sn2007F_0_0_44.0_204.png', 'sn2001ep_0_0_33.5_186.png', 'sn2001ep_0_0_28.5_184.png', 'sn2007F_0_0_17.6_201.png', 'sn2007if_5_0_6.6_230.png', 'sn2007if_5_0_-7.5_224.png', 'sn2002dp_0_0_7.1_217.png', 'sn1998de_2_0_-0.3_212.png', 'sn2007if_5_0_7.4_231.png', 'sn1998de_2_0_2.7_213.png', 'sn2007if_5_0_14.1_237.png', 'sn2002dp_0_0_-4.8_216.png', 'sn2007if_5_0_15.9_239.png', 'sn2007if_5_0_5.6_228.png', 'sn2002dp_0_0_13.0_219.png', 'sn2007if_5_0_-2.9_226.png', 'sn1998de_2_0_-6.2_208.png', 'sn2007if_5_0_13.1_235.png', 'sn2007if_5_0_-9.2_223.png', 'sn2007if_5_0_9.4_233.png', 'sn1998de_2_0_-5.2_209.png', 'sn2007if_5_0_6.1_229.png', 'sn1998de_2_0_-7.2_207.png', 'sn1998de_2_0_-3.2_210.png', 'sn2007if_5_0_24.0_241.png', 'sn2006bq_0_0_5.3_215.png', 'sn2007if_5_0_15.7_238.png', 'sn2007if_5_0_9.4_232.png', 'sn2007if_5_0_25.2_242.png', 'sn2007if_5_0_-6.6_225.png', 'sn1998de_2_0_-2.2_211.png', 'sn2002dp_0_0_16.9_220.png', 'sn2002dp_0_0_36.7_222.png', 'sn2007if_5_0_13.9_236.png', 'sn2007if_5_0_23.3_240.png', 'sn2007if_5_0_10.3_234.png', 'sn2007if_5_0_4.7_227.png', 'sn2007if_5_0_28.0_243.png', 'sn2002dp_0_0_10.0_218.png', 'sn03gq_4_0_57.959_214.png', 'sn2002dp_0_0_22.9_221.png', 'sn2007if_5_0_62.3_258.png', 'sn06dw_0_0_1.07_264.png', 'sn2007if_5_0_56.7_256.png', 'sn1995ac_1_0_23.9_262.png', 'sn2007if_5_0_48.4_254.png', 'sn2007if_5_0_33.4_246.png', 'sn2007if_5_0_33.3_245.png', 'sn2007if_5_0_37.2_250.png', 'sn2007if_5_0_32.5_244.png', 'sn2007if_5_0_118.9_260.png', 'sn06dw_0_0_6.876_265.png', 'sn2007if_5_0_34.4_247.png', 'sn2007if_5_0_36.3_249.png', 'sn2007if_5_0_39.1_251.png', 'sn2007if_5_0_61.4_257.png', 'sn06dw_0_0_22.469_266.png', 'sn2007if_5_0_66.9_259.png', 'sn2007if_5_0_36.1_248.png', 'sn2007if_5_0_43.8_253.png', 'sn1995ac_1_0_-5.5_261.png', 'sn1999bh_2_0_5.1_263.png', 'sn04fz_0_0_-5.179_268.png', 'sn2007if_5_0_51.2_255.png', 'sn2007if_5_0_41.9_252.png', 'sn06dw_0_0_28.279_267.png', 'sn2001el_0_0_39.9_279.png', 'sn2001ay_0_0_7.2_288.png', 'sn2001ay_0_0_7.8_289.png', 'sn2001ay_0_0_9.0_290.png', 'sn2001el_0_0_18.0_278.png', 'sn95ac_1_0_24.4_281.png', 'sn2001ay_0_0_-1.5_282.png', 'sn2001ay_0_0_4.2_286.png', 'sn2001ay_0_0_29.5_295.png', 'sn1992ar_10_2_3.4_273.png', 'sn2007nq_0_0_6.3_271.png', 'sn04fz_0_0_22.276_270.png', 'sn06ke_2_0_8.43_274.png', 'sn2007nq_0_0_9.2_272.png', 'sn2001ay_0_0_29.4_294.png', 'sn2001ay_0_0_5.8_287.png', 'sn2001ay_0_0_54.6_300.png', 'sn2001ay_0_0_54.7_301.png', 'sn2001ay_0_0_31.4_298.png', 'sn2001ay_0_0_30.4_296.png', 'sn2001el_0_0_9.1_277.png', 'sn2001el_0_0_396.5_280.png', 'sn2001el_0_0_1.2_276.png', 'sn2001ay_0_0_31.4_297.png', 'sn04fz_0_0_17.559_269.png', 'sn2001ay_0_0_36.3_299.png', 'sn2001ay_0_0_3.3_284.png', 'sn2001el_0_0_-3.8_275.png', 'sn2001ay_0_0_23.3_293.png', 'sn2001ay_0_0_16.5_291.png', 'sn2001ay_0_0_3.3_285.png', 'sn2001ay_0_0_22.6_292.png', 'sn2001ay_0_0_1.3_283.png', 'sn1990B_10_2_15.4_314.png', 'sn2001bg_0_0_19.0_332.png', 'sn06cq_0_0_1.914_306.png', 'sn1990B_10_2_9.9_313.png', 'sn1999em_13_3_-1.6_336.png', 'sn1990B_10_2_115.9_327.png', 'sn1990B_10_2_5.0_308.png', 'sn1999em_13_3_-0.6_337.png', 'sn2002dl_2_0_10.3_305.png', 'sn1990B_10_2_47.4_321.png', 'sn2001bg_0_0_14.0_331.png', 'sn1990B_10_2_7.0_311.png', 'sn1999em_13_3_0.4_339.png', 'sn1999em_13_3_-3.6_334.png', 'sn2001bg_0_0_5.1_329.png', 'sn1999em_13_3_-2.6_335.png', 'sn1990B_10_2_28.3_317.png', 'sn1990B_10_2_22.3_315.png', 'sn1990B_10_2_38.7_319.png', 'sn1999em_13_3_-3.7_333.png', 'sn2002dl_2_0_-7.4_303.png', 'sn1990B_10_2_88.0_325.png', 'sn1990B_10_2_27.6_316.png', 'sn1999em_13_3_0.2_338.png', 'sn1990B_10_2_58.4_322.png', 'sn2001bg_0_0_10.0_330.png', 'sn1990B_10_2_4.0_307.png', 'sn1990B_10_2_64.5_323.png', 'sn1990B_10_2_6.0_310.png', 'sn1990B_10_2_5.9_309.png', 'sn2002dl_2_0_-6.5_304.png', 'sn1990B_10_2_71.5_324.png', 'sn2002dl_2_0_-8.4_302.png', 'sn1990B_10_2_41.2_320.png', 'sn2001bg_0_0_4.2_328.png', 'sn1990B_10_2_8.9_312.png', 'sn1990B_10_2_100.2_326.png', 'sn1990B_10_2_31.3_318.png', 'sn1999em_13_3_2.4_341.png', 'sn1999em_13_3_114.8_369.png', 'sn1999em_13_3_126.8_372.png', 'sn1999em_13_3_64.1_360.png', 'sn1999em_13_3_37.3_354.png', 'sn1999em_13_3_6.2_344.png', 'sn1999em_13_3_5.4_342.png', 'sn1999em_13_3_5.6_343.png', 'sn1999em_13_3_153.9_373.png', 'sn1999em_13_3_119.0_370.png', 'sn1999em_13_3_100.9_368.png', 'sn1999em_13_3_44.1_356.png', 'sn1999em_13_3_6.6_346.png', 'sn1999em_13_3_27.2_350.png', 'sn1999em_13_3_62.1_359.png', 'sn1999em_13_3_32.5_351.png', 'sn1999em_13_3_39.2_355.png', 'sn1999em_13_3_71.2_363.png', 'sn1999em_13_3_60.1_358.png', 'sn1999em_13_3_90.0_367.png', 'sn1999em_13_3_6.4_345.png', 'sn1999em_13_3_68.0_361.png', 'sn1999em_13_3_35.3_353.png', 'sn1999em_13_3_58.1_357.png', 'sn1999em_13_3_16.1_349.png', 'sn1999em_13_3_70.1_362.png', 'sn1999em_13_3_87.0_365.png', 'sn1999em_13_3_1.4_340.png', 'sn1999em_13_3_119.8_371.png', 'sn1999em_13_3_88.0_366.png', 'sn1999em_13_3_72.0_364.png', 'sn1999em_13_3_11.1_348.png', 'sn1999em_13_3_34.3_352.png', 'sn1999em_13_3_9.4_347.png', 'sn1997br_1_0_9.9_392.png', 'sn1997br_1_0_11.9_393.png', 'sn2002ic_3_0_9.4_379.png', 'sn1997br_1_0_-7.0_387.png', 'sn1997br_1_0_7.9_391.png', 'sn1997br_1_0_-8.6_384.png', 'sn1997br_1_0_-6.6_388.png', 'sn2002ic_3_0_65.6_382.png', 'sn1997br_1_0_16.8_394.png', 'sn1999em_13_3_157.9_374.png', 'sn2002ic_3_0_5.6_378.png', 'sn1997br_1_0_-7.6_386.png', 'sn1997br_1_0_-9.6_383.png', 'sn2002ic_3_0_31.9_380.png', 'sn1997br_1_0_-8.0_385.png', 'sn1999em_13_3_327.8_376.png', 'sn1997br_1_0_-4.6_389.png', 'sn1999em_13_3_510.9_377.png', 'sn1997br_1_0_7.2_390.png', 'sn2002ic_3_0_44.1_381.png', 'sn1999em_13_3_307.8_375.png', 'sn1997br_1_0_65.8_402.png', 'sn1997br_1_0_41.5_399.png', 'sn1997br_1_0_37.0_397.png', 'sn1997br_1_0_71.3_403.png', 'sn1999X_0_0_16.0_426.png', 'sn2003fa_1_0_18.5_421.png', 'sn1999X_0_0_28.6_428.png', 'sn1997br_1_0_48.5_400.png', 'sn1997br_1_0_49.9_401.png', 'sn1997br_1_0_37.6_398.png', 'sn2003fa_1_0_17.3_419.png', 'sn1999X_0_0_15.0_425.png', 'sn2003fa_1_0_6.9_410.png', 'sn2003fa_1_0_7.8_411.png', 'sn2003fa_1_0_10.7_413.png', 'sn2003fa_1_0_11.6_414.png', 'sn1999X_0_0_12.0_423.png', 'sn1999X_0_0_13.1_424.png', 'sn1999X_0_0_20.8_427.png', 'sn2003fa_1_0_15.5_417.png', 'sn2003fa_1_0_-9.5_405.png', 'sn1999ej_0_0_-1.8_430.png', 'sn2003fa_1_0_-6.6_408.png', 'sn1999ej_0_0_1.1_431.png', 'sn2003fa_1_0_13.5_415.png', 'sn2003fa_1_0_16.5_418.png', 'sn2003fa_1_0_8.7_412.png', 'sn2003fa_1_0_14.6_416.png', 'sn2003fa_1_0_19.3_422.png', 'sn2006az_0_0_-1.0_429.png', 'sn1997br_1_0_23.1_396.png', 'sn1997br_1_0_20.8_395.png', 'sn2003fa_1_0_-5.6_409.png', 'sn2003fa_1_0_17.6_420.png', 'sn2003fa_1_0_-8.5_406.png', 'sn2003fa_1_0_-10.4_404.png', 'sn2003fa_1_0_-7.6_407.png', 'sn1999ej_0_0_3.1_432.png', 'sn2005cc_5_0_3.6_437.png', 'sn2002de_0_0_1.8_461.png', 'sn2002de_0_0_3.7_463.png', 'sn06cp_0_0_-5.301_435.png', 'sn2007S_1_0_-3.7_447.png', 'sn1999ej_0_0_8.1_433.png', 'sn2007S_1_0_-2.7_448.png', 'sn2002de_0_0_-4.1_458.png', 'sn2002de_0_0_8.5_464.png', 'sn2007S_1_0_24.9_454.png', 'sn2005cc_5_0_2.6_436.png', 'sn2002de_0_0_-3.0_459.png', 'sn2005cc_5_0_30.4_444.png', 'sn2007S_1_0_6.2_450.png', 'sn2007S_1_0_-0.7_449.png', 'sn2002de_0_0_2.7_462.png', 'sn2002de_0_0_-5.0_457.png', 'sn2007S_1_0_13.1_453.png', 'sn2005cc_5_0_17.4_442.png', 'sn2005cc_5_0_9.5_440.png', 'sn2007S_1_0_8.1_451.png', 'sn2005cc_5_0_5.6_439.png', 'sn2002de_0_0_-6.1_456.png', 'sn2005cc_5_0_14.7_441.png', 'sn2002de_0_0_-2.2_460.png', 'sn2007S_1_0_12.1_452.png', 'sn2005cc_5_0_4.6_438.png', 'sn1999ej_0_0_11.0_434.png', 'sn2005cc_5_0_41.3_445.png', 'sn2005cc_5_0_19.4_443.png', 'sn2007S_1_0_-4.7_446.png', 'sn2007S_1_0_33.7_455.png', 'sn06or_0_0_4.801_467.png', 'sn2004dt_0_0_-0.7_481.png', 'sn2004dt_0_0_-6.4_474.png', 'sn2004dt_0_0_9.1_487.png', 'sn2004dt_0_0_17.0_490.png', 'sn2004dt_0_0_14.0_488.png', 'sn2004dt_0_0_20.0_492.png', 'sn2004dt_0_0_-5.6_475.png', 'sn06or_0_0_-2.915_466.png', 'sn2004dt_0_0_-1.0_480.png', 'sn2004dt_0_0_2.3_484.png', 'sn2004dt_0_0_1.0_482.png', 'sn2002de_0_0_26.9_465.png', 'sn2004dt_0_0_-6.5_473.png', 'sn2004dt_0_0_43.7_497.png', 'sn2004dt_0_0_-8.9_470.png', 'sn2004dt_0_0_-3.7_477.png', 'sn2004dt_0_0_-3.0_478.png', 'sn2004dt_0_0_46.3_498.png', 'sn2004dt_0_0_-8.5_471.png', 'sn2004dt_0_0_-2.0_479.png', 'sn2004dt_0_0_26.4_494.png', 'sn2004dt_0_0_-9.9_468.png', 'sn2004dt_0_0_-4.5_476.png', 'sn2004dt_0_0_3.8_486.png', 'sn2004dt_0_0_36.6_496.png', 'sn2004dt_0_0_2.0_483.png', 'sn2004dt_0_0_3.3_485.png', 'sn2004dt_0_0_16.4_489.png', 'sn2004dt_0_0_23.2_493.png', 'sn2004dt_0_0_19.3_491.png', 'sn2004dt_0_0_-6.5_472.png', 'sn2004dt_0_0_-9.4_469.png', 'sn2004dt_0_0_27.3_495.png', 'sn2004dt_0_0_52.5_501.png', 'sn2004dt_0_0_48.6_499.png', 'sn2004dt_0_0_57.5_502.png', 'sn2004dt_0_0_50.6_500.png', 'sn00cx_5_0_11.5_525.png', 'sn00cx_5_0_19.4_527.png', 'sn2002he_0_0_5.6_510.png', 'sn2004dt_0_0_109.3_504.png', 'sn00cx_5_0_9.5_524.png', 'sn2002he_0_0_3.7_509.png', 'sn00cx_5_0_-3.4_515.png', 'sn1983N_6_1_12.0_513.png', 'sn00cx_5_0_-1.4_517.png', 'sn00cx_5_0_7.5_523.png', 'sn2002he_0_0_34.9_511.png', 'sn00cx_5_0_-0.4_518.png', 'sn00cx_5_0_0.6_519.png', 'sn00cx_5_0_6.5_522.png', 'sn00cx_5_0_1.6_520.png', 'sn00cx_5_0_22.4_528.png', 'sn00cx_5_0_14.5_526.png', 'sn00cx_5_0_5.6_521.png', 'sn00cx_5_0_-2.4_516.png', 'sn1983N_6_1_227.6_514.png', 'sn2002he_0_0_-8.1_507.png', 'sn1983N_6_1_4.0_512.png', 'sn2004dt_0_0_346.8_506.png', 'sn2002he_0_0_-3.2_508.png', 'sn2004dt_0_0_59.7_503.png', 'sn2004dt_0_0_149.6_505.png', 'sn00cx_5_0_28.4_531.png', 'sn2007kk_0_0_-0.8_551.png', 'sn00cx_5_0_92.9_537.png', 'sn04dt_0_0_-6.263_541.png', 'sn04dt_0_0_18.199_542.png', 'sn00cx_5_0_96.8_538.png', 'sn04dt_0_0_50.611_544.png', 'sn2002G_0_0_-2.5_548.png', 'sn00cx_5_0_26.4_530.png', 'sn00cx_5_0_41.3_534.png', 'sn00cx_5_0_146.4_540.png', 'sn00cx_5_0_71.0_536.png', 'sn2002G_0_0_-4.4_547.png', 'sn00cx_5_0_30.4_532.png', 'sn2007kk_0_0_-1.7_550.png', 'sn04dt_0_0_31.97_543.png', 'sn04dt_0_0_109.432_546.png', 'sn00cx_5_0_24.4_529.png', 'sn00cx_5_0_61.1_535.png', 'sn00cx_5_0_124.6_539.png', 'sn00cx_5_0_31.4_533.png', 'sn04dt_0_0_81.591_545.png', 'sn2005be_0_0_7.7_549.png', 'sn2002bo_0_0_-9.7_569.png', 'sn2002bo_0_0_-5.4_573.png', 'sn2002bo_0_0_-4.7_575.png', 'sn2007kk_0_0_5.9_557.png', 'sn2002bo_0_0_-8.4_570.png', 'sn2007kk_0_0_5.0_556.png', 'sn2002bo_0_0_-13.4_566.png', 'sn2002bo_0_0_-13.6_565.png', 'sn2007kk_0_0_8.8_559.png', 'sn2007kk_0_0_30.0_563.png', 'sn2002bo_0_0_-12.7_567.png', 'sn2002bo_0_0_-6.3_572.png', 'sn2007kk_0_0_90.4_564.png', 'sn2007kk_0_0_1.1_552.png', 'sn2007kk_0_0_25.1_562.png', 'sn2007kk_0_0_2.1_553.png', 'sn2007kk_0_0_21.3_561.png', 'sn2007kk_0_0_9.8_560.png', 'sn2002bo_0_0_-4.8_574.png', 'sn2007kk_0_0_7.9_558.png', 'sn2007kk_0_0_3.2_554.png', 'sn2007kk_0_0_4.1_555.png', 'sn2002bo_0_0_-7.3_571.png', 'sn2002bo_0_0_-12.4_568.png', 'sn2002bo_0_0_5.2_586.png', 'sn2002bo_0_0_-1.8_581.png', 'sn2002bo_0_0_-2.8_579.png', 'sn2002bo_0_0_10.4_587.png', 'sn2002bo_0_0_14.5_591.png', 'sn2002bo_0_0_11.6_588.png', 'sn2002bo_0_0_-1.7_582.png', 'sn2002bo_0_0_-2.4_580.png', 'sn2002bo_0_0_15.4_592.png', 'sn2002bo_0_0_-3.7_577.png', 'sn2002bo_0_0_18.4_595.png', 'sn2002bo_0_0_17.5_594.png', 'sn2002bo_0_0_-1.5_584.png', 'sn2002bo_0_0_-0.6_585.png', 'sn2002bo_0_0_-3.4_578.png', 'sn2002bo_0_0_16.4_593.png', 'sn2002bo_0_0_12.5_589.png', 'sn2002bo_0_0_13.5_590.png', 'sn2002bo_0_0_-1.5_583.png', 'sn2002bo_0_0_-4.3_576.png', 'sn2007af_0_0_-5.6_628.png', 'sn2002bo_0_0_51.2_610.png', 'sn2002bo_0_0_40.3_605.png', 'sn2002bo_0_0_54.2_611.png', 'sn07af_0_0_113.823_626.png', 'sn07af_0_0_3.852_623.png', 'sn2002bo_0_0_82.9_614.png', 'sn2002bo_0_0_19.5_596.png', 'sn1991M_0_0_80.0_620.png', 'sn2002bo_0_0_49.3_609.png', 'sn1991M_0_0_111.8_621.png', 'sn07af_0_0_121.788_627.png', 'sn2002bo_0_0_21.4_598.png', 'sn2002bo_0_0_310.4_615.png', 'sn07af_0_0_-1.209_622.png', 'sn2002bo_0_0_72.2_612.png', 'sn1991M_0_0_24.8_617.png', 'sn07af_0_0_26.491_624.png', 'sn2002bo_0_0_79.1_613.png', 'sn2002bo_0_0_45.3_608.png', 'sn1991M_0_0_25.8_618.png', 'sn2002bo_0_0_29.1_602.png', 'sn2007af_0_0_-4.6_629.png', 'sn2002bo_0_0_27.4_600.png', 'sn2002bo_0_0_43.3_606.png', 'sn2002bo_0_0_44.0_607.png', 'sn07af_0_0_91.057_625.png', 'sn2002bo_0_0_29.4_603.png', 'sn1991M_0_0_2.7_616.png', 'sn2002bo_0_0_20.4_597.png', 'sn2002bo_0_0_28.3_601.png', 'sn1991M_0_0_27.5_619.png', 'sn2002bo_0_0_39.0_604.png', 'sn2002bo_0_0_23.5_599.png', 'sn2003iv_0_0_-2.4_663.png', 'sn2007af_0_0_39.0_647.png', 'sn2007af_0_0_-2.6_631.png', 'sn2007af_0_0_34.0_646.png', 'sn2007af_0_0_62.8_650.png', 'sn2007af_0_0_300.8_659.png', 'sn2007af_0_0_24.1_642.png', 'sn2007af_0_0_31.1_644.png', 'sn2007af_0_0_87.7_653.png', 'sn06os_0_0_27.162_661.png', 'sn2007af_0_0_4.3_637.png', 'sn2007af_0_0_28.2_643.png', 'sn2007af_0_0_60.9_649.png', 'sn2007af_0_0_12.3_641.png', 'sn2007af_0_0_2.3_635.png', 'sn2007af_0_0_32.1_645.png', 'sn2007af_0_0_3.3_636.png', 'sn2007af_0_0_-3.6_630.png', 'sn2007af_0_0_-0.6_633.png', 'sn2007af_0_0_101.6_656.png', 'sn2007af_0_0_66.8_651.png', 'sn2007af_0_0_5.4_638.png', 'sn2007af_0_0_91.7_654.png', 'sn2007af_0_0_96.6_655.png', 'sn2004gc_0_0_23.5_662.png', 'sn06os_0_0_8.678_660.png', 'sn2007af_0_0_124.5_658.png', 'sn2007af_0_0_0.3_634.png', 'sn2007af_0_0_69.9_652.png', 'sn2007af_0_0_116.5_657.png', 'sn2007af_0_0_-1.6_632.png', 'sn2007af_0_0_57.9_648.png', 'sn2007af_0_0_11.3_640.png', 'sn2007af_0_0_10.2_639.png', 'sn2003iv_0_0_0.5_666.png', 'sn2003iv_0_0_7.2_669.png', 'sn2003iv_0_0_-1.4_664.png', 'sn2003iv_0_0_-0.5_665.png', 'sn2003iv_0_0_1.4_667.png', 'sn2003iv_0_0_3.4_668.png', 'sn2002bf_0_0_17.5_690.png', 'sn2002bf_0_0_15.5_688.png', 'sn2005hf_0_0_12.9_675.png', 'sn2003iv_0_0_85.4_670.png', 'sn2002bf_0_0_14.6_687.png', 'sn1984L_6_1_8.0_699.png', 'sn1984L_6_1_37.8_706.png', 'sn2002bf_0_0_6.7_682.png', 'sn1984L_6_1_31.8_704.png', 'sn1984L_6_1_27.9_703.png', 'sn1984L_6_1_12.9_702.png', 'sn2002bf_0_0_29.1_691.png', 'sn1984L_6_1_9.0_700.png', 'sn2002bf_0_0_1.8_679.png', 'sn1984L_6_1_38.8_707.png', 'sn2005hf_0_0_11.0_673.png', 'sn04bl_0_0_4.609_678.png', 'sn2005hf_0_0_8.2_671.png', 'sn2005hf_0_0_9.1_672.png', 'sn2008C_0_0_12.3_695.png', 'sn1984L_6_1_11.9_701.png', 'sn2008C_0_0_4.4_692.png', 'sn2008C_0_0_8.3_693.png', 'sn2002bf_0_0_5.7_681.png', 'sn2005hf_0_0_14.9_676.png', 'sn2002bf_0_0_10.6_683.png', 'sn2008C_0_0_10.3_694.png', 'sn2002bf_0_0_11.7_684.png', 'sn2002bf_0_0_16.4_689.png', 'sn1984L_6_1_56.7_708.png', 'sn2002bf_0_0_12.6_685.png', 'sn2002bf_0_0_4.8_680.png', 'sn1984L_6_1_36.8_705.png', 'sn2005ls_0_0_16.6_698.png', 'sn2005hf_0_0_12.0_674.png', 'sn2005ls_0_0_10.8_697.png', 'sn2005hf_0_0_17.8_677.png', 'sn2002bf_0_0_13.5_686.png', 'sn2008C_0_0_90.8_696.png', 'sn89B_0_0_12.4_718.png', 'sn89B_0_0_23.4_728.png', 'sn2005bl_2_0_4.7_739.png', 'sn89B_0_0_3.5_713.png', 'sn2005bl_2_0_19.3_741.png', 'sn89B_0_0_7.5_715.png', 'sn89B_0_0_22.4_727.png', 'sn2005bl_2_0_-4.9_737.png', 'sn89B_0_0_5.5_714.png', 'sn89B_0_0_-6.3_711.png', 'sn89B_0_0_19.4_724.png', 'sn2005bl_2_0_32.2_743.png', 'sn89B_0_0_-0.5_712.png', 'sn89B_0_0_11.5_717.png', 'sn2006cp_0_0_-11.2_744.png', 'sn89B_0_0_14.4_720.png', 'sn2006cp_0_0_-9.3_746.png', 'sn1984L_6_1_70.6_710.png', 'sn1984L_6_1_69.6_709.png', 'sn89B_0_0_13.4_719.png', 'sn89B_0_0_37.3_732.png', 'sn2005bl_2_0_22.3_742.png', 'sn89B_0_0_25.4_730.png', 'sn89B_0_0_16.4_721.png', 'sn2006cp_0_0_-8.4_747.png', 'sn2005bl_2_0_-5.9_736.png', 'sn89B_0_0_18.4_723.png', 'sn2006cp_0_0_-10.3_745.png', 'sn2003gn_0_0_-3.0_735.png', 'sn89B_0_0_31.4_731.png', 'sn2005bl_2_0_12.6_740.png', 'sn89B_0_0_24.4_729.png', 'sn89B_0_0_51.0_734.png', 'sn89B_0_0_49.2_733.png', 'sn89B_0_0_17.4_722.png', 'sn89B_0_0_9.5_716.png', 'sn89B_0_0_21.4_726.png', 'sn2005bl_2_0_-2.9_738.png', 'sn89B_0_0_20.4_725.png', 'sn1992A_0_0_5.5_764.png', 'sn2007bj_0_0_42.4_758.png', 'sn2003cg_0_0_-2.8_789.png', 'sn07fb_0_0_1.951_774.png', 'sn2003cg_0_0_-6.4_783.png', 'sn2006cp_0_0_41.5_753.png', 'sn2003cg_0_0_-8.0_781.png', 'sn1992A_0_0_-5.4_761.png', 'sn2006mo_0_0_5.2_779.png', 'sn1992A_0_0_16.8_770.png', 'sn2003cg_0_0_-5.1_785.png', 'sn2007bj_0_0_38.5_757.png', 'sn2007bj_0_0_63.0_760.png', 'sn2003cg_0_0_-5.0_786.png', 'sn2007bj_0_0_59.0_759.png', 'sn07fb_0_0_32.377_776.png', 'sn2007bj_0_0_14.9_755.png', 'sn2006cp_0_0_7.3_750.png', 'sn1992A_0_0_27.8_772.png', 'sn1992A_0_0_225.0_773.png', 'sn2007bj_0_0_33.5_756.png', 'sn2003cg_0_0_-7.3_782.png', 'sn1992A_0_0_15.8_769.png', 'sn2006cp_0_0_39.6_752.png', 'sn07fb_0_0_14.632_775.png', 'sn1992A_0_0_11.2_768.png', 'sn2003cg_0_0_-4.1_787.png', 'sn2003cg_0_0_-8.9_780.png', 'sn1992A_0_0_6.9_766.png', 'sn1992A_0_0_23.8_771.png', 'sn07fb_0_0_39.285_777.png', 'sn1992A_0_0_-0.8_762.png', 'sn2006cp_0_0_6.3_749.png', 'sn2006cp_0_0_9.3_751.png', 'sn2003cg_0_0_-6.1_784.png', 'sn2006cp_0_0_-6.3_748.png', 'sn2007bj_0_0_12.0_754.png', 'sn1992A_0_0_2.0_763.png', 'sn2003cg_0_0_-3.1_788.png', 'sn1992A_0_0_5.9_765.png', 'sn1992A_0_0_8.2_767.png', 'sn07fb_0_0_100.912_778.png', 'sn1998aq_0_0_4.0_830.png', 'sn2003cg_0_0_42.9_819.png', 'sn2003cg_0_0_-1.2_793.png', 'sn2003cg_0_0_-0.2_795.png', 'sn2003cg_0_0_-2.3_790.png', 'sn2003cg_0_0_28.0_817.png', 'sn1998aq_0_0_2.0_828.png', 'sn2003cg_0_0_-1.0_794.png', 'sn2003cg_0_0_37.8_818.png', 'sn2003cg_0_0_7.7_804.png', 'sn2003cg_0_0_-2.1_791.png', 'sn1996ab_0_0_1.3_822.png', 'sn2003cg_0_0_1.0_797.png', 'sn2003cg_0_0_2.8_800.png', 'sn2003cg_0_0_9.8_807.png', 'sn2003cg_0_0_22.9_813.png', 'sn2003cg_0_0_11.0_809.png', 'sn2003cg_0_0_1.8_798.png', 'sn2003cg_0_0_382.6_821.png', 'sn2003cg_0_0_22.9_814.png', 'sn2003cg_0_0_15.9_811.png', 'sn2003cg_0_0_9.2_806.png', 'sn2003cg_0_0_7.0_803.png', 'sn2003cg_0_0_25.9_815.png', 'sn2003cg_0_0_8.8_805.png', 'sn2003cg_0_0_11.9_810.png', 'sn1998aq_0_0_-8.9_824.png', 'sn2003cg_0_0_-2.1_792.png', 'sn2003cg_0_0_1.9_799.png', 'sn2003cg_0_0_6.8_802.png', 'sn1998aq_0_0_0.0_826.png', 'sn1998aq_0_0_-9.9_823.png', 'sn2003cg_0_0_4.0_801.png', 'sn2003cg_0_0_10.8_808.png', 'sn1998aq_0_0_-0.9_825.png', 'sn2003cg_0_0_18.9_812.png', 'sn2003cg_0_0_26.7_816.png', 'sn2003cg_0_0_0.8_796.png', 'sn1998aq_0_0_1.0_827.png', 'sn2003cg_0_0_51.9_820.png', 'sn1998aq_0_0_3.0_829.png', 'sn1998aq_0_0_80.7_846.png', 'sn2005kc_0_0_9.8_862.png', 'sn1998ec_0_0_-3.0_856.png', 'sn1998ec_0_0_11.7_857.png', 'sn1998aq_0_0_5.0_831.png', 'sn2002hw_0_0_-3.2_852.png', 'sn1998aq_0_0_6.0_832.png', 'sn1998aq_0_0_58.7_842.png', 'sn1998aq_0_0_64.7_844.png', 'sn1998aq_0_0_56.8_841.png', 'sn1998ec_0_0_38.2_860.png', 'sn1998aq_0_0_229.4_848.png', 'sn1998aq_0_0_89.6_847.png', 'sn2002hw_0_0_17.5_853.png', 'sn1998ec_0_0_25.5_859.png', 'sn1998ec_0_0_19.6_858.png', 'sn1998aq_0_0_30.9_836.png', 'sn1998aq_0_0_53.8_840.png', 'sn1998aq_0_0_17.9_833.png', 'sn1998aq_0_0_29.9_835.png', 'sn1998aq_0_0_19.9_834.png', 'sn1998aq_0_0_34.9_838.png', 'sn2002hw_0_0_20.4_854.png', 'sn1998aq_0_0_239.4_849.png', 'sn2005kc_0_0_11.6_863.png', 'sn2005kc_0_0_29.4_865.png', 'sn2005kc_0_0_15.6_864.png', 'sn2002hw_0_0_-6.0_850.png', 'sn1998aq_0_0_61.7_843.png', 'sn1998aq_0_0_77.7_845.png', 'sn1998ec_0_0_-3.9_855.png', 'sn2002hw_0_0_-5.2_851.png', 'sn2005kc_0_0_33.3_866.png', 'sn1998aq_0_0_32.9_837.png', 'sn2005kc_0_0_6.7_861.png', 'sn1998aq_0_0_49.8_839.png', 'sn1995D_0_0_3.6_901.png', 'sn1999gi_13_3_26.9_895.png', 'sn2008Q_0_0_-2.2_887.png', 'sn1999gi_13_3_129.4_898.png', 'sn2007bm_0_0_15.6_872.png', 'sn2007bm_0_0_-11.2_867.png', 'sn2007bm_0_0_-9.3_868.png', 'sn06em_2_0_20.953_879.png', 'sn1999gi_13_3_77.6_896.png', 'sn05hk_4_0_21.872_881.png', 'sn2008Q_0_0_-0.3_889.png', 'sn2007bm_0_0_17.5_873.png', 'sn2008Q_0_0_-1.2_888.png', 'sn05hk_4_0_50.959_883.png', 'sn1999gi_13_3_81.6_897.png', 'sn2008Q_0_0_-3.2_886.png', 'sn1999gi_13_3_-4.0_892.png', 'sn06em_2_0_4.258_878.png', 'sn2007bm_0_0_6.6_869.png', 'sn2007bm_0_0_12.6_871.png', 'sn05hk_4_0_23.398_882.png', 'sn1999gi_13_3_-5.0_891.png', 'sn1999gi_13_3_23.9_894.png', 'sn2008Q_0_0_-6.2_885.png', 'sn1995D_0_0_11.5_905.png', 'sn1995D_0_0_9.5_904.png', 'sn1995D_0_0_7.5_903.png', 'sn2007bm_0_0_9.6_870.png', 'sn2007bm_0_0_34.4_875.png', 'sn1999gi_13_3_160.4_900.png', 'sn2007bm_0_0_45.4_877.png', 'sn05hk_4_0_-5.2_880.png', 'sn2008Q_0_0_-7.2_884.png', 'sn1999gi_13_3_144.4_899.png', 'sn1999gi_13_3_-7.0_890.png', 'sn1999gi_13_3_18.9_893.png', 'sn2007bm_0_0_38.4_876.png', 'sn1995D_0_0_5.5_902.png', 'sn2007bm_0_0_20.5_874.png', 'sn2006N_0_0_8.5_926.png', 'sn2007bc_0_0_35.6_940.png', 'sn2007bc_0_0_-2.6_935.png', 'sn1995D_0_0_14.5_906.png', 'sn2006N_0_0_28.2_928.png', 'sn06lf_0_0_-6.297_943.png', 'sn06lf_0_0_25.063_945.png', 'sn2006N_0_0_-1.3_918.png', 'sn1996Z_0_0_8.1_931.png', 'sn2006N_0_0_0.7_919.png', 'sn2007bc_0_0_30.7_939.png', 'sn1995D_0_0_38.2_908.png', 'sn2003ic_0_0_-2.3_947.png', 'sn1995D_0_0_42.2_909.png', 'sn2007bc_0_0_4.3_936.png', 'sn1996Z_0_0_4.1_929.png', 'sn1996Z_0_0_14.0_933.png', 'sn2006N_0_0_4.6_922.png', 'sn06lf_0_0_14.287_944.png', 'sn2007bc_0_0_6.2_937.png', 'sn1995D_0_0_282.8_914.png', 'sn2006N_0_0_-3.3_917.png', 'sn1996Z_0_0_10.1_932.png', 'sn03he_0_0_2.705_915.png', 'sn1996Z_0_0_23.0_934.png', 'sn03he_0_0_8.53_916.png', 'sn2007bc_0_0_60.1_942.png', 'sn2006N_0_0_5.6_923.png', 'sn2006N_0_0_7.5_925.png', 'sn2006N_0_0_2.6_921.png', 'sn2007bc_0_0_7.3_938.png', 'sn1995D_0_0_16.5_907.png', 'sn1995D_0_0_274.9_913.png', 'sn2007bc_0_0_43.4_941.png', 'sn2006N_0_0_1.6_920.png', 'sn2003ic_0_0_-4.1_946.png', 'sn2006N_0_0_11.6_927.png', 'sn1995D_0_0_92.9_912.png', 'sn1995D_0_0_69.0_911.png', 'sn2006N_0_0_6.5_924.png', 'sn1996Z_0_0_6.1_930.png', 'sn1995D_0_0_64.0_910.png', 'sn05eq_1_0_-2.981_972.png', 'sn1992H_13_3_103.0_957.png', 'sn1992H_13_3_265.1_962.png', 'sn1992H_13_3_11.5_954.png', 'sn2003ic_0_0_8.0_952.png', 'sn1992H_13_3_135.8_960.png', 'sn2007bd_0_0_-8.1_967.png', 'sn2007bd_0_0_-9.0_966.png', 'sn1980K_14_3_12.0_978.png', 'sn2007bd_0_0_1.7_970.png', 'sn2003ic_0_0_7.2_951.png', 'sn2007bd_0_0_-1.3_969.png', 'sn1980K_14_3_44.0_980.png', 'sn02ef_0_0_29.032_965.png', 'sn1992H_13_3_129.8_959.png', 'sn2003ic_0_0_4.3_949.png', 'sn1992H_13_3_309.8_963.png', 'sn1980K_14_3_217.0_982.png', 'sn1992H_13_3_44.3_956.png', 'sn1992H_13_3_112.9_958.png', 'sn1980K_14_3_41.0_979.png', 'sn2007bd_0_0_-4.2_968.png', 'sn2001E_0_0_7.7_984.png', 'sn2005eu_0_0_-9.0_986.png', 'sn2007bd_0_0_8.4_971.png', 'sn2005eu_0_0_-7.1_987.png', 'sn1980K_14_3_11.0_977.png', 'sn1980K_14_3_66.0_981.png', 'sn05eq_1_0_51.16_974.png', 'sn2003ic_0_0_5.3_950.png', 'sn2001E_0_0_2.8_983.png', 'sn1992H_13_3_140.8_961.png', 'sn2001E_0_0_14.6_985.png', 'sn1980K_14_3_9.0_976.png', 'sn1980K_14_3_7.0_975.png', 'sn2003ic_0_0_3.4_948.png', 'sn2003ic_0_0_22.2_953.png', 'sn05eq_1_0_0.657_973.png', 'sn2005eu_0_0_-5.2_988.png', 'sn1992H_13_3_24.5_955.png', 'sn02ef_0_0_4.795_964.png', 'sn2004et_13_3_82.5_1021.png', 'sn2004et_13_3_64.0_1019.png', 'sn2004et_13_3_96.5_1022.png', 'sn2004et_13_3_236.8_1028.png', 'sn2004et_13_3_35.1_1013.png', 'sn2004et_13_3_33.1_1010.png', 'sn2004et_13_3_24.0_1006.png', 'sn2004et_13_3_63.0_1018.png', 'sn2004et_13_3_25.0_1008.png', 'sn2004et_13_3_8.6_1000.png', 'sn2005eu_0_0_10.3_990.png']\n"
          ]
        }
      ]
    },
    {
      "cell_type": "markdown",
      "source": [
        "# Part of Daniel's tutorial"
      ],
      "metadata": {
        "id": "pK88XmYNWTxj"
      }
    },
    {
      "cell_type": "code",
      "source": [
        "!pip install -q webdataset transformers torchmetrics"
      ],
      "metadata": {
        "id": "ihrWsZNFWrvW",
        "colab": {
          "base_uri": "https://localhost:8080/"
        },
        "outputId": "afb801c8-2cf6-4c25-afbd-cdc105f88b40"
      },
      "execution_count": 5,
      "outputs": [
        {
          "output_type": "stream",
          "name": "stdout",
          "text": [
            "\u001b[2K   \u001b[90m━━━━━━━━━━━━━━━━━━━━━━━━━━━━━━━━━━━━━━━━\u001b[0m \u001b[32m74.8/74.8 kB\u001b[0m \u001b[31m1.2 MB/s\u001b[0m eta \u001b[36m0:00:00\u001b[0m\n",
            "\u001b[2K   \u001b[90m━━━━━━━━━━━━━━━━━━━━━━━━━━━━━━━━━━━━━━━━\u001b[0m \u001b[32m866.2/866.2 kB\u001b[0m \u001b[31m6.8 MB/s\u001b[0m eta \u001b[36m0:00:00\u001b[0m\n",
            "\u001b[?25h"
          ]
        }
      ]
    },
    {
      "cell_type": "code",
      "source": [
        "import torch.nn.functional as F\n",
        "import torch.optim as optim\n",
        "import torch.nn as nn\n",
        "import torch\n",
        "\n",
        "import matplotlib.pyplot as plt\n",
        "import seaborn as sns\n",
        "import numpy as np\n",
        "import webdataset as wds\n",
        "import random\n",
        "import io\n",
        "import os\n",
        "\n",
        "from transformers import ViTImageProcessor, ViTModel\n",
        "from torch.utils.data import DataLoader\n",
        "from torch.utils.data import Dataset\n",
        "\n",
        "from torchmetrics.classification import F1Score\n"
      ],
      "metadata": {
        "id": "pfBz0vZPWOrv"
      },
      "execution_count": 6,
      "outputs": []
    },
    {
      "cell_type": "code",
      "source": [
        "# Here, choose the GPU\n",
        "os.environ[\"CUDA_VISIBLE_DEVICES\"] = \"0\""
      ],
      "metadata": {
        "id": "2DrPFX1LWhhn"
      },
      "execution_count": 7,
      "outputs": []
    },
    {
      "cell_type": "markdown",
      "source": [
        "Convert PIL Image to Pytorch's tensor"
      ],
      "metadata": {
        "id": "01Z-FYOlaH5v"
      }
    },
    {
      "cell_type": "code",
      "source": [
        "# prompt: create dictionary with keys 'id', 'img' and 'label'\n",
        "\n",
        "from torchvision.io import read_image, ImageReadMode\n",
        "\n",
        "train_data = {'id': [], 'pixel_values': [], 'y_true': []}\n",
        "\n",
        "for image_name in image_names:\n",
        "  train_data['id'].append(image_name[:-4]) # remove the '.png' string\n",
        "  train_data['pixel_values'].append(read_image(os.path.join(image_folder, image_name), mode=ImageReadMode.GRAY))\n",
        "  train_data['y_true'].append(int(image_name.split('_')[1]))\n",
        "\n",
        "# prompt: stack 'pixel_values' list of tensors to a 4D tensor\n",
        "train_data['pixel_values'] = torch.stack(train_data['pixel_values'])\n",
        "train_data['y_true'] = torch.tensor(train_data['y_true'])"
      ],
      "metadata": {
        "id": "JvCp7ZV2l41n"
      },
      "execution_count": 20,
      "outputs": []
    },
    {
      "cell_type": "code",
      "source": [
        "train_data.keys()"
      ],
      "metadata": {
        "colab": {
          "base_uri": "https://localhost:8080/"
        },
        "id": "M3tLZivhoWE7",
        "outputId": "68c4209b-da91-4b72-895c-810e3853db3e"
      },
      "execution_count": 23,
      "outputs": [
        {
          "output_type": "execute_result",
          "data": {
            "text/plain": [
              "dict_keys(['id', 'pixel_values', 'y_true'])"
            ]
          },
          "metadata": {},
          "execution_count": 23
        }
      ]
    },
    {
      "cell_type": "code",
      "source": [
        "len(train_data['id'])"
      ],
      "metadata": {
        "colab": {
          "base_uri": "https://localhost:8080/"
        },
        "collapsed": true,
        "id": "DW0qjgRNodLh",
        "outputId": "164f9ec4-f2c2-4b9c-a18d-7345709fc15c"
      },
      "execution_count": 24,
      "outputs": [
        {
          "output_type": "execute_result",
          "data": {
            "text/plain": [
              "5000"
            ]
          },
          "metadata": {},
          "execution_count": 24
        }
      ]
    },
    {
      "cell_type": "code",
      "source": [
        "train_data['pixel_values'][0].shape"
      ],
      "metadata": {
        "colab": {
          "base_uri": "https://localhost:8080/"
        },
        "id": "d6ITTvP_Qoql",
        "outputId": "1911a38a-6f12-4524-8c15-1607040a0db6"
      },
      "execution_count": 25,
      "outputs": [
        {
          "output_type": "execute_result",
          "data": {
            "text/plain": [
              "torch.Size([1, 224, 224])"
            ]
          },
          "metadata": {},
          "execution_count": 25
        }
      ]
    },
    {
      "cell_type": "code",
      "source": [
        "print(train_data['pixel_values'].shape)\n",
        "train_data['pixel_values'] = train_data['pixel_values'].permute(0, 2, 3, 1)\n",
        "print(train_data['pixel_values'].shape)"
      ],
      "metadata": {
        "colab": {
          "base_uri": "https://localhost:8080/"
        },
        "id": "YMzAoynOTRy6",
        "outputId": "aecbc8c7-f79b-4c47-a98d-cd915562b9cd"
      },
      "execution_count": 26,
      "outputs": [
        {
          "output_type": "stream",
          "name": "stdout",
          "text": [
            "torch.Size([5000, 1, 224, 224])\n",
            "torch.Size([5000, 224, 224, 1])\n"
          ]
        }
      ]
    },
    {
      "cell_type": "code",
      "source": [
        "print(train_data['y_true'])"
      ],
      "metadata": {
        "colab": {
          "base_uri": "https://localhost:8080/"
        },
        "id": "uicpuQQvrAXs",
        "outputId": "5dabc955-e067-4062-cb5d-f42b3583f930"
      },
      "execution_count": 27,
      "outputs": [
        {
          "output_type": "stream",
          "name": "stdout",
          "text": [
            "tensor([ 8,  6,  6,  ..., 13, 13,  0])\n"
          ]
        }
      ]
    },
    {
      "cell_type": "code",
      "source": [
        "# prompt: add title for each plotted image\n",
        "\n",
        "num_images = len(train_data['pixel_values'])\n",
        "random_indices = random.sample(range(num_images), 3)\n",
        "images = [train_data['pixel_values'][i] for i in random_indices]\n",
        "labels = [train_data['y_true'][i] for i in random_indices]\n",
        "\n",
        "fig, axs = plt.subplots(1, 3, figsize=(15, 5))\n",
        "\n",
        "for i, ax in enumerate(axs):\n",
        "    ax.imshow(images[i], 'gray')\n",
        "    ax.axis('off')\n",
        "    ax.set_title(f\"Label: {labels[i]}\\nID: {train_data['id'][random_indices[i]]}\")\n",
        "\n",
        "plt.tight_layout()\n",
        "plt.show()\n",
        "\n",
        "plt.show()\n"
      ],
      "metadata": {
        "id": "297KCAQit5SK",
        "colab": {
          "base_uri": "https://localhost:8080/",
          "height": 520
        },
        "outputId": "4d1d6d0c-f612-4d30-d401-22101e7416eb"
      },
      "execution_count": 32,
      "outputs": [
        {
          "output_type": "display_data",
          "data": {
            "text/plain": [
              "<Figure size 1500x500 with 3 Axes>"
            ],
            "image/png": "[encoded data removed]"
          },
          "metadata": {}
        }
      ]
    },
    {
      "cell_type": "code",
      "source": [
        "# Optional: export dictionary as a torch file\n",
        "\n",
        "import torch\n",
        "torch.save(train_data, 'train_data.pt')"
      ],
      "metadata": {
        "collapsed": true,
        "id": "BtQJF5HYpsFR"
      },
      "execution_count": 45,
      "outputs": []
    },
    {
      "cell_type": "code",
      "source": [
        "# prompt: separate train_data in only train and validation data\n",
        "\n",
        "# Split data into train and validation sets\n",
        "train_size = int(0.8 * len(train_data['id']))\n",
        "val_size = len(train_data['id']) - train_size\n",
        "\n",
        "# Create random indices for splitting\n",
        "indices = torch.randperm(len(train_data['id']))\n",
        "train_indices = indices[:train_size]\n",
        "val_indices = indices[train_size:]\n",
        "\n",
        "# Create train and validation dictionaries\n",
        "train_data_split = {\n",
        "    'id': [train_data['id'][i] for i in train_indices],\n",
        "    'pixel_values': train_data['pixel_values'][train_indices],\n",
        "    'y_true': train_data['y_true'][train_indices]\n",
        "}\n",
        "\n",
        "val_data_split = {\n",
        "    'id': [train_data['id'][i] for i in val_indices],\n",
        "    'pixel_values': train_data['pixel_values'][val_indices],\n",
        "    'y_true': train_data['y_true'][val_indices]\n",
        "}\n"
      ],
      "metadata": {
        "id": "sk8VG-UVUKs3"
      },
      "execution_count": 30,
      "outputs": []
    },
    {
      "cell_type": "markdown",
      "source": [
        "# Dataloader"
      ],
      "metadata": {
        "id": "UIhTJcDwZ5_m"
      }
    },
    {
      "cell_type": "code",
      "source": [
        "# prompt: create a dictionary where each key is subtype and value is subtype_ID\n",
        "\n",
        "inv_dict_mapping_classes = {}\n",
        "for subtype, subtype_ID in zip(subtypes, subtypes_ID):\n",
        "  inv_dict_mapping_classes[subtype] = subtype_ID\n",
        "\n",
        "print(inv_dict_mapping_classes)"
      ],
      "metadata": {
        "colab": {
          "base_uri": "https://localhost:8080/"
        },
        "id": "r-cUumOXX30K",
        "outputId": "5592fbc5-a1c7-40c2-df32-288f479ccad1"
      },
      "execution_count": 40,
      "outputs": [
        {
          "output_type": "stream",
          "name": "stdout",
          "text": [
            "{'Ia-norm': 0, 'Ia-91T': 1, 'Ia-csm': 3, 'Ia-91bg': 2, 'Ib-norm': 6, 'Iax': 4, 'Ia-pec': 5, 'Ic-norm': 10, 'IIP': 13, 'IIL': 14, 'IIb': 8, 'II-pec': 16, 'Ic-broad': 11, 'Ic-pec': 12, 'IIn': 15, 'Ibn': 7, 'Ib-pec': 9}\n"
          ]
        }
      ]
    },
    {
      "cell_type": "code",
      "source": [
        "num_classes = len(np.unique(train_data['y_true']))\n",
        "num_classes"
      ],
      "metadata": {
        "colab": {
          "base_uri": "https://localhost:8080/"
        },
        "id": "NCHi2xbJYLme",
        "outputId": "89ff9482-5c86-4dbd-e6a5-87b7a7ff0c3d"
      },
      "execution_count": 41,
      "outputs": [
        {
          "output_type": "execute_result",
          "data": {
            "text/plain": [
              "17"
            ]
          },
          "metadata": {},
          "execution_count": 41
        }
      ]
    },
    {
      "cell_type": "code",
      "source": [
        "batch_size = 64\n",
        "\n",
        "class CustomDataset(Dataset):\n",
        "    def __init__(self, data):\n",
        "        self.ids = data['id']\n",
        "        # self.pixel_values = torch.from_numpy(data['pixel_values']).float()\n",
        "        self.pixel_values = data['pixel_values'].float()\n",
        "        # self.y_true = torch.from_numpy(data['y_true']).long()\n",
        "        self.y_true = data['y_true'].long()\n",
        "\n",
        "    def __len__(self):\n",
        "        return len(self.ids)\n",
        "\n",
        "    def __getitem__(self, idx):\n",
        "        return {\n",
        "            'id': self.ids[idx],\n",
        "            'pixel_values': self.pixel_values[idx],\n",
        "            'y_true': self.y_true[idx]\n",
        "        }\n",
        "\n",
        "train_dataset = CustomDataset(train_data_split)\n",
        "val_dataset = CustomDataset(val_data_split)\n",
        "\n",
        "train_dataloader = DataLoader(train_dataset, batch_size=batch_size, shuffle=True)\n",
        "val_dataloader = DataLoader(val_dataset, batch_size=batch_size)"
      ],
      "metadata": {
        "id": "zvHHrVshT6S_"
      },
      "execution_count": 31,
      "outputs": []
    },
    {
      "cell_type": "markdown",
      "source": [
        "# Finetuning"
      ],
      "metadata": {
        "id": "o1LodhOolRIZ"
      }
    },
    {
      "cell_type": "markdown",
      "source": [
        "### Model"
      ],
      "metadata": {
        "id": "bj1KlOUkakJ2"
      }
    },
    {
      "cell_type": "code",
      "source": [
        "# prompt: load train_data.pt from google colab if variable not exist\n",
        "\n",
        "from google.colab import files\n",
        "if 'train_data' not in locals():\n",
        "  uploaded = files.upload()\n",
        "  train_data = torch.load(io.BytesIO(uploaded['train_data.pt']))\n"
      ],
      "metadata": {
        "id": "WvQVgobOdySC"
      },
      "execution_count": 46,
      "outputs": []
    },
    {
      "cell_type": "code",
      "source": [
        "device = torch.device('cuda' if torch.cuda.is_available() else 'cpu')\n",
        "\n",
        "pt_model_name = 'google/vit-base-patch32-224-in21k'\n",
        "processor = ViTImageProcessor.from_pretrained(pt_model_name)\n",
        "model = ViTModel.from_pretrained(pt_model_name).to(device)\n",
        "\n",
        "classifier = nn.Linear(model.config.hidden_size, num_classes).to(device)"
      ],
      "metadata": {
        "colab": {
          "base_uri": "https://localhost:8080/",
          "height": 237,
          "referenced_widgets": [
            "d477ac77cefa4847a299b67d60a07415",
            "3c958417c78940fdae10418e03bbd9e6",
            "26dbe688e56640f09ac8b0a835df5af7",
            "d1e3be8abe57421f9b01715b167bc750",
            "5aab0f01deba4e15a739b1fa30a36a95",
            "1921f683f7a14bddbc4eb6d1eee90e51",
            "b1b76849449d4d708f7db12bc83a6c8e",
            "48364590405f41839ae9e09448143056",
            "7ef4ba2032f9460da93b226d7af9c173",
            "2f3768293c794bd59b507b3e1e916a45",
            "e3e59c88842747048537317417377a7d",
            "30a8dd9bc08f479b99aa07f4a3a23319",
            "14609cade015420887bbb23cfe213a1c",
            "e8f44c65129c4f20a89c6b0a4f619cfb",
            "5406ac9939784e6fb4baccc1ff7f82f7",
            "b779901f965f435b9355672cb1db0e55",
            "da870ca2ed3b4a74b832bc54f83c328a",
            "25182053549649968d60491623abf487",
            "f9a3e9e826ec4c03aa629e037cbddd9a",
            "a78f95eaafca4a2ca6fa48cee3ee7cc2",
            "c38386c9ef9341e89e2a8897907b63b0",
            "1612a1dfef744911b5cd5807f2fce58d",
            "9c55757ffab14e18a2cc0ff3286229c0",
            "a0710a4e7c25484da7fb5d21d444f78a",
            "1e3f3ed1786e41f682961e81a0396c63",
            "5c4c0a1934c94924b26809c64cf2c675",
            "61c422c17ffb47ee9e035b22dfcf2714",
            "23223e739c8941c1b19e59dc3de8075c",
            "c7b7d404edfd4bd1a948ad5eb0472138",
            "afeb02bd6be84a6783f1dc6e515aab66",
            "73993b6fec6c40d08591ff7d69836f8d",
            "75a14ef311b647e48c8c8f2da59a710d",
            "a882bbc46d89472b9b8455fb5c85701c"
          ]
        },
        "id": "EnFzbzX5aaZm",
        "outputId": "a7333b42-cbdf-4380-a845-9fc3f4d7e4a9"
      },
      "execution_count": 42,
      "outputs": [
        {
          "output_type": "stream",
          "name": "stderr",
          "text": [
            "/usr/local/lib/python3.10/dist-packages/huggingface_hub/utils/_token.py:89: UserWarning: \n",
            "The secret `HF_TOKEN` does not exist in your Colab secrets.\n",
            "To authenticate with the Hugging Face Hub, create a token in your settings tab (https://huggingface.co/settings/tokens), set it as secret in your Google Colab and restart your session.\n",
            "You will be able to reuse this secret in all of your notebooks.\n",
            "Please note that authentication is recommended but still optional to access public models or datasets.\n",
            "  warnings.warn(\n"
          ]
        },
        {
          "output_type": "display_data",
          "data": {
            "text/plain": [
              "preprocessor_config.json:   0%|          | 0.00/160 [00:00<?, ?B/s]"
            ],
            "application/vnd.jupyter.widget-view+json": {
              "version_major": 2,
              "version_minor": 0,
              "model_id": "d477ac77cefa4847a299b67d60a07415"
            }
          },
          "metadata": {}
        },
        {
          "output_type": "display_data",
          "data": {
            "text/plain": [
              "config.json:   0%|          | 0.00/502 [00:00<?, ?B/s]"
            ],
            "application/vnd.jupyter.widget-view+json": {
              "version_major": 2,
              "version_minor": 0,
              "model_id": "30a8dd9bc08f479b99aa07f4a3a23319"
            }
          },
          "metadata": {}
        },
        {
          "output_type": "display_data",
          "data": {
            "text/plain": [
              "model.safetensors:   0%|          | 0.00/352M [00:00<?, ?B/s]"
            ],
            "application/vnd.jupyter.widget-view+json": {
              "version_major": 2,
              "version_minor": 0,
              "model_id": "9c55757ffab14e18a2cc0ff3286229c0"
            }
          },
          "metadata": {}
        }
      ]
    },
    {
      "cell_type": "code",
      "source": [
        "def train_step(batch_data, model, processor, classifier, optimizer, device):\n",
        "    model.train()\n",
        "    y_true = batch_data['y_true'].to(device)\n",
        "\n",
        "    inputs = processor(images=batch_data['pixel_values'], return_tensors=\"pt\").to(device)\n",
        "    outputs = model(**inputs)\n",
        "    pooled_output = outputs.last_hidden_state[:, 0, :]\n",
        "\n",
        "    logits = classifier(pooled_output)\n",
        "    loss = F.cross_entropy(logits, y_true)\n",
        "\n",
        "    optimizer.zero_grad()\n",
        "    loss.backward()\n",
        "    optimizer.step()\n",
        "\n",
        "    y_pred = torch.argmax(logits, dim=-1)\n",
        "    return loss.item(), y_pred, y_true\n",
        "\n",
        "\n",
        "def validate_step(batch_data, model, processor, classifier, device):\n",
        "    model.eval()\n",
        "    with torch.no_grad():\n",
        "        y_true = batch_data['y_true'].to(device)\n",
        "\n",
        "        inputs = processor(images=batch_data['pixel_values'], return_tensors=\"pt\").to(device)\n",
        "        outputs = model(**inputs)\n",
        "        pooled_output = outputs.last_hidden_state[:, 0, :]\n",
        "\n",
        "        logits = classifier(pooled_output)\n",
        "        loss = F.cross_entropy(logits, y_true)\n",
        "\n",
        "        y_pred = torch.argmax(logits, dim=-1)\n",
        "        return loss.item(), y_pred, y_true\n",
        "\n",
        "\n",
        "def predict_step(batch_data, model, processor, classifier, device):\n",
        "    model.eval()\n",
        "    with torch.no_grad():\n",
        "        y_true = batch_data['y_true'].to(device)\n",
        "\n",
        "        inputs = processor(images=batch_data['pixel_values'], return_tensors=\"pt\").to(device)\n",
        "        outputs = model(**inputs)\n",
        "        pooled_output = outputs.last_hidden_state[:, 0, :]\n",
        "\n",
        "        logits = classifier(pooled_output)\n",
        "        y_pred_prob = F.softmax(logits, dim=1)\n",
        "        y_pred = torch.argmax(logits, dim=-1)\n",
        "\n",
        "        return {\n",
        "            'id': batch_data['id'],\n",
        "            'y_pred': y_pred.cpu().numpy(),\n",
        "            'y_pred_prob': y_pred_prob.cpu().numpy(),\n",
        "            'y_true': y_true.cpu().numpy()\n",
        "        }"
      ],
      "metadata": {
        "id": "tzSUsTZabF1Z"
      },
      "execution_count": 43,
      "outputs": []
    },
    {
      "cell_type": "code",
      "source": [
        "lr = 2e-5 # 5.0e-6\n",
        "num_epochs = 1000\n",
        "patience = 7\n",
        "best_val_f1 = 0.0\n",
        "patience_counter = 0\n",
        "best_model_path = 'best_model_vit.pth'  # Ruta donde se guardará el mejor modelo\n",
        "\n",
        "params = list(model.parameters()) + list(classifier.parameters())\n",
        "optimizer = optim.Adam(params, lr=lr)\n",
        "\n",
        "# Inicializar métricas F1\n",
        "f1_train = F1Score(task=\"multiclass\", num_classes=num_classes, average='macro').to(device)\n",
        "f1_val = F1Score(task=\"multiclass\", num_classes=num_classes, average='macro').to(device)\n",
        "\n",
        "# Bucle de entrenamiento y validación\n",
        "for epoch in range(num_epochs):\n",
        "    # Resetear métricas para cada epoch\n",
        "    train_loss = 0.0\n",
        "    train_correct = 0\n",
        "    train_total = 0\n",
        "    f1_train.reset()\n",
        "\n",
        "    model.train()\n",
        "    for batch_idx, batch_data in enumerate(train_dataloader):\n",
        "        loss, y_pred, y_true = train_step(batch_data, model, processor, classifier, optimizer, device)\n",
        "\n",
        "        train_loss += loss\n",
        "        train_correct += (y_pred == y_true).sum()\n",
        "        train_total += y_true.size(0)\n",
        "\n",
        "        # Actualizar F1 Score para el conjunto de entrenamiento\n",
        "        f1_train.update(y_pred, y_true)\n",
        "\n",
        "    train_loss /= len(train_dataloader)\n",
        "    train_accuracy = 100. * train_correct / train_total\n",
        "    train_f1_score = f1_train.compute()\n",
        "\n",
        "    # Validación\n",
        "    val_loss = 0.0\n",
        "    val_correct = 0\n",
        "    val_total = 0\n",
        "    f1_val.reset()\n",
        "\n",
        "    model.eval()\n",
        "    with torch.no_grad():\n",
        "        for batch_idx, batch_data in enumerate(val_dataloader):\n",
        "            loss, y_pred, y_true = validate_step(batch_data, model, processor, classifier, device)\n",
        "\n",
        "            val_loss += loss\n",
        "            val_correct += (y_pred == y_true).sum()\n",
        "            val_total += y_true.size(0)\n",
        "\n",
        "            # Actualizar F1 Score para el conjunto de validación\n",
        "            f1_val.update(y_pred, y_true)\n",
        "\n",
        "    val_loss /= len(val_dataloader)\n",
        "    val_accuracy = 100. * val_correct / val_total\n",
        "    val_f1_score = f1_val.compute()\n",
        "\n",
        "    # Imprimir resultados de la época\n",
        "    print(f'Epoch {epoch+1}/{num_epochs} | '\n",
        "          f'Train Loss: {train_loss:.4f} | Train Acc: {train_accuracy:.2f}% | Train F1: {train_f1_score:.4f} | '\n",
        "          f'Val Loss: {val_loss:.4f} | Val Acc: {val_accuracy:.2f}% | Val F1: {val_f1_score:.4f}')\n",
        "\n",
        "    # Early stopping basado en el F1 Score de validación y guardado del mejor modelo\n",
        "    if val_f1_score > best_val_f1:\n",
        "        best_val_f1 = val_f1_score\n",
        "        patience_counter = 0  # Restablecer el contador de paciencia\n",
        "        torch.save(model.state_dict(), best_model_path)  # Guardar el mejor modelo\n",
        "        print(f\"New best model saved at epoch {epoch+1}\")\n",
        "    else:\n",
        "        patience_counter += 1\n",
        "\n",
        "    if patience_counter >= patience:\n",
        "        print(\"Early stopping triggered.\")\n",
        "        break\n",
        "\n",
        "print(f\"Training complete. Best model saved with F1 Score: {best_val_f1:.4f}\")"
      ],
      "metadata": {
        "colab": {
          "base_uri": "https://localhost:8080/",
          "height": 356
        },
        "id": "iNufBWIibbKF",
        "outputId": "3b8dc830-29b4-4501-e814-22edd5ef677a"
      },
      "execution_count": 44,
      "outputs": [
        {
          "output_type": "error",
          "ename": "ValueError",
          "evalue": "mean must have 1 elements if it is an iterable, got 3",
          "traceback": [
            "\u001b[0;31m---------------------------------------------------------------------------\u001b[0m",
            "\u001b[0;31mValueError\u001b[0m                                Traceback (most recent call last)",
            "\u001b[0;32m<ipython-input-44-b0bea2c78ce9>\u001b[0m in \u001b[0;36m<cell line: 16>\u001b[0;34m()\u001b[0m\n\u001b[1;32m     23\u001b[0m     \u001b[0mmodel\u001b[0m\u001b[0;34m.\u001b[0m\u001b[0mtrain\u001b[0m\u001b[0;34m(\u001b[0m\u001b[0;34m)\u001b[0m\u001b[0;34m\u001b[0m\u001b[0;34m\u001b[0m\u001b[0m\n\u001b[1;32m     24\u001b[0m     \u001b[0;32mfor\u001b[0m \u001b[0mbatch_idx\u001b[0m\u001b[0;34m,\u001b[0m \u001b[0mbatch_data\u001b[0m \u001b[0;32min\u001b[0m \u001b[0menumerate\u001b[0m\u001b[0;34m(\u001b[0m\u001b[0mtrain_dataloader\u001b[0m\u001b[0;34m)\u001b[0m\u001b[0;34m:\u001b[0m\u001b[0;34m\u001b[0m\u001b[0;34m\u001b[0m\u001b[0m\n\u001b[0;32m---> 25\u001b[0;31m         \u001b[0mloss\u001b[0m\u001b[0;34m,\u001b[0m \u001b[0my_pred\u001b[0m\u001b[0;34m,\u001b[0m \u001b[0my_true\u001b[0m \u001b[0;34m=\u001b[0m \u001b[0mtrain_step\u001b[0m\u001b[0;34m(\u001b[0m\u001b[0mbatch_data\u001b[0m\u001b[0;34m,\u001b[0m \u001b[0mmodel\u001b[0m\u001b[0;34m,\u001b[0m \u001b[0mprocessor\u001b[0m\u001b[0;34m,\u001b[0m \u001b[0mclassifier\u001b[0m\u001b[0;34m,\u001b[0m \u001b[0moptimizer\u001b[0m\u001b[0;34m,\u001b[0m \u001b[0mdevice\u001b[0m\u001b[0;34m)\u001b[0m\u001b[0;34m\u001b[0m\u001b[0;34m\u001b[0m\u001b[0m\n\u001b[0m\u001b[1;32m     26\u001b[0m \u001b[0;34m\u001b[0m\u001b[0m\n\u001b[1;32m     27\u001b[0m         \u001b[0mtrain_loss\u001b[0m \u001b[0;34m+=\u001b[0m \u001b[0mloss\u001b[0m\u001b[0;34m\u001b[0m\u001b[0;34m\u001b[0m\u001b[0m\n",
            "\u001b[0;32m<ipython-input-43-1fa966925c6e>\u001b[0m in \u001b[0;36mtrain_step\u001b[0;34m(batch_data, model, processor, classifier, optimizer, device)\u001b[0m\n\u001b[1;32m      3\u001b[0m     \u001b[0my_true\u001b[0m \u001b[0;34m=\u001b[0m \u001b[0mbatch_data\u001b[0m\u001b[0;34m[\u001b[0m\u001b[0;34m'y_true'\u001b[0m\u001b[0;34m]\u001b[0m\u001b[0;34m.\u001b[0m\u001b[0mto\u001b[0m\u001b[0;34m(\u001b[0m\u001b[0mdevice\u001b[0m\u001b[0;34m)\u001b[0m\u001b[0;34m\u001b[0m\u001b[0;34m\u001b[0m\u001b[0m\n\u001b[1;32m      4\u001b[0m \u001b[0;34m\u001b[0m\u001b[0m\n\u001b[0;32m----> 5\u001b[0;31m     \u001b[0minputs\u001b[0m \u001b[0;34m=\u001b[0m \u001b[0mprocessor\u001b[0m\u001b[0;34m(\u001b[0m\u001b[0mimages\u001b[0m\u001b[0;34m=\u001b[0m\u001b[0mbatch_data\u001b[0m\u001b[0;34m[\u001b[0m\u001b[0;34m'pixel_values'\u001b[0m\u001b[0;34m]\u001b[0m\u001b[0;34m,\u001b[0m \u001b[0mreturn_tensors\u001b[0m\u001b[0;34m=\u001b[0m\u001b[0;34m\"pt\"\u001b[0m\u001b[0;34m)\u001b[0m\u001b[0;34m.\u001b[0m\u001b[0mto\u001b[0m\u001b[0;34m(\u001b[0m\u001b[0mdevice\u001b[0m\u001b[0;34m)\u001b[0m\u001b[0;34m\u001b[0m\u001b[0;34m\u001b[0m\u001b[0m\n\u001b[0m\u001b[1;32m      6\u001b[0m     \u001b[0moutputs\u001b[0m \u001b[0;34m=\u001b[0m \u001b[0mmodel\u001b[0m\u001b[0;34m(\u001b[0m\u001b[0;34m**\u001b[0m\u001b[0minputs\u001b[0m\u001b[0;34m)\u001b[0m\u001b[0;34m\u001b[0m\u001b[0;34m\u001b[0m\u001b[0m\n\u001b[1;32m      7\u001b[0m     \u001b[0mpooled_output\u001b[0m \u001b[0;34m=\u001b[0m \u001b[0moutputs\u001b[0m\u001b[0;34m.\u001b[0m\u001b[0mlast_hidden_state\u001b[0m\u001b[0;34m[\u001b[0m\u001b[0;34m:\u001b[0m\u001b[0;34m,\u001b[0m \u001b[0;36m0\u001b[0m\u001b[0;34m,\u001b[0m \u001b[0;34m:\u001b[0m\u001b[0;34m]\u001b[0m\u001b[0;34m\u001b[0m\u001b[0;34m\u001b[0m\u001b[0m\n",
            "\u001b[0;32m/usr/local/lib/python3.10/dist-packages/transformers/image_processing_utils.py\u001b[0m in \u001b[0;36m__call__\u001b[0;34m(self, images, **kwargs)\u001b[0m\n\u001b[1;32m     39\u001b[0m     \u001b[0;32mdef\u001b[0m \u001b[0m__call__\u001b[0m\u001b[0;34m(\u001b[0m\u001b[0mself\u001b[0m\u001b[0;34m,\u001b[0m \u001b[0mimages\u001b[0m\u001b[0;34m,\u001b[0m \u001b[0;34m**\u001b[0m\u001b[0mkwargs\u001b[0m\u001b[0;34m)\u001b[0m \u001b[0;34m->\u001b[0m \u001b[0mBatchFeature\u001b[0m\u001b[0;34m:\u001b[0m\u001b[0;34m\u001b[0m\u001b[0;34m\u001b[0m\u001b[0m\n\u001b[1;32m     40\u001b[0m         \u001b[0;34m\"\"\"Preprocess an image or a batch of images.\"\"\"\u001b[0m\u001b[0;34m\u001b[0m\u001b[0;34m\u001b[0m\u001b[0m\n\u001b[0;32m---> 41\u001b[0;31m         \u001b[0;32mreturn\u001b[0m \u001b[0mself\u001b[0m\u001b[0;34m.\u001b[0m\u001b[0mpreprocess\u001b[0m\u001b[0;34m(\u001b[0m\u001b[0mimages\u001b[0m\u001b[0;34m,\u001b[0m \u001b[0;34m**\u001b[0m\u001b[0mkwargs\u001b[0m\u001b[0;34m)\u001b[0m\u001b[0;34m\u001b[0m\u001b[0;34m\u001b[0m\u001b[0m\n\u001b[0m\u001b[1;32m     42\u001b[0m \u001b[0;34m\u001b[0m\u001b[0m\n\u001b[1;32m     43\u001b[0m     \u001b[0;32mdef\u001b[0m \u001b[0mpreprocess\u001b[0m\u001b[0;34m(\u001b[0m\u001b[0mself\u001b[0m\u001b[0;34m,\u001b[0m \u001b[0mimages\u001b[0m\u001b[0;34m,\u001b[0m \u001b[0;34m**\u001b[0m\u001b[0mkwargs\u001b[0m\u001b[0;34m)\u001b[0m \u001b[0;34m->\u001b[0m \u001b[0mBatchFeature\u001b[0m\u001b[0;34m:\u001b[0m\u001b[0;34m\u001b[0m\u001b[0;34m\u001b[0m\u001b[0m\n",
            "\u001b[0;32m/usr/local/lib/python3.10/dist-packages/transformers/models/vit/image_processing_vit.py\u001b[0m in \u001b[0;36mpreprocess\u001b[0;34m(self, images, do_resize, size, resample, do_rescale, rescale_factor, do_normalize, image_mean, image_std, return_tensors, data_format, input_data_format, **kwargs)\u001b[0m\n\u001b[1;32m    277\u001b[0m \u001b[0;34m\u001b[0m\u001b[0m\n\u001b[1;32m    278\u001b[0m         \u001b[0;32mif\u001b[0m \u001b[0mdo_normalize\u001b[0m\u001b[0;34m:\u001b[0m\u001b[0;34m\u001b[0m\u001b[0;34m\u001b[0m\u001b[0m\n\u001b[0;32m--> 279\u001b[0;31m             images = [\n\u001b[0m\u001b[1;32m    280\u001b[0m                 \u001b[0mself\u001b[0m\u001b[0;34m.\u001b[0m\u001b[0mnormalize\u001b[0m\u001b[0;34m(\u001b[0m\u001b[0mimage\u001b[0m\u001b[0;34m=\u001b[0m\u001b[0mimage\u001b[0m\u001b[0;34m,\u001b[0m \u001b[0mmean\u001b[0m\u001b[0;34m=\u001b[0m\u001b[0mimage_mean\u001b[0m\u001b[0;34m,\u001b[0m \u001b[0mstd\u001b[0m\u001b[0;34m=\u001b[0m\u001b[0mimage_std\u001b[0m\u001b[0;34m,\u001b[0m \u001b[0minput_data_format\u001b[0m\u001b[0;34m=\u001b[0m\u001b[0minput_data_format\u001b[0m\u001b[0;34m)\u001b[0m\u001b[0;34m\u001b[0m\u001b[0;34m\u001b[0m\u001b[0m\n\u001b[1;32m    281\u001b[0m                 \u001b[0;32mfor\u001b[0m \u001b[0mimage\u001b[0m \u001b[0;32min\u001b[0m \u001b[0mimages\u001b[0m\u001b[0;34m\u001b[0m\u001b[0;34m\u001b[0m\u001b[0m\n",
            "\u001b[0;32m/usr/local/lib/python3.10/dist-packages/transformers/models/vit/image_processing_vit.py\u001b[0m in \u001b[0;36m<listcomp>\u001b[0;34m(.0)\u001b[0m\n\u001b[1;32m    278\u001b[0m         \u001b[0;32mif\u001b[0m \u001b[0mdo_normalize\u001b[0m\u001b[0;34m:\u001b[0m\u001b[0;34m\u001b[0m\u001b[0;34m\u001b[0m\u001b[0m\n\u001b[1;32m    279\u001b[0m             images = [\n\u001b[0;32m--> 280\u001b[0;31m                 \u001b[0mself\u001b[0m\u001b[0;34m.\u001b[0m\u001b[0mnormalize\u001b[0m\u001b[0;34m(\u001b[0m\u001b[0mimage\u001b[0m\u001b[0;34m=\u001b[0m\u001b[0mimage\u001b[0m\u001b[0;34m,\u001b[0m \u001b[0mmean\u001b[0m\u001b[0;34m=\u001b[0m\u001b[0mimage_mean\u001b[0m\u001b[0;34m,\u001b[0m \u001b[0mstd\u001b[0m\u001b[0;34m=\u001b[0m\u001b[0mimage_std\u001b[0m\u001b[0;34m,\u001b[0m \u001b[0minput_data_format\u001b[0m\u001b[0;34m=\u001b[0m\u001b[0minput_data_format\u001b[0m\u001b[0;34m)\u001b[0m\u001b[0;34m\u001b[0m\u001b[0;34m\u001b[0m\u001b[0m\n\u001b[0m\u001b[1;32m    281\u001b[0m                 \u001b[0;32mfor\u001b[0m \u001b[0mimage\u001b[0m \u001b[0;32min\u001b[0m \u001b[0mimages\u001b[0m\u001b[0;34m\u001b[0m\u001b[0;34m\u001b[0m\u001b[0m\n\u001b[1;32m    282\u001b[0m             ]\n",
            "\u001b[0;32m/usr/local/lib/python3.10/dist-packages/transformers/image_processing_utils.py\u001b[0m in \u001b[0;36mnormalize\u001b[0;34m(self, image, mean, std, data_format, input_data_format, **kwargs)\u001b[0m\n\u001b[1;32m    109\u001b[0m             \u001b[0;31m`\u001b[0m\u001b[0mnp\u001b[0m\u001b[0;34m.\u001b[0m\u001b[0mndarray\u001b[0m\u001b[0;31m`\u001b[0m\u001b[0;34m:\u001b[0m \u001b[0mThe\u001b[0m \u001b[0mnormalized\u001b[0m \u001b[0mimage\u001b[0m\u001b[0;34m.\u001b[0m\u001b[0;34m\u001b[0m\u001b[0;34m\u001b[0m\u001b[0m\n\u001b[1;32m    110\u001b[0m         \"\"\"\n\u001b[0;32m--> 111\u001b[0;31m         return normalize(\n\u001b[0m\u001b[1;32m    112\u001b[0m             \u001b[0mimage\u001b[0m\u001b[0;34m,\u001b[0m \u001b[0mmean\u001b[0m\u001b[0;34m=\u001b[0m\u001b[0mmean\u001b[0m\u001b[0;34m,\u001b[0m \u001b[0mstd\u001b[0m\u001b[0;34m=\u001b[0m\u001b[0mstd\u001b[0m\u001b[0;34m,\u001b[0m \u001b[0mdata_format\u001b[0m\u001b[0;34m=\u001b[0m\u001b[0mdata_format\u001b[0m\u001b[0;34m,\u001b[0m \u001b[0minput_data_format\u001b[0m\u001b[0;34m=\u001b[0m\u001b[0minput_data_format\u001b[0m\u001b[0;34m,\u001b[0m \u001b[0;34m**\u001b[0m\u001b[0mkwargs\u001b[0m\u001b[0;34m\u001b[0m\u001b[0;34m\u001b[0m\u001b[0m\n\u001b[1;32m    113\u001b[0m         )\n",
            "\u001b[0;32m/usr/local/lib/python3.10/dist-packages/transformers/image_transforms.py\u001b[0m in \u001b[0;36mnormalize\u001b[0;34m(image, mean, std, data_format, input_data_format)\u001b[0m\n\u001b[1;32m    390\u001b[0m     \u001b[0;32mif\u001b[0m \u001b[0misinstance\u001b[0m\u001b[0;34m(\u001b[0m\u001b[0mmean\u001b[0m\u001b[0;34m,\u001b[0m \u001b[0mIterable\u001b[0m\u001b[0;34m)\u001b[0m\u001b[0;34m:\u001b[0m\u001b[0;34m\u001b[0m\u001b[0;34m\u001b[0m\u001b[0m\n\u001b[1;32m    391\u001b[0m         \u001b[0;32mif\u001b[0m \u001b[0mlen\u001b[0m\u001b[0;34m(\u001b[0m\u001b[0mmean\u001b[0m\u001b[0;34m)\u001b[0m \u001b[0;34m!=\u001b[0m \u001b[0mnum_channels\u001b[0m\u001b[0;34m:\u001b[0m\u001b[0;34m\u001b[0m\u001b[0;34m\u001b[0m\u001b[0m\n\u001b[0;32m--> 392\u001b[0;31m             \u001b[0;32mraise\u001b[0m \u001b[0mValueError\u001b[0m\u001b[0;34m(\u001b[0m\u001b[0;34mf\"mean must have {num_channels} elements if it is an iterable, got {len(mean)}\"\u001b[0m\u001b[0;34m)\u001b[0m\u001b[0;34m\u001b[0m\u001b[0;34m\u001b[0m\u001b[0m\n\u001b[0m\u001b[1;32m    393\u001b[0m     \u001b[0;32melse\u001b[0m\u001b[0;34m:\u001b[0m\u001b[0;34m\u001b[0m\u001b[0;34m\u001b[0m\u001b[0m\n\u001b[1;32m    394\u001b[0m         \u001b[0mmean\u001b[0m \u001b[0;34m=\u001b[0m \u001b[0;34m[\u001b[0m\u001b[0mmean\u001b[0m\u001b[0;34m]\u001b[0m \u001b[0;34m*\u001b[0m \u001b[0mnum_channels\u001b[0m\u001b[0;34m\u001b[0m\u001b[0;34m\u001b[0m\u001b[0m\n",
            "\u001b[0;31mValueError\u001b[0m: mean must have 1 elements if it is an iterable, got 3"
          ]
        }
      ]
    },
    {
      "cell_type": "code",
      "source": [],
      "metadata": {
        "id": "k8nhTzhtbfuX"
      },
      "execution_count": null,
      "outputs": []
    }
  ],
  "metadata": {
    "colab": {
      "provenance": [],
      "collapsed_sections": [
        "0YD-GmhOBJCb",
        "QHr7aWvM-Jrh",
        "-sfuFyAG7mUE",
        "pK88XmYNWTxj",
        "UIhTJcDwZ5_m"
      ],
      "include_colab_link": true
    },
    "kernelspec": {
      "display_name": "Python 3",
      "name": "python3"
    },
    "language_info": {
      "codemirror_mode": {
        "name": "ipython",
        "version": 3
      },
      "file_extension": ".py",
      "mimetype": "text/x-python",
      "name": "python",
      "nbconvert_exporter": "python",
      "pygments_lexer": "ipython3",
      "version": "3.11.9"
    },
    "widgets": {
      "application/vnd.jupyter.widget-state+json": {
        "d477ac77cefa4847a299b67d60a07415": {
          "model_module": "@jupyter-widgets/controls",
          "model_name": "HBoxModel",
          "model_module_version": "1.5.0",
          "state": {
            "_dom_classes": [],
            "_model_module": "@jupyter-widgets/controls",
            "_model_module_version": "1.5.0",
            "_model_name": "HBoxModel",
            "_view_count": null,
            "_view_module": "@jupyter-widgets/controls",
            "_view_module_version": "1.5.0",
            "_view_name": "HBoxView",
            "box_style": "",
            "children": [
              "IPY_MODEL_3c958417c78940fdae10418e03bbd9e6",
              "IPY_MODEL_26dbe688e56640f09ac8b0a835df5af7",
              "IPY_MODEL_d1e3be8abe57421f9b01715b167bc750"
            ],
            "layout": "IPY_MODEL_5aab0f01deba4e15a739b1fa30a36a95"
          }
        },
        "3c958417c78940fdae10418e03bbd9e6": {
          "model_module": "@jupyter-widgets/controls",
          "model_name": "HTMLModel",
          "model_module_version": "1.5.0",
          "state": {
            "_dom_classes": [],
            "_model_module": "@jupyter-widgets/controls",
            "_model_module_version": "1.5.0",
            "_model_name": "HTMLModel",
            "_view_count": null,
            "_view_module": "@jupyter-widgets/controls",
            "_view_module_version": "1.5.0",
            "_view_name": "HTMLView",
            "description": "",
            "description_tooltip": null,
            "layout": "IPY_MODEL_1921f683f7a14bddbc4eb6d1eee90e51",
            "placeholder": "​",
            "style": "IPY_MODEL_b1b76849449d4d708f7db12bc83a6c8e",
            "value": "preprocessor_config.json: 100%"
          }
        },
        "26dbe688e56640f09ac8b0a835df5af7": {
          "model_module": "@jupyter-widgets/controls",
          "model_name": "FloatProgressModel",
          "model_module_version": "1.5.0",
          "state": {
            "_dom_classes": [],
            "_model_module": "@jupyter-widgets/controls",
            "_model_module_version": "1.5.0",
            "_model_name": "FloatProgressModel",
            "_view_count": null,
            "_view_module": "@jupyter-widgets/controls",
            "_view_module_version": "1.5.0",
            "_view_name": "ProgressView",
            "bar_style": "success",
            "description": "",
            "description_tooltip": null,
            "layout": "IPY_MODEL_48364590405f41839ae9e09448143056",
            "max": 160,
            "min": 0,
            "orientation": "horizontal",
            "style": "IPY_MODEL_7ef4ba2032f9460da93b226d7af9c173",
            "value": 160
          }
        },
        "d1e3be8abe57421f9b01715b167bc750": {
          "model_module": "@jupyter-widgets/controls",
          "model_name": "HTMLModel",
          "model_module_version": "1.5.0",
          "state": {
            "_dom_classes": [],
            "_model_module": "@jupyter-widgets/controls",
            "_model_module_version": "1.5.0",
            "_model_name": "HTMLModel",
            "_view_count": null,
            "_view_module": "@jupyter-widgets/controls",
            "_view_module_version": "1.5.0",
            "_view_name": "HTMLView",
            "description": "",
            "description_tooltip": null,
            "layout": "IPY_MODEL_2f3768293c794bd59b507b3e1e916a45",
            "placeholder": "​",
            "style": "IPY_MODEL_e3e59c88842747048537317417377a7d",
            "value": " 160/160 [00:00&lt;00:00, 1.38kB/s]"
          }
        },
        "5aab0f01deba4e15a739b1fa30a36a95": {
          "model_module": "@jupyter-widgets/base",
          "model_name": "LayoutModel",
          "model_module_version": "1.2.0",
          "state": {
            "_model_module": "@jupyter-widgets/base",
            "_model_module_version": "1.2.0",
            "_model_name": "LayoutModel",
            "_view_count": null,
            "_view_module": "@jupyter-widgets/base",
            "_view_module_version": "1.2.0",
            "_view_name": "LayoutView",
            "align_content": null,
            "align_items": null,
            "align_self": null,
            "border": null,
            "bottom": null,
            "display": null,
            "flex": null,
            "flex_flow": null,
            "grid_area": null,
            "grid_auto_columns": null,
            "grid_auto_flow": null,
            "grid_auto_rows": null,
            "grid_column": null,
            "grid_gap": null,
            "grid_row": null,
            "grid_template_areas": null,
            "grid_template_columns": null,
            "grid_template_rows": null,
            "height": null,
            "justify_content": null,
            "justify_items": null,
            "left": null,
            "margin": null,
            "max_height": null,
            "max_width": null,
            "min_height": null,
            "min_width": null,
            "object_fit": null,
            "object_position": null,
            "order": null,
            "overflow": null,
            "overflow_x": null,
            "overflow_y": null,
            "padding": null,
            "right": null,
            "top": null,
            "visibility": null,
            "width": null
          }
        },
        "1921f683f7a14bddbc4eb6d1eee90e51": {
          "model_module": "@jupyter-widgets/base",
          "model_name": "LayoutModel",
          "model_module_version": "1.2.0",
          "state": {
            "_model_module": "@jupyter-widgets/base",
            "_model_module_version": "1.2.0",
            "_model_name": "LayoutModel",
            "_view_count": null,
            "_view_module": "@jupyter-widgets/base",
            "_view_module_version": "1.2.0",
            "_view_name": "LayoutView",
            "align_content": null,
            "align_items": null,
            "align_self": null,
            "border": null,
            "bottom": null,
            "display": null,
            "flex": null,
            "flex_flow": null,
            "grid_area": null,
            "grid_auto_columns": null,
            "grid_auto_flow": null,
            "grid_auto_rows": null,
            "grid_column": null,
            "grid_gap": null,
            "grid_row": null,
            "grid_template_areas": null,
            "grid_template_columns": null,
            "grid_template_rows": null,
            "height": null,
            "justify_content": null,
            "justify_items": null,
            "left": null,
            "margin": null,
            "max_height": null,
            "max_width": null,
            "min_height": null,
            "min_width": null,
            "object_fit": null,
            "object_position": null,
            "order": null,
            "overflow": null,
            "overflow_x": null,
            "overflow_y": null,
            "padding": null,
            "right": null,
            "top": null,
            "visibility": null,
            "width": null
          }
        },
        "b1b76849449d4d708f7db12bc83a6c8e": {
          "model_module": "@jupyter-widgets/controls",
          "model_name": "DescriptionStyleModel",
          "model_module_version": "1.5.0",
          "state": {
            "_model_module": "@jupyter-widgets/controls",
            "_model_module_version": "1.5.0",
            "_model_name": "DescriptionStyleModel",
            "_view_count": null,
            "_view_module": "@jupyter-widgets/base",
            "_view_module_version": "1.2.0",
            "_view_name": "StyleView",
            "description_width": ""
          }
        },
        "48364590405f41839ae9e09448143056": {
          "model_module": "@jupyter-widgets/base",
          "model_name": "LayoutModel",
          "model_module_version": "1.2.0",
          "state": {
            "_model_module": "@jupyter-widgets/base",
            "_model_module_version": "1.2.0",
            "_model_name": "LayoutModel",
            "_view_count": null,
            "_view_module": "@jupyter-widgets/base",
            "_view_module_version": "1.2.0",
            "_view_name": "LayoutView",
            "align_content": null,
            "align_items": null,
            "align_self": null,
            "border": null,
            "bottom": null,
            "display": null,
            "flex": null,
            "flex_flow": null,
            "grid_area": null,
            "grid_auto_columns": null,
            "grid_auto_flow": null,
            "grid_auto_rows": null,
            "grid_column": null,
            "grid_gap": null,
            "grid_row": null,
            "grid_template_areas": null,
            "grid_template_columns": null,
            "grid_template_rows": null,
            "height": null,
            "justify_content": null,
            "justify_items": null,
            "left": null,
            "margin": null,
            "max_height": null,
            "max_width": null,
            "min_height": null,
            "min_width": null,
            "object_fit": null,
            "object_position": null,
            "order": null,
            "overflow": null,
            "overflow_x": null,
            "overflow_y": null,
            "padding": null,
            "right": null,
            "top": null,
            "visibility": null,
            "width": null
          }
        },
        "7ef4ba2032f9460da93b226d7af9c173": {
          "model_module": "@jupyter-widgets/controls",
          "model_name": "ProgressStyleModel",
          "model_module_version": "1.5.0",
          "state": {
            "_model_module": "@jupyter-widgets/controls",
            "_model_module_version": "1.5.0",
            "_model_name": "ProgressStyleModel",
            "_view_count": null,
            "_view_module": "@jupyter-widgets/base",
            "_view_module_version": "1.2.0",
            "_view_name": "StyleView",
            "bar_color": null,
            "description_width": ""
          }
        },
        "2f3768293c794bd59b507b3e1e916a45": {
          "model_module": "@jupyter-widgets/base",
          "model_name": "LayoutModel",
          "model_module_version": "1.2.0",
          "state": {
            "_model_module": "@jupyter-widgets/base",
            "_model_module_version": "1.2.0",
            "_model_name": "LayoutModel",
            "_view_count": null,
            "_view_module": "@jupyter-widgets/base",
            "_view_module_version": "1.2.0",
            "_view_name": "LayoutView",
            "align_content": null,
            "align_items": null,
            "align_self": null,
            "border": null,
            "bottom": null,
            "display": null,
            "flex": null,
            "flex_flow": null,
            "grid_area": null,
            "grid_auto_columns": null,
            "grid_auto_flow": null,
            "grid_auto_rows": null,
            "grid_column": null,
            "grid_gap": null,
            "grid_row": null,
            "grid_template_areas": null,
            "grid_template_columns": null,
            "grid_template_rows": null,
            "height": null,
            "justify_content": null,
            "justify_items": null,
            "left": null,
            "margin": null,
            "max_height": null,
            "max_width": null,
            "min_height": null,
            "min_width": null,
            "object_fit": null,
            "object_position": null,
            "order": null,
            "overflow": null,
            "overflow_x": null,
            "overflow_y": null,
            "padding": null,
            "right": null,
            "top": null,
            "visibility": null,
            "width": null
          }
        },
        "e3e59c88842747048537317417377a7d": {
          "model_module": "@jupyter-widgets/controls",
          "model_name": "DescriptionStyleModel",
          "model_module_version": "1.5.0",
          "state": {
            "_model_module": "@jupyter-widgets/controls",
            "_model_module_version": "1.5.0",
            "_model_name": "DescriptionStyleModel",
            "_view_count": null,
            "_view_module": "@jupyter-widgets/base",
            "_view_module_version": "1.2.0",
            "_view_name": "StyleView",
            "description_width": ""
          }
        },
        "30a8dd9bc08f479b99aa07f4a3a23319": {
          "model_module": "@jupyter-widgets/controls",
          "model_name": "HBoxModel",
          "model_module_version": "1.5.0",
          "state": {
            "_dom_classes": [],
            "_model_module": "@jupyter-widgets/controls",
            "_model_module_version": "1.5.0",
            "_model_name": "HBoxModel",
            "_view_count": null,
            "_view_module": "@jupyter-widgets/controls",
            "_view_module_version": "1.5.0",
            "_view_name": "HBoxView",
            "box_style": "",
            "children": [
              "IPY_MODEL_14609cade015420887bbb23cfe213a1c",
              "IPY_MODEL_e8f44c65129c4f20a89c6b0a4f619cfb",
              "IPY_MODEL_5406ac9939784e6fb4baccc1ff7f82f7"
            ],
            "layout": "IPY_MODEL_b779901f965f435b9355672cb1db0e55"
          }
        },
        "14609cade015420887bbb23cfe213a1c": {
          "model_module": "@jupyter-widgets/controls",
          "model_name": "HTMLModel",
          "model_module_version": "1.5.0",
          "state": {
            "_dom_classes": [],
            "_model_module": "@jupyter-widgets/controls",
            "_model_module_version": "1.5.0",
            "_model_name": "HTMLModel",
            "_view_count": null,
            "_view_module": "@jupyter-widgets/controls",
            "_view_module_version": "1.5.0",
            "_view_name": "HTMLView",
            "description": "",
            "description_tooltip": null,
            "layout": "IPY_MODEL_da870ca2ed3b4a74b832bc54f83c328a",
            "placeholder": "​",
            "style": "IPY_MODEL_25182053549649968d60491623abf487",
            "value": "config.json: 100%"
          }
        },
        "e8f44c65129c4f20a89c6b0a4f619cfb": {
          "model_module": "@jupyter-widgets/controls",
          "model_name": "FloatProgressModel",
          "model_module_version": "1.5.0",
          "state": {
            "_dom_classes": [],
            "_model_module": "@jupyter-widgets/controls",
            "_model_module_version": "1.5.0",
            "_model_name": "FloatProgressModel",
            "_view_count": null,
            "_view_module": "@jupyter-widgets/controls",
            "_view_module_version": "1.5.0",
            "_view_name": "ProgressView",
            "bar_style": "success",
            "description": "",
            "description_tooltip": null,
            "layout": "IPY_MODEL_f9a3e9e826ec4c03aa629e037cbddd9a",
            "max": 502,
            "min": 0,
            "orientation": "horizontal",
            "style": "IPY_MODEL_a78f95eaafca4a2ca6fa48cee3ee7cc2",
            "value": 502
          }
        },
        "5406ac9939784e6fb4baccc1ff7f82f7": {
          "model_module": "@jupyter-widgets/controls",
          "model_name": "HTMLModel",
          "model_module_version": "1.5.0",
          "state": {
            "_dom_classes": [],
            "_model_module": "@jupyter-widgets/controls",
            "_model_module_version": "1.5.0",
            "_model_name": "HTMLModel",
            "_view_count": null,
            "_view_module": "@jupyter-widgets/controls",
            "_view_module_version": "1.5.0",
            "_view_name": "HTMLView",
            "description": "",
            "description_tooltip": null,
            "layout": "IPY_MODEL_c38386c9ef9341e89e2a8897907b63b0",
            "placeholder": "​",
            "style": "IPY_MODEL_1612a1dfef744911b5cd5807f2fce58d",
            "value": " 502/502 [00:00&lt;00:00, 7.42kB/s]"
          }
        },
        "b779901f965f435b9355672cb1db0e55": {
          "model_module": "@jupyter-widgets/base",
          "model_name": "LayoutModel",
          "model_module_version": "1.2.0",
          "state": {
            "_model_module": "@jupyter-widgets/base",
            "_model_module_version": "1.2.0",
            "_model_name": "LayoutModel",
            "_view_count": null,
            "_view_module": "@jupyter-widgets/base",
            "_view_module_version": "1.2.0",
            "_view_name": "LayoutView",
            "align_content": null,
            "align_items": null,
            "align_self": null,
            "border": null,
            "bottom": null,
            "display": null,
            "flex": null,
            "flex_flow": null,
            "grid_area": null,
            "grid_auto_columns": null,
            "grid_auto_flow": null,
            "grid_auto_rows": null,
            "grid_column": null,
            "grid_gap": null,
            "grid_row": null,
            "grid_template_areas": null,
            "grid_template_columns": null,
            "grid_template_rows": null,
            "height": null,
            "justify_content": null,
            "justify_items": null,
            "left": null,
            "margin": null,
            "max_height": null,
            "max_width": null,
            "min_height": null,
            "min_width": null,
            "object_fit": null,
            "object_position": null,
            "order": null,
            "overflow": null,
            "overflow_x": null,
            "overflow_y": null,
            "padding": null,
            "right": null,
            "top": null,
            "visibility": null,
            "width": null
          }
        },
        "da870ca2ed3b4a74b832bc54f83c328a": {
          "model_module": "@jupyter-widgets/base",
          "model_name": "LayoutModel",
          "model_module_version": "1.2.0",
          "state": {
            "_model_module": "@jupyter-widgets/base",
            "_model_module_version": "1.2.0",
            "_model_name": "LayoutModel",
            "_view_count": null,
            "_view_module": "@jupyter-widgets/base",
            "_view_module_version": "1.2.0",
            "_view_name": "LayoutView",
            "align_content": null,
            "align_items": null,
            "align_self": null,
            "border": null,
            "bottom": null,
            "display": null,
            "flex": null,
            "flex_flow": null,
            "grid_area": null,
            "grid_auto_columns": null,
            "grid_auto_flow": null,
            "grid_auto_rows": null,
            "grid_column": null,
            "grid_gap": null,
            "grid_row": null,
            "grid_template_areas": null,
            "grid_template_columns": null,
            "grid_template_rows": null,
            "height": null,
            "justify_content": null,
            "justify_items": null,
            "left": null,
            "margin": null,
            "max_height": null,
            "max_width": null,
            "min_height": null,
            "min_width": null,
            "object_fit": null,
            "object_position": null,
            "order": null,
            "overflow": null,
            "overflow_x": null,
            "overflow_y": null,
            "padding": null,
            "right": null,
            "top": null,
            "visibility": null,
            "width": null
          }
        },
        "25182053549649968d60491623abf487": {
          "model_module": "@jupyter-widgets/controls",
          "model_name": "DescriptionStyleModel",
          "model_module_version": "1.5.0",
          "state": {
            "_model_module": "@jupyter-widgets/controls",
            "_model_module_version": "1.5.0",
            "_model_name": "DescriptionStyleModel",
            "_view_count": null,
            "_view_module": "@jupyter-widgets/base",
            "_view_module_version": "1.2.0",
            "_view_name": "StyleView",
            "description_width": ""
          }
        },
        "f9a3e9e826ec4c03aa629e037cbddd9a": {
          "model_module": "@jupyter-widgets/base",
          "model_name": "LayoutModel",
          "model_module_version": "1.2.0",
          "state": {
            "_model_module": "@jupyter-widgets/base",
            "_model_module_version": "1.2.0",
            "_model_name": "LayoutModel",
            "_view_count": null,
            "_view_module": "@jupyter-widgets/base",
            "_view_module_version": "1.2.0",
            "_view_name": "LayoutView",
            "align_content": null,
            "align_items": null,
            "align_self": null,
            "border": null,
            "bottom": null,
            "display": null,
            "flex": null,
            "flex_flow": null,
            "grid_area": null,
            "grid_auto_columns": null,
            "grid_auto_flow": null,
            "grid_auto_rows": null,
            "grid_column": null,
            "grid_gap": null,
            "grid_row": null,
            "grid_template_areas": null,
            "grid_template_columns": null,
            "grid_template_rows": null,
            "height": null,
            "justify_content": null,
            "justify_items": null,
            "left": null,
            "margin": null,
            "max_height": null,
            "max_width": null,
            "min_height": null,
            "min_width": null,
            "object_fit": null,
            "object_position": null,
            "order": null,
            "overflow": null,
            "overflow_x": null,
            "overflow_y": null,
            "padding": null,
            "right": null,
            "top": null,
            "visibility": null,
            "width": null
          }
        },
        "a78f95eaafca4a2ca6fa48cee3ee7cc2": {
          "model_module": "@jupyter-widgets/controls",
          "model_name": "ProgressStyleModel",
          "model_module_version": "1.5.0",
          "state": {
            "_model_module": "@jupyter-widgets/controls",
            "_model_module_version": "1.5.0",
            "_model_name": "ProgressStyleModel",
            "_view_count": null,
            "_view_module": "@jupyter-widgets/base",
            "_view_module_version": "1.2.0",
            "_view_name": "StyleView",
            "bar_color": null,
            "description_width": ""
          }
        },
        "c38386c9ef9341e89e2a8897907b63b0": {
          "model_module": "@jupyter-widgets/base",
          "model_name": "LayoutModel",
          "model_module_version": "1.2.0",
          "state": {
            "_model_module": "@jupyter-widgets/base",
            "_model_module_version": "1.2.0",
            "_model_name": "LayoutModel",
            "_view_count": null,
            "_view_module": "@jupyter-widgets/base",
            "_view_module_version": "1.2.0",
            "_view_name": "LayoutView",
            "align_content": null,
            "align_items": null,
            "align_self": null,
            "border": null,
            "bottom": null,
            "display": null,
            "flex": null,
            "flex_flow": null,
            "grid_area": null,
            "grid_auto_columns": null,
            "grid_auto_flow": null,
            "grid_auto_rows": null,
            "grid_column": null,
            "grid_gap": null,
            "grid_row": null,
            "grid_template_areas": null,
            "grid_template_columns": null,
            "grid_template_rows": null,
            "height": null,
            "justify_content": null,
            "justify_items": null,
            "left": null,
            "margin": null,
            "max_height": null,
            "max_width": null,
            "min_height": null,
            "min_width": null,
            "object_fit": null,
            "object_position": null,
            "order": null,
            "overflow": null,
            "overflow_x": null,
            "overflow_y": null,
            "padding": null,
            "right": null,
            "top": null,
            "visibility": null,
            "width": null
          }
        },
        "1612a1dfef744911b5cd5807f2fce58d": {
          "model_module": "@jupyter-widgets/controls",
          "model_name": "DescriptionStyleModel",
          "model_module_version": "1.5.0",
          "state": {
            "_model_module": "@jupyter-widgets/controls",
            "_model_module_version": "1.5.0",
            "_model_name": "DescriptionStyleModel",
            "_view_count": null,
            "_view_module": "@jupyter-widgets/base",
            "_view_module_version": "1.2.0",
            "_view_name": "StyleView",
            "description_width": ""
          }
        },
        "9c55757ffab14e18a2cc0ff3286229c0": {
          "model_module": "@jupyter-widgets/controls",
          "model_name": "HBoxModel",
          "model_module_version": "1.5.0",
          "state": {
            "_dom_classes": [],
            "_model_module": "@jupyter-widgets/controls",
            "_model_module_version": "1.5.0",
            "_model_name": "HBoxModel",
            "_view_count": null,
            "_view_module": "@jupyter-widgets/controls",
            "_view_module_version": "1.5.0",
            "_view_name": "HBoxView",
            "box_style": "",
            "children": [
              "IPY_MODEL_a0710a4e7c25484da7fb5d21d444f78a",
              "IPY_MODEL_1e3f3ed1786e41f682961e81a0396c63",
              "IPY_MODEL_5c4c0a1934c94924b26809c64cf2c675"
            ],
            "layout": "IPY_MODEL_61c422c17ffb47ee9e035b22dfcf2714"
          }
        },
        "a0710a4e7c25484da7fb5d21d444f78a": {
          "model_module": "@jupyter-widgets/controls",
          "model_name": "HTMLModel",
          "model_module_version": "1.5.0",
          "state": {
            "_dom_classes": [],
            "_model_module": "@jupyter-widgets/controls",
            "_model_module_version": "1.5.0",
            "_model_name": "HTMLModel",
            "_view_count": null,
            "_view_module": "@jupyter-widgets/controls",
            "_view_module_version": "1.5.0",
            "_view_name": "HTMLView",
            "description": "",
            "description_tooltip": null,
            "layout": "IPY_MODEL_23223e739c8941c1b19e59dc3de8075c",
            "placeholder": "​",
            "style": "IPY_MODEL_c7b7d404edfd4bd1a948ad5eb0472138",
            "value": "model.safetensors: 100%"
          }
        },
        "1e3f3ed1786e41f682961e81a0396c63": {
          "model_module": "@jupyter-widgets/controls",
          "model_name": "FloatProgressModel",
          "model_module_version": "1.5.0",
          "state": {
            "_dom_classes": [],
            "_model_module": "@jupyter-widgets/controls",
            "_model_module_version": "1.5.0",
            "_model_name": "FloatProgressModel",
            "_view_count": null,
            "_view_module": "@jupyter-widgets/controls",
            "_view_module_version": "1.5.0",
            "_view_name": "ProgressView",
            "bar_style": "success",
            "description": "",
            "description_tooltip": null,
            "layout": "IPY_MODEL_afeb02bd6be84a6783f1dc6e515aab66",
            "max": 352205741,
            "min": 0,
            "orientation": "horizontal",
            "style": "IPY_MODEL_73993b6fec6c40d08591ff7d69836f8d",
            "value": 352205741
          }
        },
        "5c4c0a1934c94924b26809c64cf2c675": {
          "model_module": "@jupyter-widgets/controls",
          "model_name": "HTMLModel",
          "model_module_version": "1.5.0",
          "state": {
            "_dom_classes": [],
            "_model_module": "@jupyter-widgets/controls",
            "_model_module_version": "1.5.0",
            "_model_name": "HTMLModel",
            "_view_count": null,
            "_view_module": "@jupyter-widgets/controls",
            "_view_module_version": "1.5.0",
            "_view_name": "HTMLView",
            "description": "",
            "description_tooltip": null,
            "layout": "IPY_MODEL_75a14ef311b647e48c8c8f2da59a710d",
            "placeholder": "​",
            "style": "IPY_MODEL_a882bbc46d89472b9b8455fb5c85701c",
            "value": " 352M/352M [00:05&lt;00:00, 96.7MB/s]"
          }
        },
        "61c422c17ffb47ee9e035b22dfcf2714": {
          "model_module": "@jupyter-widgets/base",
          "model_name": "LayoutModel",
          "model_module_version": "1.2.0",
          "state": {
            "_model_module": "@jupyter-widgets/base",
            "_model_module_version": "1.2.0",
            "_model_name": "LayoutModel",
            "_view_count": null,
            "_view_module": "@jupyter-widgets/base",
            "_view_module_version": "1.2.0",
            "_view_name": "LayoutView",
            "align_content": null,
            "align_items": null,
            "align_self": null,
            "border": null,
            "bottom": null,
            "display": null,
            "flex": null,
            "flex_flow": null,
            "grid_area": null,
            "grid_auto_columns": null,
            "grid_auto_flow": null,
            "grid_auto_rows": null,
            "grid_column": null,
            "grid_gap": null,
            "grid_row": null,
            "grid_template_areas": null,
            "grid_template_columns": null,
            "grid_template_rows": null,
            "height": null,
            "justify_content": null,
            "justify_items": null,
            "left": null,
            "margin": null,
            "max_height": null,
            "max_width": null,
            "min_height": null,
            "min_width": null,
            "object_fit": null,
            "object_position": null,
            "order": null,
            "overflow": null,
            "overflow_x": null,
            "overflow_y": null,
            "padding": null,
            "right": null,
            "top": null,
            "visibility": null,
            "width": null
          }
        },
        "23223e739c8941c1b19e59dc3de8075c": {
          "model_module": "@jupyter-widgets/base",
          "model_name": "LayoutModel",
          "model_module_version": "1.2.0",
          "state": {
            "_model_module": "@jupyter-widgets/base",
            "_model_module_version": "1.2.0",
            "_model_name": "LayoutModel",
            "_view_count": null,
            "_view_module": "@jupyter-widgets/base",
            "_view_module_version": "1.2.0",
            "_view_name": "LayoutView",
            "align_content": null,
            "align_items": null,
            "align_self": null,
            "border": null,
            "bottom": null,
            "display": null,
            "flex": null,
            "flex_flow": null,
            "grid_area": null,
            "grid_auto_columns": null,
            "grid_auto_flow": null,
            "grid_auto_rows": null,
            "grid_column": null,
            "grid_gap": null,
            "grid_row": null,
            "grid_template_areas": null,
            "grid_template_columns": null,
            "grid_template_rows": null,
            "height": null,
            "justify_content": null,
            "justify_items": null,
            "left": null,
            "margin": null,
            "max_height": null,
            "max_width": null,
            "min_height": null,
            "min_width": null,
            "object_fit": null,
            "object_position": null,
            "order": null,
            "overflow": null,
            "overflow_x": null,
            "overflow_y": null,
            "padding": null,
            "right": null,
            "top": null,
            "visibility": null,
            "width": null
          }
        },
        "c7b7d404edfd4bd1a948ad5eb0472138": {
          "model_module": "@jupyter-widgets/controls",
          "model_name": "DescriptionStyleModel",
          "model_module_version": "1.5.0",
          "state": {
            "_model_module": "@jupyter-widgets/controls",
            "_model_module_version": "1.5.0",
            "_model_name": "DescriptionStyleModel",
            "_view_count": null,
            "_view_module": "@jupyter-widgets/base",
            "_view_module_version": "1.2.0",
            "_view_name": "StyleView",
            "description_width": ""
          }
        },
        "afeb02bd6be84a6783f1dc6e515aab66": {
          "model_module": "@jupyter-widgets/base",
          "model_name": "LayoutModel",
          "model_module_version": "1.2.0",
          "state": {
            "_model_module": "@jupyter-widgets/base",
            "_model_module_version": "1.2.0",
            "_model_name": "LayoutModel",
            "_view_count": null,
            "_view_module": "@jupyter-widgets/base",
            "_view_module_version": "1.2.0",
            "_view_name": "LayoutView",
            "align_content": null,
            "align_items": null,
            "align_self": null,
            "border": null,
            "bottom": null,
            "display": null,
            "flex": null,
            "flex_flow": null,
            "grid_area": null,
            "grid_auto_columns": null,
            "grid_auto_flow": null,
            "grid_auto_rows": null,
            "grid_column": null,
            "grid_gap": null,
            "grid_row": null,
            "grid_template_areas": null,
            "grid_template_columns": null,
            "grid_template_rows": null,
            "height": null,
            "justify_content": null,
            "justify_items": null,
            "left": null,
            "margin": null,
            "max_height": null,
            "max_width": null,
            "min_height": null,
            "min_width": null,
            "object_fit": null,
            "object_position": null,
            "order": null,
            "overflow": null,
            "overflow_x": null,
            "overflow_y": null,
            "padding": null,
            "right": null,
            "top": null,
            "visibility": null,
            "width": null
          }
        },
        "73993b6fec6c40d08591ff7d69836f8d": {
          "model_module": "@jupyter-widgets/controls",
          "model_name": "ProgressStyleModel",
          "model_module_version": "1.5.0",
          "state": {
            "_model_module": "@jupyter-widgets/controls",
            "_model_module_version": "1.5.0",
            "_model_name": "ProgressStyleModel",
            "_view_count": null,
            "_view_module": "@jupyter-widgets/base",
            "_view_module_version": "1.2.0",
            "_view_name": "StyleView",
            "bar_color": null,
            "description_width": ""
          }
        },
        "75a14ef311b647e48c8c8f2da59a710d": {
          "model_module": "@jupyter-widgets/base",
          "model_name": "LayoutModel",
          "model_module_version": "1.2.0",
          "state": {
            "_model_module": "@jupyter-widgets/base",
            "_model_module_version": "1.2.0",
            "_model_name": "LayoutModel",
            "_view_count": null,
            "_view_module": "@jupyter-widgets/base",
            "_view_module_version": "1.2.0",
            "_view_name": "LayoutView",
            "align_content": null,
            "align_items": null,
            "align_self": null,
            "border": null,
            "bottom": null,
            "display": null,
            "flex": null,
            "flex_flow": null,
            "grid_area": null,
            "grid_auto_columns": null,
            "grid_auto_flow": null,
            "grid_auto_rows": null,
            "grid_column": null,
            "grid_gap": null,
            "grid_row": null,
            "grid_template_areas": null,
            "grid_template_columns": null,
            "grid_template_rows": null,
            "height": null,
            "justify_content": null,
            "justify_items": null,
            "left": null,
            "margin": null,
            "max_height": null,
            "max_width": null,
            "min_height": null,
            "min_width": null,
            "object_fit": null,
            "object_position": null,
            "order": null,
            "overflow": null,
            "overflow_x": null,
            "overflow_y": null,
            "padding": null,
            "right": null,
            "top": null,
            "visibility": null,
            "width": null
          }
        },
        "a882bbc46d89472b9b8455fb5c85701c": {
          "model_module": "@jupyter-widgets/controls",
          "model_name": "DescriptionStyleModel",
          "model_module_version": "1.5.0",
          "state": {
            "_model_module": "@jupyter-widgets/controls",
            "_model_module_version": "1.5.0",
            "_model_name": "DescriptionStyleModel",
            "_view_count": null,
            "_view_module": "@jupyter-widgets/base",
            "_view_module_version": "1.2.0",
            "_view_name": "StyleView",
            "description_width": ""
          }
        }
      }
    }
  },
  "nbformat": 4,
  "nbformat_minor": 0
}