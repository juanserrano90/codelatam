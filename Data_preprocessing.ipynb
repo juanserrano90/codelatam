{
  "cells": [
    {
      "cell_type": "markdown",
      "metadata": {
        "id": "view-in-github",
        "colab_type": "text"
      },
      "source": [
        "<a href=\"https://colab.research.google.com/github/juanserrano90/codelatam/blob/main/Data_preprocessing.ipynb\" target=\"_parent\"><img src=\"https://colab.research.google.com/assets/colab-badge.svg\" alt=\"Open In Colab\"/></a>"
      ]
    },
    {
      "cell_type": "code",
      "execution_count": 6,
      "metadata": {
        "id": "ej24b3FRRmXC",
        "colab": {
          "base_uri": "https://localhost:8080/"
        },
        "outputId": "006741ad-5eec-4a7e-efd4-ae85bfa4d48f"
      },
      "outputs": [
        {
          "output_type": "stream",
          "name": "stdout",
          "text": [
            "Mounted at /content/drive\n"
          ]
        }
      ],
      "source": [
        "import sys\n",
        "from os.path import isfile\n",
        "\n",
        "import numpy as np\n",
        "import pandas as pd\n",
        "import matplotlib\n",
        "matplotlib.use('Agg')\n",
        "import matplotlib.pyplot as plt\n",
        "\n",
        "# from matplotlib import pyplot as plt\n",
        "from sklearn.metrics import confusion_matrix\n",
        "\n",
        "from google.colab import drive\n",
        "drive.mount('/content/drive')"
      ]
    },
    {
      "cell_type": "code",
      "execution_count": 7,
      "metadata": {
        "id": "RqTendt7RkOn"
      },
      "outputs": [],
      "source": [
        "file_df_raw = \"/content/drive/MyDrive/La_Serena_2024/Project/sn_data.parquet\"\n",
        "df_raw = pd.read_parquet(file_df_raw)"
      ]
    },
    {
      "cell_type": "code",
      "execution_count": 8,
      "metadata": {
        "colab": {
          "base_uri": "https://localhost:8080/",
          "height": 321
        },
        "id": "lnVZlTNrSCt-",
        "outputId": "f771592c-ece8-4edf-e4ce-9359215ae465"
      },
      "outputs": [
        {
          "output_type": "execute_result",
          "data": {
            "text/plain": [
              "         SN Subtype  SN Subtype ID SN Maintype  SN Maintype ID  \\\n",
              "SN Name                                                          \n",
              "sn2008ar    Ia-norm              0          Ia               0   \n",
              "sn2008ar    Ia-norm              0          Ia               0   \n",
              "sn2008ar    Ia-norm              0          Ia               0   \n",
              "sn2008ar    Ia-norm              0          Ia               0   \n",
              "sn2008ar    Ia-norm              0          Ia               0   \n",
              "\n",
              "          Spectral Phase  2501.69  2505.08  2508.48  2511.87  2515.28  ...  \\\n",
              "SN Name                                                                ...   \n",
              "sn2008ar            -8.5      0.0      0.0      0.0      0.0      0.0  ...   \n",
              "sn2008ar            -7.5      0.0      0.0      0.0      0.0      0.0  ...   \n",
              "sn2008ar            -6.6      0.0      0.0      0.0      0.0      0.0  ...   \n",
              "sn2008ar            -4.6      0.0      0.0      0.0      0.0      0.0  ...   \n",
              "sn2008ar            -3.7      0.0      0.0      0.0      0.0      0.0  ...   \n",
              "\n",
              "          9872.21  9885.59  9898.98  9912.39  9925.82  9939.27  9952.73  \\\n",
              "SN Name                                                                   \n",
              "sn2008ar      0.0      0.0      0.0      0.0      0.0      0.0      0.0   \n",
              "sn2008ar      0.0      0.0      0.0      0.0      0.0      0.0      0.0   \n",
              "sn2008ar      0.0      0.0      0.0      0.0      0.0      0.0      0.0   \n",
              "sn2008ar      0.0      0.0      0.0      0.0      0.0      0.0      0.0   \n",
              "sn2008ar      0.0      0.0      0.0      0.0      0.0      0.0      0.0   \n",
              "\n",
              "          9966.21  9979.71  9993.24  \n",
              "SN Name                              \n",
              "sn2008ar      0.0      0.0      0.0  \n",
              "sn2008ar      0.0      0.0      0.0  \n",
              "sn2008ar      0.0      0.0      0.0  \n",
              "sn2008ar      0.0      0.0      0.0  \n",
              "sn2008ar      0.0      0.0      0.0  \n",
              "\n",
              "[5 rows x 1029 columns]"
            ],
            "text/html": [
              "\n",
              "  <div id=\"df-d0093438-3fbd-484f-bcdb-45602fba6612\" class=\"colab-df-container\">\n",
              "    <div>\n",
              "<style scoped>\n",
              "    .dataframe tbody tr th:only-of-type {\n",
              "        vertical-align: middle;\n",
              "    }\n",
              "\n",
              "    .dataframe tbody tr th {\n",
              "        vertical-align: top;\n",
              "    }\n",
              "\n",
              "    .dataframe thead th {\n",
              "        text-align: right;\n",
              "    }\n",
              "</style>\n",
              "<table border=\"1\" class=\"dataframe\">\n",
              "  <thead>\n",
              "    <tr style=\"text-align: right;\">\n",
              "      <th></th>\n",
              "      <th>SN Subtype</th>\n",
              "      <th>SN Subtype ID</th>\n",
              "      <th>SN Maintype</th>\n",
              "      <th>SN Maintype ID</th>\n",
              "      <th>Spectral Phase</th>\n",
              "      <th>2501.69</th>\n",
              "      <th>2505.08</th>\n",
              "      <th>2508.48</th>\n",
              "      <th>2511.87</th>\n",
              "      <th>2515.28</th>\n",
              "      <th>...</th>\n",
              "      <th>9872.21</th>\n",
              "      <th>9885.59</th>\n",
              "      <th>9898.98</th>\n",
              "      <th>9912.39</th>\n",
              "      <th>9925.82</th>\n",
              "      <th>9939.27</th>\n",
              "      <th>9952.73</th>\n",
              "      <th>9966.21</th>\n",
              "      <th>9979.71</th>\n",
              "      <th>9993.24</th>\n",
              "    </tr>\n",
              "    <tr>\n",
              "      <th>SN Name</th>\n",
              "      <th></th>\n",
              "      <th></th>\n",
              "      <th></th>\n",
              "      <th></th>\n",
              "      <th></th>\n",
              "      <th></th>\n",
              "      <th></th>\n",
              "      <th></th>\n",
              "      <th></th>\n",
              "      <th></th>\n",
              "      <th></th>\n",
              "      <th></th>\n",
              "      <th></th>\n",
              "      <th></th>\n",
              "      <th></th>\n",
              "      <th></th>\n",
              "      <th></th>\n",
              "      <th></th>\n",
              "      <th></th>\n",
              "      <th></th>\n",
              "      <th></th>\n",
              "    </tr>\n",
              "  </thead>\n",
              "  <tbody>\n",
              "    <tr>\n",
              "      <th>sn2008ar</th>\n",
              "      <td>Ia-norm</td>\n",
              "      <td>0</td>\n",
              "      <td>Ia</td>\n",
              "      <td>0</td>\n",
              "      <td>-8.5</td>\n",
              "      <td>0.0</td>\n",
              "      <td>0.0</td>\n",
              "      <td>0.0</td>\n",
              "      <td>0.0</td>\n",
              "      <td>0.0</td>\n",
              "      <td>...</td>\n",
              "      <td>0.0</td>\n",
              "      <td>0.0</td>\n",
              "      <td>0.0</td>\n",
              "      <td>0.0</td>\n",
              "      <td>0.0</td>\n",
              "      <td>0.0</td>\n",
              "      <td>0.0</td>\n",
              "      <td>0.0</td>\n",
              "      <td>0.0</td>\n",
              "      <td>0.0</td>\n",
              "    </tr>\n",
              "    <tr>\n",
              "      <th>sn2008ar</th>\n",
              "      <td>Ia-norm</td>\n",
              "      <td>0</td>\n",
              "      <td>Ia</td>\n",
              "      <td>0</td>\n",
              "      <td>-7.5</td>\n",
              "      <td>0.0</td>\n",
              "      <td>0.0</td>\n",
              "      <td>0.0</td>\n",
              "      <td>0.0</td>\n",
              "      <td>0.0</td>\n",
              "      <td>...</td>\n",
              "      <td>0.0</td>\n",
              "      <td>0.0</td>\n",
              "      <td>0.0</td>\n",
              "      <td>0.0</td>\n",
              "      <td>0.0</td>\n",
              "      <td>0.0</td>\n",
              "      <td>0.0</td>\n",
              "      <td>0.0</td>\n",
              "      <td>0.0</td>\n",
              "      <td>0.0</td>\n",
              "    </tr>\n",
              "    <tr>\n",
              "      <th>sn2008ar</th>\n",
              "      <td>Ia-norm</td>\n",
              "      <td>0</td>\n",
              "      <td>Ia</td>\n",
              "      <td>0</td>\n",
              "      <td>-6.6</td>\n",
              "      <td>0.0</td>\n",
              "      <td>0.0</td>\n",
              "      <td>0.0</td>\n",
              "      <td>0.0</td>\n",
              "      <td>0.0</td>\n",
              "      <td>...</td>\n",
              "      <td>0.0</td>\n",
              "      <td>0.0</td>\n",
              "      <td>0.0</td>\n",
              "      <td>0.0</td>\n",
              "      <td>0.0</td>\n",
              "      <td>0.0</td>\n",
              "      <td>0.0</td>\n",
              "      <td>0.0</td>\n",
              "      <td>0.0</td>\n",
              "      <td>0.0</td>\n",
              "    </tr>\n",
              "    <tr>\n",
              "      <th>sn2008ar</th>\n",
              "      <td>Ia-norm</td>\n",
              "      <td>0</td>\n",
              "      <td>Ia</td>\n",
              "      <td>0</td>\n",
              "      <td>-4.6</td>\n",
              "      <td>0.0</td>\n",
              "      <td>0.0</td>\n",
              "      <td>0.0</td>\n",
              "      <td>0.0</td>\n",
              "      <td>0.0</td>\n",
              "      <td>...</td>\n",
              "      <td>0.0</td>\n",
              "      <td>0.0</td>\n",
              "      <td>0.0</td>\n",
              "      <td>0.0</td>\n",
              "      <td>0.0</td>\n",
              "      <td>0.0</td>\n",
              "      <td>0.0</td>\n",
              "      <td>0.0</td>\n",
              "      <td>0.0</td>\n",
              "      <td>0.0</td>\n",
              "    </tr>\n",
              "    <tr>\n",
              "      <th>sn2008ar</th>\n",
              "      <td>Ia-norm</td>\n",
              "      <td>0</td>\n",
              "      <td>Ia</td>\n",
              "      <td>0</td>\n",
              "      <td>-3.7</td>\n",
              "      <td>0.0</td>\n",
              "      <td>0.0</td>\n",
              "      <td>0.0</td>\n",
              "      <td>0.0</td>\n",
              "      <td>0.0</td>\n",
              "      <td>...</td>\n",
              "      <td>0.0</td>\n",
              "      <td>0.0</td>\n",
              "      <td>0.0</td>\n",
              "      <td>0.0</td>\n",
              "      <td>0.0</td>\n",
              "      <td>0.0</td>\n",
              "      <td>0.0</td>\n",
              "      <td>0.0</td>\n",
              "      <td>0.0</td>\n",
              "      <td>0.0</td>\n",
              "    </tr>\n",
              "  </tbody>\n",
              "</table>\n",
              "<p>5 rows × 1029 columns</p>\n",
              "</div>\n",
              "    <div class=\"colab-df-buttons\">\n",
              "\n",
              "  <div class=\"colab-df-container\">\n",
              "    <button class=\"colab-df-convert\" onclick=\"convertToInteractive('df-d0093438-3fbd-484f-bcdb-45602fba6612')\"\n",
              "            title=\"Convert this dataframe to an interactive table.\"\n",
              "            style=\"display:none;\">\n",
              "\n",
              "  <svg xmlns=\"http://www.w3.org/2000/svg\" height=\"24px\" viewBox=\"0 -960 960 960\">\n",
              "    <path d=\"M120-120v-720h720v720H120Zm60-500h600v-160H180v160Zm220 220h160v-160H400v160Zm0 220h160v-160H400v160ZM180-400h160v-160H180v160Zm440 0h160v-160H620v160ZM180-180h160v-160H180v160Zm440 0h160v-160H620v160Z\"/>\n",
              "  </svg>\n",
              "    </button>\n",
              "\n",
              "  <style>\n",
              "    .colab-df-container {\n",
              "      display:flex;\n",
              "      gap: 12px;\n",
              "    }\n",
              "\n",
              "    .colab-df-convert {\n",
              "      background-color: #E8F0FE;\n",
              "      border: none;\n",
              "      border-radius: 50%;\n",
              "      cursor: pointer;\n",
              "      display: none;\n",
              "      fill: #1967D2;\n",
              "      height: 32px;\n",
              "      padding: 0 0 0 0;\n",
              "      width: 32px;\n",
              "    }\n",
              "\n",
              "    .colab-df-convert:hover {\n",
              "      background-color: #E2EBFA;\n",
              "      box-shadow: 0px 1px 2px rgba(60, 64, 67, 0.3), 0px 1px 3px 1px rgba(60, 64, 67, 0.15);\n",
              "      fill: #174EA6;\n",
              "    }\n",
              "\n",
              "    .colab-df-buttons div {\n",
              "      margin-bottom: 4px;\n",
              "    }\n",
              "\n",
              "    [theme=dark] .colab-df-convert {\n",
              "      background-color: #3B4455;\n",
              "      fill: #D2E3FC;\n",
              "    }\n",
              "\n",
              "    [theme=dark] .colab-df-convert:hover {\n",
              "      background-color: #434B5C;\n",
              "      box-shadow: 0px 1px 3px 1px rgba(0, 0, 0, 0.15);\n",
              "      filter: drop-shadow(0px 1px 2px rgba(0, 0, 0, 0.3));\n",
              "      fill: #FFFFFF;\n",
              "    }\n",
              "  </style>\n",
              "\n",
              "    <script>\n",
              "      const buttonEl =\n",
              "        document.querySelector('#df-d0093438-3fbd-484f-bcdb-45602fba6612 button.colab-df-convert');\n",
              "      buttonEl.style.display =\n",
              "        google.colab.kernel.accessAllowed ? 'block' : 'none';\n",
              "\n",
              "      async function convertToInteractive(key) {\n",
              "        const element = document.querySelector('#df-d0093438-3fbd-484f-bcdb-45602fba6612');\n",
              "        const dataTable =\n",
              "          await google.colab.kernel.invokeFunction('convertToInteractive',\n",
              "                                                    [key], {});\n",
              "        if (!dataTable) return;\n",
              "\n",
              "        const docLinkHtml = 'Like what you see? Visit the ' +\n",
              "          '<a target=\"_blank\" href=https://colab.research.google.com/notebooks/data_table.ipynb>data table notebook</a>'\n",
              "          + ' to learn more about interactive tables.';\n",
              "        element.innerHTML = '';\n",
              "        dataTable['output_type'] = 'display_data';\n",
              "        await google.colab.output.renderOutput(dataTable, element);\n",
              "        const docLink = document.createElement('div');\n",
              "        docLink.innerHTML = docLinkHtml;\n",
              "        element.appendChild(docLink);\n",
              "      }\n",
              "    </script>\n",
              "  </div>\n",
              "\n",
              "\n",
              "<div id=\"df-6c0d7415-4af1-449c-abaf-92e5662f9b2f\">\n",
              "  <button class=\"colab-df-quickchart\" onclick=\"quickchart('df-6c0d7415-4af1-449c-abaf-92e5662f9b2f')\"\n",
              "            title=\"Suggest charts\"\n",
              "            style=\"display:none;\">\n",
              "\n",
              "<svg xmlns=\"http://www.w3.org/2000/svg\" height=\"24px\"viewBox=\"0 0 24 24\"\n",
              "     width=\"24px\">\n",
              "    <g>\n",
              "        <path d=\"M19 3H5c-1.1 0-2 .9-2 2v14c0 1.1.9 2 2 2h14c1.1 0 2-.9 2-2V5c0-1.1-.9-2-2-2zM9 17H7v-7h2v7zm4 0h-2V7h2v10zm4 0h-2v-4h2v4z\"/>\n",
              "    </g>\n",
              "</svg>\n",
              "  </button>\n",
              "\n",
              "<style>\n",
              "  .colab-df-quickchart {\n",
              "      --bg-color: #E8F0FE;\n",
              "      --fill-color: #1967D2;\n",
              "      --hover-bg-color: #E2EBFA;\n",
              "      --hover-fill-color: #174EA6;\n",
              "      --disabled-fill-color: #AAA;\n",
              "      --disabled-bg-color: #DDD;\n",
              "  }\n",
              "\n",
              "  [theme=dark] .colab-df-quickchart {\n",
              "      --bg-color: #3B4455;\n",
              "      --fill-color: #D2E3FC;\n",
              "      --hover-bg-color: #434B5C;\n",
              "      --hover-fill-color: #FFFFFF;\n",
              "      --disabled-bg-color: #3B4455;\n",
              "      --disabled-fill-color: #666;\n",
              "  }\n",
              "\n",
              "  .colab-df-quickchart {\n",
              "    background-color: var(--bg-color);\n",
              "    border: none;\n",
              "    border-radius: 50%;\n",
              "    cursor: pointer;\n",
              "    display: none;\n",
              "    fill: var(--fill-color);\n",
              "    height: 32px;\n",
              "    padding: 0;\n",
              "    width: 32px;\n",
              "  }\n",
              "\n",
              "  .colab-df-quickchart:hover {\n",
              "    background-color: var(--hover-bg-color);\n",
              "    box-shadow: 0 1px 2px rgba(60, 64, 67, 0.3), 0 1px 3px 1px rgba(60, 64, 67, 0.15);\n",
              "    fill: var(--button-hover-fill-color);\n",
              "  }\n",
              "\n",
              "  .colab-df-quickchart-complete:disabled,\n",
              "  .colab-df-quickchart-complete:disabled:hover {\n",
              "    background-color: var(--disabled-bg-color);\n",
              "    fill: var(--disabled-fill-color);\n",
              "    box-shadow: none;\n",
              "  }\n",
              "\n",
              "  .colab-df-spinner {\n",
              "    border: 2px solid var(--fill-color);\n",
              "    border-color: transparent;\n",
              "    border-bottom-color: var(--fill-color);\n",
              "    animation:\n",
              "      spin 1s steps(1) infinite;\n",
              "  }\n",
              "\n",
              "  @keyframes spin {\n",
              "    0% {\n",
              "      border-color: transparent;\n",
              "      border-bottom-color: var(--fill-color);\n",
              "      border-left-color: var(--fill-color);\n",
              "    }\n",
              "    20% {\n",
              "      border-color: transparent;\n",
              "      border-left-color: var(--fill-color);\n",
              "      border-top-color: var(--fill-color);\n",
              "    }\n",
              "    30% {\n",
              "      border-color: transparent;\n",
              "      border-left-color: var(--fill-color);\n",
              "      border-top-color: var(--fill-color);\n",
              "      border-right-color: var(--fill-color);\n",
              "    }\n",
              "    40% {\n",
              "      border-color: transparent;\n",
              "      border-right-color: var(--fill-color);\n",
              "      border-top-color: var(--fill-color);\n",
              "    }\n",
              "    60% {\n",
              "      border-color: transparent;\n",
              "      border-right-color: var(--fill-color);\n",
              "    }\n",
              "    80% {\n",
              "      border-color: transparent;\n",
              "      border-right-color: var(--fill-color);\n",
              "      border-bottom-color: var(--fill-color);\n",
              "    }\n",
              "    90% {\n",
              "      border-color: transparent;\n",
              "      border-bottom-color: var(--fill-color);\n",
              "    }\n",
              "  }\n",
              "</style>\n",
              "\n",
              "  <script>\n",
              "    async function quickchart(key) {\n",
              "      const quickchartButtonEl =\n",
              "        document.querySelector('#' + key + ' button');\n",
              "      quickchartButtonEl.disabled = true;  // To prevent multiple clicks.\n",
              "      quickchartButtonEl.classList.add('colab-df-spinner');\n",
              "      try {\n",
              "        const charts = await google.colab.kernel.invokeFunction(\n",
              "            'suggestCharts', [key], {});\n",
              "      } catch (error) {\n",
              "        console.error('Error during call to suggestCharts:', error);\n",
              "      }\n",
              "      quickchartButtonEl.classList.remove('colab-df-spinner');\n",
              "      quickchartButtonEl.classList.add('colab-df-quickchart-complete');\n",
              "    }\n",
              "    (() => {\n",
              "      let quickchartButtonEl =\n",
              "        document.querySelector('#df-6c0d7415-4af1-449c-abaf-92e5662f9b2f button');\n",
              "      quickchartButtonEl.style.display =\n",
              "        google.colab.kernel.accessAllowed ? 'block' : 'none';\n",
              "    })();\n",
              "  </script>\n",
              "</div>\n",
              "\n",
              "    </div>\n",
              "  </div>\n"
            ],
            "application/vnd.google.colaboratory.intrinsic+json": {
              "type": "dataframe",
              "variable_name": "df_raw"
            }
          },
          "metadata": {},
          "execution_count": 8
        }
      ],
      "source": [
        "df_raw.head()"
      ]
    },
    {
      "cell_type": "code",
      "execution_count": 9,
      "metadata": {
        "colab": {
          "base_uri": "https://localhost:8080/",
          "height": 384
        },
        "id": "_Qjf-bk1Lvmx",
        "outputId": "39d3e6fd-1b87-4d2c-8acc-10d9255c5487"
      },
      "outputs": [
        {
          "output_type": "execute_result",
          "data": {
            "text/plain": [
              "       SN Subtype ID  SN Maintype ID  Spectral Phase  2501.69  2505.08  \\\n",
              "count    5001.000000     5001.000000     5001.000000   5001.0   5001.0   \n",
              "mean        3.993201        0.655069       36.539334      0.0      0.0   \n",
              "std         5.162127        1.024109       88.017382      0.0      0.0   \n",
              "min         0.000000        0.000000      -82.700000      0.0      0.0   \n",
              "25%         0.000000        0.000000       -0.200000      0.0      0.0   \n",
              "50%         1.000000        0.000000       11.900000      0.0      0.0   \n",
              "75%         8.000000        1.000000       36.100000      0.0      0.0   \n",
              "max        16.000000        3.000000     1103.000000      0.0      0.0   \n",
              "\n",
              "            2508.48      2511.87      2515.28      2518.69       2522.1  ...  \\\n",
              "count  5.001000e+03  5001.000000  5001.000000  5001.000000  5001.000000  ...   \n",
              "mean   7.998400e-07     0.000005     0.000010     0.000007     0.000019  ...   \n",
              "std    2.827296e-05     0.000130     0.000244     0.000330     0.000641  ...   \n",
              "min    0.000000e+00    -0.002000    -0.003000    -0.008000    -0.005000  ...   \n",
              "25%    0.000000e+00     0.000000     0.000000     0.000000     0.000000  ...   \n",
              "50%    0.000000e+00     0.000000     0.000000     0.000000     0.000000  ...   \n",
              "75%    0.000000e+00     0.000000     0.000000     0.000000     0.000000  ...   \n",
              "max    1.000000e-03     0.004000     0.009000     0.015000     0.025000  ...   \n",
              "\n",
              "           9872.21      9885.59      9898.98      9912.39      9925.82  \\\n",
              "count  5001.000000  5001.000000  5001.000000  5001.000000  5001.000000   \n",
              "mean      0.000008     0.000093     0.000039     0.000055     0.000027   \n",
              "std       0.005317     0.004881     0.003690     0.002672     0.001601   \n",
              "min      -0.059000    -0.038000    -0.059000    -0.021000    -0.012000   \n",
              "25%       0.000000     0.000000     0.000000     0.000000     0.000000   \n",
              "50%       0.000000     0.000000     0.000000     0.000000     0.000000   \n",
              "75%       0.000000     0.000000     0.000000     0.000000     0.000000   \n",
              "max       0.107000     0.153000     0.071000     0.052000     0.036000   \n",
              "\n",
              "           9939.27     9952.73      9966.21  9979.71  9993.24  \n",
              "count  5001.000000  5001.00000  5001.000000   5001.0   5001.0  \n",
              "mean      0.000024     0.00001     0.000005      0.0      0.0  \n",
              "std       0.001002     0.00043     0.000113      0.0      0.0  \n",
              "min      -0.008000    -0.00300    -0.001000      0.0      0.0  \n",
              "25%       0.000000     0.00000     0.000000      0.0      0.0  \n",
              "50%       0.000000     0.00000     0.000000      0.0      0.0  \n",
              "75%       0.000000     0.00000     0.000000      0.0      0.0  \n",
              "max       0.022000     0.00900     0.002000      0.0      0.0  \n",
              "\n",
              "[8 rows x 1027 columns]"
            ],
            "text/html": [
              "\n",
              "  <div id=\"df-f937ee6d-f6f0-454a-842e-8a0011573e2c\" class=\"colab-df-container\">\n",
              "    <div>\n",
              "<style scoped>\n",
              "    .dataframe tbody tr th:only-of-type {\n",
              "        vertical-align: middle;\n",
              "    }\n",
              "\n",
              "    .dataframe tbody tr th {\n",
              "        vertical-align: top;\n",
              "    }\n",
              "\n",
              "    .dataframe thead th {\n",
              "        text-align: right;\n",
              "    }\n",
              "</style>\n",
              "<table border=\"1\" class=\"dataframe\">\n",
              "  <thead>\n",
              "    <tr style=\"text-align: right;\">\n",
              "      <th></th>\n",
              "      <th>SN Subtype ID</th>\n",
              "      <th>SN Maintype ID</th>\n",
              "      <th>Spectral Phase</th>\n",
              "      <th>2501.69</th>\n",
              "      <th>2505.08</th>\n",
              "      <th>2508.48</th>\n",
              "      <th>2511.87</th>\n",
              "      <th>2515.28</th>\n",
              "      <th>2518.69</th>\n",
              "      <th>2522.1</th>\n",
              "      <th>...</th>\n",
              "      <th>9872.21</th>\n",
              "      <th>9885.59</th>\n",
              "      <th>9898.98</th>\n",
              "      <th>9912.39</th>\n",
              "      <th>9925.82</th>\n",
              "      <th>9939.27</th>\n",
              "      <th>9952.73</th>\n",
              "      <th>9966.21</th>\n",
              "      <th>9979.71</th>\n",
              "      <th>9993.24</th>\n",
              "    </tr>\n",
              "  </thead>\n",
              "  <tbody>\n",
              "    <tr>\n",
              "      <th>count</th>\n",
              "      <td>5001.000000</td>\n",
              "      <td>5001.000000</td>\n",
              "      <td>5001.000000</td>\n",
              "      <td>5001.0</td>\n",
              "      <td>5001.0</td>\n",
              "      <td>5.001000e+03</td>\n",
              "      <td>5001.000000</td>\n",
              "      <td>5001.000000</td>\n",
              "      <td>5001.000000</td>\n",
              "      <td>5001.000000</td>\n",
              "      <td>...</td>\n",
              "      <td>5001.000000</td>\n",
              "      <td>5001.000000</td>\n",
              "      <td>5001.000000</td>\n",
              "      <td>5001.000000</td>\n",
              "      <td>5001.000000</td>\n",
              "      <td>5001.000000</td>\n",
              "      <td>5001.00000</td>\n",
              "      <td>5001.000000</td>\n",
              "      <td>5001.0</td>\n",
              "      <td>5001.0</td>\n",
              "    </tr>\n",
              "    <tr>\n",
              "      <th>mean</th>\n",
              "      <td>3.993201</td>\n",
              "      <td>0.655069</td>\n",
              "      <td>36.539334</td>\n",
              "      <td>0.0</td>\n",
              "      <td>0.0</td>\n",
              "      <td>7.998400e-07</td>\n",
              "      <td>0.000005</td>\n",
              "      <td>0.000010</td>\n",
              "      <td>0.000007</td>\n",
              "      <td>0.000019</td>\n",
              "      <td>...</td>\n",
              "      <td>0.000008</td>\n",
              "      <td>0.000093</td>\n",
              "      <td>0.000039</td>\n",
              "      <td>0.000055</td>\n",
              "      <td>0.000027</td>\n",
              "      <td>0.000024</td>\n",
              "      <td>0.00001</td>\n",
              "      <td>0.000005</td>\n",
              "      <td>0.0</td>\n",
              "      <td>0.0</td>\n",
              "    </tr>\n",
              "    <tr>\n",
              "      <th>std</th>\n",
              "      <td>5.162127</td>\n",
              "      <td>1.024109</td>\n",
              "      <td>88.017382</td>\n",
              "      <td>0.0</td>\n",
              "      <td>0.0</td>\n",
              "      <td>2.827296e-05</td>\n",
              "      <td>0.000130</td>\n",
              "      <td>0.000244</td>\n",
              "      <td>0.000330</td>\n",
              "      <td>0.000641</td>\n",
              "      <td>...</td>\n",
              "      <td>0.005317</td>\n",
              "      <td>0.004881</td>\n",
              "      <td>0.003690</td>\n",
              "      <td>0.002672</td>\n",
              "      <td>0.001601</td>\n",
              "      <td>0.001002</td>\n",
              "      <td>0.00043</td>\n",
              "      <td>0.000113</td>\n",
              "      <td>0.0</td>\n",
              "      <td>0.0</td>\n",
              "    </tr>\n",
              "    <tr>\n",
              "      <th>min</th>\n",
              "      <td>0.000000</td>\n",
              "      <td>0.000000</td>\n",
              "      <td>-82.700000</td>\n",
              "      <td>0.0</td>\n",
              "      <td>0.0</td>\n",
              "      <td>0.000000e+00</td>\n",
              "      <td>-0.002000</td>\n",
              "      <td>-0.003000</td>\n",
              "      <td>-0.008000</td>\n",
              "      <td>-0.005000</td>\n",
              "      <td>...</td>\n",
              "      <td>-0.059000</td>\n",
              "      <td>-0.038000</td>\n",
              "      <td>-0.059000</td>\n",
              "      <td>-0.021000</td>\n",
              "      <td>-0.012000</td>\n",
              "      <td>-0.008000</td>\n",
              "      <td>-0.00300</td>\n",
              "      <td>-0.001000</td>\n",
              "      <td>0.0</td>\n",
              "      <td>0.0</td>\n",
              "    </tr>\n",
              "    <tr>\n",
              "      <th>25%</th>\n",
              "      <td>0.000000</td>\n",
              "      <td>0.000000</td>\n",
              "      <td>-0.200000</td>\n",
              "      <td>0.0</td>\n",
              "      <td>0.0</td>\n",
              "      <td>0.000000e+00</td>\n",
              "      <td>0.000000</td>\n",
              "      <td>0.000000</td>\n",
              "      <td>0.000000</td>\n",
              "      <td>0.000000</td>\n",
              "      <td>...</td>\n",
              "      <td>0.000000</td>\n",
              "      <td>0.000000</td>\n",
              "      <td>0.000000</td>\n",
              "      <td>0.000000</td>\n",
              "      <td>0.000000</td>\n",
              "      <td>0.000000</td>\n",
              "      <td>0.00000</td>\n",
              "      <td>0.000000</td>\n",
              "      <td>0.0</td>\n",
              "      <td>0.0</td>\n",
              "    </tr>\n",
              "    <tr>\n",
              "      <th>50%</th>\n",
              "      <td>1.000000</td>\n",
              "      <td>0.000000</td>\n",
              "      <td>11.900000</td>\n",
              "      <td>0.0</td>\n",
              "      <td>0.0</td>\n",
              "      <td>0.000000e+00</td>\n",
              "      <td>0.000000</td>\n",
              "      <td>0.000000</td>\n",
              "      <td>0.000000</td>\n",
              "      <td>0.000000</td>\n",
              "      <td>...</td>\n",
              "      <td>0.000000</td>\n",
              "      <td>0.000000</td>\n",
              "      <td>0.000000</td>\n",
              "      <td>0.000000</td>\n",
              "      <td>0.000000</td>\n",
              "      <td>0.000000</td>\n",
              "      <td>0.00000</td>\n",
              "      <td>0.000000</td>\n",
              "      <td>0.0</td>\n",
              "      <td>0.0</td>\n",
              "    </tr>\n",
              "    <tr>\n",
              "      <th>75%</th>\n",
              "      <td>8.000000</td>\n",
              "      <td>1.000000</td>\n",
              "      <td>36.100000</td>\n",
              "      <td>0.0</td>\n",
              "      <td>0.0</td>\n",
              "      <td>0.000000e+00</td>\n",
              "      <td>0.000000</td>\n",
              "      <td>0.000000</td>\n",
              "      <td>0.000000</td>\n",
              "      <td>0.000000</td>\n",
              "      <td>...</td>\n",
              "      <td>0.000000</td>\n",
              "      <td>0.000000</td>\n",
              "      <td>0.000000</td>\n",
              "      <td>0.000000</td>\n",
              "      <td>0.000000</td>\n",
              "      <td>0.000000</td>\n",
              "      <td>0.00000</td>\n",
              "      <td>0.000000</td>\n",
              "      <td>0.0</td>\n",
              "      <td>0.0</td>\n",
              "    </tr>\n",
              "    <tr>\n",
              "      <th>max</th>\n",
              "      <td>16.000000</td>\n",
              "      <td>3.000000</td>\n",
              "      <td>1103.000000</td>\n",
              "      <td>0.0</td>\n",
              "      <td>0.0</td>\n",
              "      <td>1.000000e-03</td>\n",
              "      <td>0.004000</td>\n",
              "      <td>0.009000</td>\n",
              "      <td>0.015000</td>\n",
              "      <td>0.025000</td>\n",
              "      <td>...</td>\n",
              "      <td>0.107000</td>\n",
              "      <td>0.153000</td>\n",
              "      <td>0.071000</td>\n",
              "      <td>0.052000</td>\n",
              "      <td>0.036000</td>\n",
              "      <td>0.022000</td>\n",
              "      <td>0.00900</td>\n",
              "      <td>0.002000</td>\n",
              "      <td>0.0</td>\n",
              "      <td>0.0</td>\n",
              "    </tr>\n",
              "  </tbody>\n",
              "</table>\n",
              "<p>8 rows × 1027 columns</p>\n",
              "</div>\n",
              "    <div class=\"colab-df-buttons\">\n",
              "\n",
              "  <div class=\"colab-df-container\">\n",
              "    <button class=\"colab-df-convert\" onclick=\"convertToInteractive('df-f937ee6d-f6f0-454a-842e-8a0011573e2c')\"\n",
              "            title=\"Convert this dataframe to an interactive table.\"\n",
              "            style=\"display:none;\">\n",
              "\n",
              "  <svg xmlns=\"http://www.w3.org/2000/svg\" height=\"24px\" viewBox=\"0 -960 960 960\">\n",
              "    <path d=\"M120-120v-720h720v720H120Zm60-500h600v-160H180v160Zm220 220h160v-160H400v160Zm0 220h160v-160H400v160ZM180-400h160v-160H180v160Zm440 0h160v-160H620v160ZM180-180h160v-160H180v160Zm440 0h160v-160H620v160Z\"/>\n",
              "  </svg>\n",
              "    </button>\n",
              "\n",
              "  <style>\n",
              "    .colab-df-container {\n",
              "      display:flex;\n",
              "      gap: 12px;\n",
              "    }\n",
              "\n",
              "    .colab-df-convert {\n",
              "      background-color: #E8F0FE;\n",
              "      border: none;\n",
              "      border-radius: 50%;\n",
              "      cursor: pointer;\n",
              "      display: none;\n",
              "      fill: #1967D2;\n",
              "      height: 32px;\n",
              "      padding: 0 0 0 0;\n",
              "      width: 32px;\n",
              "    }\n",
              "\n",
              "    .colab-df-convert:hover {\n",
              "      background-color: #E2EBFA;\n",
              "      box-shadow: 0px 1px 2px rgba(60, 64, 67, 0.3), 0px 1px 3px 1px rgba(60, 64, 67, 0.15);\n",
              "      fill: #174EA6;\n",
              "    }\n",
              "\n",
              "    .colab-df-buttons div {\n",
              "      margin-bottom: 4px;\n",
              "    }\n",
              "\n",
              "    [theme=dark] .colab-df-convert {\n",
              "      background-color: #3B4455;\n",
              "      fill: #D2E3FC;\n",
              "    }\n",
              "\n",
              "    [theme=dark] .colab-df-convert:hover {\n",
              "      background-color: #434B5C;\n",
              "      box-shadow: 0px 1px 3px 1px rgba(0, 0, 0, 0.15);\n",
              "      filter: drop-shadow(0px 1px 2px rgba(0, 0, 0, 0.3));\n",
              "      fill: #FFFFFF;\n",
              "    }\n",
              "  </style>\n",
              "\n",
              "    <script>\n",
              "      const buttonEl =\n",
              "        document.querySelector('#df-f937ee6d-f6f0-454a-842e-8a0011573e2c button.colab-df-convert');\n",
              "      buttonEl.style.display =\n",
              "        google.colab.kernel.accessAllowed ? 'block' : 'none';\n",
              "\n",
              "      async function convertToInteractive(key) {\n",
              "        const element = document.querySelector('#df-f937ee6d-f6f0-454a-842e-8a0011573e2c');\n",
              "        const dataTable =\n",
              "          await google.colab.kernel.invokeFunction('convertToInteractive',\n",
              "                                                    [key], {});\n",
              "        if (!dataTable) return;\n",
              "\n",
              "        const docLinkHtml = 'Like what you see? Visit the ' +\n",
              "          '<a target=\"_blank\" href=https://colab.research.google.com/notebooks/data_table.ipynb>data table notebook</a>'\n",
              "          + ' to learn more about interactive tables.';\n",
              "        element.innerHTML = '';\n",
              "        dataTable['output_type'] = 'display_data';\n",
              "        await google.colab.output.renderOutput(dataTable, element);\n",
              "        const docLink = document.createElement('div');\n",
              "        docLink.innerHTML = docLinkHtml;\n",
              "        element.appendChild(docLink);\n",
              "      }\n",
              "    </script>\n",
              "  </div>\n",
              "\n",
              "\n",
              "<div id=\"df-1dc21261-2c64-4d93-9df7-735a406b7c0b\">\n",
              "  <button class=\"colab-df-quickchart\" onclick=\"quickchart('df-1dc21261-2c64-4d93-9df7-735a406b7c0b')\"\n",
              "            title=\"Suggest charts\"\n",
              "            style=\"display:none;\">\n",
              "\n",
              "<svg xmlns=\"http://www.w3.org/2000/svg\" height=\"24px\"viewBox=\"0 0 24 24\"\n",
              "     width=\"24px\">\n",
              "    <g>\n",
              "        <path d=\"M19 3H5c-1.1 0-2 .9-2 2v14c0 1.1.9 2 2 2h14c1.1 0 2-.9 2-2V5c0-1.1-.9-2-2-2zM9 17H7v-7h2v7zm4 0h-2V7h2v10zm4 0h-2v-4h2v4z\"/>\n",
              "    </g>\n",
              "</svg>\n",
              "  </button>\n",
              "\n",
              "<style>\n",
              "  .colab-df-quickchart {\n",
              "      --bg-color: #E8F0FE;\n",
              "      --fill-color: #1967D2;\n",
              "      --hover-bg-color: #E2EBFA;\n",
              "      --hover-fill-color: #174EA6;\n",
              "      --disabled-fill-color: #AAA;\n",
              "      --disabled-bg-color: #DDD;\n",
              "  }\n",
              "\n",
              "  [theme=dark] .colab-df-quickchart {\n",
              "      --bg-color: #3B4455;\n",
              "      --fill-color: #D2E3FC;\n",
              "      --hover-bg-color: #434B5C;\n",
              "      --hover-fill-color: #FFFFFF;\n",
              "      --disabled-bg-color: #3B4455;\n",
              "      --disabled-fill-color: #666;\n",
              "  }\n",
              "\n",
              "  .colab-df-quickchart {\n",
              "    background-color: var(--bg-color);\n",
              "    border: none;\n",
              "    border-radius: 50%;\n",
              "    cursor: pointer;\n",
              "    display: none;\n",
              "    fill: var(--fill-color);\n",
              "    height: 32px;\n",
              "    padding: 0;\n",
              "    width: 32px;\n",
              "  }\n",
              "\n",
              "  .colab-df-quickchart:hover {\n",
              "    background-color: var(--hover-bg-color);\n",
              "    box-shadow: 0 1px 2px rgba(60, 64, 67, 0.3), 0 1px 3px 1px rgba(60, 64, 67, 0.15);\n",
              "    fill: var(--button-hover-fill-color);\n",
              "  }\n",
              "\n",
              "  .colab-df-quickchart-complete:disabled,\n",
              "  .colab-df-quickchart-complete:disabled:hover {\n",
              "    background-color: var(--disabled-bg-color);\n",
              "    fill: var(--disabled-fill-color);\n",
              "    box-shadow: none;\n",
              "  }\n",
              "\n",
              "  .colab-df-spinner {\n",
              "    border: 2px solid var(--fill-color);\n",
              "    border-color: transparent;\n",
              "    border-bottom-color: var(--fill-color);\n",
              "    animation:\n",
              "      spin 1s steps(1) infinite;\n",
              "  }\n",
              "\n",
              "  @keyframes spin {\n",
              "    0% {\n",
              "      border-color: transparent;\n",
              "      border-bottom-color: var(--fill-color);\n",
              "      border-left-color: var(--fill-color);\n",
              "    }\n",
              "    20% {\n",
              "      border-color: transparent;\n",
              "      border-left-color: var(--fill-color);\n",
              "      border-top-color: var(--fill-color);\n",
              "    }\n",
              "    30% {\n",
              "      border-color: transparent;\n",
              "      border-left-color: var(--fill-color);\n",
              "      border-top-color: var(--fill-color);\n",
              "      border-right-color: var(--fill-color);\n",
              "    }\n",
              "    40% {\n",
              "      border-color: transparent;\n",
              "      border-right-color: var(--fill-color);\n",
              "      border-top-color: var(--fill-color);\n",
              "    }\n",
              "    60% {\n",
              "      border-color: transparent;\n",
              "      border-right-color: var(--fill-color);\n",
              "    }\n",
              "    80% {\n",
              "      border-color: transparent;\n",
              "      border-right-color: var(--fill-color);\n",
              "      border-bottom-color: var(--fill-color);\n",
              "    }\n",
              "    90% {\n",
              "      border-color: transparent;\n",
              "      border-bottom-color: var(--fill-color);\n",
              "    }\n",
              "  }\n",
              "</style>\n",
              "\n",
              "  <script>\n",
              "    async function quickchart(key) {\n",
              "      const quickchartButtonEl =\n",
              "        document.querySelector('#' + key + ' button');\n",
              "      quickchartButtonEl.disabled = true;  // To prevent multiple clicks.\n",
              "      quickchartButtonEl.classList.add('colab-df-spinner');\n",
              "      try {\n",
              "        const charts = await google.colab.kernel.invokeFunction(\n",
              "            'suggestCharts', [key], {});\n",
              "      } catch (error) {\n",
              "        console.error('Error during call to suggestCharts:', error);\n",
              "      }\n",
              "      quickchartButtonEl.classList.remove('colab-df-spinner');\n",
              "      quickchartButtonEl.classList.add('colab-df-quickchart-complete');\n",
              "    }\n",
              "    (() => {\n",
              "      let quickchartButtonEl =\n",
              "        document.querySelector('#df-1dc21261-2c64-4d93-9df7-735a406b7c0b button');\n",
              "      quickchartButtonEl.style.display =\n",
              "        google.colab.kernel.accessAllowed ? 'block' : 'none';\n",
              "    })();\n",
              "  </script>\n",
              "</div>\n",
              "\n",
              "    </div>\n",
              "  </div>\n"
            ],
            "application/vnd.google.colaboratory.intrinsic+json": {
              "type": "dataframe"
            }
          },
          "metadata": {},
          "execution_count": 9
        }
      ],
      "source": [
        "df_raw.describe()"
      ]
    },
    {
      "cell_type": "markdown",
      "metadata": {
        "id": "b1q2gF8YYmnv"
      },
      "source": [
        "the data is stored in a somewhat bizzarro way, with the wavelength as the column name and the row as the SN"
      ]
    },
    {
      "cell_type": "code",
      "execution_count": 10,
      "metadata": {
        "id": "SxSChB9uWvmZ"
      },
      "outputs": [],
      "source": [
        "wavelength = np.array([float(c) for c in df_raw.columns[5:]])"
      ]
    },
    {
      "cell_type": "code",
      "execution_count": 11,
      "metadata": {
        "colab": {
          "base_uri": "https://localhost:8080/"
        },
        "id": "PyE8pRhIdNhA",
        "outputId": "e61c5bd4-2ba8-4d64-a4e9-48a81da23b67"
      },
      "outputs": [
        {
          "output_type": "execute_result",
          "data": {
            "text/plain": [
              "(1024,)"
            ]
          },
          "metadata": {},
          "execution_count": 11
        }
      ],
      "source": [
        "wavelength.shape"
      ]
    },
    {
      "cell_type": "code",
      "execution_count": 12,
      "metadata": {
        "colab": {
          "base_uri": "https://localhost:8080/",
          "height": 196
        },
        "id": "EjSiGdWYXebn",
        "outputId": "118ee3c0-4181-4a66-d290-29c41aa76418"
      },
      "outputs": [
        {
          "output_type": "execute_result",
          "data": {
            "text/plain": [
              "         SN Subtype  SN Subtype ID SN Maintype  SN Maintype ID  \\\n",
              "SN Name                                                          \n",
              "sn2008ar    Ia-norm              0          Ia               0   \n",
              "\n",
              "          Spectral Phase  2501.69  2505.08  2508.48  2511.87  2515.28  ...  \\\n",
              "SN Name                                                                ...   \n",
              "sn2008ar            -2.7      0.0      0.0      0.0      0.0      0.0  ...   \n",
              "\n",
              "          9872.21  9885.59  9898.98  9912.39  9925.82  9939.27  9952.73  \\\n",
              "SN Name                                                                   \n",
              "sn2008ar      0.0      0.0      0.0      0.0      0.0      0.0      0.0   \n",
              "\n",
              "          9966.21  9979.71  9993.24  \n",
              "SN Name                              \n",
              "sn2008ar      0.0      0.0      0.0  \n",
              "\n",
              "[1 rows x 1029 columns]"
            ],
            "text/html": [
              "\n",
              "  <div id=\"df-988f3aa0-a86b-4f85-9639-95702bc76e53\" class=\"colab-df-container\">\n",
              "    <div>\n",
              "<style scoped>\n",
              "    .dataframe tbody tr th:only-of-type {\n",
              "        vertical-align: middle;\n",
              "    }\n",
              "\n",
              "    .dataframe tbody tr th {\n",
              "        vertical-align: top;\n",
              "    }\n",
              "\n",
              "    .dataframe thead th {\n",
              "        text-align: right;\n",
              "    }\n",
              "</style>\n",
              "<table border=\"1\" class=\"dataframe\">\n",
              "  <thead>\n",
              "    <tr style=\"text-align: right;\">\n",
              "      <th></th>\n",
              "      <th>SN Subtype</th>\n",
              "      <th>SN Subtype ID</th>\n",
              "      <th>SN Maintype</th>\n",
              "      <th>SN Maintype ID</th>\n",
              "      <th>Spectral Phase</th>\n",
              "      <th>2501.69</th>\n",
              "      <th>2505.08</th>\n",
              "      <th>2508.48</th>\n",
              "      <th>2511.87</th>\n",
              "      <th>2515.28</th>\n",
              "      <th>...</th>\n",
              "      <th>9872.21</th>\n",
              "      <th>9885.59</th>\n",
              "      <th>9898.98</th>\n",
              "      <th>9912.39</th>\n",
              "      <th>9925.82</th>\n",
              "      <th>9939.27</th>\n",
              "      <th>9952.73</th>\n",
              "      <th>9966.21</th>\n",
              "      <th>9979.71</th>\n",
              "      <th>9993.24</th>\n",
              "    </tr>\n",
              "    <tr>\n",
              "      <th>SN Name</th>\n",
              "      <th></th>\n",
              "      <th></th>\n",
              "      <th></th>\n",
              "      <th></th>\n",
              "      <th></th>\n",
              "      <th></th>\n",
              "      <th></th>\n",
              "      <th></th>\n",
              "      <th></th>\n",
              "      <th></th>\n",
              "      <th></th>\n",
              "      <th></th>\n",
              "      <th></th>\n",
              "      <th></th>\n",
              "      <th></th>\n",
              "      <th></th>\n",
              "      <th></th>\n",
              "      <th></th>\n",
              "      <th></th>\n",
              "      <th></th>\n",
              "      <th></th>\n",
              "    </tr>\n",
              "  </thead>\n",
              "  <tbody>\n",
              "    <tr>\n",
              "      <th>sn2008ar</th>\n",
              "      <td>Ia-norm</td>\n",
              "      <td>0</td>\n",
              "      <td>Ia</td>\n",
              "      <td>0</td>\n",
              "      <td>-2.7</td>\n",
              "      <td>0.0</td>\n",
              "      <td>0.0</td>\n",
              "      <td>0.0</td>\n",
              "      <td>0.0</td>\n",
              "      <td>0.0</td>\n",
              "      <td>...</td>\n",
              "      <td>0.0</td>\n",
              "      <td>0.0</td>\n",
              "      <td>0.0</td>\n",
              "      <td>0.0</td>\n",
              "      <td>0.0</td>\n",
              "      <td>0.0</td>\n",
              "      <td>0.0</td>\n",
              "      <td>0.0</td>\n",
              "      <td>0.0</td>\n",
              "      <td>0.0</td>\n",
              "    </tr>\n",
              "  </tbody>\n",
              "</table>\n",
              "<p>1 rows × 1029 columns</p>\n",
              "</div>\n",
              "    <div class=\"colab-df-buttons\">\n",
              "\n",
              "  <div class=\"colab-df-container\">\n",
              "    <button class=\"colab-df-convert\" onclick=\"convertToInteractive('df-988f3aa0-a86b-4f85-9639-95702bc76e53')\"\n",
              "            title=\"Convert this dataframe to an interactive table.\"\n",
              "            style=\"display:none;\">\n",
              "\n",
              "  <svg xmlns=\"http://www.w3.org/2000/svg\" height=\"24px\" viewBox=\"0 -960 960 960\">\n",
              "    <path d=\"M120-120v-720h720v720H120Zm60-500h600v-160H180v160Zm220 220h160v-160H400v160Zm0 220h160v-160H400v160ZM180-400h160v-160H180v160Zm440 0h160v-160H620v160ZM180-180h160v-160H180v160Zm440 0h160v-160H620v160Z\"/>\n",
              "  </svg>\n",
              "    </button>\n",
              "\n",
              "  <style>\n",
              "    .colab-df-container {\n",
              "      display:flex;\n",
              "      gap: 12px;\n",
              "    }\n",
              "\n",
              "    .colab-df-convert {\n",
              "      background-color: #E8F0FE;\n",
              "      border: none;\n",
              "      border-radius: 50%;\n",
              "      cursor: pointer;\n",
              "      display: none;\n",
              "      fill: #1967D2;\n",
              "      height: 32px;\n",
              "      padding: 0 0 0 0;\n",
              "      width: 32px;\n",
              "    }\n",
              "\n",
              "    .colab-df-convert:hover {\n",
              "      background-color: #E2EBFA;\n",
              "      box-shadow: 0px 1px 2px rgba(60, 64, 67, 0.3), 0px 1px 3px 1px rgba(60, 64, 67, 0.15);\n",
              "      fill: #174EA6;\n",
              "    }\n",
              "\n",
              "    .colab-df-buttons div {\n",
              "      margin-bottom: 4px;\n",
              "    }\n",
              "\n",
              "    [theme=dark] .colab-df-convert {\n",
              "      background-color: #3B4455;\n",
              "      fill: #D2E3FC;\n",
              "    }\n",
              "\n",
              "    [theme=dark] .colab-df-convert:hover {\n",
              "      background-color: #434B5C;\n",
              "      box-shadow: 0px 1px 3px 1px rgba(0, 0, 0, 0.15);\n",
              "      filter: drop-shadow(0px 1px 2px rgba(0, 0, 0, 0.3));\n",
              "      fill: #FFFFFF;\n",
              "    }\n",
              "  </style>\n",
              "\n",
              "    <script>\n",
              "      const buttonEl =\n",
              "        document.querySelector('#df-988f3aa0-a86b-4f85-9639-95702bc76e53 button.colab-df-convert');\n",
              "      buttonEl.style.display =\n",
              "        google.colab.kernel.accessAllowed ? 'block' : 'none';\n",
              "\n",
              "      async function convertToInteractive(key) {\n",
              "        const element = document.querySelector('#df-988f3aa0-a86b-4f85-9639-95702bc76e53');\n",
              "        const dataTable =\n",
              "          await google.colab.kernel.invokeFunction('convertToInteractive',\n",
              "                                                    [key], {});\n",
              "        if (!dataTable) return;\n",
              "\n",
              "        const docLinkHtml = 'Like what you see? Visit the ' +\n",
              "          '<a target=\"_blank\" href=https://colab.research.google.com/notebooks/data_table.ipynb>data table notebook</a>'\n",
              "          + ' to learn more about interactive tables.';\n",
              "        element.innerHTML = '';\n",
              "        dataTable['output_type'] = 'display_data';\n",
              "        await google.colab.output.renderOutput(dataTable, element);\n",
              "        const docLink = document.createElement('div');\n",
              "        docLink.innerHTML = docLinkHtml;\n",
              "        element.appendChild(docLink);\n",
              "      }\n",
              "    </script>\n",
              "  </div>\n",
              "\n",
              "\n",
              "    </div>\n",
              "  </div>\n"
            ],
            "application/vnd.google.colaboratory.intrinsic+json": {
              "type": "dataframe"
            }
          },
          "metadata": {},
          "execution_count": 12
        }
      ],
      "source": [
        "df_raw.loc[(df_raw.index == \"sn2008ar\") * (df_raw[\"Spectral Phase\"] == -2.7)]"
      ]
    },
    {
      "cell_type": "code",
      "execution_count": 13,
      "metadata": {
        "colab": {
          "base_uri": "https://localhost:8080/"
        },
        "id": "N9SUWSkrYLWE",
        "outputId": "fdb81365-4c76-4466-938a-23ec7f7a5fc6"
      },
      "outputs": [
        {
          "output_type": "execute_result",
          "data": {
            "text/plain": [
              "[<matplotlib.lines.Line2D at 0x7a0a8f6cf400>]"
            ]
          },
          "metadata": {},
          "execution_count": 13
        }
      ],
      "source": [
        "plt.plot(wavelength, df_raw.loc[(df_raw.index == \"sn2008ar\") * (df_raw[\"Spectral Phase\"] == -2.7)].iloc[:, 5:].values[0])"
      ]
    },
    {
      "cell_type": "markdown",
      "metadata": {
        "id": "HTsGy8UnSEWz"
      },
      "source": [
        "# Explore data:\n",
        "\n",
        "is there padding? invalid data, spurious entries?"
      ]
    },
    {
      "cell_type": "markdown",
      "metadata": {
        "id": "KlH8X4njSsyR"
      },
      "source": [
        "### unique SN"
      ]
    },
    {
      "cell_type": "code",
      "execution_count": 14,
      "metadata": {
        "colab": {
          "base_uri": "https://localhost:8080/"
        },
        "id": "hQKdmlBDSvHs",
        "outputId": "ecdad85a-44e2-429c-ffac-3f38415ce73b"
      },
      "outputs": [
        {
          "output_type": "stream",
          "name": "stdout",
          "text": [
            "Number of SNs: 518\n"
          ]
        }
      ],
      "source": [
        "print('Number of SNs:', len(df_raw.index.categories))"
      ]
    },
    {
      "cell_type": "markdown",
      "metadata": {
        "id": "OBA_PrQdS74a"
      },
      "source": [
        "### unique SN subtypes"
      ]
    },
    {
      "cell_type": "code",
      "execution_count": 15,
      "metadata": {
        "colab": {
          "base_uri": "https://localhost:8080/"
        },
        "id": "mY3pbGzPTR41",
        "outputId": "032912ad-6d68-4ed8-ce26-e788010fa501"
      },
      "outputs": [
        {
          "output_type": "stream",
          "name": "stdout",
          "text": [
            "SN subtypes: ['Ia-norm', 'Ia-91T', 'Ia-csm', 'Ia-91bg', 'Ib-norm', ..., 'Ic-broad', 'Ic-pec', 'IIn', 'Ibn', 'Ib-pec']\n",
            "Length: 17\n",
            "Categories (17, object): ['II-pec', 'IIL', 'IIP', 'IIb', ..., 'Ibn', 'Ic-broad', 'Ic-norm', 'Ic-pec']\n"
          ]
        }
      ],
      "source": [
        "print('SN subtypes:', df_raw['SN Subtype'].unique())"
      ]
    },
    {
      "cell_type": "code",
      "execution_count": 16,
      "metadata": {
        "colab": {
          "base_uri": "https://localhost:8080/"
        },
        "id": "q8hae5qngh6K",
        "outputId": "75d1f5cc-4ab0-475d-b272-33942faaa8ae"
      },
      "outputs": [
        {
          "output_type": "stream",
          "name": "stdout",
          "text": [
            "Ia-norm\n",
            "Ia-91T\n",
            "Ia-csm\n",
            "Ia-91bg\n",
            "Ib-norm\n",
            "Iax\n",
            "Ia-pec\n",
            "Ic-norm\n",
            "IIP\n",
            "IIL\n",
            "IIb\n",
            "II-pec\n",
            "Ic-broad\n",
            "Ic-pec\n",
            "IIn\n",
            "Ibn\n",
            "Ib-pec\n"
          ]
        }
      ],
      "source": [
        "subtypes  = df_raw['SN Subtype'].unique()\n",
        "\n",
        "for i in subtypes:\n",
        "  print(i)"
      ]
    },
    {
      "cell_type": "markdown",
      "metadata": {
        "id": "hS9a2_qKTfSB"
      },
      "source": [
        "### unique SN main types"
      ]
    },
    {
      "cell_type": "code",
      "execution_count": 17,
      "metadata": {
        "colab": {
          "base_uri": "https://localhost:8080/"
        },
        "id": "K4p1vTJyThkO",
        "outputId": "15f947f5-d014-44d6-aba7-35d9343d6321"
      },
      "outputs": [
        {
          "output_type": "stream",
          "name": "stdout",
          "text": [
            "Number of SN types: 4\n",
            "types: ['Ia', 'Ib', 'Ic', 'II']\n"
          ]
        }
      ],
      "source": [
        "types = df_raw['SN Maintype'].unique()\n",
        "print('Number of SN types:', len(types))\n",
        "print('types:', list(types))"
      ]
    },
    {
      "cell_type": "code",
      "execution_count": 18,
      "metadata": {
        "id": "iZ_3_477kEBH"
      },
      "outputs": [],
      "source": [
        "# I want the name to be on the first column, reset index\n",
        "df_raw = df_raw.reset_index()"
      ]
    },
    {
      "cell_type": "markdown",
      "metadata": {
        "id": "NpKNhraaXp5w"
      },
      "source": [
        "### How many SNs of each type"
      ]
    },
    {
      "cell_type": "code",
      "execution_count": 19,
      "metadata": {
        "id": "FIlXWkFmXtD9"
      },
      "outputs": [],
      "source": [
        "grouped = df_raw.groupby(['SN Maintype', 'SN Name'], observed=True)['SN Name'].value_counts()"
      ]
    },
    {
      "cell_type": "code",
      "execution_count": 20,
      "metadata": {
        "colab": {
          "base_uri": "https://localhost:8080/",
          "height": 241
        },
        "id": "mEC4JYT3kXdB",
        "outputId": "86009b34-1921-4b3e-f632-a69032e3ef50"
      },
      "outputs": [
        {
          "output_type": "execute_result",
          "data": {
            "text/plain": [
              "SN Maintype\n",
              "II     11\n",
              "Ia    414\n",
              "Ib     46\n",
              "Ic     47\n",
              "Name: count, dtype: int64"
            ],
            "text/html": [
              "<div>\n",
              "<style scoped>\n",
              "    .dataframe tbody tr th:only-of-type {\n",
              "        vertical-align: middle;\n",
              "    }\n",
              "\n",
              "    .dataframe tbody tr th {\n",
              "        vertical-align: top;\n",
              "    }\n",
              "\n",
              "    .dataframe thead th {\n",
              "        text-align: right;\n",
              "    }\n",
              "</style>\n",
              "<table border=\"1\" class=\"dataframe\">\n",
              "  <thead>\n",
              "    <tr style=\"text-align: right;\">\n",
              "      <th></th>\n",
              "      <th>count</th>\n",
              "    </tr>\n",
              "    <tr>\n",
              "      <th>SN Maintype</th>\n",
              "      <th></th>\n",
              "    </tr>\n",
              "  </thead>\n",
              "  <tbody>\n",
              "    <tr>\n",
              "      <th>II</th>\n",
              "      <td>11</td>\n",
              "    </tr>\n",
              "    <tr>\n",
              "      <th>Ia</th>\n",
              "      <td>414</td>\n",
              "    </tr>\n",
              "    <tr>\n",
              "      <th>Ib</th>\n",
              "      <td>46</td>\n",
              "    </tr>\n",
              "    <tr>\n",
              "      <th>Ic</th>\n",
              "      <td>47</td>\n",
              "    </tr>\n",
              "  </tbody>\n",
              "</table>\n",
              "</div><br><label><b>dtype:</b> int64</label>"
            ]
          },
          "metadata": {},
          "execution_count": 20
        }
      ],
      "source": [
        "grouped.groupby(level=0, observed=True).count()"
      ]
    },
    {
      "cell_type": "code",
      "execution_count": 21,
      "metadata": {
        "colab": {
          "base_uri": "https://localhost:8080/"
        },
        "id": "h4kWSY-JYjcc",
        "outputId": "693e1e68-acef-41d9-e3d2-d53b58533b52"
      },
      "outputs": [
        {
          "output_type": "execute_result",
          "data": {
            "text/plain": [
              "['II', 'Ia', 'Ib', 'Ic']\n",
              "Categories (4, object): ['II', 'Ia', 'Ib', 'Ic']"
            ]
          },
          "metadata": {},
          "execution_count": 21
        }
      ],
      "source": [
        "grouped.index.levels[0].values"
      ]
    },
    {
      "cell_type": "markdown",
      "metadata": {
        "id": "WHwbApXWTzGi"
      },
      "source": [
        "### Typical series length (in time)"
      ]
    },
    {
      "cell_type": "code",
      "execution_count": 22,
      "metadata": {
        "colab": {
          "base_uri": "https://localhost:8080/",
          "height": 241
        },
        "id": "oxLqLe0Liic5",
        "outputId": "2685f51a-b592-4aed-ea74-f87e23046780"
      },
      "outputs": [
        {
          "output_type": "execute_result",
          "data": {
            "text/plain": [
              "SN Maintype\n",
              "II     494\n",
              "Ia    3288\n",
              "Ib     644\n",
              "Ic     575\n",
              "Name: count, dtype: int64"
            ],
            "text/html": [
              "<div>\n",
              "<style scoped>\n",
              "    .dataframe tbody tr th:only-of-type {\n",
              "        vertical-align: middle;\n",
              "    }\n",
              "\n",
              "    .dataframe tbody tr th {\n",
              "        vertical-align: top;\n",
              "    }\n",
              "\n",
              "    .dataframe thead th {\n",
              "        text-align: right;\n",
              "    }\n",
              "</style>\n",
              "<table border=\"1\" class=\"dataframe\">\n",
              "  <thead>\n",
              "    <tr style=\"text-align: right;\">\n",
              "      <th></th>\n",
              "      <th>count</th>\n",
              "    </tr>\n",
              "    <tr>\n",
              "      <th>SN Maintype</th>\n",
              "      <th></th>\n",
              "    </tr>\n",
              "  </thead>\n",
              "  <tbody>\n",
              "    <tr>\n",
              "      <th>II</th>\n",
              "      <td>494</td>\n",
              "    </tr>\n",
              "    <tr>\n",
              "      <th>Ia</th>\n",
              "      <td>3288</td>\n",
              "    </tr>\n",
              "    <tr>\n",
              "      <th>Ib</th>\n",
              "      <td>644</td>\n",
              "    </tr>\n",
              "    <tr>\n",
              "      <th>Ic</th>\n",
              "      <td>575</td>\n",
              "    </tr>\n",
              "  </tbody>\n",
              "</table>\n",
              "</div><br><label><b>dtype:</b> int64</label>"
            ]
          },
          "metadata": {},
          "execution_count": 22
        }
      ],
      "source": [
        "df_raw.groupby('SN Maintype', observed=True)['SN Maintype'].value_counts()"
      ]
    },
    {
      "cell_type": "code",
      "execution_count": 23,
      "metadata": {
        "colab": {
          "base_uri": "https://localhost:8080/",
          "height": 489
        },
        "id": "wwdZHgvfXa_S",
        "outputId": "2c3c800e-a831-4475-d942-3bcba41e89a0"
      },
      "outputs": [
        {
          "output_type": "execute_result",
          "data": {
            "text/plain": [
              "SN Name\n",
              "sn1987A     241\n",
              "sn1993J      73\n",
              "sn2005cf     67\n",
              "sn2003du     60\n",
              "sn1998S      57\n",
              "           ... \n",
              "sn07bd        1\n",
              "sn07al        1\n",
              "sn2006cq      1\n",
              "sn2006cc      1\n",
              "sn2005bc      1\n",
              "Name: count, Length: 518, dtype: int64"
            ],
            "text/html": [
              "<div>\n",
              "<style scoped>\n",
              "    .dataframe tbody tr th:only-of-type {\n",
              "        vertical-align: middle;\n",
              "    }\n",
              "\n",
              "    .dataframe tbody tr th {\n",
              "        vertical-align: top;\n",
              "    }\n",
              "\n",
              "    .dataframe thead th {\n",
              "        text-align: right;\n",
              "    }\n",
              "</style>\n",
              "<table border=\"1\" class=\"dataframe\">\n",
              "  <thead>\n",
              "    <tr style=\"text-align: right;\">\n",
              "      <th></th>\n",
              "      <th>count</th>\n",
              "    </tr>\n",
              "    <tr>\n",
              "      <th>SN Name</th>\n",
              "      <th></th>\n",
              "    </tr>\n",
              "  </thead>\n",
              "  <tbody>\n",
              "    <tr>\n",
              "      <th>sn1987A</th>\n",
              "      <td>241</td>\n",
              "    </tr>\n",
              "    <tr>\n",
              "      <th>sn1993J</th>\n",
              "      <td>73</td>\n",
              "    </tr>\n",
              "    <tr>\n",
              "      <th>sn2005cf</th>\n",
              "      <td>67</td>\n",
              "    </tr>\n",
              "    <tr>\n",
              "      <th>sn2003du</th>\n",
              "      <td>60</td>\n",
              "    </tr>\n",
              "    <tr>\n",
              "      <th>sn1998S</th>\n",
              "      <td>57</td>\n",
              "    </tr>\n",
              "    <tr>\n",
              "      <th>...</th>\n",
              "      <td>...</td>\n",
              "    </tr>\n",
              "    <tr>\n",
              "      <th>sn07bd</th>\n",
              "      <td>1</td>\n",
              "    </tr>\n",
              "    <tr>\n",
              "      <th>sn07al</th>\n",
              "      <td>1</td>\n",
              "    </tr>\n",
              "    <tr>\n",
              "      <th>sn2006cq</th>\n",
              "      <td>1</td>\n",
              "    </tr>\n",
              "    <tr>\n",
              "      <th>sn2006cc</th>\n",
              "      <td>1</td>\n",
              "    </tr>\n",
              "    <tr>\n",
              "      <th>sn2005bc</th>\n",
              "      <td>1</td>\n",
              "    </tr>\n",
              "  </tbody>\n",
              "</table>\n",
              "<p>518 rows × 1 columns</p>\n",
              "</div><br><label><b>dtype:</b> int64</label>"
            ]
          },
          "metadata": {},
          "execution_count": 23
        }
      ],
      "source": [
        "# group by object and calculate the typical series length\n",
        "df_raw.groupby('SN Name', observed=True)['SN Name'].value_counts().sort_values(ascending=False)"
      ]
    },
    {
      "cell_type": "code",
      "execution_count": 24,
      "metadata": {
        "colab": {
          "base_uri": "https://localhost:8080/"
        },
        "id": "79FXMnIli-w4",
        "outputId": "09b9c384-ac33-4dd2-d782-6c07ef8cbf47"
      },
      "outputs": [
        {
          "output_type": "execute_result",
          "data": {
            "text/plain": [
              "9.654440154440154"
            ]
          },
          "metadata": {},
          "execution_count": 24
        }
      ],
      "source": [
        "df_raw.groupby('SN Name', observed=True)['SN Name'].value_counts().sort_values(ascending=False).mean()"
      ]
    },
    {
      "cell_type": "code",
      "execution_count": 25,
      "metadata": {
        "colab": {
          "base_uri": "https://localhost:8080/"
        },
        "id": "buLQ3O5xfPFd",
        "outputId": "52f800d4-e86a-4aa0-e31b-f9dad5c56822"
      },
      "outputs": [
        {
          "output_type": "stream",
          "name": "stdout",
          "text": [
            "Typical series length is: 74.18314092664092\n"
          ]
        }
      ],
      "source": [
        "# group by object and calculate the typical series length\n",
        "series_length = (df_raw.groupby('SN Name', observed=True)['Spectral Phase'].max()-df_raw.groupby('SN Name', observed=True)['Spectral Phase'].min()).sort_values(ascending=False).mean()\n",
        "\n",
        "print('Typical series length is:', series_length)"
      ]
    },
    {
      "cell_type": "markdown",
      "metadata": {
        "id": "UcPBHnM5hMi0"
      },
      "source": [
        "### NaNs?"
      ]
    },
    {
      "cell_type": "code",
      "execution_count": 26,
      "metadata": {
        "colab": {
          "base_uri": "https://localhost:8080/"
        },
        "id": "cWSI1TVyUw_2",
        "outputId": "5ce6c1bc-6dd4-427a-e58e-d838f97a7201"
      },
      "outputs": [
        {
          "output_type": "execute_result",
          "data": {
            "text/plain": [
              "0"
            ]
          },
          "metadata": {},
          "execution_count": 26
        }
      ],
      "source": [
        "df_raw.isna().sum().max()"
      ]
    },
    {
      "cell_type": "code",
      "execution_count": 27,
      "metadata": {
        "colab": {
          "base_uri": "https://localhost:8080/"
        },
        "id": "kEMEW96Ug_tW",
        "outputId": "0c718422-5d86-4a4f-ca91-6dca468dd88f"
      },
      "outputs": [
        {
          "output_type": "stream",
          "name": "stdout",
          "text": [
            "number of nans: 0\n"
          ]
        }
      ],
      "source": [
        "print('number of nans:', df_raw.isna().sum().max())"
      ]
    },
    {
      "cell_type": "code",
      "execution_count": 28,
      "metadata": {
        "colab": {
          "base_uri": "https://localhost:8080/",
          "height": 290
        },
        "id": "8VfdCbJYjar3",
        "outputId": "63106209-cdae-476a-a642-4d09fea4160e"
      },
      "outputs": [
        {
          "output_type": "execute_result",
          "data": {
            "text/plain": [
              "    SN Name SN Subtype  SN Subtype ID SN Maintype  SN Maintype ID  \\\n",
              "0  sn2008ar    Ia-norm              0          Ia               0   \n",
              "1  sn2008ar    Ia-norm              0          Ia               0   \n",
              "2  sn2008ar    Ia-norm              0          Ia               0   \n",
              "3  sn2008ar    Ia-norm              0          Ia               0   \n",
              "4  sn2008ar    Ia-norm              0          Ia               0   \n",
              "\n",
              "   Spectral Phase  2501.69  2505.08  2508.48  2511.87  ...  9872.21  9885.59  \\\n",
              "0            -8.5      0.0      0.0      0.0      0.0  ...      0.0      0.0   \n",
              "1            -7.5      0.0      0.0      0.0      0.0  ...      0.0      0.0   \n",
              "2            -6.6      0.0      0.0      0.0      0.0  ...      0.0      0.0   \n",
              "3            -4.6      0.0      0.0      0.0      0.0  ...      0.0      0.0   \n",
              "4            -3.7      0.0      0.0      0.0      0.0  ...      0.0      0.0   \n",
              "\n",
              "   9898.98  9912.39  9925.82  9939.27  9952.73  9966.21  9979.71  9993.24  \n",
              "0      0.0      0.0      0.0      0.0      0.0      0.0      0.0      0.0  \n",
              "1      0.0      0.0      0.0      0.0      0.0      0.0      0.0      0.0  \n",
              "2      0.0      0.0      0.0      0.0      0.0      0.0      0.0      0.0  \n",
              "3      0.0      0.0      0.0      0.0      0.0      0.0      0.0      0.0  \n",
              "4      0.0      0.0      0.0      0.0      0.0      0.0      0.0      0.0  \n",
              "\n",
              "[5 rows x 1030 columns]"
            ],
            "text/html": [
              "\n",
              "  <div id=\"df-724da57d-22e4-4641-bcd0-5c3c3f02a1ae\" class=\"colab-df-container\">\n",
              "    <div>\n",
              "<style scoped>\n",
              "    .dataframe tbody tr th:only-of-type {\n",
              "        vertical-align: middle;\n",
              "    }\n",
              "\n",
              "    .dataframe tbody tr th {\n",
              "        vertical-align: top;\n",
              "    }\n",
              "\n",
              "    .dataframe thead th {\n",
              "        text-align: right;\n",
              "    }\n",
              "</style>\n",
              "<table border=\"1\" class=\"dataframe\">\n",
              "  <thead>\n",
              "    <tr style=\"text-align: right;\">\n",
              "      <th></th>\n",
              "      <th>SN Name</th>\n",
              "      <th>SN Subtype</th>\n",
              "      <th>SN Subtype ID</th>\n",
              "      <th>SN Maintype</th>\n",
              "      <th>SN Maintype ID</th>\n",
              "      <th>Spectral Phase</th>\n",
              "      <th>2501.69</th>\n",
              "      <th>2505.08</th>\n",
              "      <th>2508.48</th>\n",
              "      <th>2511.87</th>\n",
              "      <th>...</th>\n",
              "      <th>9872.21</th>\n",
              "      <th>9885.59</th>\n",
              "      <th>9898.98</th>\n",
              "      <th>9912.39</th>\n",
              "      <th>9925.82</th>\n",
              "      <th>9939.27</th>\n",
              "      <th>9952.73</th>\n",
              "      <th>9966.21</th>\n",
              "      <th>9979.71</th>\n",
              "      <th>9993.24</th>\n",
              "    </tr>\n",
              "  </thead>\n",
              "  <tbody>\n",
              "    <tr>\n",
              "      <th>0</th>\n",
              "      <td>sn2008ar</td>\n",
              "      <td>Ia-norm</td>\n",
              "      <td>0</td>\n",
              "      <td>Ia</td>\n",
              "      <td>0</td>\n",
              "      <td>-8.5</td>\n",
              "      <td>0.0</td>\n",
              "      <td>0.0</td>\n",
              "      <td>0.0</td>\n",
              "      <td>0.0</td>\n",
              "      <td>...</td>\n",
              "      <td>0.0</td>\n",
              "      <td>0.0</td>\n",
              "      <td>0.0</td>\n",
              "      <td>0.0</td>\n",
              "      <td>0.0</td>\n",
              "      <td>0.0</td>\n",
              "      <td>0.0</td>\n",
              "      <td>0.0</td>\n",
              "      <td>0.0</td>\n",
              "      <td>0.0</td>\n",
              "    </tr>\n",
              "    <tr>\n",
              "      <th>1</th>\n",
              "      <td>sn2008ar</td>\n",
              "      <td>Ia-norm</td>\n",
              "      <td>0</td>\n",
              "      <td>Ia</td>\n",
              "      <td>0</td>\n",
              "      <td>-7.5</td>\n",
              "      <td>0.0</td>\n",
              "      <td>0.0</td>\n",
              "      <td>0.0</td>\n",
              "      <td>0.0</td>\n",
              "      <td>...</td>\n",
              "      <td>0.0</td>\n",
              "      <td>0.0</td>\n",
              "      <td>0.0</td>\n",
              "      <td>0.0</td>\n",
              "      <td>0.0</td>\n",
              "      <td>0.0</td>\n",
              "      <td>0.0</td>\n",
              "      <td>0.0</td>\n",
              "      <td>0.0</td>\n",
              "      <td>0.0</td>\n",
              "    </tr>\n",
              "    <tr>\n",
              "      <th>2</th>\n",
              "      <td>sn2008ar</td>\n",
              "      <td>Ia-norm</td>\n",
              "      <td>0</td>\n",
              "      <td>Ia</td>\n",
              "      <td>0</td>\n",
              "      <td>-6.6</td>\n",
              "      <td>0.0</td>\n",
              "      <td>0.0</td>\n",
              "      <td>0.0</td>\n",
              "      <td>0.0</td>\n",
              "      <td>...</td>\n",
              "      <td>0.0</td>\n",
              "      <td>0.0</td>\n",
              "      <td>0.0</td>\n",
              "      <td>0.0</td>\n",
              "      <td>0.0</td>\n",
              "      <td>0.0</td>\n",
              "      <td>0.0</td>\n",
              "      <td>0.0</td>\n",
              "      <td>0.0</td>\n",
              "      <td>0.0</td>\n",
              "    </tr>\n",
              "    <tr>\n",
              "      <th>3</th>\n",
              "      <td>sn2008ar</td>\n",
              "      <td>Ia-norm</td>\n",
              "      <td>0</td>\n",
              "      <td>Ia</td>\n",
              "      <td>0</td>\n",
              "      <td>-4.6</td>\n",
              "      <td>0.0</td>\n",
              "      <td>0.0</td>\n",
              "      <td>0.0</td>\n",
              "      <td>0.0</td>\n",
              "      <td>...</td>\n",
              "      <td>0.0</td>\n",
              "      <td>0.0</td>\n",
              "      <td>0.0</td>\n",
              "      <td>0.0</td>\n",
              "      <td>0.0</td>\n",
              "      <td>0.0</td>\n",
              "      <td>0.0</td>\n",
              "      <td>0.0</td>\n",
              "      <td>0.0</td>\n",
              "      <td>0.0</td>\n",
              "    </tr>\n",
              "    <tr>\n",
              "      <th>4</th>\n",
              "      <td>sn2008ar</td>\n",
              "      <td>Ia-norm</td>\n",
              "      <td>0</td>\n",
              "      <td>Ia</td>\n",
              "      <td>0</td>\n",
              "      <td>-3.7</td>\n",
              "      <td>0.0</td>\n",
              "      <td>0.0</td>\n",
              "      <td>0.0</td>\n",
              "      <td>0.0</td>\n",
              "      <td>...</td>\n",
              "      <td>0.0</td>\n",
              "      <td>0.0</td>\n",
              "      <td>0.0</td>\n",
              "      <td>0.0</td>\n",
              "      <td>0.0</td>\n",
              "      <td>0.0</td>\n",
              "      <td>0.0</td>\n",
              "      <td>0.0</td>\n",
              "      <td>0.0</td>\n",
              "      <td>0.0</td>\n",
              "    </tr>\n",
              "  </tbody>\n",
              "</table>\n",
              "<p>5 rows × 1030 columns</p>\n",
              "</div>\n",
              "    <div class=\"colab-df-buttons\">\n",
              "\n",
              "  <div class=\"colab-df-container\">\n",
              "    <button class=\"colab-df-convert\" onclick=\"convertToInteractive('df-724da57d-22e4-4641-bcd0-5c3c3f02a1ae')\"\n",
              "            title=\"Convert this dataframe to an interactive table.\"\n",
              "            style=\"display:none;\">\n",
              "\n",
              "  <svg xmlns=\"http://www.w3.org/2000/svg\" height=\"24px\" viewBox=\"0 -960 960 960\">\n",
              "    <path d=\"M120-120v-720h720v720H120Zm60-500h600v-160H180v160Zm220 220h160v-160H400v160Zm0 220h160v-160H400v160ZM180-400h160v-160H180v160Zm440 0h160v-160H620v160ZM180-180h160v-160H180v160Zm440 0h160v-160H620v160Z\"/>\n",
              "  </svg>\n",
              "    </button>\n",
              "\n",
              "  <style>\n",
              "    .colab-df-container {\n",
              "      display:flex;\n",
              "      gap: 12px;\n",
              "    }\n",
              "\n",
              "    .colab-df-convert {\n",
              "      background-color: #E8F0FE;\n",
              "      border: none;\n",
              "      border-radius: 50%;\n",
              "      cursor: pointer;\n",
              "      display: none;\n",
              "      fill: #1967D2;\n",
              "      height: 32px;\n",
              "      padding: 0 0 0 0;\n",
              "      width: 32px;\n",
              "    }\n",
              "\n",
              "    .colab-df-convert:hover {\n",
              "      background-color: #E2EBFA;\n",
              "      box-shadow: 0px 1px 2px rgba(60, 64, 67, 0.3), 0px 1px 3px 1px rgba(60, 64, 67, 0.15);\n",
              "      fill: #174EA6;\n",
              "    }\n",
              "\n",
              "    .colab-df-buttons div {\n",
              "      margin-bottom: 4px;\n",
              "    }\n",
              "\n",
              "    [theme=dark] .colab-df-convert {\n",
              "      background-color: #3B4455;\n",
              "      fill: #D2E3FC;\n",
              "    }\n",
              "\n",
              "    [theme=dark] .colab-df-convert:hover {\n",
              "      background-color: #434B5C;\n",
              "      box-shadow: 0px 1px 3px 1px rgba(0, 0, 0, 0.15);\n",
              "      filter: drop-shadow(0px 1px 2px rgba(0, 0, 0, 0.3));\n",
              "      fill: #FFFFFF;\n",
              "    }\n",
              "  </style>\n",
              "\n",
              "    <script>\n",
              "      const buttonEl =\n",
              "        document.querySelector('#df-724da57d-22e4-4641-bcd0-5c3c3f02a1ae button.colab-df-convert');\n",
              "      buttonEl.style.display =\n",
              "        google.colab.kernel.accessAllowed ? 'block' : 'none';\n",
              "\n",
              "      async function convertToInteractive(key) {\n",
              "        const element = document.querySelector('#df-724da57d-22e4-4641-bcd0-5c3c3f02a1ae');\n",
              "        const dataTable =\n",
              "          await google.colab.kernel.invokeFunction('convertToInteractive',\n",
              "                                                    [key], {});\n",
              "        if (!dataTable) return;\n",
              "\n",
              "        const docLinkHtml = 'Like what you see? Visit the ' +\n",
              "          '<a target=\"_blank\" href=https://colab.research.google.com/notebooks/data_table.ipynb>data table notebook</a>'\n",
              "          + ' to learn more about interactive tables.';\n",
              "        element.innerHTML = '';\n",
              "        dataTable['output_type'] = 'display_data';\n",
              "        await google.colab.output.renderOutput(dataTable, element);\n",
              "        const docLink = document.createElement('div');\n",
              "        docLink.innerHTML = docLinkHtml;\n",
              "        element.appendChild(docLink);\n",
              "      }\n",
              "    </script>\n",
              "  </div>\n",
              "\n",
              "\n",
              "<div id=\"df-78018627-da19-47da-83f7-184144ff7fdf\">\n",
              "  <button class=\"colab-df-quickchart\" onclick=\"quickchart('df-78018627-da19-47da-83f7-184144ff7fdf')\"\n",
              "            title=\"Suggest charts\"\n",
              "            style=\"display:none;\">\n",
              "\n",
              "<svg xmlns=\"http://www.w3.org/2000/svg\" height=\"24px\"viewBox=\"0 0 24 24\"\n",
              "     width=\"24px\">\n",
              "    <g>\n",
              "        <path d=\"M19 3H5c-1.1 0-2 .9-2 2v14c0 1.1.9 2 2 2h14c1.1 0 2-.9 2-2V5c0-1.1-.9-2-2-2zM9 17H7v-7h2v7zm4 0h-2V7h2v10zm4 0h-2v-4h2v4z\"/>\n",
              "    </g>\n",
              "</svg>\n",
              "  </button>\n",
              "\n",
              "<style>\n",
              "  .colab-df-quickchart {\n",
              "      --bg-color: #E8F0FE;\n",
              "      --fill-color: #1967D2;\n",
              "      --hover-bg-color: #E2EBFA;\n",
              "      --hover-fill-color: #174EA6;\n",
              "      --disabled-fill-color: #AAA;\n",
              "      --disabled-bg-color: #DDD;\n",
              "  }\n",
              "\n",
              "  [theme=dark] .colab-df-quickchart {\n",
              "      --bg-color: #3B4455;\n",
              "      --fill-color: #D2E3FC;\n",
              "      --hover-bg-color: #434B5C;\n",
              "      --hover-fill-color: #FFFFFF;\n",
              "      --disabled-bg-color: #3B4455;\n",
              "      --disabled-fill-color: #666;\n",
              "  }\n",
              "\n",
              "  .colab-df-quickchart {\n",
              "    background-color: var(--bg-color);\n",
              "    border: none;\n",
              "    border-radius: 50%;\n",
              "    cursor: pointer;\n",
              "    display: none;\n",
              "    fill: var(--fill-color);\n",
              "    height: 32px;\n",
              "    padding: 0;\n",
              "    width: 32px;\n",
              "  }\n",
              "\n",
              "  .colab-df-quickchart:hover {\n",
              "    background-color: var(--hover-bg-color);\n",
              "    box-shadow: 0 1px 2px rgba(60, 64, 67, 0.3), 0 1px 3px 1px rgba(60, 64, 67, 0.15);\n",
              "    fill: var(--button-hover-fill-color);\n",
              "  }\n",
              "\n",
              "  .colab-df-quickchart-complete:disabled,\n",
              "  .colab-df-quickchart-complete:disabled:hover {\n",
              "    background-color: var(--disabled-bg-color);\n",
              "    fill: var(--disabled-fill-color);\n",
              "    box-shadow: none;\n",
              "  }\n",
              "\n",
              "  .colab-df-spinner {\n",
              "    border: 2px solid var(--fill-color);\n",
              "    border-color: transparent;\n",
              "    border-bottom-color: var(--fill-color);\n",
              "    animation:\n",
              "      spin 1s steps(1) infinite;\n",
              "  }\n",
              "\n",
              "  @keyframes spin {\n",
              "    0% {\n",
              "      border-color: transparent;\n",
              "      border-bottom-color: var(--fill-color);\n",
              "      border-left-color: var(--fill-color);\n",
              "    }\n",
              "    20% {\n",
              "      border-color: transparent;\n",
              "      border-left-color: var(--fill-color);\n",
              "      border-top-color: var(--fill-color);\n",
              "    }\n",
              "    30% {\n",
              "      border-color: transparent;\n",
              "      border-left-color: var(--fill-color);\n",
              "      border-top-color: var(--fill-color);\n",
              "      border-right-color: var(--fill-color);\n",
              "    }\n",
              "    40% {\n",
              "      border-color: transparent;\n",
              "      border-right-color: var(--fill-color);\n",
              "      border-top-color: var(--fill-color);\n",
              "    }\n",
              "    60% {\n",
              "      border-color: transparent;\n",
              "      border-right-color: var(--fill-color);\n",
              "    }\n",
              "    80% {\n",
              "      border-color: transparent;\n",
              "      border-right-color: var(--fill-color);\n",
              "      border-bottom-color: var(--fill-color);\n",
              "    }\n",
              "    90% {\n",
              "      border-color: transparent;\n",
              "      border-bottom-color: var(--fill-color);\n",
              "    }\n",
              "  }\n",
              "</style>\n",
              "\n",
              "  <script>\n",
              "    async function quickchart(key) {\n",
              "      const quickchartButtonEl =\n",
              "        document.querySelector('#' + key + ' button');\n",
              "      quickchartButtonEl.disabled = true;  // To prevent multiple clicks.\n",
              "      quickchartButtonEl.classList.add('colab-df-spinner');\n",
              "      try {\n",
              "        const charts = await google.colab.kernel.invokeFunction(\n",
              "            'suggestCharts', [key], {});\n",
              "      } catch (error) {\n",
              "        console.error('Error during call to suggestCharts:', error);\n",
              "      }\n",
              "      quickchartButtonEl.classList.remove('colab-df-spinner');\n",
              "      quickchartButtonEl.classList.add('colab-df-quickchart-complete');\n",
              "    }\n",
              "    (() => {\n",
              "      let quickchartButtonEl =\n",
              "        document.querySelector('#df-78018627-da19-47da-83f7-184144ff7fdf button');\n",
              "      quickchartButtonEl.style.display =\n",
              "        google.colab.kernel.accessAllowed ? 'block' : 'none';\n",
              "    })();\n",
              "  </script>\n",
              "</div>\n",
              "\n",
              "    </div>\n",
              "  </div>\n"
            ],
            "application/vnd.google.colaboratory.intrinsic+json": {
              "type": "dataframe",
              "variable_name": "df_raw"
            }
          },
          "metadata": {},
          "execution_count": 28
        }
      ],
      "source": [
        "df_raw.head()"
      ]
    },
    {
      "cell_type": "code",
      "execution_count": 29,
      "metadata": {
        "colab": {
          "base_uri": "https://localhost:8080/"
        },
        "id": "n8CofFMCjm-E",
        "outputId": "9c0d0675-bfc0-49b3-a8f7-0f553fdfb2f6"
      },
      "outputs": [
        {
          "output_type": "execute_result",
          "data": {
            "text/plain": [
              "(18, 1030)"
            ]
          },
          "metadata": {},
          "execution_count": 29
        }
      ],
      "source": [
        "sn2008ar = df_raw.loc[df_raw['SN Name'] == \"sn2008ar\"]\n",
        "sn2008ar.shape"
      ]
    },
    {
      "cell_type": "markdown",
      "metadata": {
        "id": "WP1qrx9scsEE"
      },
      "source": [
        "### Wavelength span"
      ]
    },
    {
      "cell_type": "code",
      "execution_count": 30,
      "metadata": {
        "colab": {
          "base_uri": "https://localhost:8080/"
        },
        "id": "VHsl7l5bcp1F",
        "outputId": "be10cab2-a8dc-452d-c4b2-6d169eeac642"
      },
      "outputs": [
        {
          "output_type": "stream",
          "name": "stdout",
          "text": [
            "2501.69 5410.10734375 9993.24\n"
          ]
        }
      ],
      "source": [
        "print(wavelength.min(), wavelength.mean(), wavelength.max())"
      ]
    },
    {
      "cell_type": "code",
      "execution_count": 31,
      "metadata": {
        "id": "cqLuXlm4KOUc"
      },
      "outputs": [],
      "source": [
        "# usar 2500 a 10000\n",
        "xlim = [2500, 10000]"
      ]
    },
    {
      "cell_type": "markdown",
      "metadata": {
        "id": "pw5bSKFWjwYG"
      },
      "source": [
        "### Flux span"
      ]
    },
    {
      "cell_type": "code",
      "execution_count": 32,
      "metadata": {
        "colab": {
          "base_uri": "https://localhost:8080/",
          "height": 290
        },
        "id": "YkwFFKKyr1zx",
        "outputId": "cc3fd923-c701-46ee-dd6c-3b0635898f6a"
      },
      "outputs": [
        {
          "output_type": "execute_result",
          "data": {
            "text/plain": [
              "    SN Name SN Subtype  SN Subtype ID SN Maintype  SN Maintype ID  \\\n",
              "0  sn2008ar    Ia-norm              0          Ia               0   \n",
              "1  sn2008ar    Ia-norm              0          Ia               0   \n",
              "2  sn2008ar    Ia-norm              0          Ia               0   \n",
              "3  sn2008ar    Ia-norm              0          Ia               0   \n",
              "4  sn2008ar    Ia-norm              0          Ia               0   \n",
              "\n",
              "   Spectral Phase  2501.69  2505.08  2508.48  2511.87  ...  9872.21  9885.59  \\\n",
              "0            -8.5      0.0      0.0      0.0      0.0  ...      0.0      0.0   \n",
              "1            -7.5      0.0      0.0      0.0      0.0  ...      0.0      0.0   \n",
              "2            -6.6      0.0      0.0      0.0      0.0  ...      0.0      0.0   \n",
              "3            -4.6      0.0      0.0      0.0      0.0  ...      0.0      0.0   \n",
              "4            -3.7      0.0      0.0      0.0      0.0  ...      0.0      0.0   \n",
              "\n",
              "   9898.98  9912.39  9925.82  9939.27  9952.73  9966.21  9979.71  9993.24  \n",
              "0      0.0      0.0      0.0      0.0      0.0      0.0      0.0      0.0  \n",
              "1      0.0      0.0      0.0      0.0      0.0      0.0      0.0      0.0  \n",
              "2      0.0      0.0      0.0      0.0      0.0      0.0      0.0      0.0  \n",
              "3      0.0      0.0      0.0      0.0      0.0      0.0      0.0      0.0  \n",
              "4      0.0      0.0      0.0      0.0      0.0      0.0      0.0      0.0  \n",
              "\n",
              "[5 rows x 1030 columns]"
            ],
            "text/html": [
              "\n",
              "  <div id=\"df-1f2f254d-c0ce-4400-b900-cf28f16ef102\" class=\"colab-df-container\">\n",
              "    <div>\n",
              "<style scoped>\n",
              "    .dataframe tbody tr th:only-of-type {\n",
              "        vertical-align: middle;\n",
              "    }\n",
              "\n",
              "    .dataframe tbody tr th {\n",
              "        vertical-align: top;\n",
              "    }\n",
              "\n",
              "    .dataframe thead th {\n",
              "        text-align: right;\n",
              "    }\n",
              "</style>\n",
              "<table border=\"1\" class=\"dataframe\">\n",
              "  <thead>\n",
              "    <tr style=\"text-align: right;\">\n",
              "      <th></th>\n",
              "      <th>SN Name</th>\n",
              "      <th>SN Subtype</th>\n",
              "      <th>SN Subtype ID</th>\n",
              "      <th>SN Maintype</th>\n",
              "      <th>SN Maintype ID</th>\n",
              "      <th>Spectral Phase</th>\n",
              "      <th>2501.69</th>\n",
              "      <th>2505.08</th>\n",
              "      <th>2508.48</th>\n",
              "      <th>2511.87</th>\n",
              "      <th>...</th>\n",
              "      <th>9872.21</th>\n",
              "      <th>9885.59</th>\n",
              "      <th>9898.98</th>\n",
              "      <th>9912.39</th>\n",
              "      <th>9925.82</th>\n",
              "      <th>9939.27</th>\n",
              "      <th>9952.73</th>\n",
              "      <th>9966.21</th>\n",
              "      <th>9979.71</th>\n",
              "      <th>9993.24</th>\n",
              "    </tr>\n",
              "  </thead>\n",
              "  <tbody>\n",
              "    <tr>\n",
              "      <th>0</th>\n",
              "      <td>sn2008ar</td>\n",
              "      <td>Ia-norm</td>\n",
              "      <td>0</td>\n",
              "      <td>Ia</td>\n",
              "      <td>0</td>\n",
              "      <td>-8.5</td>\n",
              "      <td>0.0</td>\n",
              "      <td>0.0</td>\n",
              "      <td>0.0</td>\n",
              "      <td>0.0</td>\n",
              "      <td>...</td>\n",
              "      <td>0.0</td>\n",
              "      <td>0.0</td>\n",
              "      <td>0.0</td>\n",
              "      <td>0.0</td>\n",
              "      <td>0.0</td>\n",
              "      <td>0.0</td>\n",
              "      <td>0.0</td>\n",
              "      <td>0.0</td>\n",
              "      <td>0.0</td>\n",
              "      <td>0.0</td>\n",
              "    </tr>\n",
              "    <tr>\n",
              "      <th>1</th>\n",
              "      <td>sn2008ar</td>\n",
              "      <td>Ia-norm</td>\n",
              "      <td>0</td>\n",
              "      <td>Ia</td>\n",
              "      <td>0</td>\n",
              "      <td>-7.5</td>\n",
              "      <td>0.0</td>\n",
              "      <td>0.0</td>\n",
              "      <td>0.0</td>\n",
              "      <td>0.0</td>\n",
              "      <td>...</td>\n",
              "      <td>0.0</td>\n",
              "      <td>0.0</td>\n",
              "      <td>0.0</td>\n",
              "      <td>0.0</td>\n",
              "      <td>0.0</td>\n",
              "      <td>0.0</td>\n",
              "      <td>0.0</td>\n",
              "      <td>0.0</td>\n",
              "      <td>0.0</td>\n",
              "      <td>0.0</td>\n",
              "    </tr>\n",
              "    <tr>\n",
              "      <th>2</th>\n",
              "      <td>sn2008ar</td>\n",
              "      <td>Ia-norm</td>\n",
              "      <td>0</td>\n",
              "      <td>Ia</td>\n",
              "      <td>0</td>\n",
              "      <td>-6.6</td>\n",
              "      <td>0.0</td>\n",
              "      <td>0.0</td>\n",
              "      <td>0.0</td>\n",
              "      <td>0.0</td>\n",
              "      <td>...</td>\n",
              "      <td>0.0</td>\n",
              "      <td>0.0</td>\n",
              "      <td>0.0</td>\n",
              "      <td>0.0</td>\n",
              "      <td>0.0</td>\n",
              "      <td>0.0</td>\n",
              "      <td>0.0</td>\n",
              "      <td>0.0</td>\n",
              "      <td>0.0</td>\n",
              "      <td>0.0</td>\n",
              "    </tr>\n",
              "    <tr>\n",
              "      <th>3</th>\n",
              "      <td>sn2008ar</td>\n",
              "      <td>Ia-norm</td>\n",
              "      <td>0</td>\n",
              "      <td>Ia</td>\n",
              "      <td>0</td>\n",
              "      <td>-4.6</td>\n",
              "      <td>0.0</td>\n",
              "      <td>0.0</td>\n",
              "      <td>0.0</td>\n",
              "      <td>0.0</td>\n",
              "      <td>...</td>\n",
              "      <td>0.0</td>\n",
              "      <td>0.0</td>\n",
              "      <td>0.0</td>\n",
              "      <td>0.0</td>\n",
              "      <td>0.0</td>\n",
              "      <td>0.0</td>\n",
              "      <td>0.0</td>\n",
              "      <td>0.0</td>\n",
              "      <td>0.0</td>\n",
              "      <td>0.0</td>\n",
              "    </tr>\n",
              "    <tr>\n",
              "      <th>4</th>\n",
              "      <td>sn2008ar</td>\n",
              "      <td>Ia-norm</td>\n",
              "      <td>0</td>\n",
              "      <td>Ia</td>\n",
              "      <td>0</td>\n",
              "      <td>-3.7</td>\n",
              "      <td>0.0</td>\n",
              "      <td>0.0</td>\n",
              "      <td>0.0</td>\n",
              "      <td>0.0</td>\n",
              "      <td>...</td>\n",
              "      <td>0.0</td>\n",
              "      <td>0.0</td>\n",
              "      <td>0.0</td>\n",
              "      <td>0.0</td>\n",
              "      <td>0.0</td>\n",
              "      <td>0.0</td>\n",
              "      <td>0.0</td>\n",
              "      <td>0.0</td>\n",
              "      <td>0.0</td>\n",
              "      <td>0.0</td>\n",
              "    </tr>\n",
              "  </tbody>\n",
              "</table>\n",
              "<p>5 rows × 1030 columns</p>\n",
              "</div>\n",
              "    <div class=\"colab-df-buttons\">\n",
              "\n",
              "  <div class=\"colab-df-container\">\n",
              "    <button class=\"colab-df-convert\" onclick=\"convertToInteractive('df-1f2f254d-c0ce-4400-b900-cf28f16ef102')\"\n",
              "            title=\"Convert this dataframe to an interactive table.\"\n",
              "            style=\"display:none;\">\n",
              "\n",
              "  <svg xmlns=\"http://www.w3.org/2000/svg\" height=\"24px\" viewBox=\"0 -960 960 960\">\n",
              "    <path d=\"M120-120v-720h720v720H120Zm60-500h600v-160H180v160Zm220 220h160v-160H400v160Zm0 220h160v-160H400v160ZM180-400h160v-160H180v160Zm440 0h160v-160H620v160ZM180-180h160v-160H180v160Zm440 0h160v-160H620v160Z\"/>\n",
              "  </svg>\n",
              "    </button>\n",
              "\n",
              "  <style>\n",
              "    .colab-df-container {\n",
              "      display:flex;\n",
              "      gap: 12px;\n",
              "    }\n",
              "\n",
              "    .colab-df-convert {\n",
              "      background-color: #E8F0FE;\n",
              "      border: none;\n",
              "      border-radius: 50%;\n",
              "      cursor: pointer;\n",
              "      display: none;\n",
              "      fill: #1967D2;\n",
              "      height: 32px;\n",
              "      padding: 0 0 0 0;\n",
              "      width: 32px;\n",
              "    }\n",
              "\n",
              "    .colab-df-convert:hover {\n",
              "      background-color: #E2EBFA;\n",
              "      box-shadow: 0px 1px 2px rgba(60, 64, 67, 0.3), 0px 1px 3px 1px rgba(60, 64, 67, 0.15);\n",
              "      fill: #174EA6;\n",
              "    }\n",
              "\n",
              "    .colab-df-buttons div {\n",
              "      margin-bottom: 4px;\n",
              "    }\n",
              "\n",
              "    [theme=dark] .colab-df-convert {\n",
              "      background-color: #3B4455;\n",
              "      fill: #D2E3FC;\n",
              "    }\n",
              "\n",
              "    [theme=dark] .colab-df-convert:hover {\n",
              "      background-color: #434B5C;\n",
              "      box-shadow: 0px 1px 3px 1px rgba(0, 0, 0, 0.15);\n",
              "      filter: drop-shadow(0px 1px 2px rgba(0, 0, 0, 0.3));\n",
              "      fill: #FFFFFF;\n",
              "    }\n",
              "  </style>\n",
              "\n",
              "    <script>\n",
              "      const buttonEl =\n",
              "        document.querySelector('#df-1f2f254d-c0ce-4400-b900-cf28f16ef102 button.colab-df-convert');\n",
              "      buttonEl.style.display =\n",
              "        google.colab.kernel.accessAllowed ? 'block' : 'none';\n",
              "\n",
              "      async function convertToInteractive(key) {\n",
              "        const element = document.querySelector('#df-1f2f254d-c0ce-4400-b900-cf28f16ef102');\n",
              "        const dataTable =\n",
              "          await google.colab.kernel.invokeFunction('convertToInteractive',\n",
              "                                                    [key], {});\n",
              "        if (!dataTable) return;\n",
              "\n",
              "        const docLinkHtml = 'Like what you see? Visit the ' +\n",
              "          '<a target=\"_blank\" href=https://colab.research.google.com/notebooks/data_table.ipynb>data table notebook</a>'\n",
              "          + ' to learn more about interactive tables.';\n",
              "        element.innerHTML = '';\n",
              "        dataTable['output_type'] = 'display_data';\n",
              "        await google.colab.output.renderOutput(dataTable, element);\n",
              "        const docLink = document.createElement('div');\n",
              "        docLink.innerHTML = docLinkHtml;\n",
              "        element.appendChild(docLink);\n",
              "      }\n",
              "    </script>\n",
              "  </div>\n",
              "\n",
              "\n",
              "<div id=\"df-7baece08-3b1c-44f0-b8d1-7522ea63561c\">\n",
              "  <button class=\"colab-df-quickchart\" onclick=\"quickchart('df-7baece08-3b1c-44f0-b8d1-7522ea63561c')\"\n",
              "            title=\"Suggest charts\"\n",
              "            style=\"display:none;\">\n",
              "\n",
              "<svg xmlns=\"http://www.w3.org/2000/svg\" height=\"24px\"viewBox=\"0 0 24 24\"\n",
              "     width=\"24px\">\n",
              "    <g>\n",
              "        <path d=\"M19 3H5c-1.1 0-2 .9-2 2v14c0 1.1.9 2 2 2h14c1.1 0 2-.9 2-2V5c0-1.1-.9-2-2-2zM9 17H7v-7h2v7zm4 0h-2V7h2v10zm4 0h-2v-4h2v4z\"/>\n",
              "    </g>\n",
              "</svg>\n",
              "  </button>\n",
              "\n",
              "<style>\n",
              "  .colab-df-quickchart {\n",
              "      --bg-color: #E8F0FE;\n",
              "      --fill-color: #1967D2;\n",
              "      --hover-bg-color: #E2EBFA;\n",
              "      --hover-fill-color: #174EA6;\n",
              "      --disabled-fill-color: #AAA;\n",
              "      --disabled-bg-color: #DDD;\n",
              "  }\n",
              "\n",
              "  [theme=dark] .colab-df-quickchart {\n",
              "      --bg-color: #3B4455;\n",
              "      --fill-color: #D2E3FC;\n",
              "      --hover-bg-color: #434B5C;\n",
              "      --hover-fill-color: #FFFFFF;\n",
              "      --disabled-bg-color: #3B4455;\n",
              "      --disabled-fill-color: #666;\n",
              "  }\n",
              "\n",
              "  .colab-df-quickchart {\n",
              "    background-color: var(--bg-color);\n",
              "    border: none;\n",
              "    border-radius: 50%;\n",
              "    cursor: pointer;\n",
              "    display: none;\n",
              "    fill: var(--fill-color);\n",
              "    height: 32px;\n",
              "    padding: 0;\n",
              "    width: 32px;\n",
              "  }\n",
              "\n",
              "  .colab-df-quickchart:hover {\n",
              "    background-color: var(--hover-bg-color);\n",
              "    box-shadow: 0 1px 2px rgba(60, 64, 67, 0.3), 0 1px 3px 1px rgba(60, 64, 67, 0.15);\n",
              "    fill: var(--button-hover-fill-color);\n",
              "  }\n",
              "\n",
              "  .colab-df-quickchart-complete:disabled,\n",
              "  .colab-df-quickchart-complete:disabled:hover {\n",
              "    background-color: var(--disabled-bg-color);\n",
              "    fill: var(--disabled-fill-color);\n",
              "    box-shadow: none;\n",
              "  }\n",
              "\n",
              "  .colab-df-spinner {\n",
              "    border: 2px solid var(--fill-color);\n",
              "    border-color: transparent;\n",
              "    border-bottom-color: var(--fill-color);\n",
              "    animation:\n",
              "      spin 1s steps(1) infinite;\n",
              "  }\n",
              "\n",
              "  @keyframes spin {\n",
              "    0% {\n",
              "      border-color: transparent;\n",
              "      border-bottom-color: var(--fill-color);\n",
              "      border-left-color: var(--fill-color);\n",
              "    }\n",
              "    20% {\n",
              "      border-color: transparent;\n",
              "      border-left-color: var(--fill-color);\n",
              "      border-top-color: var(--fill-color);\n",
              "    }\n",
              "    30% {\n",
              "      border-color: transparent;\n",
              "      border-left-color: var(--fill-color);\n",
              "      border-top-color: var(--fill-color);\n",
              "      border-right-color: var(--fill-color);\n",
              "    }\n",
              "    40% {\n",
              "      border-color: transparent;\n",
              "      border-right-color: var(--fill-color);\n",
              "      border-top-color: var(--fill-color);\n",
              "    }\n",
              "    60% {\n",
              "      border-color: transparent;\n",
              "      border-right-color: var(--fill-color);\n",
              "    }\n",
              "    80% {\n",
              "      border-color: transparent;\n",
              "      border-right-color: var(--fill-color);\n",
              "      border-bottom-color: var(--fill-color);\n",
              "    }\n",
              "    90% {\n",
              "      border-color: transparent;\n",
              "      border-bottom-color: var(--fill-color);\n",
              "    }\n",
              "  }\n",
              "</style>\n",
              "\n",
              "  <script>\n",
              "    async function quickchart(key) {\n",
              "      const quickchartButtonEl =\n",
              "        document.querySelector('#' + key + ' button');\n",
              "      quickchartButtonEl.disabled = true;  // To prevent multiple clicks.\n",
              "      quickchartButtonEl.classList.add('colab-df-spinner');\n",
              "      try {\n",
              "        const charts = await google.colab.kernel.invokeFunction(\n",
              "            'suggestCharts', [key], {});\n",
              "      } catch (error) {\n",
              "        console.error('Error during call to suggestCharts:', error);\n",
              "      }\n",
              "      quickchartButtonEl.classList.remove('colab-df-spinner');\n",
              "      quickchartButtonEl.classList.add('colab-df-quickchart-complete');\n",
              "    }\n",
              "    (() => {\n",
              "      let quickchartButtonEl =\n",
              "        document.querySelector('#df-7baece08-3b1c-44f0-b8d1-7522ea63561c button');\n",
              "      quickchartButtonEl.style.display =\n",
              "        google.colab.kernel.accessAllowed ? 'block' : 'none';\n",
              "    })();\n",
              "  </script>\n",
              "</div>\n",
              "\n",
              "    </div>\n",
              "  </div>\n"
            ],
            "application/vnd.google.colaboratory.intrinsic+json": {
              "type": "dataframe",
              "variable_name": "df_raw"
            }
          },
          "metadata": {},
          "execution_count": 32
        }
      ],
      "source": [
        "df_raw.head()"
      ]
    },
    {
      "cell_type": "code",
      "execution_count": 33,
      "metadata": {
        "colab": {
          "base_uri": "https://localhost:8080/"
        },
        "id": "7yTQsNA0WE50",
        "outputId": "369fec5d-14b9-4f73-8b64-f1cfca58db5d"
      },
      "outputs": [
        {
          "output_type": "stream",
          "name": "stdout",
          "text": [
            "-0.00026101225067486555 6.807673554040658\n"
          ]
        }
      ],
      "source": [
        "print(df_raw.iloc[:,6:].mean().mean(), 3*df_raw.iloc[:,6:].std().std())"
      ]
    },
    {
      "cell_type": "code",
      "execution_count": 34,
      "metadata": {
        "colab": {
          "base_uri": "https://localhost:8080/"
        },
        "id": "vAChfox4vqdd",
        "outputId": "f2c10ad6-77d6-4295-ae87-5bda3ce9b102"
      },
      "outputs": [
        {
          "output_type": "stream",
          "name": "stdout",
          "text": [
            "2071.001\n",
            "3301.9\n"
          ]
        }
      ],
      "source": [
        "# which rows have the max flux value?\n",
        "print(df_raw.iloc[:,6:].max().max())\n",
        "# which row is that?\n",
        "print(df_raw.iloc[:,6:].max().idxmax())"
      ]
    },
    {
      "cell_type": "code",
      "execution_count": 35,
      "metadata": {
        "colab": {
          "base_uri": "https://localhost:8080/",
          "height": 165
        },
        "id": "p37r1LmBwIre",
        "outputId": "c73dc274-99ce-4150-f794-ea9719cde315"
      },
      "outputs": [
        {
          "output_type": "execute_result",
          "data": {
            "text/plain": [
              "        SN Name SN Subtype  SN Subtype ID SN Maintype  SN Maintype ID  \\\n",
              "4631  iPTF13bvn    Ib-norm              6          Ib               1   \n",
              "\n",
              "      Spectral Phase  2501.69  2505.08  2508.48  2511.87  ...  9872.21  \\\n",
              "4631           -12.7      0.0      0.0      0.0      0.0  ...   -0.053   \n",
              "\n",
              "      9885.59  9898.98  9912.39  9925.82  9939.27  9952.73  9966.21  9979.71  \\\n",
              "4631   -0.014   -0.027   -0.015   -0.003   -0.001   -0.001      0.0      0.0   \n",
              "\n",
              "      9993.24  \n",
              "4631      0.0  \n",
              "\n",
              "[1 rows x 1030 columns]"
            ],
            "text/html": [
              "\n",
              "  <div id=\"df-68506947-133f-4753-a35d-9203915eeb05\" class=\"colab-df-container\">\n",
              "    <div>\n",
              "<style scoped>\n",
              "    .dataframe tbody tr th:only-of-type {\n",
              "        vertical-align: middle;\n",
              "    }\n",
              "\n",
              "    .dataframe tbody tr th {\n",
              "        vertical-align: top;\n",
              "    }\n",
              "\n",
              "    .dataframe thead th {\n",
              "        text-align: right;\n",
              "    }\n",
              "</style>\n",
              "<table border=\"1\" class=\"dataframe\">\n",
              "  <thead>\n",
              "    <tr style=\"text-align: right;\">\n",
              "      <th></th>\n",
              "      <th>SN Name</th>\n",
              "      <th>SN Subtype</th>\n",
              "      <th>SN Subtype ID</th>\n",
              "      <th>SN Maintype</th>\n",
              "      <th>SN Maintype ID</th>\n",
              "      <th>Spectral Phase</th>\n",
              "      <th>2501.69</th>\n",
              "      <th>2505.08</th>\n",
              "      <th>2508.48</th>\n",
              "      <th>2511.87</th>\n",
              "      <th>...</th>\n",
              "      <th>9872.21</th>\n",
              "      <th>9885.59</th>\n",
              "      <th>9898.98</th>\n",
              "      <th>9912.39</th>\n",
              "      <th>9925.82</th>\n",
              "      <th>9939.27</th>\n",
              "      <th>9952.73</th>\n",
              "      <th>9966.21</th>\n",
              "      <th>9979.71</th>\n",
              "      <th>9993.24</th>\n",
              "    </tr>\n",
              "  </thead>\n",
              "  <tbody>\n",
              "    <tr>\n",
              "      <th>4631</th>\n",
              "      <td>iPTF13bvn</td>\n",
              "      <td>Ib-norm</td>\n",
              "      <td>6</td>\n",
              "      <td>Ib</td>\n",
              "      <td>1</td>\n",
              "      <td>-12.7</td>\n",
              "      <td>0.0</td>\n",
              "      <td>0.0</td>\n",
              "      <td>0.0</td>\n",
              "      <td>0.0</td>\n",
              "      <td>...</td>\n",
              "      <td>-0.053</td>\n",
              "      <td>-0.014</td>\n",
              "      <td>-0.027</td>\n",
              "      <td>-0.015</td>\n",
              "      <td>-0.003</td>\n",
              "      <td>-0.001</td>\n",
              "      <td>-0.001</td>\n",
              "      <td>0.0</td>\n",
              "      <td>0.0</td>\n",
              "      <td>0.0</td>\n",
              "    </tr>\n",
              "  </tbody>\n",
              "</table>\n",
              "<p>1 rows × 1030 columns</p>\n",
              "</div>\n",
              "    <div class=\"colab-df-buttons\">\n",
              "\n",
              "  <div class=\"colab-df-container\">\n",
              "    <button class=\"colab-df-convert\" onclick=\"convertToInteractive('df-68506947-133f-4753-a35d-9203915eeb05')\"\n",
              "            title=\"Convert this dataframe to an interactive table.\"\n",
              "            style=\"display:none;\">\n",
              "\n",
              "  <svg xmlns=\"http://www.w3.org/2000/svg\" height=\"24px\" viewBox=\"0 -960 960 960\">\n",
              "    <path d=\"M120-120v-720h720v720H120Zm60-500h600v-160H180v160Zm220 220h160v-160H400v160Zm0 220h160v-160H400v160ZM180-400h160v-160H180v160Zm440 0h160v-160H620v160ZM180-180h160v-160H180v160Zm440 0h160v-160H620v160Z\"/>\n",
              "  </svg>\n",
              "    </button>\n",
              "\n",
              "  <style>\n",
              "    .colab-df-container {\n",
              "      display:flex;\n",
              "      gap: 12px;\n",
              "    }\n",
              "\n",
              "    .colab-df-convert {\n",
              "      background-color: #E8F0FE;\n",
              "      border: none;\n",
              "      border-radius: 50%;\n",
              "      cursor: pointer;\n",
              "      display: none;\n",
              "      fill: #1967D2;\n",
              "      height: 32px;\n",
              "      padding: 0 0 0 0;\n",
              "      width: 32px;\n",
              "    }\n",
              "\n",
              "    .colab-df-convert:hover {\n",
              "      background-color: #E2EBFA;\n",
              "      box-shadow: 0px 1px 2px rgba(60, 64, 67, 0.3), 0px 1px 3px 1px rgba(60, 64, 67, 0.15);\n",
              "      fill: #174EA6;\n",
              "    }\n",
              "\n",
              "    .colab-df-buttons div {\n",
              "      margin-bottom: 4px;\n",
              "    }\n",
              "\n",
              "    [theme=dark] .colab-df-convert {\n",
              "      background-color: #3B4455;\n",
              "      fill: #D2E3FC;\n",
              "    }\n",
              "\n",
              "    [theme=dark] .colab-df-convert:hover {\n",
              "      background-color: #434B5C;\n",
              "      box-shadow: 0px 1px 3px 1px rgba(0, 0, 0, 0.15);\n",
              "      filter: drop-shadow(0px 1px 2px rgba(0, 0, 0, 0.3));\n",
              "      fill: #FFFFFF;\n",
              "    }\n",
              "  </style>\n",
              "\n",
              "    <script>\n",
              "      const buttonEl =\n",
              "        document.querySelector('#df-68506947-133f-4753-a35d-9203915eeb05 button.colab-df-convert');\n",
              "      buttonEl.style.display =\n",
              "        google.colab.kernel.accessAllowed ? 'block' : 'none';\n",
              "\n",
              "      async function convertToInteractive(key) {\n",
              "        const element = document.querySelector('#df-68506947-133f-4753-a35d-9203915eeb05');\n",
              "        const dataTable =\n",
              "          await google.colab.kernel.invokeFunction('convertToInteractive',\n",
              "                                                    [key], {});\n",
              "        if (!dataTable) return;\n",
              "\n",
              "        const docLinkHtml = 'Like what you see? Visit the ' +\n",
              "          '<a target=\"_blank\" href=https://colab.research.google.com/notebooks/data_table.ipynb>data table notebook</a>'\n",
              "          + ' to learn more about interactive tables.';\n",
              "        element.innerHTML = '';\n",
              "        dataTable['output_type'] = 'display_data';\n",
              "        await google.colab.output.renderOutput(dataTable, element);\n",
              "        const docLink = document.createElement('div');\n",
              "        docLink.innerHTML = docLinkHtml;\n",
              "        element.appendChild(docLink);\n",
              "      }\n",
              "    </script>\n",
              "  </div>\n",
              "\n",
              "\n",
              "    </div>\n",
              "  </div>\n"
            ],
            "application/vnd.google.colaboratory.intrinsic+json": {
              "type": "dataframe"
            }
          },
          "metadata": {},
          "execution_count": 35
        }
      ],
      "source": [
        "df_raw.loc[df_raw['3301.9'] == 2071.001]"
      ]
    },
    {
      "cell_type": "code",
      "execution_count": 36,
      "metadata": {
        "colab": {
          "base_uri": "https://localhost:8080/"
        },
        "id": "1-d8YwS_wRf2",
        "outputId": "d7611912-4bde-49bd-fccd-eb426943dd61"
      },
      "outputs": [
        {
          "output_type": "execute_result",
          "data": {
            "text/plain": [
              "[<matplotlib.lines.Line2D at 0x7a0a8f838190>]"
            ]
          },
          "metadata": {},
          "execution_count": 36
        }
      ],
      "source": [
        "plt.plot(wavelength, df_raw.loc[df_raw['3301.9'] == 2071.001].values[0,6:])\n",
        "#plt.xlim(3000,4000)"
      ]
    },
    {
      "cell_type": "code",
      "execution_count": 37,
      "metadata": {
        "id": "c1LFP5NFwE1d"
      },
      "outputs": [],
      "source": [
        "# remove that row\n",
        "df_ = df_raw.drop(df_raw.loc[df_raw['3301.9'] == 2071.001].index)"
      ]
    },
    {
      "cell_type": "code",
      "execution_count": 38,
      "metadata": {
        "colab": {
          "base_uri": "https://localhost:8080/"
        },
        "id": "CrM27BwZsNnX",
        "outputId": "8bff74cd-e053-4180-d23a-74672952a313"
      },
      "outputs": [
        {
          "output_type": "stream",
          "name": "stdout",
          "text": [
            "0.002066028124999999 0.12497102525820329\n"
          ]
        }
      ],
      "source": [
        "print(df_.iloc[:,6:].mean().mean(), df_.iloc[:,6:].std().std())"
      ]
    },
    {
      "cell_type": "code",
      "execution_count": 39,
      "metadata": {
        "colab": {
          "base_uri": "https://localhost:8080/",
          "height": 711
        },
        "id": "TLIuYn4rVk4F",
        "outputId": "d645b5d0-bbf8-45e2-9001-c3f73639d59d"
      },
      "outputs": [
        {
          "output_type": "execute_result",
          "data": {
            "text/plain": [
              "4190.28    56.627\n",
              "3537.93    54.727\n",
              "4581.92    52.980\n",
              "4195.95    47.553\n",
              "4230.18    25.877\n",
              "4600.57    22.404\n",
              "3490.35    18.620\n",
              "3664.68    16.329\n",
              "4465.56    16.155\n",
              "3315.34    15.685\n",
              "4224.45    15.136\n",
              "3576.45    13.940\n",
              "4201.64    13.885\n",
              "4207.33    13.239\n",
              "4501.98    12.962\n",
              "4001.77    12.358\n",
              "3926.64    11.342\n",
              "3709.6     11.026\n",
              "3894.87    10.832\n",
              "3297.43    10.656\n",
              "dtype: float64"
            ],
            "text/html": [
              "<div>\n",
              "<style scoped>\n",
              "    .dataframe tbody tr th:only-of-type {\n",
              "        vertical-align: middle;\n",
              "    }\n",
              "\n",
              "    .dataframe tbody tr th {\n",
              "        vertical-align: top;\n",
              "    }\n",
              "\n",
              "    .dataframe thead th {\n",
              "        text-align: right;\n",
              "    }\n",
              "</style>\n",
              "<table border=\"1\" class=\"dataframe\">\n",
              "  <thead>\n",
              "    <tr style=\"text-align: right;\">\n",
              "      <th></th>\n",
              "      <th>0</th>\n",
              "    </tr>\n",
              "  </thead>\n",
              "  <tbody>\n",
              "    <tr>\n",
              "      <th>4190.28</th>\n",
              "      <td>56.627</td>\n",
              "    </tr>\n",
              "    <tr>\n",
              "      <th>3537.93</th>\n",
              "      <td>54.727</td>\n",
              "    </tr>\n",
              "    <tr>\n",
              "      <th>4581.92</th>\n",
              "      <td>52.980</td>\n",
              "    </tr>\n",
              "    <tr>\n",
              "      <th>4195.95</th>\n",
              "      <td>47.553</td>\n",
              "    </tr>\n",
              "    <tr>\n",
              "      <th>4230.18</th>\n",
              "      <td>25.877</td>\n",
              "    </tr>\n",
              "    <tr>\n",
              "      <th>4600.57</th>\n",
              "      <td>22.404</td>\n",
              "    </tr>\n",
              "    <tr>\n",
              "      <th>3490.35</th>\n",
              "      <td>18.620</td>\n",
              "    </tr>\n",
              "    <tr>\n",
              "      <th>3664.68</th>\n",
              "      <td>16.329</td>\n",
              "    </tr>\n",
              "    <tr>\n",
              "      <th>4465.56</th>\n",
              "      <td>16.155</td>\n",
              "    </tr>\n",
              "    <tr>\n",
              "      <th>3315.34</th>\n",
              "      <td>15.685</td>\n",
              "    </tr>\n",
              "    <tr>\n",
              "      <th>4224.45</th>\n",
              "      <td>15.136</td>\n",
              "    </tr>\n",
              "    <tr>\n",
              "      <th>3576.45</th>\n",
              "      <td>13.940</td>\n",
              "    </tr>\n",
              "    <tr>\n",
              "      <th>4201.64</th>\n",
              "      <td>13.885</td>\n",
              "    </tr>\n",
              "    <tr>\n",
              "      <th>4207.33</th>\n",
              "      <td>13.239</td>\n",
              "    </tr>\n",
              "    <tr>\n",
              "      <th>4501.98</th>\n",
              "      <td>12.962</td>\n",
              "    </tr>\n",
              "    <tr>\n",
              "      <th>4001.77</th>\n",
              "      <td>12.358</td>\n",
              "    </tr>\n",
              "    <tr>\n",
              "      <th>3926.64</th>\n",
              "      <td>11.342</td>\n",
              "    </tr>\n",
              "    <tr>\n",
              "      <th>3709.6</th>\n",
              "      <td>11.026</td>\n",
              "    </tr>\n",
              "    <tr>\n",
              "      <th>3894.87</th>\n",
              "      <td>10.832</td>\n",
              "    </tr>\n",
              "    <tr>\n",
              "      <th>3297.43</th>\n",
              "      <td>10.656</td>\n",
              "    </tr>\n",
              "  </tbody>\n",
              "</table>\n",
              "</div><br><label><b>dtype:</b> float64</label>"
            ]
          },
          "metadata": {},
          "execution_count": 39
        }
      ],
      "source": [
        "df_.iloc[:,6:].max().sort_values(ascending=False)[0:20]"
      ]
    },
    {
      "cell_type": "code",
      "execution_count": 40,
      "metadata": {
        "colab": {
          "base_uri": "https://localhost:8080/"
        },
        "id": "67RHzUwdVZgO",
        "outputId": "e527cb4e-0d36-46f5-e97d-0192861d6633"
      },
      "outputs": [
        {
          "output_type": "stream",
          "name": "stdout",
          "text": [
            "-17.943 56.627\n"
          ]
        }
      ],
      "source": [
        "print(df_.iloc[:,6:].min().min(), df_.iloc[:,6:].max().max())"
      ]
    },
    {
      "cell_type": "markdown",
      "metadata": {
        "id": "3SrDhFD8c89I"
      },
      "source": [
        "### Standarize in Y axis"
      ]
    },
    {
      "cell_type": "code",
      "execution_count": 41,
      "metadata": {
        "id": "NkgI-cgoGFm9"
      },
      "outputs": [],
      "source": [
        "from sklearn.preprocessing import MinMaxScaler, RobustScaler, StandardScaler"
      ]
    },
    {
      "cell_type": "code",
      "execution_count": 42,
      "metadata": {
        "colab": {
          "base_uri": "https://localhost:8080/"
        },
        "id": "tZ0O1zXeGldG",
        "outputId": "d2e42447-7857-46d6-d760-a658bdfba19e"
      },
      "outputs": [
        {
          "output_type": "execute_result",
          "data": {
            "text/plain": [
              "[<matplotlib.lines.Line2D at 0x7a0a8fa5a7d0>]"
            ]
          },
          "metadata": {},
          "execution_count": 42
        }
      ],
      "source": [
        "fig, ax = plt.subplots(1, 3, figsize=(15, 5))\n",
        "ax[0].plot(wavelength, df_.iloc[0].values[6:])\n",
        "ax[1].plot(wavelength, df_.iloc[1000].values[6:])\n",
        "ax[2].plot(wavelength, df_.iloc[2000].values[6:])"
      ]
    },
    {
      "cell_type": "code",
      "execution_count": 43,
      "metadata": {
        "id": "NObYp4aI2jHI"
      },
      "outputs": [],
      "source": [
        "# how to standarize?\n",
        "# min max scaling (daniel)"
      ]
    },
    {
      "cell_type": "markdown",
      "metadata": {
        "id": "k5hPFrkcPUDR"
      },
      "source": [
        "$y_{scaled} = \\frac{y-y_{min}}{y_{max}-y_{min}}$"
      ]
    },
    {
      "cell_type": "code",
      "execution_count": 44,
      "metadata": {
        "id": "eK-UXRAoHSnh"
      },
      "outputs": [],
      "source": [
        "minmax_scaler = MinMaxScaler(feature_range = (0,1))\n",
        "robust_scaler = RobustScaler()\n",
        "standard_scaler = StandardScaler()"
      ]
    },
    {
      "cell_type": "code",
      "execution_count": 45,
      "metadata": {
        "id": "d-tb5-uEHeiK"
      },
      "outputs": [],
      "source": [
        "scalings = {}\n",
        "# minmax\n",
        "scalings['minmax'] = minmax_scaler.fit_transform(df_.iloc[:,6:].transpose()).transpose()\n",
        "# standard\n",
        "scalings['standard'] = standard_scaler.fit_transform(df_.iloc[:,6:].transpose()).transpose()\n",
        "# robust\n",
        "scalings['robust'] = robust_scaler.fit_transform(df_.iloc[:,6:].transpose()).transpose()"
      ]
    },
    {
      "cell_type": "code",
      "execution_count": 46,
      "metadata": {
        "colab": {
          "base_uri": "https://localhost:8080/"
        },
        "id": "Yocngb1nH9i_",
        "outputId": "2e15e47a-67f3-4839-abf6-526336ec49ad"
      },
      "outputs": [
        {
          "output_type": "execute_result",
          "data": {
            "text/plain": [
              "(5000, 1024)"
            ]
          },
          "metadata": {},
          "execution_count": 46
        }
      ],
      "source": [
        "scalings['standard'].shape"
      ]
    },
    {
      "cell_type": "code",
      "execution_count": 47,
      "metadata": {
        "colab": {
          "base_uri": "https://localhost:8080/"
        },
        "id": "Z4g7d66J7KLo",
        "outputId": "df03d1d5-2a43-45d2-8a44-a8eb08d5671f"
      },
      "outputs": [
        {
          "output_type": "stream",
          "name": "stdout",
          "text": [
            "0 minmax\n",
            "1 standard\n",
            "2 robust\n"
          ]
        }
      ],
      "source": [
        "for i, k in enumerate(scalings.keys()):\n",
        "  print(i,k)"
      ]
    },
    {
      "cell_type": "code",
      "execution_count": 48,
      "metadata": {
        "colab": {
          "base_uri": "https://localhost:8080/"
        },
        "id": "SdrEIh8tH6Mg",
        "outputId": "7681c11d-5b28-473e-918c-c569f9de3437"
      },
      "outputs": [
        {
          "output_type": "execute_result",
          "data": {
            "text/plain": [
              "Text(0.5, 1.0, 'Scaling estrategies comparision for 3 spectrums')"
            ]
          },
          "metadata": {},
          "execution_count": 48
        }
      ],
      "source": [
        "fig, ax = plt.subplots(3, 3, figsize=(15, 10))\n",
        "for i, keys in enumerate(scalings.keys()):\n",
        "  ax[i,0].plot(wavelength, scalings[keys][0], label=keys)\n",
        "  ax[i,1].plot(wavelength, scalings[keys][1000], label=keys)\n",
        "  ax[i,2].plot(wavelength, scalings[keys][2000], label=keys)\n",
        "  ax[i,0].legend()\n",
        "ax[0,1].set_title('Scaling estrategies comparision for 3 spectrums')"
      ]
    },
    {
      "cell_type": "code",
      "execution_count": 49,
      "metadata": {
        "id": "ySeF3t0g70FF"
      },
      "outputs": [],
      "source": [
        "# lets use minmax scaling\n",
        "df_.iloc[:,6:] = scalings['minmax']"
      ]
    },
    {
      "cell_type": "code",
      "execution_count": 50,
      "metadata": {
        "colab": {
          "base_uri": "https://localhost:8080/"
        },
        "id": "QHr7RhBahgRz",
        "outputId": "795aa315-5fa3-4698-eaa3-0850fb4aabd8"
      },
      "outputs": [
        {
          "output_type": "stream",
          "name": "stderr",
          "text": [
            "<ipython-input-50-2fcea2372e00>:2: RuntimeWarning: More than 20 figures have been opened. Figures created through the pyplot interface (`matplotlib.pyplot.figure`) are retained until explicitly closed and may consume too much memory. (To control this warning, see the rcParam `figure.max_open_warning`). Consider using `matplotlib.pyplot.close()`.\n",
            "  plt.figure()\n"
          ]
        }
      ],
      "source": [
        "for i in range(18):\n",
        "  plt.figure()\n",
        "  plt.plot(wavelength, df_.iloc[:,6:].values[i], lw=0.4, ls='-', color='k',\n",
        "           label='Spectral Phase:'+str(df_['Spectral Phase'].iloc[i]))\n",
        "  plt.legend()"
      ]
    },
    {
      "cell_type": "markdown",
      "metadata": {
        "id": "iuBcKoWsKPte"
      },
      "source": [
        "### Flux span now?"
      ]
    },
    {
      "cell_type": "code",
      "execution_count": 51,
      "metadata": {
        "colab": {
          "base_uri": "https://localhost:8080/"
        },
        "id": "FlQtb3hxKRUP",
        "outputId": "25ae9e34-db88-4056-ee7c-2a1ee4c90ae2"
      },
      "outputs": [
        {
          "output_type": "stream",
          "name": "stdout",
          "text": [
            "0.44939688173721637\n",
            "0.15765526341735236\n"
          ]
        }
      ],
      "source": [
        "# mean of mean of fluxes\n",
        "print(df_.iloc[:,6:].mean().mean())\n",
        "# mean of std of fluxes\n",
        "print(df_.iloc[:,6:].std().mean())"
      ]
    },
    {
      "cell_type": "code",
      "execution_count": 52,
      "metadata": {
        "colab": {
          "base_uri": "https://localhost:8080/"
        },
        "id": "S8QlBK3uKT8F",
        "outputId": "1117c2ec-d4b2-4cce-ae7d-84ce850056f6"
      },
      "outputs": [
        {
          "output_type": "stream",
          "name": "stdout",
          "text": [
            "1.0000000000000002\n",
            "0.0\n",
            "2739.22\n",
            "2501.69 9993.24\n"
          ]
        }
      ],
      "source": [
        "# which rows have the max flux value?\n",
        "print(df_.iloc[:,6:].max().max())\n",
        "print(df_.iloc[:,6:].min().min())\n",
        "# which row is that?\n",
        "print(df_.iloc[:,6:].max().idxmax())\n",
        "# wavelength range\n",
        "print(wavelength.min(), wavelength.max())"
      ]
    },
    {
      "cell_type": "markdown",
      "metadata": {
        "id": "925HMzZK-cTM"
      },
      "source": [
        "### Saving plots"
      ]
    },
    {
      "cell_type": "code",
      "execution_count": null,
      "metadata": {
        "id": "vf7bn-dZ-hfI"
      },
      "outputs": [],
      "source": [
        "# DANIEL\n",
        "# For training, I used the base CLIP or ViT model with a resolution of 224x224 pixels\n",
        "# and created images with a figure size of 2.24 x 2.24 inches at 100 dpi."
      ]
    },
    {
      "cell_type": "code",
      "execution_count": null,
      "metadata": {
        "id": "iyehwwvhJlj3"
      },
      "outputs": [],
      "source": [
        "# my_dpi = 260\n",
        "# fig, ax = plt.subplots(figsize=(224/my_dpi,224/my_dpi), dpi=my_dpi)\n",
        "# ax.plot(wavelength, df_.iloc[0,6:].values, lw=0.3, ls='-', color='k', alpha=1)\n",
        "# ax.axis('off')\n",
        "# ax.set_box_aspect(1)\n",
        "# ax.set_xlim(xlim[0], xlim[1])\n",
        "# ax.set_ylim(0,1)\n",
        "# plt.savefig('sn2008ar.png', bbox_inches='tight', dpi=my_dpi)\n",
        "# plt.show()"
      ]
    },
    {
      "cell_type": "code",
      "execution_count": null,
      "metadata": {
        "colab": {
          "base_uri": "https://localhost:8080/",
          "height": 36
        },
        "id": "VSSCZ4IjOtBY",
        "outputId": "9378d885-d1ec-4c8e-994f-36a85effaa3f"
      },
      "outputs": [
        {
          "data": {
            "text/plain": [
              "'sn2008ar'"
            ]
          },
          "execution_count": 50,
          "metadata": {},
          "output_type": "execute_result"
        }
      ],
      "source": [
        "df_.iloc[0,0]"
      ]
    },
    {
      "cell_type": "code",
      "execution_count": null,
      "metadata": {
        "colab": {
          "base_uri": "https://localhost:8080/",
          "height": 241
        },
        "id": "_8AN8_IHLJOT",
        "outputId": "027f741b-9e45-41b8-8c26-2b1ec19f1575"
      },
      "outputs": [
        {
          "name": "stderr",
          "output_type": "stream",
          "text": [
            "/tmp/ipykernel_517540/3407407095.py:10: UserWarning: FigureCanvasAgg is non-interactive, and thus cannot be shown\n",
            "  plt.show()\n"
          ]
        }
      ],
      "source": [
        "# save at 100 dpi and 224x224 pixels\n",
        "my_dpi = 100\n",
        "fig, ax = plt.subplots(figsize=(2.65,2.65), dpi=my_dpi)\n",
        "ax.plot(wavelength, df_.iloc[0,6:].values, lw=1, ls='-', color='k', alpha=1)\n",
        "ax.axis('off')\n",
        "ax.set_xlim(xlim[0], xlim[1])\n",
        "ax.set_ylim(0,1)\n",
        "ax.set_box_aspect(1)\n",
        "plt.savefig('asd.png', bbox_inches='tight', dpi=my_dpi)\n",
        "plt.show()"
      ]
    },
    {
      "cell_type": "code",
      "execution_count": null,
      "metadata": {
        "colab": {
          "base_uri": "https://localhost:8080/"
        },
        "id": "q45Mw9p4OBB9",
        "outputId": "8e38632d-0b0c-4e37-d72e-71cc18404eb4"
      },
      "outputs": [
        {
          "data": {
            "text/plain": [
              "Index(['SN Name', 'SN Subtype', 'SN Subtype ID', 'SN Maintype',\n",
              "       'SN Maintype ID', 'Spectral Phase', '2501.69'],\n",
              "      dtype='object')"
            ]
          },
          "execution_count": 52,
          "metadata": {},
          "output_type": "execute_result"
        }
      ],
      "source": [
        "# which info to save?\n",
        "keys = df_.columns[0:7]\n",
        "keys"
      ]
    },
    {
      "cell_type": "code",
      "execution_count": null,
      "metadata": {
        "id": "ZJszunFyPPKi"
      },
      "outputs": [],
      "source": [
        "# we need SN name, SN Subtype ID, SN Maintype ID, Spectral Phase: 0, 2, 4, 5"
      ]
    },
    {
      "cell_type": "code",
      "execution_count": null,
      "metadata": {
        "colab": {
          "base_uri": "https://localhost:8080/"
        },
        "id": "vpjQExYsXx1A",
        "outputId": "175e34c9-a88f-429a-b051-03a792a8ef66"
      },
      "outputs": [
        {
          "data": {
            "text/plain": [
              "[2500, 10000]"
            ]
          },
          "execution_count": 54,
          "metadata": {},
          "output_type": "execute_result"
        }
      ],
      "source": [
        "xlim"
      ]
    },
    {
      "cell_type": "code",
      "execution_count": null,
      "metadata": {
        "colab": {
          "base_uri": "https://localhost:8080/"
        },
        "id": "soQysvEZOZlF",
        "outputId": "a3041899-1815-45f0-eccb-845b5dbe9240"
      },
      "outputs": [
        {
          "data": {
            "text/plain": [
              "(5000, 1030)"
            ]
          },
          "execution_count": 55,
          "metadata": {},
          "output_type": "execute_result"
        }
      ],
      "source": [
        "df_.shape"
      ]
    },
    {
      "cell_type": "code",
      "execution_count": null,
      "metadata": {
        "id": "rnV-spUCMbx2"
      },
      "outputs": [],
      "source": [
        "# save all plots in a folder\n",
        "my_dpi = 100\n",
        "for i in range(1000):\n",
        "  fig, ax = plt.subplots(figsize=(2.65,2.65), dpi=my_dpi)\n",
        "  ax.plot(wavelength, df_.iloc[i,6:].values, lw=1, ls='-', color='k', alpha=1)\n",
        "  ax.axis('off')\n",
        "  ax.set_xlim(xlim[0], xlim[1])\n",
        "  ax.set_ylim(0,1)\n",
        "  ax.set_box_aspect(1)\n",
        "  plt.savefig('./images/'+df_.iloc[i,0]+'_'+str(df_.iloc[i,2])+'_'+str(df_.iloc[i,4])+'_'+str(df_.iloc[i,5])+'_'+str(i)+'.png',\n",
        "              bbox_inches='tight', dpi=my_dpi)"
      ]
    },
    {
      "cell_type": "code",
      "execution_count": null,
      "metadata": {
        "id": "RbGrMjPe07VR"
      },
      "outputs": [],
      "source": [
        "# save all plots in a folder\n",
        "my_dpi = 100\n",
        "for i in range(1000,2000):\n",
        "  fig, ax = plt.subplots(figsize=(2.65,2.65), dpi=my_dpi)\n",
        "  ax.plot(wavelength, df_.iloc[i,6:].values, lw=1, ls='-', color='k', alpha=1)\n",
        "  ax.axis('off')\n",
        "  ax.set_xlim(xlim[0], xlim[1])\n",
        "  ax.set_ylim(0,1)\n",
        "  ax.set_box_aspect(1)\n",
        "  plt.savefig('./images/'+df_.iloc[i,0]+'_'+str(df_.iloc[i,2])+'_'+str(df_.iloc[i,4])+'_'+str(df_.iloc[i,5])+'_'+str(i)+'.png',\n",
        "              bbox_inches='tight', dpi=my_dpi)"
      ]
    },
    {
      "cell_type": "code",
      "execution_count": null,
      "metadata": {
        "id": "dJTJMZEz07VR"
      },
      "outputs": [],
      "source": [
        "# save all plots in a folder\n",
        "my_dpi = 100\n",
        "for i in range(2000,3000):\n",
        "  fig, ax = plt.subplots(figsize=(2.65,2.65), dpi=my_dpi)\n",
        "  ax.plot(wavelength, df_.iloc[i,6:].values, lw=1, ls='-', color='k', alpha=1)\n",
        "  ax.axis('off')\n",
        "  ax.set_xlim(xlim[0], xlim[1])\n",
        "  ax.set_ylim(0,1)\n",
        "  ax.set_box_aspect(1)\n",
        "  plt.savefig('./images/'+df_.iloc[i,0]+'_'+str(df_.iloc[i,2])+'_'+str(df_.iloc[i,4])+'_'+str(df_.iloc[i,5])+'_'+str(i)+'.png',\n",
        "              bbox_inches='tight', dpi=my_dpi)"
      ]
    },
    {
      "cell_type": "code",
      "execution_count": null,
      "metadata": {
        "id": "HhVtUY6x07VR"
      },
      "outputs": [],
      "source": [
        "# save all plots in a folder\n",
        "my_dpi = 100\n",
        "for i in range(3000,4000):\n",
        "  fig, ax = plt.subplots(figsize=(2.65,2.65), dpi=my_dpi)\n",
        "  ax.plot(wavelength, df_.iloc[i,6:].values, lw=1, ls='-', color='k', alpha=1)\n",
        "  ax.axis('off')\n",
        "  ax.set_xlim(xlim[0], xlim[1])\n",
        "  ax.set_ylim(0,1)\n",
        "  ax.set_box_aspect(1)\n",
        "  plt.savefig('./images/'+df_.iloc[i,0]+'_'+str(df_.iloc[i,2])+'_'+str(df_.iloc[i,4])+'_'+str(df_.iloc[i,5])+'_'+str(i)+'.png',\n",
        "              bbox_inches='tight', dpi=my_dpi)"
      ]
    },
    {
      "cell_type": "code",
      "execution_count": null,
      "metadata": {
        "id": "e-siGwWt07VR",
        "outputId": "36e02ee9-223f-4830-e7dc-753d8aedd69a"
      },
      "outputs": [
        {
          "ename": "",
          "evalue": "",
          "output_type": "error",
          "traceback": [
            "\u001b[1;31mThe Kernel crashed while executing code in the current cell or a previous cell. \n",
            "\u001b[1;31mPlease review the code in the cell(s) to identify a possible cause of the failure. \n",
            "\u001b[1;31mClick <a href='https://aka.ms/vscodeJupyterKernelCrash'>here</a> for more info. \n",
            "\u001b[1;31mView Jupyter <a href='command:jupyter.viewOutput'>log</a> for further details."
          ]
        }
      ],
      "source": [
        "# save all plots in a folder\n",
        "my_dpi = 100\n",
        "for i in range(4000,5000):\n",
        "  fig, ax = plt.subplots(figsize=(2.65,2.65), dpi=my_dpi)\n",
        "  ax.plot(wavelength, df_.iloc[i,6:].values, lw=1, ls='-', color='k', alpha=1)\n",
        "  ax.axis('off')\n",
        "  ax.set_xlim(xlim[0], xlim[1])\n",
        "  ax.set_ylim(0,1)\n",
        "  ax.set_box_aspect(1)\n",
        "  plt.savefig('./images/'+df_.iloc[i,0]+'_'+str(df_.iloc[i,2])+'_'+str(df_.iloc[i,4])+'_'+str(df_.iloc[i,5])+'_'+str(i)+'.png',\n",
        "              bbox_inches='tight', dpi=my_dpi)"
      ]
    },
    {
      "cell_type": "code",
      "source": [
        "''' In this section of the code, we separate the images using the name of each file.\n",
        "    The second number of each file (i.e. the first value in between underscores, e.g.\n",
        "    sn2004dn_10_2_55.0_4458.png it would be 10) represents the subtype.\n",
        "    At the stage of the process on August 26th, 2024 we will work with 3 categories:\n",
        "    0 - Ia-norm\n",
        "    1 - Ia-pec (all Ia that are not Ia-norm)\n",
        "    2 - Other (all supernovae that is not Ia).\n",
        "    Here we will first determine the index and categorize each index as stated above.'''"
      ],
      "metadata": {
        "id": "clqgVs9E2I2T"
      },
      "execution_count": null,
      "outputs": []
    },
    {
      "cell_type": "code",
      "source": [
        "df_.head()"
      ],
      "metadata": {
        "colab": {
          "base_uri": "https://localhost:8080/",
          "height": 290
        },
        "id": "qNhWLyul3gNz",
        "outputId": "609cf7fc-79e9-4282-e476-6c6021480cbb"
      },
      "execution_count": 55,
      "outputs": [
        {
          "output_type": "execute_result",
          "data": {
            "text/plain": [
              "    SN Name SN Subtype  SN Subtype ID SN Maintype  SN Maintype ID  \\\n",
              "0  sn2008ar    Ia-norm              0          Ia               0   \n",
              "1  sn2008ar    Ia-norm              0          Ia               0   \n",
              "2  sn2008ar    Ia-norm              0          Ia               0   \n",
              "3  sn2008ar    Ia-norm              0          Ia               0   \n",
              "4  sn2008ar    Ia-norm              0          Ia               0   \n",
              "\n",
              "   Spectral Phase   2501.69   2505.08   2508.48   2511.87  ...   9872.21  \\\n",
              "0            -8.5  0.620000  0.620000  0.620000  0.620000  ...  0.620000   \n",
              "1            -7.5  0.609115  0.609115  0.609115  0.609115  ...  0.609115   \n",
              "2            -6.6  0.613961  0.613961  0.613961  0.613961  ...  0.613961   \n",
              "3            -4.6  0.605621  0.605621  0.605621  0.605621  ...  0.605621   \n",
              "4            -3.7  0.595781  0.595781  0.595781  0.595781  ...  0.595781   \n",
              "\n",
              "    9885.59   9898.98   9912.39   9925.82   9939.27   9952.73   9966.21  \\\n",
              "0  0.620000  0.620000  0.620000  0.620000  0.620000  0.620000  0.620000   \n",
              "1  0.609115  0.609115  0.609115  0.609115  0.609115  0.609115  0.609115   \n",
              "2  0.613961  0.613961  0.613961  0.613961  0.613961  0.613961  0.613961   \n",
              "3  0.605621  0.605621  0.605621  0.605621  0.605621  0.605621  0.605621   \n",
              "4  0.595781  0.595781  0.595781  0.595781  0.595781  0.595781  0.595781   \n",
              "\n",
              "    9979.71   9993.24  \n",
              "0  0.620000  0.620000  \n",
              "1  0.609115  0.609115  \n",
              "2  0.613961  0.613961  \n",
              "3  0.605621  0.605621  \n",
              "4  0.595781  0.595781  \n",
              "\n",
              "[5 rows x 1030 columns]"
            ],
            "text/html": [
              "\n",
              "  <div id=\"df-f5def922-5d6e-47c1-877c-e90d421e68a5\" class=\"colab-df-container\">\n",
              "    <div>\n",
              "<style scoped>\n",
              "    .dataframe tbody tr th:only-of-type {\n",
              "        vertical-align: middle;\n",
              "    }\n",
              "\n",
              "    .dataframe tbody tr th {\n",
              "        vertical-align: top;\n",
              "    }\n",
              "\n",
              "    .dataframe thead th {\n",
              "        text-align: right;\n",
              "    }\n",
              "</style>\n",
              "<table border=\"1\" class=\"dataframe\">\n",
              "  <thead>\n",
              "    <tr style=\"text-align: right;\">\n",
              "      <th></th>\n",
              "      <th>SN Name</th>\n",
              "      <th>SN Subtype</th>\n",
              "      <th>SN Subtype ID</th>\n",
              "      <th>SN Maintype</th>\n",
              "      <th>SN Maintype ID</th>\n",
              "      <th>Spectral Phase</th>\n",
              "      <th>2501.69</th>\n",
              "      <th>2505.08</th>\n",
              "      <th>2508.48</th>\n",
              "      <th>2511.87</th>\n",
              "      <th>...</th>\n",
              "      <th>9872.21</th>\n",
              "      <th>9885.59</th>\n",
              "      <th>9898.98</th>\n",
              "      <th>9912.39</th>\n",
              "      <th>9925.82</th>\n",
              "      <th>9939.27</th>\n",
              "      <th>9952.73</th>\n",
              "      <th>9966.21</th>\n",
              "      <th>9979.71</th>\n",
              "      <th>9993.24</th>\n",
              "    </tr>\n",
              "  </thead>\n",
              "  <tbody>\n",
              "    <tr>\n",
              "      <th>0</th>\n",
              "      <td>sn2008ar</td>\n",
              "      <td>Ia-norm</td>\n",
              "      <td>0</td>\n",
              "      <td>Ia</td>\n",
              "      <td>0</td>\n",
              "      <td>-8.5</td>\n",
              "      <td>0.620000</td>\n",
              "      <td>0.620000</td>\n",
              "      <td>0.620000</td>\n",
              "      <td>0.620000</td>\n",
              "      <td>...</td>\n",
              "      <td>0.620000</td>\n",
              "      <td>0.620000</td>\n",
              "      <td>0.620000</td>\n",
              "      <td>0.620000</td>\n",
              "      <td>0.620000</td>\n",
              "      <td>0.620000</td>\n",
              "      <td>0.620000</td>\n",
              "      <td>0.620000</td>\n",
              "      <td>0.620000</td>\n",
              "      <td>0.620000</td>\n",
              "    </tr>\n",
              "    <tr>\n",
              "      <th>1</th>\n",
              "      <td>sn2008ar</td>\n",
              "      <td>Ia-norm</td>\n",
              "      <td>0</td>\n",
              "      <td>Ia</td>\n",
              "      <td>0</td>\n",
              "      <td>-7.5</td>\n",
              "      <td>0.609115</td>\n",
              "      <td>0.609115</td>\n",
              "      <td>0.609115</td>\n",
              "      <td>0.609115</td>\n",
              "      <td>...</td>\n",
              "      <td>0.609115</td>\n",
              "      <td>0.609115</td>\n",
              "      <td>0.609115</td>\n",
              "      <td>0.609115</td>\n",
              "      <td>0.609115</td>\n",
              "      <td>0.609115</td>\n",
              "      <td>0.609115</td>\n",
              "      <td>0.609115</td>\n",
              "      <td>0.609115</td>\n",
              "      <td>0.609115</td>\n",
              "    </tr>\n",
              "    <tr>\n",
              "      <th>2</th>\n",
              "      <td>sn2008ar</td>\n",
              "      <td>Ia-norm</td>\n",
              "      <td>0</td>\n",
              "      <td>Ia</td>\n",
              "      <td>0</td>\n",
              "      <td>-6.6</td>\n",
              "      <td>0.613961</td>\n",
              "      <td>0.613961</td>\n",
              "      <td>0.613961</td>\n",
              "      <td>0.613961</td>\n",
              "      <td>...</td>\n",
              "      <td>0.613961</td>\n",
              "      <td>0.613961</td>\n",
              "      <td>0.613961</td>\n",
              "      <td>0.613961</td>\n",
              "      <td>0.613961</td>\n",
              "      <td>0.613961</td>\n",
              "      <td>0.613961</td>\n",
              "      <td>0.613961</td>\n",
              "      <td>0.613961</td>\n",
              "      <td>0.613961</td>\n",
              "    </tr>\n",
              "    <tr>\n",
              "      <th>3</th>\n",
              "      <td>sn2008ar</td>\n",
              "      <td>Ia-norm</td>\n",
              "      <td>0</td>\n",
              "      <td>Ia</td>\n",
              "      <td>0</td>\n",
              "      <td>-4.6</td>\n",
              "      <td>0.605621</td>\n",
              "      <td>0.605621</td>\n",
              "      <td>0.605621</td>\n",
              "      <td>0.605621</td>\n",
              "      <td>...</td>\n",
              "      <td>0.605621</td>\n",
              "      <td>0.605621</td>\n",
              "      <td>0.605621</td>\n",
              "      <td>0.605621</td>\n",
              "      <td>0.605621</td>\n",
              "      <td>0.605621</td>\n",
              "      <td>0.605621</td>\n",
              "      <td>0.605621</td>\n",
              "      <td>0.605621</td>\n",
              "      <td>0.605621</td>\n",
              "    </tr>\n",
              "    <tr>\n",
              "      <th>4</th>\n",
              "      <td>sn2008ar</td>\n",
              "      <td>Ia-norm</td>\n",
              "      <td>0</td>\n",
              "      <td>Ia</td>\n",
              "      <td>0</td>\n",
              "      <td>-3.7</td>\n",
              "      <td>0.595781</td>\n",
              "      <td>0.595781</td>\n",
              "      <td>0.595781</td>\n",
              "      <td>0.595781</td>\n",
              "      <td>...</td>\n",
              "      <td>0.595781</td>\n",
              "      <td>0.595781</td>\n",
              "      <td>0.595781</td>\n",
              "      <td>0.595781</td>\n",
              "      <td>0.595781</td>\n",
              "      <td>0.595781</td>\n",
              "      <td>0.595781</td>\n",
              "      <td>0.595781</td>\n",
              "      <td>0.595781</td>\n",
              "      <td>0.595781</td>\n",
              "    </tr>\n",
              "  </tbody>\n",
              "</table>\n",
              "<p>5 rows × 1030 columns</p>\n",
              "</div>\n",
              "    <div class=\"colab-df-buttons\">\n",
              "\n",
              "  <div class=\"colab-df-container\">\n",
              "    <button class=\"colab-df-convert\" onclick=\"convertToInteractive('df-f5def922-5d6e-47c1-877c-e90d421e68a5')\"\n",
              "            title=\"Convert this dataframe to an interactive table.\"\n",
              "            style=\"display:none;\">\n",
              "\n",
              "  <svg xmlns=\"http://www.w3.org/2000/svg\" height=\"24px\" viewBox=\"0 -960 960 960\">\n",
              "    <path d=\"M120-120v-720h720v720H120Zm60-500h600v-160H180v160Zm220 220h160v-160H400v160Zm0 220h160v-160H400v160ZM180-400h160v-160H180v160Zm440 0h160v-160H620v160ZM180-180h160v-160H180v160Zm440 0h160v-160H620v160Z\"/>\n",
              "  </svg>\n",
              "    </button>\n",
              "\n",
              "  <style>\n",
              "    .colab-df-container {\n",
              "      display:flex;\n",
              "      gap: 12px;\n",
              "    }\n",
              "\n",
              "    .colab-df-convert {\n",
              "      background-color: #E8F0FE;\n",
              "      border: none;\n",
              "      border-radius: 50%;\n",
              "      cursor: pointer;\n",
              "      display: none;\n",
              "      fill: #1967D2;\n",
              "      height: 32px;\n",
              "      padding: 0 0 0 0;\n",
              "      width: 32px;\n",
              "    }\n",
              "\n",
              "    .colab-df-convert:hover {\n",
              "      background-color: #E2EBFA;\n",
              "      box-shadow: 0px 1px 2px rgba(60, 64, 67, 0.3), 0px 1px 3px 1px rgba(60, 64, 67, 0.15);\n",
              "      fill: #174EA6;\n",
              "    }\n",
              "\n",
              "    .colab-df-buttons div {\n",
              "      margin-bottom: 4px;\n",
              "    }\n",
              "\n",
              "    [theme=dark] .colab-df-convert {\n",
              "      background-color: #3B4455;\n",
              "      fill: #D2E3FC;\n",
              "    }\n",
              "\n",
              "    [theme=dark] .colab-df-convert:hover {\n",
              "      background-color: #434B5C;\n",
              "      box-shadow: 0px 1px 3px 1px rgba(0, 0, 0, 0.15);\n",
              "      filter: drop-shadow(0px 1px 2px rgba(0, 0, 0, 0.3));\n",
              "      fill: #FFFFFF;\n",
              "    }\n",
              "  </style>\n",
              "\n",
              "    <script>\n",
              "      const buttonEl =\n",
              "        document.querySelector('#df-f5def922-5d6e-47c1-877c-e90d421e68a5 button.colab-df-convert');\n",
              "      buttonEl.style.display =\n",
              "        google.colab.kernel.accessAllowed ? 'block' : 'none';\n",
              "\n",
              "      async function convertToInteractive(key) {\n",
              "        const element = document.querySelector('#df-f5def922-5d6e-47c1-877c-e90d421e68a5');\n",
              "        const dataTable =\n",
              "          await google.colab.kernel.invokeFunction('convertToInteractive',\n",
              "                                                    [key], {});\n",
              "        if (!dataTable) return;\n",
              "\n",
              "        const docLinkHtml = 'Like what you see? Visit the ' +\n",
              "          '<a target=\"_blank\" href=https://colab.research.google.com/notebooks/data_table.ipynb>data table notebook</a>'\n",
              "          + ' to learn more about interactive tables.';\n",
              "        element.innerHTML = '';\n",
              "        dataTable['output_type'] = 'display_data';\n",
              "        await google.colab.output.renderOutput(dataTable, element);\n",
              "        const docLink = document.createElement('div');\n",
              "        docLink.innerHTML = docLinkHtml;\n",
              "        element.appendChild(docLink);\n",
              "      }\n",
              "    </script>\n",
              "  </div>\n",
              "\n",
              "\n",
              "<div id=\"df-885f6d02-803a-4003-9a41-8849e2174b12\">\n",
              "  <button class=\"colab-df-quickchart\" onclick=\"quickchart('df-885f6d02-803a-4003-9a41-8849e2174b12')\"\n",
              "            title=\"Suggest charts\"\n",
              "            style=\"display:none;\">\n",
              "\n",
              "<svg xmlns=\"http://www.w3.org/2000/svg\" height=\"24px\"viewBox=\"0 0 24 24\"\n",
              "     width=\"24px\">\n",
              "    <g>\n",
              "        <path d=\"M19 3H5c-1.1 0-2 .9-2 2v14c0 1.1.9 2 2 2h14c1.1 0 2-.9 2-2V5c0-1.1-.9-2-2-2zM9 17H7v-7h2v7zm4 0h-2V7h2v10zm4 0h-2v-4h2v4z\"/>\n",
              "    </g>\n",
              "</svg>\n",
              "  </button>\n",
              "\n",
              "<style>\n",
              "  .colab-df-quickchart {\n",
              "      --bg-color: #E8F0FE;\n",
              "      --fill-color: #1967D2;\n",
              "      --hover-bg-color: #E2EBFA;\n",
              "      --hover-fill-color: #174EA6;\n",
              "      --disabled-fill-color: #AAA;\n",
              "      --disabled-bg-color: #DDD;\n",
              "  }\n",
              "\n",
              "  [theme=dark] .colab-df-quickchart {\n",
              "      --bg-color: #3B4455;\n",
              "      --fill-color: #D2E3FC;\n",
              "      --hover-bg-color: #434B5C;\n",
              "      --hover-fill-color: #FFFFFF;\n",
              "      --disabled-bg-color: #3B4455;\n",
              "      --disabled-fill-color: #666;\n",
              "  }\n",
              "\n",
              "  .colab-df-quickchart {\n",
              "    background-color: var(--bg-color);\n",
              "    border: none;\n",
              "    border-radius: 50%;\n",
              "    cursor: pointer;\n",
              "    display: none;\n",
              "    fill: var(--fill-color);\n",
              "    height: 32px;\n",
              "    padding: 0;\n",
              "    width: 32px;\n",
              "  }\n",
              "\n",
              "  .colab-df-quickchart:hover {\n",
              "    background-color: var(--hover-bg-color);\n",
              "    box-shadow: 0 1px 2px rgba(60, 64, 67, 0.3), 0 1px 3px 1px rgba(60, 64, 67, 0.15);\n",
              "    fill: var(--button-hover-fill-color);\n",
              "  }\n",
              "\n",
              "  .colab-df-quickchart-complete:disabled,\n",
              "  .colab-df-quickchart-complete:disabled:hover {\n",
              "    background-color: var(--disabled-bg-color);\n",
              "    fill: var(--disabled-fill-color);\n",
              "    box-shadow: none;\n",
              "  }\n",
              "\n",
              "  .colab-df-spinner {\n",
              "    border: 2px solid var(--fill-color);\n",
              "    border-color: transparent;\n",
              "    border-bottom-color: var(--fill-color);\n",
              "    animation:\n",
              "      spin 1s steps(1) infinite;\n",
              "  }\n",
              "\n",
              "  @keyframes spin {\n",
              "    0% {\n",
              "      border-color: transparent;\n",
              "      border-bottom-color: var(--fill-color);\n",
              "      border-left-color: var(--fill-color);\n",
              "    }\n",
              "    20% {\n",
              "      border-color: transparent;\n",
              "      border-left-color: var(--fill-color);\n",
              "      border-top-color: var(--fill-color);\n",
              "    }\n",
              "    30% {\n",
              "      border-color: transparent;\n",
              "      border-left-color: var(--fill-color);\n",
              "      border-top-color: var(--fill-color);\n",
              "      border-right-color: var(--fill-color);\n",
              "    }\n",
              "    40% {\n",
              "      border-color: transparent;\n",
              "      border-right-color: var(--fill-color);\n",
              "      border-top-color: var(--fill-color);\n",
              "    }\n",
              "    60% {\n",
              "      border-color: transparent;\n",
              "      border-right-color: var(--fill-color);\n",
              "    }\n",
              "    80% {\n",
              "      border-color: transparent;\n",
              "      border-right-color: var(--fill-color);\n",
              "      border-bottom-color: var(--fill-color);\n",
              "    }\n",
              "    90% {\n",
              "      border-color: transparent;\n",
              "      border-bottom-color: var(--fill-color);\n",
              "    }\n",
              "  }\n",
              "</style>\n",
              "\n",
              "  <script>\n",
              "    async function quickchart(key) {\n",
              "      const quickchartButtonEl =\n",
              "        document.querySelector('#' + key + ' button');\n",
              "      quickchartButtonEl.disabled = true;  // To prevent multiple clicks.\n",
              "      quickchartButtonEl.classList.add('colab-df-spinner');\n",
              "      try {\n",
              "        const charts = await google.colab.kernel.invokeFunction(\n",
              "            'suggestCharts', [key], {});\n",
              "      } catch (error) {\n",
              "        console.error('Error during call to suggestCharts:', error);\n",
              "      }\n",
              "      quickchartButtonEl.classList.remove('colab-df-spinner');\n",
              "      quickchartButtonEl.classList.add('colab-df-quickchart-complete');\n",
              "    }\n",
              "    (() => {\n",
              "      let quickchartButtonEl =\n",
              "        document.querySelector('#df-885f6d02-803a-4003-9a41-8849e2174b12 button');\n",
              "      quickchartButtonEl.style.display =\n",
              "        google.colab.kernel.accessAllowed ? 'block' : 'none';\n",
              "    })();\n",
              "  </script>\n",
              "</div>\n",
              "\n",
              "    </div>\n",
              "  </div>\n"
            ],
            "application/vnd.google.colaboratory.intrinsic+json": {
              "type": "dataframe",
              "variable_name": "df_"
            }
          },
          "metadata": {},
          "execution_count": 55
        }
      ]
    },
    {
      "cell_type": "code",
      "source": [],
      "metadata": {
        "id": "j_ez6DWO3i0I"
      },
      "execution_count": null,
      "outputs": []
    }
  ],
  "metadata": {
    "accelerator": "GPU",
    "colab": {
      "gpuType": "T4",
      "provenance": [],
      "include_colab_link": true
    },
    "kernelspec": {
      "display_name": "Python 3",
      "name": "python3"
    },
    "language_info": {
      "codemirror_mode": {
        "name": "ipython",
        "version": 3
      },
      "file_extension": ".py",
      "mimetype": "text/x-python",
      "name": "python",
      "nbconvert_exporter": "python",
      "pygments_lexer": "ipython3",
      "version": "3.11.9"
    }
  },
  "nbformat": 4,
  "nbformat_minor": 0
}