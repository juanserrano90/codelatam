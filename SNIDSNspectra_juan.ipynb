{
  "cells": [
    {
      "cell_type": "code",
      "execution_count": 6,
      "metadata": {
        "id": "ej24b3FRRmXC"
      },
      "outputs": [],
      "source": [
        "import sys\n",
        "from os.path import isfile\n",
        "\n",
        "import numpy as np\n",
        "import pandas as pd\n",
        "import matplotlib\n",
        "matplotlib.use('Agg')\n",
        "import matplotlib.pyplot as plt\n",
        "\n",
        "# from matplotlib import pyplot as plt\n",
        "from sklearn.metrics import confusion_matrix"
      ]
    },
    {
      "cell_type": "code",
      "execution_count": 7,
      "metadata": {
        "colab": {
          "base_uri": "https://localhost:8080/"
        },
        "id": "RqTendt7RkOn",
        "outputId": "70a5ec33-35a3-4eda-81b7-09d7045a1470"
      },
      "outputs": [],
      "source": [
        "file_df_raw = \"./data/sn_data.parquet\"\n",
        "df_raw = pd.read_parquet(file_df_raw)"
      ]
    },
    {
      "cell_type": "code",
      "execution_count": 8,
      "metadata": {
        "colab": {
          "base_uri": "https://localhost:8080/",
          "height": 321
        },
        "id": "lnVZlTNrSCt-",
        "outputId": "01dc142d-f593-4fb9-a482-f533232ac8ca"
      },
      "outputs": [
        {
          "data": {
            "text/html": [
              "<div>\n",
              "<style scoped>\n",
              "    .dataframe tbody tr th:only-of-type {\n",
              "        vertical-align: middle;\n",
              "    }\n",
              "\n",
              "    .dataframe tbody tr th {\n",
              "        vertical-align: top;\n",
              "    }\n",
              "\n",
              "    .dataframe thead th {\n",
              "        text-align: right;\n",
              "    }\n",
              "</style>\n",
              "<table border=\"1\" class=\"dataframe\">\n",
              "  <thead>\n",
              "    <tr style=\"text-align: right;\">\n",
              "      <th></th>\n",
              "      <th>SN Subtype</th>\n",
              "      <th>SN Subtype ID</th>\n",
              "      <th>SN Maintype</th>\n",
              "      <th>SN Maintype ID</th>\n",
              "      <th>Spectral Phase</th>\n",
              "      <th>2501.69</th>\n",
              "      <th>2505.08</th>\n",
              "      <th>2508.48</th>\n",
              "      <th>2511.87</th>\n",
              "      <th>2515.28</th>\n",
              "      <th>...</th>\n",
              "      <th>9872.21</th>\n",
              "      <th>9885.59</th>\n",
              "      <th>9898.98</th>\n",
              "      <th>9912.39</th>\n",
              "      <th>9925.82</th>\n",
              "      <th>9939.27</th>\n",
              "      <th>9952.73</th>\n",
              "      <th>9966.21</th>\n",
              "      <th>9979.71</th>\n",
              "      <th>9993.24</th>\n",
              "    </tr>\n",
              "    <tr>\n",
              "      <th>SN Name</th>\n",
              "      <th></th>\n",
              "      <th></th>\n",
              "      <th></th>\n",
              "      <th></th>\n",
              "      <th></th>\n",
              "      <th></th>\n",
              "      <th></th>\n",
              "      <th></th>\n",
              "      <th></th>\n",
              "      <th></th>\n",
              "      <th></th>\n",
              "      <th></th>\n",
              "      <th></th>\n",
              "      <th></th>\n",
              "      <th></th>\n",
              "      <th></th>\n",
              "      <th></th>\n",
              "      <th></th>\n",
              "      <th></th>\n",
              "      <th></th>\n",
              "      <th></th>\n",
              "    </tr>\n",
              "  </thead>\n",
              "  <tbody>\n",
              "    <tr>\n",
              "      <th>sn2008ar</th>\n",
              "      <td>Ia-norm</td>\n",
              "      <td>0</td>\n",
              "      <td>Ia</td>\n",
              "      <td>0</td>\n",
              "      <td>-8.5</td>\n",
              "      <td>0.0</td>\n",
              "      <td>0.0</td>\n",
              "      <td>0.0</td>\n",
              "      <td>0.0</td>\n",
              "      <td>0.0</td>\n",
              "      <td>...</td>\n",
              "      <td>0.0</td>\n",
              "      <td>0.0</td>\n",
              "      <td>0.0</td>\n",
              "      <td>0.0</td>\n",
              "      <td>0.0</td>\n",
              "      <td>0.0</td>\n",
              "      <td>0.0</td>\n",
              "      <td>0.0</td>\n",
              "      <td>0.0</td>\n",
              "      <td>0.0</td>\n",
              "    </tr>\n",
              "    <tr>\n",
              "      <th>sn2008ar</th>\n",
              "      <td>Ia-norm</td>\n",
              "      <td>0</td>\n",
              "      <td>Ia</td>\n",
              "      <td>0</td>\n",
              "      <td>-7.5</td>\n",
              "      <td>0.0</td>\n",
              "      <td>0.0</td>\n",
              "      <td>0.0</td>\n",
              "      <td>0.0</td>\n",
              "      <td>0.0</td>\n",
              "      <td>...</td>\n",
              "      <td>0.0</td>\n",
              "      <td>0.0</td>\n",
              "      <td>0.0</td>\n",
              "      <td>0.0</td>\n",
              "      <td>0.0</td>\n",
              "      <td>0.0</td>\n",
              "      <td>0.0</td>\n",
              "      <td>0.0</td>\n",
              "      <td>0.0</td>\n",
              "      <td>0.0</td>\n",
              "    </tr>\n",
              "    <tr>\n",
              "      <th>sn2008ar</th>\n",
              "      <td>Ia-norm</td>\n",
              "      <td>0</td>\n",
              "      <td>Ia</td>\n",
              "      <td>0</td>\n",
              "      <td>-6.6</td>\n",
              "      <td>0.0</td>\n",
              "      <td>0.0</td>\n",
              "      <td>0.0</td>\n",
              "      <td>0.0</td>\n",
              "      <td>0.0</td>\n",
              "      <td>...</td>\n",
              "      <td>0.0</td>\n",
              "      <td>0.0</td>\n",
              "      <td>0.0</td>\n",
              "      <td>0.0</td>\n",
              "      <td>0.0</td>\n",
              "      <td>0.0</td>\n",
              "      <td>0.0</td>\n",
              "      <td>0.0</td>\n",
              "      <td>0.0</td>\n",
              "      <td>0.0</td>\n",
              "    </tr>\n",
              "    <tr>\n",
              "      <th>sn2008ar</th>\n",
              "      <td>Ia-norm</td>\n",
              "      <td>0</td>\n",
              "      <td>Ia</td>\n",
              "      <td>0</td>\n",
              "      <td>-4.6</td>\n",
              "      <td>0.0</td>\n",
              "      <td>0.0</td>\n",
              "      <td>0.0</td>\n",
              "      <td>0.0</td>\n",
              "      <td>0.0</td>\n",
              "      <td>...</td>\n",
              "      <td>0.0</td>\n",
              "      <td>0.0</td>\n",
              "      <td>0.0</td>\n",
              "      <td>0.0</td>\n",
              "      <td>0.0</td>\n",
              "      <td>0.0</td>\n",
              "      <td>0.0</td>\n",
              "      <td>0.0</td>\n",
              "      <td>0.0</td>\n",
              "      <td>0.0</td>\n",
              "    </tr>\n",
              "    <tr>\n",
              "      <th>sn2008ar</th>\n",
              "      <td>Ia-norm</td>\n",
              "      <td>0</td>\n",
              "      <td>Ia</td>\n",
              "      <td>0</td>\n",
              "      <td>-3.7</td>\n",
              "      <td>0.0</td>\n",
              "      <td>0.0</td>\n",
              "      <td>0.0</td>\n",
              "      <td>0.0</td>\n",
              "      <td>0.0</td>\n",
              "      <td>...</td>\n",
              "      <td>0.0</td>\n",
              "      <td>0.0</td>\n",
              "      <td>0.0</td>\n",
              "      <td>0.0</td>\n",
              "      <td>0.0</td>\n",
              "      <td>0.0</td>\n",
              "      <td>0.0</td>\n",
              "      <td>0.0</td>\n",
              "      <td>0.0</td>\n",
              "      <td>0.0</td>\n",
              "    </tr>\n",
              "  </tbody>\n",
              "</table>\n",
              "<p>5 rows × 1029 columns</p>\n",
              "</div>"
            ],
            "text/plain": [
              "         SN Subtype  SN Subtype ID SN Maintype  SN Maintype ID  \\\n",
              "SN Name                                                          \n",
              "sn2008ar    Ia-norm              0          Ia               0   \n",
              "sn2008ar    Ia-norm              0          Ia               0   \n",
              "sn2008ar    Ia-norm              0          Ia               0   \n",
              "sn2008ar    Ia-norm              0          Ia               0   \n",
              "sn2008ar    Ia-norm              0          Ia               0   \n",
              "\n",
              "          Spectral Phase  2501.69  2505.08  2508.48  2511.87  2515.28  ...  \\\n",
              "SN Name                                                                ...   \n",
              "sn2008ar            -8.5      0.0      0.0      0.0      0.0      0.0  ...   \n",
              "sn2008ar            -7.5      0.0      0.0      0.0      0.0      0.0  ...   \n",
              "sn2008ar            -6.6      0.0      0.0      0.0      0.0      0.0  ...   \n",
              "sn2008ar            -4.6      0.0      0.0      0.0      0.0      0.0  ...   \n",
              "sn2008ar            -3.7      0.0      0.0      0.0      0.0      0.0  ...   \n",
              "\n",
              "          9872.21  9885.59  9898.98  9912.39  9925.82  9939.27  9952.73  \\\n",
              "SN Name                                                                   \n",
              "sn2008ar      0.0      0.0      0.0      0.0      0.0      0.0      0.0   \n",
              "sn2008ar      0.0      0.0      0.0      0.0      0.0      0.0      0.0   \n",
              "sn2008ar      0.0      0.0      0.0      0.0      0.0      0.0      0.0   \n",
              "sn2008ar      0.0      0.0      0.0      0.0      0.0      0.0      0.0   \n",
              "sn2008ar      0.0      0.0      0.0      0.0      0.0      0.0      0.0   \n",
              "\n",
              "          9966.21  9979.71  9993.24  \n",
              "SN Name                              \n",
              "sn2008ar      0.0      0.0      0.0  \n",
              "sn2008ar      0.0      0.0      0.0  \n",
              "sn2008ar      0.0      0.0      0.0  \n",
              "sn2008ar      0.0      0.0      0.0  \n",
              "sn2008ar      0.0      0.0      0.0  \n",
              "\n",
              "[5 rows x 1029 columns]"
            ]
          },
          "execution_count": 8,
          "metadata": {},
          "output_type": "execute_result"
        }
      ],
      "source": [
        "df_raw.head()"
      ]
    },
    {
      "cell_type": "code",
      "execution_count": 9,
      "metadata": {
        "colab": {
          "base_uri": "https://localhost:8080/",
          "height": 384
        },
        "id": "_Qjf-bk1Lvmx",
        "outputId": "e0d3f9c8-8e54-449b-b06d-f4aa6fd931cf"
      },
      "outputs": [
        {
          "data": {
            "text/html": [
              "<div>\n",
              "<style scoped>\n",
              "    .dataframe tbody tr th:only-of-type {\n",
              "        vertical-align: middle;\n",
              "    }\n",
              "\n",
              "    .dataframe tbody tr th {\n",
              "        vertical-align: top;\n",
              "    }\n",
              "\n",
              "    .dataframe thead th {\n",
              "        text-align: right;\n",
              "    }\n",
              "</style>\n",
              "<table border=\"1\" class=\"dataframe\">\n",
              "  <thead>\n",
              "    <tr style=\"text-align: right;\">\n",
              "      <th></th>\n",
              "      <th>SN Subtype ID</th>\n",
              "      <th>SN Maintype ID</th>\n",
              "      <th>Spectral Phase</th>\n",
              "      <th>2501.69</th>\n",
              "      <th>2505.08</th>\n",
              "      <th>2508.48</th>\n",
              "      <th>2511.87</th>\n",
              "      <th>2515.28</th>\n",
              "      <th>2518.69</th>\n",
              "      <th>2522.1</th>\n",
              "      <th>...</th>\n",
              "      <th>9872.21</th>\n",
              "      <th>9885.59</th>\n",
              "      <th>9898.98</th>\n",
              "      <th>9912.39</th>\n",
              "      <th>9925.82</th>\n",
              "      <th>9939.27</th>\n",
              "      <th>9952.73</th>\n",
              "      <th>9966.21</th>\n",
              "      <th>9979.71</th>\n",
              "      <th>9993.24</th>\n",
              "    </tr>\n",
              "  </thead>\n",
              "  <tbody>\n",
              "    <tr>\n",
              "      <th>count</th>\n",
              "      <td>5001.000000</td>\n",
              "      <td>5001.000000</td>\n",
              "      <td>5001.000000</td>\n",
              "      <td>5001.0</td>\n",
              "      <td>5001.0</td>\n",
              "      <td>5.001000e+03</td>\n",
              "      <td>5001.000000</td>\n",
              "      <td>5001.000000</td>\n",
              "      <td>5001.000000</td>\n",
              "      <td>5001.000000</td>\n",
              "      <td>...</td>\n",
              "      <td>5001.000000</td>\n",
              "      <td>5001.000000</td>\n",
              "      <td>5001.000000</td>\n",
              "      <td>5001.000000</td>\n",
              "      <td>5001.000000</td>\n",
              "      <td>5001.000000</td>\n",
              "      <td>5001.00000</td>\n",
              "      <td>5001.000000</td>\n",
              "      <td>5001.0</td>\n",
              "      <td>5001.0</td>\n",
              "    </tr>\n",
              "    <tr>\n",
              "      <th>mean</th>\n",
              "      <td>3.993201</td>\n",
              "      <td>0.655069</td>\n",
              "      <td>36.539334</td>\n",
              "      <td>0.0</td>\n",
              "      <td>0.0</td>\n",
              "      <td>7.998400e-07</td>\n",
              "      <td>0.000005</td>\n",
              "      <td>0.000010</td>\n",
              "      <td>0.000007</td>\n",
              "      <td>0.000019</td>\n",
              "      <td>...</td>\n",
              "      <td>0.000008</td>\n",
              "      <td>0.000093</td>\n",
              "      <td>0.000039</td>\n",
              "      <td>0.000055</td>\n",
              "      <td>0.000027</td>\n",
              "      <td>0.000024</td>\n",
              "      <td>0.00001</td>\n",
              "      <td>0.000005</td>\n",
              "      <td>0.0</td>\n",
              "      <td>0.0</td>\n",
              "    </tr>\n",
              "    <tr>\n",
              "      <th>std</th>\n",
              "      <td>5.162127</td>\n",
              "      <td>1.024109</td>\n",
              "      <td>88.017382</td>\n",
              "      <td>0.0</td>\n",
              "      <td>0.0</td>\n",
              "      <td>2.827296e-05</td>\n",
              "      <td>0.000130</td>\n",
              "      <td>0.000244</td>\n",
              "      <td>0.000330</td>\n",
              "      <td>0.000641</td>\n",
              "      <td>...</td>\n",
              "      <td>0.005317</td>\n",
              "      <td>0.004881</td>\n",
              "      <td>0.003690</td>\n",
              "      <td>0.002672</td>\n",
              "      <td>0.001601</td>\n",
              "      <td>0.001002</td>\n",
              "      <td>0.00043</td>\n",
              "      <td>0.000113</td>\n",
              "      <td>0.0</td>\n",
              "      <td>0.0</td>\n",
              "    </tr>\n",
              "    <tr>\n",
              "      <th>min</th>\n",
              "      <td>0.000000</td>\n",
              "      <td>0.000000</td>\n",
              "      <td>-82.700000</td>\n",
              "      <td>0.0</td>\n",
              "      <td>0.0</td>\n",
              "      <td>0.000000e+00</td>\n",
              "      <td>-0.002000</td>\n",
              "      <td>-0.003000</td>\n",
              "      <td>-0.008000</td>\n",
              "      <td>-0.005000</td>\n",
              "      <td>...</td>\n",
              "      <td>-0.059000</td>\n",
              "      <td>-0.038000</td>\n",
              "      <td>-0.059000</td>\n",
              "      <td>-0.021000</td>\n",
              "      <td>-0.012000</td>\n",
              "      <td>-0.008000</td>\n",
              "      <td>-0.00300</td>\n",
              "      <td>-0.001000</td>\n",
              "      <td>0.0</td>\n",
              "      <td>0.0</td>\n",
              "    </tr>\n",
              "    <tr>\n",
              "      <th>25%</th>\n",
              "      <td>0.000000</td>\n",
              "      <td>0.000000</td>\n",
              "      <td>-0.200000</td>\n",
              "      <td>0.0</td>\n",
              "      <td>0.0</td>\n",
              "      <td>0.000000e+00</td>\n",
              "      <td>0.000000</td>\n",
              "      <td>0.000000</td>\n",
              "      <td>0.000000</td>\n",
              "      <td>0.000000</td>\n",
              "      <td>...</td>\n",
              "      <td>0.000000</td>\n",
              "      <td>0.000000</td>\n",
              "      <td>0.000000</td>\n",
              "      <td>0.000000</td>\n",
              "      <td>0.000000</td>\n",
              "      <td>0.000000</td>\n",
              "      <td>0.00000</td>\n",
              "      <td>0.000000</td>\n",
              "      <td>0.0</td>\n",
              "      <td>0.0</td>\n",
              "    </tr>\n",
              "    <tr>\n",
              "      <th>50%</th>\n",
              "      <td>1.000000</td>\n",
              "      <td>0.000000</td>\n",
              "      <td>11.900000</td>\n",
              "      <td>0.0</td>\n",
              "      <td>0.0</td>\n",
              "      <td>0.000000e+00</td>\n",
              "      <td>0.000000</td>\n",
              "      <td>0.000000</td>\n",
              "      <td>0.000000</td>\n",
              "      <td>0.000000</td>\n",
              "      <td>...</td>\n",
              "      <td>0.000000</td>\n",
              "      <td>0.000000</td>\n",
              "      <td>0.000000</td>\n",
              "      <td>0.000000</td>\n",
              "      <td>0.000000</td>\n",
              "      <td>0.000000</td>\n",
              "      <td>0.00000</td>\n",
              "      <td>0.000000</td>\n",
              "      <td>0.0</td>\n",
              "      <td>0.0</td>\n",
              "    </tr>\n",
              "    <tr>\n",
              "      <th>75%</th>\n",
              "      <td>8.000000</td>\n",
              "      <td>1.000000</td>\n",
              "      <td>36.100000</td>\n",
              "      <td>0.0</td>\n",
              "      <td>0.0</td>\n",
              "      <td>0.000000e+00</td>\n",
              "      <td>0.000000</td>\n",
              "      <td>0.000000</td>\n",
              "      <td>0.000000</td>\n",
              "      <td>0.000000</td>\n",
              "      <td>...</td>\n",
              "      <td>0.000000</td>\n",
              "      <td>0.000000</td>\n",
              "      <td>0.000000</td>\n",
              "      <td>0.000000</td>\n",
              "      <td>0.000000</td>\n",
              "      <td>0.000000</td>\n",
              "      <td>0.00000</td>\n",
              "      <td>0.000000</td>\n",
              "      <td>0.0</td>\n",
              "      <td>0.0</td>\n",
              "    </tr>\n",
              "    <tr>\n",
              "      <th>max</th>\n",
              "      <td>16.000000</td>\n",
              "      <td>3.000000</td>\n",
              "      <td>1103.000000</td>\n",
              "      <td>0.0</td>\n",
              "      <td>0.0</td>\n",
              "      <td>1.000000e-03</td>\n",
              "      <td>0.004000</td>\n",
              "      <td>0.009000</td>\n",
              "      <td>0.015000</td>\n",
              "      <td>0.025000</td>\n",
              "      <td>...</td>\n",
              "      <td>0.107000</td>\n",
              "      <td>0.153000</td>\n",
              "      <td>0.071000</td>\n",
              "      <td>0.052000</td>\n",
              "      <td>0.036000</td>\n",
              "      <td>0.022000</td>\n",
              "      <td>0.00900</td>\n",
              "      <td>0.002000</td>\n",
              "      <td>0.0</td>\n",
              "      <td>0.0</td>\n",
              "    </tr>\n",
              "  </tbody>\n",
              "</table>\n",
              "<p>8 rows × 1027 columns</p>\n",
              "</div>"
            ],
            "text/plain": [
              "       SN Subtype ID  SN Maintype ID  Spectral Phase  2501.69  2505.08  \\\n",
              "count    5001.000000     5001.000000     5001.000000   5001.0   5001.0   \n",
              "mean        3.993201        0.655069       36.539334      0.0      0.0   \n",
              "std         5.162127        1.024109       88.017382      0.0      0.0   \n",
              "min         0.000000        0.000000      -82.700000      0.0      0.0   \n",
              "25%         0.000000        0.000000       -0.200000      0.0      0.0   \n",
              "50%         1.000000        0.000000       11.900000      0.0      0.0   \n",
              "75%         8.000000        1.000000       36.100000      0.0      0.0   \n",
              "max        16.000000        3.000000     1103.000000      0.0      0.0   \n",
              "\n",
              "            2508.48      2511.87      2515.28      2518.69       2522.1  ...  \\\n",
              "count  5.001000e+03  5001.000000  5001.000000  5001.000000  5001.000000  ...   \n",
              "mean   7.998400e-07     0.000005     0.000010     0.000007     0.000019  ...   \n",
              "std    2.827296e-05     0.000130     0.000244     0.000330     0.000641  ...   \n",
              "min    0.000000e+00    -0.002000    -0.003000    -0.008000    -0.005000  ...   \n",
              "25%    0.000000e+00     0.000000     0.000000     0.000000     0.000000  ...   \n",
              "50%    0.000000e+00     0.000000     0.000000     0.000000     0.000000  ...   \n",
              "75%    0.000000e+00     0.000000     0.000000     0.000000     0.000000  ...   \n",
              "max    1.000000e-03     0.004000     0.009000     0.015000     0.025000  ...   \n",
              "\n",
              "           9872.21      9885.59      9898.98      9912.39      9925.82  \\\n",
              "count  5001.000000  5001.000000  5001.000000  5001.000000  5001.000000   \n",
              "mean      0.000008     0.000093     0.000039     0.000055     0.000027   \n",
              "std       0.005317     0.004881     0.003690     0.002672     0.001601   \n",
              "min      -0.059000    -0.038000    -0.059000    -0.021000    -0.012000   \n",
              "25%       0.000000     0.000000     0.000000     0.000000     0.000000   \n",
              "50%       0.000000     0.000000     0.000000     0.000000     0.000000   \n",
              "75%       0.000000     0.000000     0.000000     0.000000     0.000000   \n",
              "max       0.107000     0.153000     0.071000     0.052000     0.036000   \n",
              "\n",
              "           9939.27     9952.73      9966.21  9979.71  9993.24  \n",
              "count  5001.000000  5001.00000  5001.000000   5001.0   5001.0  \n",
              "mean      0.000024     0.00001     0.000005      0.0      0.0  \n",
              "std       0.001002     0.00043     0.000113      0.0      0.0  \n",
              "min      -0.008000    -0.00300    -0.001000      0.0      0.0  \n",
              "25%       0.000000     0.00000     0.000000      0.0      0.0  \n",
              "50%       0.000000     0.00000     0.000000      0.0      0.0  \n",
              "75%       0.000000     0.00000     0.000000      0.0      0.0  \n",
              "max       0.022000     0.00900     0.002000      0.0      0.0  \n",
              "\n",
              "[8 rows x 1027 columns]"
            ]
          },
          "execution_count": 9,
          "metadata": {},
          "output_type": "execute_result"
        }
      ],
      "source": [
        "df_raw.describe()"
      ]
    },
    {
      "cell_type": "markdown",
      "metadata": {
        "id": "b1q2gF8YYmnv"
      },
      "source": [
        "the data is stored in a somewhat bizzarro way, with the wavelength as the column name and the row as the SN"
      ]
    },
    {
      "cell_type": "code",
      "execution_count": 10,
      "metadata": {
        "id": "SxSChB9uWvmZ"
      },
      "outputs": [],
      "source": [
        "wavelength = np.array([float(c) for c in df_raw.columns[5:]])"
      ]
    },
    {
      "cell_type": "code",
      "execution_count": 11,
      "metadata": {
        "colab": {
          "base_uri": "https://localhost:8080/"
        },
        "id": "PyE8pRhIdNhA",
        "outputId": "20d5751e-caa2-4598-92d6-19ee37b9202a"
      },
      "outputs": [
        {
          "data": {
            "text/plain": [
              "(1024,)"
            ]
          },
          "execution_count": 11,
          "metadata": {},
          "output_type": "execute_result"
        }
      ],
      "source": [
        "wavelength.shape"
      ]
    },
    {
      "cell_type": "code",
      "execution_count": 12,
      "metadata": {
        "colab": {
          "base_uri": "https://localhost:8080/",
          "height": 196
        },
        "id": "EjSiGdWYXebn",
        "outputId": "d129527f-e3e3-4bf3-9fc2-16b012603f30"
      },
      "outputs": [
        {
          "data": {
            "text/html": [
              "<div>\n",
              "<style scoped>\n",
              "    .dataframe tbody tr th:only-of-type {\n",
              "        vertical-align: middle;\n",
              "    }\n",
              "\n",
              "    .dataframe tbody tr th {\n",
              "        vertical-align: top;\n",
              "    }\n",
              "\n",
              "    .dataframe thead th {\n",
              "        text-align: right;\n",
              "    }\n",
              "</style>\n",
              "<table border=\"1\" class=\"dataframe\">\n",
              "  <thead>\n",
              "    <tr style=\"text-align: right;\">\n",
              "      <th></th>\n",
              "      <th>SN Subtype</th>\n",
              "      <th>SN Subtype ID</th>\n",
              "      <th>SN Maintype</th>\n",
              "      <th>SN Maintype ID</th>\n",
              "      <th>Spectral Phase</th>\n",
              "      <th>2501.69</th>\n",
              "      <th>2505.08</th>\n",
              "      <th>2508.48</th>\n",
              "      <th>2511.87</th>\n",
              "      <th>2515.28</th>\n",
              "      <th>...</th>\n",
              "      <th>9872.21</th>\n",
              "      <th>9885.59</th>\n",
              "      <th>9898.98</th>\n",
              "      <th>9912.39</th>\n",
              "      <th>9925.82</th>\n",
              "      <th>9939.27</th>\n",
              "      <th>9952.73</th>\n",
              "      <th>9966.21</th>\n",
              "      <th>9979.71</th>\n",
              "      <th>9993.24</th>\n",
              "    </tr>\n",
              "    <tr>\n",
              "      <th>SN Name</th>\n",
              "      <th></th>\n",
              "      <th></th>\n",
              "      <th></th>\n",
              "      <th></th>\n",
              "      <th></th>\n",
              "      <th></th>\n",
              "      <th></th>\n",
              "      <th></th>\n",
              "      <th></th>\n",
              "      <th></th>\n",
              "      <th></th>\n",
              "      <th></th>\n",
              "      <th></th>\n",
              "      <th></th>\n",
              "      <th></th>\n",
              "      <th></th>\n",
              "      <th></th>\n",
              "      <th></th>\n",
              "      <th></th>\n",
              "      <th></th>\n",
              "      <th></th>\n",
              "    </tr>\n",
              "  </thead>\n",
              "  <tbody>\n",
              "    <tr>\n",
              "      <th>sn2008ar</th>\n",
              "      <td>Ia-norm</td>\n",
              "      <td>0</td>\n",
              "      <td>Ia</td>\n",
              "      <td>0</td>\n",
              "      <td>-2.7</td>\n",
              "      <td>0.0</td>\n",
              "      <td>0.0</td>\n",
              "      <td>0.0</td>\n",
              "      <td>0.0</td>\n",
              "      <td>0.0</td>\n",
              "      <td>...</td>\n",
              "      <td>0.0</td>\n",
              "      <td>0.0</td>\n",
              "      <td>0.0</td>\n",
              "      <td>0.0</td>\n",
              "      <td>0.0</td>\n",
              "      <td>0.0</td>\n",
              "      <td>0.0</td>\n",
              "      <td>0.0</td>\n",
              "      <td>0.0</td>\n",
              "      <td>0.0</td>\n",
              "    </tr>\n",
              "  </tbody>\n",
              "</table>\n",
              "<p>1 rows × 1029 columns</p>\n",
              "</div>"
            ],
            "text/plain": [
              "         SN Subtype  SN Subtype ID SN Maintype  SN Maintype ID  \\\n",
              "SN Name                                                          \n",
              "sn2008ar    Ia-norm              0          Ia               0   \n",
              "\n",
              "          Spectral Phase  2501.69  2505.08  2508.48  2511.87  2515.28  ...  \\\n",
              "SN Name                                                                ...   \n",
              "sn2008ar            -2.7      0.0      0.0      0.0      0.0      0.0  ...   \n",
              "\n",
              "          9872.21  9885.59  9898.98  9912.39  9925.82  9939.27  9952.73  \\\n",
              "SN Name                                                                   \n",
              "sn2008ar      0.0      0.0      0.0      0.0      0.0      0.0      0.0   \n",
              "\n",
              "          9966.21  9979.71  9993.24  \n",
              "SN Name                              \n",
              "sn2008ar      0.0      0.0      0.0  \n",
              "\n",
              "[1 rows x 1029 columns]"
            ]
          },
          "execution_count": 12,
          "metadata": {},
          "output_type": "execute_result"
        }
      ],
      "source": [
        "df_raw.loc[(df_raw.index == \"sn2008ar\") * (df_raw[\"Spectral Phase\"] == -2.7)]"
      ]
    },
    {
      "cell_type": "code",
      "execution_count": 13,
      "metadata": {
        "colab": {
          "base_uri": "https://localhost:8080/",
          "height": 447
        },
        "id": "N9SUWSkrYLWE",
        "outputId": "df435f45-2494-4853-a6ad-7b30019a2583"
      },
      "outputs": [
        {
          "data": {
            "text/plain": [
              "[<matplotlib.lines.Line2D at 0x7efcca4990d0>]"
            ]
          },
          "execution_count": 13,
          "metadata": {},
          "output_type": "execute_result"
        }
      ],
      "source": [
        "plt.plot(wavelength, df_raw.loc[(df_raw.index == \"sn2008ar\") * (df_raw[\"Spectral Phase\"] == -2.7)].iloc[:, 5:].values[0])"
      ]
    },
    {
      "cell_type": "markdown",
      "metadata": {
        "id": "HTsGy8UnSEWz"
      },
      "source": [
        "# Explore data:\n",
        "\n",
        "is there padding? invalid data, spurious entries?"
      ]
    },
    {
      "cell_type": "markdown",
      "metadata": {
        "id": "KlH8X4njSsyR"
      },
      "source": [
        "### unique SN"
      ]
    },
    {
      "cell_type": "code",
      "execution_count": 14,
      "metadata": {
        "colab": {
          "base_uri": "https://localhost:8080/"
        },
        "id": "hQKdmlBDSvHs",
        "outputId": "b6113b89-baea-4be0-f7c9-6e503dc152b1"
      },
      "outputs": [
        {
          "name": "stdout",
          "output_type": "stream",
          "text": [
            "Number of SNs: 518\n"
          ]
        }
      ],
      "source": [
        "print('Number of SNs:', len(df_raw.index.categories))"
      ]
    },
    {
      "cell_type": "markdown",
      "metadata": {
        "id": "OBA_PrQdS74a"
      },
      "source": [
        "### unique SN subtypes"
      ]
    },
    {
      "cell_type": "code",
      "execution_count": 15,
      "metadata": {
        "colab": {
          "base_uri": "https://localhost:8080/"
        },
        "id": "mY3pbGzPTR41",
        "outputId": "c6b39696-4418-43a3-bf86-37ad757ebd50"
      },
      "outputs": [
        {
          "name": "stdout",
          "output_type": "stream",
          "text": [
            "SN subtypes: ['Ia-norm', 'Ia-91T', 'Ia-csm', 'Ia-91bg', 'Ib-norm', ..., 'Ic-broad', 'Ic-pec', 'IIn', 'Ibn', 'Ib-pec']\n",
            "Length: 17\n",
            "Categories (17, object): ['II-pec', 'IIL', 'IIP', 'IIb', ..., 'Ibn', 'Ic-broad', 'Ic-norm', 'Ic-pec']\n"
          ]
        }
      ],
      "source": [
        "print('SN subtypes:', df_raw['SN Subtype'].unique())"
      ]
    },
    {
      "cell_type": "code",
      "execution_count": 16,
      "metadata": {
        "colab": {
          "base_uri": "https://localhost:8080/"
        },
        "id": "q8hae5qngh6K",
        "outputId": "6671dba1-add5-4aa3-c336-a84ab97f04ed"
      },
      "outputs": [
        {
          "name": "stdout",
          "output_type": "stream",
          "text": [
            "Ia-norm 0\n",
            "Ia-91T 1\n",
            "Ia-csm 3\n",
            "Ia-91bg 2\n",
            "Ib-norm 6\n",
            "Iax 4\n",
            "Ia-pec 5\n",
            "Ic-norm 10\n",
            "IIP 13\n",
            "IIL 14\n",
            "IIb 8\n",
            "II-pec 16\n",
            "Ic-broad 11\n",
            "Ic-pec 12\n",
            "IIn 15\n",
            "Ibn 7\n",
            "Ib-pec 9\n"
          ]
        }
      ],
      "source": [
        "subtypes  = df_raw['SN Subtype'].unique()\n",
        "subtypes_ID = df_raw['SN Subtype ID'].unique()\n",
        "\n",
        "for subtype, subtype_ID in zip(subtypes, subtypes_ID):\n",
        "  print(subtype, subtype_ID)"
      ]
    },
    {
      "cell_type": "markdown",
      "metadata": {
        "id": "hS9a2_qKTfSB"
      },
      "source": [
        "### unique SN main types"
      ]
    },
    {
      "cell_type": "code",
      "execution_count": 17,
      "metadata": {
        "colab": {
          "base_uri": "https://localhost:8080/"
        },
        "id": "K4p1vTJyThkO",
        "outputId": "bd30114f-34d4-478d-dffd-cb374e9ea695"
      },
      "outputs": [
        {
          "name": "stdout",
          "output_type": "stream",
          "text": [
            "Ia 0\n",
            "Ib 1\n",
            "Ic 2\n",
            "II 3\n",
            "Number of SN types: 4\n",
            "types: ['Ia', 'Ib', 'Ic', 'II']\n"
          ]
        }
      ],
      "source": [
        "types = df_raw['SN Maintype'].unique()\n",
        "types_ID = df_raw['SN Maintype ID'].unique()\n",
        "\n",
        "for type, type_ID in zip(types, types_ID):\n",
        "  print(type, type_ID)\n",
        "print('Number of SN types:', len(types))\n",
        "print('types:', list(types))"
      ]
    },
    {
      "cell_type": "code",
      "execution_count": null,
      "metadata": {
        "id": "iZ_3_477kEBH"
      },
      "outputs": [],
      "source": [
        "# I want the name to be on the first column, reset index\n",
        "df_raw = df_raw.reset_index()"
      ]
    },
    {
      "cell_type": "markdown",
      "metadata": {
        "id": "NpKNhraaXp5w"
      },
      "source": [
        "### How many SNs of each type"
      ]
    },
    {
      "cell_type": "code",
      "execution_count": null,
      "metadata": {
        "id": "FIlXWkFmXtD9"
      },
      "outputs": [],
      "source": [
        "grouped = df_raw.groupby(['SN Maintype', 'SN Name'], observed=True)['SN Name'].value_counts()"
      ]
    },
    {
      "cell_type": "code",
      "execution_count": null,
      "metadata": {
        "colab": {
          "base_uri": "https://localhost:8080/",
          "height": 241
        },
        "id": "mEC4JYT3kXdB",
        "outputId": "be413852-d48a-4002-b3e7-44b46c3b56bb"
      },
      "outputs": [
        {
          "data": {
            "text/plain": [
              "SN Maintype\n",
              "II     11\n",
              "Ia    414\n",
              "Ib     46\n",
              "Ic     47\n",
              "Name: count, dtype: int64"
            ]
          },
          "execution_count": 15,
          "metadata": {},
          "output_type": "execute_result"
        }
      ],
      "source": [
        "grouped.groupby(level=0, observed=True).count()"
      ]
    },
    {
      "cell_type": "code",
      "execution_count": null,
      "metadata": {
        "colab": {
          "base_uri": "https://localhost:8080/"
        },
        "id": "h4kWSY-JYjcc",
        "outputId": "ed78d4fd-e5ce-4947-c26f-848d28746347"
      },
      "outputs": [
        {
          "data": {
            "text/plain": [
              "['II', 'Ia', 'Ib', 'Ic']\n",
              "Categories (4, object): ['II', 'Ia', 'Ib', 'Ic']"
            ]
          },
          "execution_count": 16,
          "metadata": {},
          "output_type": "execute_result"
        }
      ],
      "source": [
        "grouped.index.levels[0].values"
      ]
    },
    {
      "cell_type": "markdown",
      "metadata": {
        "id": "WHwbApXWTzGi"
      },
      "source": [
        "### Typical series length (in time)"
      ]
    },
    {
      "cell_type": "code",
      "execution_count": null,
      "metadata": {
        "colab": {
          "base_uri": "https://localhost:8080/",
          "height": 241
        },
        "id": "oxLqLe0Liic5",
        "outputId": "7982b796-db72-49d0-d724-7d0267488d6d"
      },
      "outputs": [
        {
          "data": {
            "text/plain": [
              "SN Maintype\n",
              "II     494\n",
              "Ia    3288\n",
              "Ib     644\n",
              "Ic     575\n",
              "Name: count, dtype: int64"
            ]
          },
          "execution_count": 17,
          "metadata": {},
          "output_type": "execute_result"
        }
      ],
      "source": [
        "df_raw.groupby('SN Maintype', observed=True)['SN Maintype'].value_counts()"
      ]
    },
    {
      "cell_type": "code",
      "execution_count": null,
      "metadata": {
        "colab": {
          "base_uri": "https://localhost:8080/",
          "height": 489
        },
        "id": "wwdZHgvfXa_S",
        "outputId": "c0139c7e-d557-4ee0-fc83-dccb691edc6f"
      },
      "outputs": [
        {
          "data": {
            "text/plain": [
              "SN Name\n",
              "sn1987A       241\n",
              "sn1993J        73\n",
              "sn2005cf       67\n",
              "sn2003du       60\n",
              "sn1998S        57\n",
              "             ... \n",
              "sn06cs          1\n",
              "sn06cz          1\n",
              "sn2009nz        1\n",
              "sn99gd          1\n",
              "snls03D3bb      1\n",
              "Name: count, Length: 518, dtype: int64"
            ]
          },
          "execution_count": 18,
          "metadata": {},
          "output_type": "execute_result"
        }
      ],
      "source": [
        "# group by object and calculate the typical series length\n",
        "df_raw.groupby('SN Name', observed=True)['SN Name'].value_counts().sort_values(ascending=False)"
      ]
    },
    {
      "cell_type": "code",
      "execution_count": null,
      "metadata": {
        "colab": {
          "base_uri": "https://localhost:8080/"
        },
        "id": "79FXMnIli-w4",
        "outputId": "8753206e-8709-4a2a-fa82-3b7cecf0f11a"
      },
      "outputs": [
        {
          "data": {
            "text/plain": [
              "np.float64(9.654440154440154)"
            ]
          },
          "execution_count": 19,
          "metadata": {},
          "output_type": "execute_result"
        }
      ],
      "source": [
        "df_raw.groupby('SN Name', observed=True)['SN Name'].value_counts().sort_values(ascending=False).mean()"
      ]
    },
    {
      "cell_type": "code",
      "execution_count": null,
      "metadata": {
        "colab": {
          "base_uri": "https://localhost:8080/"
        },
        "id": "buLQ3O5xfPFd",
        "outputId": "edc4c233-aa88-4650-bcdb-e838bce379d2"
      },
      "outputs": [
        {
          "name": "stdout",
          "output_type": "stream",
          "text": [
            "Typical series length is: 74.18314092664092\n"
          ]
        }
      ],
      "source": [
        "# group by object and calculate the typical series length\n",
        "series_length = (df_raw.groupby('SN Name', observed=True)['Spectral Phase'].max()-df_raw.groupby('SN Name', observed=True)['Spectral Phase'].min()).sort_values(ascending=False).mean()\n",
        "\n",
        "print('Typical series length is:', series_length)"
      ]
    },
    {
      "cell_type": "markdown",
      "metadata": {
        "id": "UcPBHnM5hMi0"
      },
      "source": [
        "### NaNs?"
      ]
    },
    {
      "cell_type": "code",
      "execution_count": null,
      "metadata": {
        "colab": {
          "base_uri": "https://localhost:8080/"
        },
        "id": "cWSI1TVyUw_2",
        "outputId": "7a8e99bd-ca9c-4ca7-d11e-4a393f3b7ed1"
      },
      "outputs": [
        {
          "data": {
            "text/plain": [
              "np.int64(0)"
            ]
          },
          "execution_count": 21,
          "metadata": {},
          "output_type": "execute_result"
        }
      ],
      "source": [
        "df_raw.isna().sum().max()"
      ]
    },
    {
      "cell_type": "code",
      "execution_count": null,
      "metadata": {
        "colab": {
          "base_uri": "https://localhost:8080/"
        },
        "id": "kEMEW96Ug_tW",
        "outputId": "9670bb81-ef65-47da-cd08-e3f878edf20a"
      },
      "outputs": [
        {
          "name": "stdout",
          "output_type": "stream",
          "text": [
            "number of nans: 0\n"
          ]
        }
      ],
      "source": [
        "print('number of nans:', df_raw.isna().sum().max())"
      ]
    },
    {
      "cell_type": "code",
      "execution_count": null,
      "metadata": {
        "colab": {
          "base_uri": "https://localhost:8080/",
          "height": 290
        },
        "id": "8VfdCbJYjar3",
        "outputId": "c6a34be9-659b-4663-b112-a0b5ee9854e9"
      },
      "outputs": [
        {
          "data": {
            "text/html": [
              "<div>\n",
              "<style scoped>\n",
              "    .dataframe tbody tr th:only-of-type {\n",
              "        vertical-align: middle;\n",
              "    }\n",
              "\n",
              "    .dataframe tbody tr th {\n",
              "        vertical-align: top;\n",
              "    }\n",
              "\n",
              "    .dataframe thead th {\n",
              "        text-align: right;\n",
              "    }\n",
              "</style>\n",
              "<table border=\"1\" class=\"dataframe\">\n",
              "  <thead>\n",
              "    <tr style=\"text-align: right;\">\n",
              "      <th></th>\n",
              "      <th>SN Name</th>\n",
              "      <th>SN Subtype</th>\n",
              "      <th>SN Subtype ID</th>\n",
              "      <th>SN Maintype</th>\n",
              "      <th>SN Maintype ID</th>\n",
              "      <th>Spectral Phase</th>\n",
              "      <th>2501.69</th>\n",
              "      <th>2505.08</th>\n",
              "      <th>2508.48</th>\n",
              "      <th>2511.87</th>\n",
              "      <th>...</th>\n",
              "      <th>9872.21</th>\n",
              "      <th>9885.59</th>\n",
              "      <th>9898.98</th>\n",
              "      <th>9912.39</th>\n",
              "      <th>9925.82</th>\n",
              "      <th>9939.27</th>\n",
              "      <th>9952.73</th>\n",
              "      <th>9966.21</th>\n",
              "      <th>9979.71</th>\n",
              "      <th>9993.24</th>\n",
              "    </tr>\n",
              "  </thead>\n",
              "  <tbody>\n",
              "    <tr>\n",
              "      <th>0</th>\n",
              "      <td>sn2008ar</td>\n",
              "      <td>Ia-norm</td>\n",
              "      <td>0</td>\n",
              "      <td>Ia</td>\n",
              "      <td>0</td>\n",
              "      <td>-8.5</td>\n",
              "      <td>0.0</td>\n",
              "      <td>0.0</td>\n",
              "      <td>0.0</td>\n",
              "      <td>0.0</td>\n",
              "      <td>...</td>\n",
              "      <td>0.0</td>\n",
              "      <td>0.0</td>\n",
              "      <td>0.0</td>\n",
              "      <td>0.0</td>\n",
              "      <td>0.0</td>\n",
              "      <td>0.0</td>\n",
              "      <td>0.0</td>\n",
              "      <td>0.0</td>\n",
              "      <td>0.0</td>\n",
              "      <td>0.0</td>\n",
              "    </tr>\n",
              "    <tr>\n",
              "      <th>1</th>\n",
              "      <td>sn2008ar</td>\n",
              "      <td>Ia-norm</td>\n",
              "      <td>0</td>\n",
              "      <td>Ia</td>\n",
              "      <td>0</td>\n",
              "      <td>-7.5</td>\n",
              "      <td>0.0</td>\n",
              "      <td>0.0</td>\n",
              "      <td>0.0</td>\n",
              "      <td>0.0</td>\n",
              "      <td>...</td>\n",
              "      <td>0.0</td>\n",
              "      <td>0.0</td>\n",
              "      <td>0.0</td>\n",
              "      <td>0.0</td>\n",
              "      <td>0.0</td>\n",
              "      <td>0.0</td>\n",
              "      <td>0.0</td>\n",
              "      <td>0.0</td>\n",
              "      <td>0.0</td>\n",
              "      <td>0.0</td>\n",
              "    </tr>\n",
              "    <tr>\n",
              "      <th>2</th>\n",
              "      <td>sn2008ar</td>\n",
              "      <td>Ia-norm</td>\n",
              "      <td>0</td>\n",
              "      <td>Ia</td>\n",
              "      <td>0</td>\n",
              "      <td>-6.6</td>\n",
              "      <td>0.0</td>\n",
              "      <td>0.0</td>\n",
              "      <td>0.0</td>\n",
              "      <td>0.0</td>\n",
              "      <td>...</td>\n",
              "      <td>0.0</td>\n",
              "      <td>0.0</td>\n",
              "      <td>0.0</td>\n",
              "      <td>0.0</td>\n",
              "      <td>0.0</td>\n",
              "      <td>0.0</td>\n",
              "      <td>0.0</td>\n",
              "      <td>0.0</td>\n",
              "      <td>0.0</td>\n",
              "      <td>0.0</td>\n",
              "    </tr>\n",
              "    <tr>\n",
              "      <th>3</th>\n",
              "      <td>sn2008ar</td>\n",
              "      <td>Ia-norm</td>\n",
              "      <td>0</td>\n",
              "      <td>Ia</td>\n",
              "      <td>0</td>\n",
              "      <td>-4.6</td>\n",
              "      <td>0.0</td>\n",
              "      <td>0.0</td>\n",
              "      <td>0.0</td>\n",
              "      <td>0.0</td>\n",
              "      <td>...</td>\n",
              "      <td>0.0</td>\n",
              "      <td>0.0</td>\n",
              "      <td>0.0</td>\n",
              "      <td>0.0</td>\n",
              "      <td>0.0</td>\n",
              "      <td>0.0</td>\n",
              "      <td>0.0</td>\n",
              "      <td>0.0</td>\n",
              "      <td>0.0</td>\n",
              "      <td>0.0</td>\n",
              "    </tr>\n",
              "    <tr>\n",
              "      <th>4</th>\n",
              "      <td>sn2008ar</td>\n",
              "      <td>Ia-norm</td>\n",
              "      <td>0</td>\n",
              "      <td>Ia</td>\n",
              "      <td>0</td>\n",
              "      <td>-3.7</td>\n",
              "      <td>0.0</td>\n",
              "      <td>0.0</td>\n",
              "      <td>0.0</td>\n",
              "      <td>0.0</td>\n",
              "      <td>...</td>\n",
              "      <td>0.0</td>\n",
              "      <td>0.0</td>\n",
              "      <td>0.0</td>\n",
              "      <td>0.0</td>\n",
              "      <td>0.0</td>\n",
              "      <td>0.0</td>\n",
              "      <td>0.0</td>\n",
              "      <td>0.0</td>\n",
              "      <td>0.0</td>\n",
              "      <td>0.0</td>\n",
              "    </tr>\n",
              "  </tbody>\n",
              "</table>\n",
              "<p>5 rows × 1030 columns</p>\n",
              "</div>"
            ],
            "text/plain": [
              "    SN Name SN Subtype  SN Subtype ID SN Maintype  SN Maintype ID  \\\n",
              "0  sn2008ar    Ia-norm              0          Ia               0   \n",
              "1  sn2008ar    Ia-norm              0          Ia               0   \n",
              "2  sn2008ar    Ia-norm              0          Ia               0   \n",
              "3  sn2008ar    Ia-norm              0          Ia               0   \n",
              "4  sn2008ar    Ia-norm              0          Ia               0   \n",
              "\n",
              "   Spectral Phase  2501.69  2505.08  2508.48  2511.87  ...  9872.21  9885.59  \\\n",
              "0            -8.5      0.0      0.0      0.0      0.0  ...      0.0      0.0   \n",
              "1            -7.5      0.0      0.0      0.0      0.0  ...      0.0      0.0   \n",
              "2            -6.6      0.0      0.0      0.0      0.0  ...      0.0      0.0   \n",
              "3            -4.6      0.0      0.0      0.0      0.0  ...      0.0      0.0   \n",
              "4            -3.7      0.0      0.0      0.0      0.0  ...      0.0      0.0   \n",
              "\n",
              "   9898.98  9912.39  9925.82  9939.27  9952.73  9966.21  9979.71  9993.24  \n",
              "0      0.0      0.0      0.0      0.0      0.0      0.0      0.0      0.0  \n",
              "1      0.0      0.0      0.0      0.0      0.0      0.0      0.0      0.0  \n",
              "2      0.0      0.0      0.0      0.0      0.0      0.0      0.0      0.0  \n",
              "3      0.0      0.0      0.0      0.0      0.0      0.0      0.0      0.0  \n",
              "4      0.0      0.0      0.0      0.0      0.0      0.0      0.0      0.0  \n",
              "\n",
              "[5 rows x 1030 columns]"
            ]
          },
          "execution_count": 23,
          "metadata": {},
          "output_type": "execute_result"
        }
      ],
      "source": [
        "df_raw.head()"
      ]
    },
    {
      "cell_type": "code",
      "execution_count": null,
      "metadata": {
        "colab": {
          "base_uri": "https://localhost:8080/"
        },
        "id": "n8CofFMCjm-E",
        "outputId": "24a39a22-6cec-4556-e751-e0574c30bd5b"
      },
      "outputs": [
        {
          "data": {
            "text/plain": [
              "(18, 1030)"
            ]
          },
          "execution_count": 24,
          "metadata": {},
          "output_type": "execute_result"
        }
      ],
      "source": [
        "sn2008ar = df_raw.loc[df_raw['SN Name'] == \"sn2008ar\"]\n",
        "sn2008ar.shape"
      ]
    },
    {
      "cell_type": "markdown",
      "metadata": {
        "id": "WP1qrx9scsEE"
      },
      "source": [
        "### Wavelength span"
      ]
    },
    {
      "cell_type": "code",
      "execution_count": null,
      "metadata": {
        "colab": {
          "base_uri": "https://localhost:8080/"
        },
        "id": "VHsl7l5bcp1F",
        "outputId": "fa3c9501-0121-4112-b010-bcd32eb24661"
      },
      "outputs": [
        {
          "name": "stdout",
          "output_type": "stream",
          "text": [
            "2501.69 5410.10734375 9993.24\n"
          ]
        }
      ],
      "source": [
        "print(wavelength.min(), wavelength.mean(), wavelength.max())"
      ]
    },
    {
      "cell_type": "code",
      "execution_count": null,
      "metadata": {
        "id": "cqLuXlm4KOUc"
      },
      "outputs": [],
      "source": [
        "# usar 2500 a 10000\n",
        "xlim = [2500, 10000]"
      ]
    },
    {
      "cell_type": "markdown",
      "metadata": {
        "id": "pw5bSKFWjwYG"
      },
      "source": [
        "### Flux span"
      ]
    },
    {
      "cell_type": "code",
      "execution_count": null,
      "metadata": {
        "colab": {
          "base_uri": "https://localhost:8080/",
          "height": 290
        },
        "id": "YkwFFKKyr1zx",
        "outputId": "f307c38f-6dad-458e-9680-dace9216dee8"
      },
      "outputs": [
        {
          "data": {
            "text/html": [
              "<div>\n",
              "<style scoped>\n",
              "    .dataframe tbody tr th:only-of-type {\n",
              "        vertical-align: middle;\n",
              "    }\n",
              "\n",
              "    .dataframe tbody tr th {\n",
              "        vertical-align: top;\n",
              "    }\n",
              "\n",
              "    .dataframe thead th {\n",
              "        text-align: right;\n",
              "    }\n",
              "</style>\n",
              "<table border=\"1\" class=\"dataframe\">\n",
              "  <thead>\n",
              "    <tr style=\"text-align: right;\">\n",
              "      <th></th>\n",
              "      <th>SN Name</th>\n",
              "      <th>SN Subtype</th>\n",
              "      <th>SN Subtype ID</th>\n",
              "      <th>SN Maintype</th>\n",
              "      <th>SN Maintype ID</th>\n",
              "      <th>Spectral Phase</th>\n",
              "      <th>2501.69</th>\n",
              "      <th>2505.08</th>\n",
              "      <th>2508.48</th>\n",
              "      <th>2511.87</th>\n",
              "      <th>...</th>\n",
              "      <th>9872.21</th>\n",
              "      <th>9885.59</th>\n",
              "      <th>9898.98</th>\n",
              "      <th>9912.39</th>\n",
              "      <th>9925.82</th>\n",
              "      <th>9939.27</th>\n",
              "      <th>9952.73</th>\n",
              "      <th>9966.21</th>\n",
              "      <th>9979.71</th>\n",
              "      <th>9993.24</th>\n",
              "    </tr>\n",
              "  </thead>\n",
              "  <tbody>\n",
              "    <tr>\n",
              "      <th>0</th>\n",
              "      <td>sn2008ar</td>\n",
              "      <td>Ia-norm</td>\n",
              "      <td>0</td>\n",
              "      <td>Ia</td>\n",
              "      <td>0</td>\n",
              "      <td>-8.5</td>\n",
              "      <td>0.0</td>\n",
              "      <td>0.0</td>\n",
              "      <td>0.0</td>\n",
              "      <td>0.0</td>\n",
              "      <td>...</td>\n",
              "      <td>0.0</td>\n",
              "      <td>0.0</td>\n",
              "      <td>0.0</td>\n",
              "      <td>0.0</td>\n",
              "      <td>0.0</td>\n",
              "      <td>0.0</td>\n",
              "      <td>0.0</td>\n",
              "      <td>0.0</td>\n",
              "      <td>0.0</td>\n",
              "      <td>0.0</td>\n",
              "    </tr>\n",
              "    <tr>\n",
              "      <th>1</th>\n",
              "      <td>sn2008ar</td>\n",
              "      <td>Ia-norm</td>\n",
              "      <td>0</td>\n",
              "      <td>Ia</td>\n",
              "      <td>0</td>\n",
              "      <td>-7.5</td>\n",
              "      <td>0.0</td>\n",
              "      <td>0.0</td>\n",
              "      <td>0.0</td>\n",
              "      <td>0.0</td>\n",
              "      <td>...</td>\n",
              "      <td>0.0</td>\n",
              "      <td>0.0</td>\n",
              "      <td>0.0</td>\n",
              "      <td>0.0</td>\n",
              "      <td>0.0</td>\n",
              "      <td>0.0</td>\n",
              "      <td>0.0</td>\n",
              "      <td>0.0</td>\n",
              "      <td>0.0</td>\n",
              "      <td>0.0</td>\n",
              "    </tr>\n",
              "    <tr>\n",
              "      <th>2</th>\n",
              "      <td>sn2008ar</td>\n",
              "      <td>Ia-norm</td>\n",
              "      <td>0</td>\n",
              "      <td>Ia</td>\n",
              "      <td>0</td>\n",
              "      <td>-6.6</td>\n",
              "      <td>0.0</td>\n",
              "      <td>0.0</td>\n",
              "      <td>0.0</td>\n",
              "      <td>0.0</td>\n",
              "      <td>...</td>\n",
              "      <td>0.0</td>\n",
              "      <td>0.0</td>\n",
              "      <td>0.0</td>\n",
              "      <td>0.0</td>\n",
              "      <td>0.0</td>\n",
              "      <td>0.0</td>\n",
              "      <td>0.0</td>\n",
              "      <td>0.0</td>\n",
              "      <td>0.0</td>\n",
              "      <td>0.0</td>\n",
              "    </tr>\n",
              "    <tr>\n",
              "      <th>3</th>\n",
              "      <td>sn2008ar</td>\n",
              "      <td>Ia-norm</td>\n",
              "      <td>0</td>\n",
              "      <td>Ia</td>\n",
              "      <td>0</td>\n",
              "      <td>-4.6</td>\n",
              "      <td>0.0</td>\n",
              "      <td>0.0</td>\n",
              "      <td>0.0</td>\n",
              "      <td>0.0</td>\n",
              "      <td>...</td>\n",
              "      <td>0.0</td>\n",
              "      <td>0.0</td>\n",
              "      <td>0.0</td>\n",
              "      <td>0.0</td>\n",
              "      <td>0.0</td>\n",
              "      <td>0.0</td>\n",
              "      <td>0.0</td>\n",
              "      <td>0.0</td>\n",
              "      <td>0.0</td>\n",
              "      <td>0.0</td>\n",
              "    </tr>\n",
              "    <tr>\n",
              "      <th>4</th>\n",
              "      <td>sn2008ar</td>\n",
              "      <td>Ia-norm</td>\n",
              "      <td>0</td>\n",
              "      <td>Ia</td>\n",
              "      <td>0</td>\n",
              "      <td>-3.7</td>\n",
              "      <td>0.0</td>\n",
              "      <td>0.0</td>\n",
              "      <td>0.0</td>\n",
              "      <td>0.0</td>\n",
              "      <td>...</td>\n",
              "      <td>0.0</td>\n",
              "      <td>0.0</td>\n",
              "      <td>0.0</td>\n",
              "      <td>0.0</td>\n",
              "      <td>0.0</td>\n",
              "      <td>0.0</td>\n",
              "      <td>0.0</td>\n",
              "      <td>0.0</td>\n",
              "      <td>0.0</td>\n",
              "      <td>0.0</td>\n",
              "    </tr>\n",
              "  </tbody>\n",
              "</table>\n",
              "<p>5 rows × 1030 columns</p>\n",
              "</div>"
            ],
            "text/plain": [
              "    SN Name SN Subtype  SN Subtype ID SN Maintype  SN Maintype ID  \\\n",
              "0  sn2008ar    Ia-norm              0          Ia               0   \n",
              "1  sn2008ar    Ia-norm              0          Ia               0   \n",
              "2  sn2008ar    Ia-norm              0          Ia               0   \n",
              "3  sn2008ar    Ia-norm              0          Ia               0   \n",
              "4  sn2008ar    Ia-norm              0          Ia               0   \n",
              "\n",
              "   Spectral Phase  2501.69  2505.08  2508.48  2511.87  ...  9872.21  9885.59  \\\n",
              "0            -8.5      0.0      0.0      0.0      0.0  ...      0.0      0.0   \n",
              "1            -7.5      0.0      0.0      0.0      0.0  ...      0.0      0.0   \n",
              "2            -6.6      0.0      0.0      0.0      0.0  ...      0.0      0.0   \n",
              "3            -4.6      0.0      0.0      0.0      0.0  ...      0.0      0.0   \n",
              "4            -3.7      0.0      0.0      0.0      0.0  ...      0.0      0.0   \n",
              "\n",
              "   9898.98  9912.39  9925.82  9939.27  9952.73  9966.21  9979.71  9993.24  \n",
              "0      0.0      0.0      0.0      0.0      0.0      0.0      0.0      0.0  \n",
              "1      0.0      0.0      0.0      0.0      0.0      0.0      0.0      0.0  \n",
              "2      0.0      0.0      0.0      0.0      0.0      0.0      0.0      0.0  \n",
              "3      0.0      0.0      0.0      0.0      0.0      0.0      0.0      0.0  \n",
              "4      0.0      0.0      0.0      0.0      0.0      0.0      0.0      0.0  \n",
              "\n",
              "[5 rows x 1030 columns]"
            ]
          },
          "execution_count": 27,
          "metadata": {},
          "output_type": "execute_result"
        }
      ],
      "source": [
        "df_raw.head()"
      ]
    },
    {
      "cell_type": "code",
      "execution_count": null,
      "metadata": {
        "colab": {
          "base_uri": "https://localhost:8080/"
        },
        "id": "7yTQsNA0WE50",
        "outputId": "4806cf99-416a-4994-8ea4-630c33fcaafc"
      },
      "outputs": [
        {
          "name": "stdout",
          "output_type": "stream",
          "text": [
            "-0.00026101225067486555 6.807673554040658\n"
          ]
        }
      ],
      "source": [
        "print(df_raw.iloc[:,6:].mean().mean(), 3*df_raw.iloc[:,6:].std().std())"
      ]
    },
    {
      "cell_type": "code",
      "execution_count": null,
      "metadata": {
        "colab": {
          "base_uri": "https://localhost:8080/"
        },
        "id": "vAChfox4vqdd",
        "outputId": "e92ea8a6-2848-479a-ba5a-33597c9d647f"
      },
      "outputs": [
        {
          "name": "stdout",
          "output_type": "stream",
          "text": [
            "2071.001\n",
            "3301.9\n"
          ]
        }
      ],
      "source": [
        "# which rows have the max flux value?\n",
        "print(df_raw.iloc[:,6:].max().max())\n",
        "# which row is that?\n",
        "print(df_raw.iloc[:,6:].max().idxmax())"
      ]
    },
    {
      "cell_type": "code",
      "execution_count": null,
      "metadata": {
        "colab": {
          "base_uri": "https://localhost:8080/",
          "height": 165
        },
        "id": "p37r1LmBwIre",
        "outputId": "16a0923a-d04e-4442-c369-e3b682b61939"
      },
      "outputs": [
        {
          "data": {
            "text/html": [
              "<div>\n",
              "<style scoped>\n",
              "    .dataframe tbody tr th:only-of-type {\n",
              "        vertical-align: middle;\n",
              "    }\n",
              "\n",
              "    .dataframe tbody tr th {\n",
              "        vertical-align: top;\n",
              "    }\n",
              "\n",
              "    .dataframe thead th {\n",
              "        text-align: right;\n",
              "    }\n",
              "</style>\n",
              "<table border=\"1\" class=\"dataframe\">\n",
              "  <thead>\n",
              "    <tr style=\"text-align: right;\">\n",
              "      <th></th>\n",
              "      <th>SN Name</th>\n",
              "      <th>SN Subtype</th>\n",
              "      <th>SN Subtype ID</th>\n",
              "      <th>SN Maintype</th>\n",
              "      <th>SN Maintype ID</th>\n",
              "      <th>Spectral Phase</th>\n",
              "      <th>2501.69</th>\n",
              "      <th>2505.08</th>\n",
              "      <th>2508.48</th>\n",
              "      <th>2511.87</th>\n",
              "      <th>...</th>\n",
              "      <th>9872.21</th>\n",
              "      <th>9885.59</th>\n",
              "      <th>9898.98</th>\n",
              "      <th>9912.39</th>\n",
              "      <th>9925.82</th>\n",
              "      <th>9939.27</th>\n",
              "      <th>9952.73</th>\n",
              "      <th>9966.21</th>\n",
              "      <th>9979.71</th>\n",
              "      <th>9993.24</th>\n",
              "    </tr>\n",
              "  </thead>\n",
              "  <tbody>\n",
              "    <tr>\n",
              "      <th>4631</th>\n",
              "      <td>iPTF13bvn</td>\n",
              "      <td>Ib-norm</td>\n",
              "      <td>6</td>\n",
              "      <td>Ib</td>\n",
              "      <td>1</td>\n",
              "      <td>-12.7</td>\n",
              "      <td>0.0</td>\n",
              "      <td>0.0</td>\n",
              "      <td>0.0</td>\n",
              "      <td>0.0</td>\n",
              "      <td>...</td>\n",
              "      <td>-0.053</td>\n",
              "      <td>-0.014</td>\n",
              "      <td>-0.027</td>\n",
              "      <td>-0.015</td>\n",
              "      <td>-0.003</td>\n",
              "      <td>-0.001</td>\n",
              "      <td>-0.001</td>\n",
              "      <td>0.0</td>\n",
              "      <td>0.0</td>\n",
              "      <td>0.0</td>\n",
              "    </tr>\n",
              "  </tbody>\n",
              "</table>\n",
              "<p>1 rows × 1030 columns</p>\n",
              "</div>"
            ],
            "text/plain": [
              "        SN Name SN Subtype  SN Subtype ID SN Maintype  SN Maintype ID  \\\n",
              "4631  iPTF13bvn    Ib-norm              6          Ib               1   \n",
              "\n",
              "      Spectral Phase  2501.69  2505.08  2508.48  2511.87  ...  9872.21  \\\n",
              "4631           -12.7      0.0      0.0      0.0      0.0  ...   -0.053   \n",
              "\n",
              "      9885.59  9898.98  9912.39  9925.82  9939.27  9952.73  9966.21  9979.71  \\\n",
              "4631   -0.014   -0.027   -0.015   -0.003   -0.001   -0.001      0.0      0.0   \n",
              "\n",
              "      9993.24  \n",
              "4631      0.0  \n",
              "\n",
              "[1 rows x 1030 columns]"
            ]
          },
          "execution_count": 30,
          "metadata": {},
          "output_type": "execute_result"
        }
      ],
      "source": [
        "df_raw.loc[df_raw['3301.9'] == 2071.001]"
      ]
    },
    {
      "cell_type": "code",
      "execution_count": null,
      "metadata": {
        "colab": {
          "base_uri": "https://localhost:8080/",
          "height": 447
        },
        "id": "1-d8YwS_wRf2",
        "outputId": "8f5ab26c-a53a-4b2e-af02-8ec295129068"
      },
      "outputs": [
        {
          "data": {
            "text/plain": [
              "[<matplotlib.lines.Line2D at 0x7f9000589890>]"
            ]
          },
          "execution_count": 31,
          "metadata": {},
          "output_type": "execute_result"
        }
      ],
      "source": [
        "plt.plot(wavelength, df_raw.loc[df_raw['3301.9'] == 2071.001].values[0,6:])\n",
        "#plt.xlim(3000,4000)"
      ]
    },
    {
      "cell_type": "code",
      "execution_count": null,
      "metadata": {
        "id": "c1LFP5NFwE1d"
      },
      "outputs": [],
      "source": [
        "# remove that row\n",
        "df_ = df_raw.drop(df_raw.loc[df_raw['3301.9'] == 2071.001].index)"
      ]
    },
    {
      "cell_type": "code",
      "execution_count": null,
      "metadata": {
        "colab": {
          "base_uri": "https://localhost:8080/"
        },
        "id": "CrM27BwZsNnX",
        "outputId": "329d84ba-231f-4ada-c117-f785732111eb"
      },
      "outputs": [
        {
          "name": "stdout",
          "output_type": "stream",
          "text": [
            "0.002066028124999999 0.12497102525820329\n"
          ]
        }
      ],
      "source": [
        "print(df_.iloc[:,6:].mean().mean(), df_.iloc[:,6:].std().std())"
      ]
    },
    {
      "cell_type": "code",
      "execution_count": null,
      "metadata": {
        "colab": {
          "base_uri": "https://localhost:8080/",
          "height": 711
        },
        "id": "TLIuYn4rVk4F",
        "outputId": "a4b68129-7509-4bf3-eb0b-9a741ff00c02"
      },
      "outputs": [
        {
          "data": {
            "text/plain": [
              "4190.28    56.627\n",
              "3537.93    54.727\n",
              "4581.92    52.980\n",
              "4195.95    47.553\n",
              "4230.18    25.877\n",
              "4600.57    22.404\n",
              "3490.35    18.620\n",
              "3664.68    16.329\n",
              "4465.56    16.155\n",
              "3315.34    15.685\n",
              "4224.45    15.136\n",
              "3576.45    13.940\n",
              "4201.64    13.885\n",
              "4207.33    13.239\n",
              "4501.98    12.962\n",
              "4001.77    12.358\n",
              "3926.64    11.342\n",
              "3709.6     11.026\n",
              "3894.87    10.832\n",
              "3297.43    10.656\n",
              "dtype: float64"
            ]
          },
          "execution_count": 34,
          "metadata": {},
          "output_type": "execute_result"
        }
      ],
      "source": [
        "df_.iloc[:,6:].max().sort_values(ascending=False)[0:20]"
      ]
    },
    {
      "cell_type": "code",
      "execution_count": null,
      "metadata": {
        "colab": {
          "base_uri": "https://localhost:8080/"
        },
        "id": "67RHzUwdVZgO",
        "outputId": "4390cdd2-1fc9-4eeb-bee4-ad1d911f9c79"
      },
      "outputs": [
        {
          "name": "stdout",
          "output_type": "stream",
          "text": [
            "-17.943 56.627\n"
          ]
        }
      ],
      "source": [
        "print(df_.iloc[:,6:].min().min(), df_.iloc[:,6:].max().max())"
      ]
    },
    {
      "cell_type": "markdown",
      "metadata": {
        "id": "3SrDhFD8c89I"
      },
      "source": [
        "### Standarize in Y axis"
      ]
    },
    {
      "cell_type": "code",
      "execution_count": null,
      "metadata": {
        "id": "NkgI-cgoGFm9"
      },
      "outputs": [],
      "source": [
        "from sklearn.preprocessing import MinMaxScaler, RobustScaler, StandardScaler"
      ]
    },
    {
      "cell_type": "code",
      "execution_count": null,
      "metadata": {
        "colab": {
          "base_uri": "https://localhost:8080/",
          "height": 451
        },
        "id": "tZ0O1zXeGldG",
        "outputId": "7997ed5e-3108-4766-d959-b9cdfb538938"
      },
      "outputs": [
        {
          "data": {
            "text/plain": [
              "[<matplotlib.lines.Line2D at 0x7f900083f0d0>]"
            ]
          },
          "execution_count": 37,
          "metadata": {},
          "output_type": "execute_result"
        }
      ],
      "source": [
        "fig, ax = plt.subplots(1, 3, figsize=(15, 5))\n",
        "ax[0].plot(wavelength, df_.iloc[0].values[6:])\n",
        "ax[1].plot(wavelength, df_.iloc[1000].values[6:])\n",
        "ax[2].plot(wavelength, df_.iloc[2000].values[6:])"
      ]
    },
    {
      "cell_type": "code",
      "execution_count": null,
      "metadata": {
        "id": "NObYp4aI2jHI"
      },
      "outputs": [],
      "source": [
        "# how to standarize?\n",
        "# min max scaling (daniel)"
      ]
    },
    {
      "cell_type": "markdown",
      "metadata": {
        "id": "k5hPFrkcPUDR"
      },
      "source": [
        "$y_{scaled} = \\frac{y-y_{min}}{y_{max}-y_{min}}$"
      ]
    },
    {
      "cell_type": "code",
      "execution_count": null,
      "metadata": {
        "id": "eK-UXRAoHSnh"
      },
      "outputs": [],
      "source": [
        "minmax_scaler = MinMaxScaler(feature_range = (0,1))\n",
        "robust_scaler = RobustScaler()\n",
        "standard_scaler = StandardScaler()"
      ]
    },
    {
      "cell_type": "code",
      "execution_count": null,
      "metadata": {
        "id": "d-tb5-uEHeiK"
      },
      "outputs": [],
      "source": [
        "scalings = {}\n",
        "# minmax\n",
        "scalings['minmax'] = minmax_scaler.fit_transform(df_.iloc[:,6:].transpose()).transpose()\n",
        "# standard\n",
        "scalings['standard'] = standard_scaler.fit_transform(df_.iloc[:,6:].transpose()).transpose()\n",
        "# robust\n",
        "scalings['robust'] = robust_scaler.fit_transform(df_.iloc[:,6:].transpose()).transpose()"
      ]
    },
    {
      "cell_type": "code",
      "execution_count": null,
      "metadata": {
        "colab": {
          "base_uri": "https://localhost:8080/"
        },
        "id": "Yocngb1nH9i_",
        "outputId": "8d085704-4af5-4a4a-fdce-0212402b3049"
      },
      "outputs": [
        {
          "data": {
            "text/plain": [
              "(5000, 1024)"
            ]
          },
          "execution_count": 41,
          "metadata": {},
          "output_type": "execute_result"
        }
      ],
      "source": [
        "scalings['standard'].shape"
      ]
    },
    {
      "cell_type": "code",
      "execution_count": null,
      "metadata": {
        "colab": {
          "base_uri": "https://localhost:8080/"
        },
        "id": "Z4g7d66J7KLo",
        "outputId": "3ff6a566-3d88-4ad3-d10e-5bb50b634c65"
      },
      "outputs": [
        {
          "name": "stdout",
          "output_type": "stream",
          "text": [
            "0 minmax\n",
            "1 standard\n",
            "2 robust\n"
          ]
        }
      ],
      "source": [
        "for i, k in enumerate(scalings.keys()):\n",
        "  print(i,k)"
      ]
    },
    {
      "cell_type": "code",
      "execution_count": null,
      "metadata": {
        "colab": {
          "base_uri": "https://localhost:8080/",
          "height": 852
        },
        "id": "SdrEIh8tH6Mg",
        "outputId": "276494a7-a8ba-4819-b7ca-6441aca8fb60"
      },
      "outputs": [
        {
          "data": {
            "text/plain": [
              "Text(0.5, 1.0, 'Scaling estrategies comparision for 3 spectrums')"
            ]
          },
          "execution_count": 43,
          "metadata": {},
          "output_type": "execute_result"
        }
      ],
      "source": [
        "fig, ax = plt.subplots(3, 3, figsize=(15, 10))\n",
        "for i, keys in enumerate(scalings.keys()):\n",
        "  ax[i,0].plot(wavelength, scalings[keys][0], label=keys)\n",
        "  ax[i,1].plot(wavelength, scalings[keys][1000], label=keys)\n",
        "  ax[i,2].plot(wavelength, scalings[keys][2000], label=keys)\n",
        "  ax[i,0].legend()\n",
        "ax[0,1].set_title('Scaling estrategies comparision for 3 spectrums')"
      ]
    },
    {
      "cell_type": "code",
      "execution_count": null,
      "metadata": {
        "id": "ySeF3t0g70FF"
      },
      "outputs": [],
      "source": [
        "# lets use minmax scaling\n",
        "df_.iloc[:,6:] = scalings['minmax']"
      ]
    },
    {
      "cell_type": "code",
      "execution_count": null,
      "metadata": {
        "colab": {
          "base_uri": "https://localhost:8080/",
          "height": 1000
        },
        "id": "QHr7RhBahgRz",
        "outputId": "8a07b39a-09bd-4676-81da-71a7deb4f38e"
      },
      "outputs": [
        {
          "name": "stderr",
          "output_type": "stream",
          "text": [
            "/tmp/ipykernel_517540/2966110088.py:2: RuntimeWarning: More than 20 figures have been opened. Figures created through the pyplot interface (`matplotlib.pyplot.figure`) are retained until explicitly closed and may consume too much memory. (To control this warning, see the rcParam `figure.max_open_warning`). Consider using `matplotlib.pyplot.close()`.\n",
            "  plt.figure()\n"
          ]
        }
      ],
      "source": [
        "for i in range(18):\n",
        "  plt.figure()\n",
        "  plt.plot(wavelength, df_.iloc[:,6:].values[i], lw=0.4, ls='-', color='k',\n",
        "           label='Spectral Phase:'+str(df_['Spectral Phase'].iloc[i]))\n",
        "  plt.legend()"
      ]
    },
    {
      "cell_type": "markdown",
      "metadata": {
        "id": "iuBcKoWsKPte"
      },
      "source": [
        "### Flux span now?"
      ]
    },
    {
      "cell_type": "code",
      "execution_count": null,
      "metadata": {
        "colab": {
          "base_uri": "https://localhost:8080/"
        },
        "id": "FlQtb3hxKRUP",
        "outputId": "7e82e8f3-4bfe-47a5-b8a9-981d2a55ee6f"
      },
      "outputs": [
        {
          "name": "stdout",
          "output_type": "stream",
          "text": [
            "0.44939688173721637\n",
            "0.15765526341735236\n"
          ]
        }
      ],
      "source": [
        "# mean of mean of fluxes\n",
        "print(df_.iloc[:,6:].mean().mean())\n",
        "# mean of std of fluxes\n",
        "print(df_.iloc[:,6:].std().mean())"
      ]
    },
    {
      "cell_type": "code",
      "execution_count": null,
      "metadata": {
        "colab": {
          "base_uri": "https://localhost:8080/"
        },
        "id": "S8QlBK3uKT8F",
        "outputId": "b7102a64-9648-48a8-d3cc-b030dd0f08e1"
      },
      "outputs": [
        {
          "name": "stdout",
          "output_type": "stream",
          "text": [
            "1.0000000000000002\n",
            "0.0\n",
            "2739.22\n",
            "2501.69 9993.24\n"
          ]
        }
      ],
      "source": [
        "# which rows have the max flux value?\n",
        "print(df_.iloc[:,6:].max().max())\n",
        "print(df_.iloc[:,6:].min().min())\n",
        "# which row is that?\n",
        "print(df_.iloc[:,6:].max().idxmax())\n",
        "# wavelength range\n",
        "print(wavelength.min(), wavelength.max())"
      ]
    },
    {
      "cell_type": "markdown",
      "metadata": {
        "id": "925HMzZK-cTM"
      },
      "source": [
        "### Saving plots"
      ]
    },
    {
      "cell_type": "code",
      "execution_count": null,
      "metadata": {
        "id": "vf7bn-dZ-hfI"
      },
      "outputs": [],
      "source": [
        "# DANIEL\n",
        "# For training, I used the base CLIP or ViT model with a resolution of 224x224 pixels\n",
        "# and created images with a figure size of 2.24 x 2.24 inches at 100 dpi."
      ]
    },
    {
      "cell_type": "code",
      "execution_count": null,
      "metadata": {
        "id": "iyehwwvhJlj3"
      },
      "outputs": [],
      "source": [
        "# my_dpi = 260\n",
        "# fig, ax = plt.subplots(figsize=(224/my_dpi,224/my_dpi), dpi=my_dpi)\n",
        "# ax.plot(wavelength, df_.iloc[0,6:].values, lw=0.3, ls='-', color='k', alpha=1)\n",
        "# ax.axis('off')\n",
        "# ax.set_box_aspect(1)\n",
        "# ax.set_xlim(xlim[0], xlim[1])\n",
        "# ax.set_ylim(0,1)\n",
        "# plt.savefig('sn2008ar.png', bbox_inches='tight', dpi=my_dpi)\n",
        "# plt.show()"
      ]
    },
    {
      "cell_type": "code",
      "execution_count": null,
      "metadata": {
        "colab": {
          "base_uri": "https://localhost:8080/",
          "height": 36
        },
        "id": "VSSCZ4IjOtBY",
        "outputId": "9378d885-d1ec-4c8e-994f-36a85effaa3f"
      },
      "outputs": [
        {
          "data": {
            "text/plain": [
              "'sn2008ar'"
            ]
          },
          "execution_count": 50,
          "metadata": {},
          "output_type": "execute_result"
        }
      ],
      "source": [
        "df_.iloc[0,0]"
      ]
    },
    {
      "cell_type": "code",
      "execution_count": null,
      "metadata": {
        "colab": {
          "base_uri": "https://localhost:8080/",
          "height": 241
        },
        "id": "_8AN8_IHLJOT",
        "outputId": "027f741b-9e45-41b8-8c26-2b1ec19f1575"
      },
      "outputs": [
        {
          "name": "stderr",
          "output_type": "stream",
          "text": [
            "/tmp/ipykernel_517540/3407407095.py:10: UserWarning: FigureCanvasAgg is non-interactive, and thus cannot be shown\n",
            "  plt.show()\n"
          ]
        }
      ],
      "source": [
        "# save at 100 dpi and 224x224 pixels\n",
        "my_dpi = 100\n",
        "fig, ax = plt.subplots(figsize=(2.65,2.65), dpi=my_dpi)\n",
        "ax.plot(wavelength, df_.iloc[0,6:].values, lw=1, ls='-', color='k', alpha=1)\n",
        "ax.axis('off')\n",
        "ax.set_xlim(xlim[0], xlim[1])\n",
        "ax.set_ylim(0,1)\n",
        "ax.set_box_aspect(1)\n",
        "plt.savefig('asd.png', bbox_inches='tight', dpi=my_dpi)\n",
        "plt.show()"
      ]
    },
    {
      "cell_type": "code",
      "execution_count": null,
      "metadata": {
        "colab": {
          "base_uri": "https://localhost:8080/"
        },
        "id": "q45Mw9p4OBB9",
        "outputId": "8e38632d-0b0c-4e37-d72e-71cc18404eb4"
      },
      "outputs": [
        {
          "data": {
            "text/plain": [
              "Index(['SN Name', 'SN Subtype', 'SN Subtype ID', 'SN Maintype',\n",
              "       'SN Maintype ID', 'Spectral Phase', '2501.69'],\n",
              "      dtype='object')"
            ]
          },
          "execution_count": 52,
          "metadata": {},
          "output_type": "execute_result"
        }
      ],
      "source": [
        "# which info to save?\n",
        "keys = df_.columns[0:7]\n",
        "keys"
      ]
    },
    {
      "cell_type": "code",
      "execution_count": null,
      "metadata": {
        "id": "ZJszunFyPPKi"
      },
      "outputs": [],
      "source": [
        "# we need SN name, SN Subtype ID, SN Maintype ID, Spectral Phase: 0, 2, 4, 5"
      ]
    },
    {
      "cell_type": "code",
      "execution_count": null,
      "metadata": {
        "colab": {
          "base_uri": "https://localhost:8080/"
        },
        "id": "vpjQExYsXx1A",
        "outputId": "175e34c9-a88f-429a-b051-03a792a8ef66"
      },
      "outputs": [
        {
          "data": {
            "text/plain": [
              "[2500, 10000]"
            ]
          },
          "execution_count": 54,
          "metadata": {},
          "output_type": "execute_result"
        }
      ],
      "source": [
        "xlim"
      ]
    },
    {
      "cell_type": "code",
      "execution_count": null,
      "metadata": {
        "colab": {
          "base_uri": "https://localhost:8080/"
        },
        "id": "soQysvEZOZlF",
        "outputId": "a3041899-1815-45f0-eccb-845b5dbe9240"
      },
      "outputs": [
        {
          "data": {
            "text/plain": [
              "(5000, 1030)"
            ]
          },
          "execution_count": 55,
          "metadata": {},
          "output_type": "execute_result"
        }
      ],
      "source": [
        "df_.shape"
      ]
    },
    {
      "cell_type": "code",
      "execution_count": null,
      "metadata": {
        "colab": {
          "base_uri": "https://localhost:8080/",
          "height": 1000
        },
        "id": "rnV-spUCMbx2",
        "outputId": "a6237e1e-09a1-40a4-eb51-e207b58ed7d7"
      },
      "outputs": [],
      "source": [
        "# save all plots in a folder\n",
        "my_dpi = 100\n",
        "for i in range(1000):\n",
        "  fig, ax = plt.subplots(figsize=(2.65,2.65), dpi=my_dpi)\n",
        "  ax.plot(wavelength, df_.iloc[i,6:].values, lw=1, ls='-', color='k', alpha=1)\n",
        "  ax.axis('off')\n",
        "  ax.set_xlim(xlim[0], xlim[1])\n",
        "  ax.set_ylim(0,1)\n",
        "  ax.set_box_aspect(1)\n",
        "  plt.savefig('./images/'+df_.iloc[i,0]+'_'+str(df_.iloc[i,2])+'_'+str(df_.iloc[i,4])+'_'+str(df_.iloc[i,5])+'_'+str(i)+'.png',\n",
        "              bbox_inches='tight', dpi=my_dpi)"
      ]
    },
    {
      "cell_type": "code",
      "execution_count": null,
      "metadata": {},
      "outputs": [],
      "source": [
        "# save all plots in a folder\n",
        "my_dpi = 100\n",
        "for i in range(1000,2000):\n",
        "  fig, ax = plt.subplots(figsize=(2.65,2.65), dpi=my_dpi)\n",
        "  ax.plot(wavelength, df_.iloc[i,6:].values, lw=1, ls='-', color='k', alpha=1)\n",
        "  ax.axis('off')\n",
        "  ax.set_xlim(xlim[0], xlim[1])\n",
        "  ax.set_ylim(0,1)\n",
        "  ax.set_box_aspect(1)\n",
        "  plt.savefig('./images/'+df_.iloc[i,0]+'_'+str(df_.iloc[i,2])+'_'+str(df_.iloc[i,4])+'_'+str(df_.iloc[i,5])+'_'+str(i)+'.png',\n",
        "              bbox_inches='tight', dpi=my_dpi)"
      ]
    },
    {
      "cell_type": "code",
      "execution_count": null,
      "metadata": {},
      "outputs": [],
      "source": [
        "# save all plots in a folder\n",
        "my_dpi = 100\n",
        "for i in range(2000,3000):\n",
        "  fig, ax = plt.subplots(figsize=(2.65,2.65), dpi=my_dpi)\n",
        "  ax.plot(wavelength, df_.iloc[i,6:].values, lw=1, ls='-', color='k', alpha=1)\n",
        "  ax.axis('off')\n",
        "  ax.set_xlim(xlim[0], xlim[1])\n",
        "  ax.set_ylim(0,1)\n",
        "  ax.set_box_aspect(1)\n",
        "  plt.savefig('./images/'+df_.iloc[i,0]+'_'+str(df_.iloc[i,2])+'_'+str(df_.iloc[i,4])+'_'+str(df_.iloc[i,5])+'_'+str(i)+'.png',\n",
        "              bbox_inches='tight', dpi=my_dpi)"
      ]
    },
    {
      "cell_type": "code",
      "execution_count": null,
      "metadata": {},
      "outputs": [],
      "source": [
        "# save all plots in a folder\n",
        "my_dpi = 100\n",
        "for i in range(3000,4000):\n",
        "  fig, ax = plt.subplots(figsize=(2.65,2.65), dpi=my_dpi)\n",
        "  ax.plot(wavelength, df_.iloc[i,6:].values, lw=1, ls='-', color='k', alpha=1)\n",
        "  ax.axis('off')\n",
        "  ax.set_xlim(xlim[0], xlim[1])\n",
        "  ax.set_ylim(0,1)\n",
        "  ax.set_box_aspect(1)\n",
        "  plt.savefig('./images/'+df_.iloc[i,0]+'_'+str(df_.iloc[i,2])+'_'+str(df_.iloc[i,4])+'_'+str(df_.iloc[i,5])+'_'+str(i)+'.png',\n",
        "              bbox_inches='tight', dpi=my_dpi)"
      ]
    },
    {
      "cell_type": "code",
      "execution_count": null,
      "metadata": {},
      "outputs": [
        {
          "ename": "",
          "evalue": "",
          "output_type": "error",
          "traceback": [
            "\u001b[1;31mThe Kernel crashed while executing code in the current cell or a previous cell. \n",
            "\u001b[1;31mPlease review the code in the cell(s) to identify a possible cause of the failure. \n",
            "\u001b[1;31mClick <a href='https://aka.ms/vscodeJupyterKernelCrash'>here</a> for more info. \n",
            "\u001b[1;31mView Jupyter <a href='command:jupyter.viewOutput'>log</a> for further details."
          ]
        }
      ],
      "source": [
        "# save all plots in a folder\n",
        "my_dpi = 100\n",
        "for i in range(4000,5000):\n",
        "  fig, ax = plt.subplots(figsize=(2.65,2.65), dpi=my_dpi)\n",
        "  ax.plot(wavelength, df_.iloc[i,6:].values, lw=1, ls='-', color='k', alpha=1)\n",
        "  ax.axis('off')\n",
        "  ax.set_xlim(xlim[0], xlim[1])\n",
        "  ax.set_ylim(0,1)\n",
        "  ax.set_box_aspect(1)\n",
        "  plt.savefig('./images/'+df_.iloc[i,0]+'_'+str(df_.iloc[i,2])+'_'+str(df_.iloc[i,4])+'_'+str(df_.iloc[i,5])+'_'+str(i)+'.png',\n",
        "              bbox_inches='tight', dpi=my_dpi)"
      ]
    }
  ],
  "metadata": {
    "accelerator": "GPU",
    "colab": {
      "gpuType": "T4",
      "provenance": []
    },
    "kernelspec": {
      "display_name": "Python 3",
      "name": "python3"
    },
    "language_info": {
      "codemirror_mode": {
        "name": "ipython",
        "version": 3
      },
      "file_extension": ".py",
      "mimetype": "text/x-python",
      "name": "python",
      "nbconvert_exporter": "python",
      "pygments_lexer": "ipython3",
      "version": "3.11.9"
    }
  },
  "nbformat": 4,
  "nbformat_minor": 0
}
